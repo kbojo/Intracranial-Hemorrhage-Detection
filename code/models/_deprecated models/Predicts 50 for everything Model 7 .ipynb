{
 "cells": [
  {
   "cell_type": "markdown",
   "metadata": {
    "colab_type": "text",
    "id": "FakRWDPtXfXs"
   },
   "source": [
    "#  Intracranial Hemorrhage Detection\n",
    "\n",
    "## Model 7\n",
    "\n",
    "#### Kristina Joos\n",
    "\n",
    "---   \n",
    "\n",
    "|                 \t|                                                        \t|\n",
    "|:----------------:\t|:-------------------------------------------------------:\t|\n",
    "| Model           \t| InceptionResNetV2, trainable last 6 layers                |\n",
    "| Preprocessing   \t| Augementation FlipRL, FlipUD, Crop                        |   \n",
    "| Windowing         | Three Windows\n",
    "| Class Balancing \t| Oversampling (60% any)                                           \t|\n",
    "| Loss Function   \t| Focal Loss                                 \t|\n",
    "| Regularization  \t| Early Stopping, Drop Out Layers 0.15\t                    |\n",
    "| Epochs Run      \t| 11                                                     \t|\n",
    "| Time Run (h)   \t| 14                                                  \t|\n",
    "|                 \t|                                                        \t|\n",
    "| Train Sores      \t| Accuracy: 0.6941 Loss: 0.0653                                        \t|\n",
    "| Validation      \t| Accuracy: 0.9031 Loss: 0.0546                                       \t|\n",
    "| Leader Board    \t| Score: 0.57152 Rank: 412/1345                                           \t|\n",
    "\n",
    "\n",
    "\n",
    "Some code taken from:\n",
    "* https://www.kaggle.com/omission/eda-view-dicom-images-with-correct-windowing\n",
    "* https://www.kaggle.com/c/rsna-intracranial-hemorrhage-detection/discussion/109649#latest-631701\n"
   ]
  },
  {
   "cell_type": "markdown",
   "metadata": {},
   "source": [
    "## Imports"
   ]
  },
  {
   "cell_type": "code",
   "execution_count": 60,
   "metadata": {},
   "outputs": [],
   "source": [
    "import numpy as np\n",
    "import pandas as pd\n",
    "import pydicom\n",
    "import os\n",
    "import matplotlib.pyplot as plt\n",
    "%matplotlib inline\n",
    "import seaborn as sns\n",
    "import collections\n",
    "from tqdm import tqdm_notebook as tqdm\n",
    "from datetime import datetime\n",
    "\n",
    "from math import ceil, floor, log\n",
    "import cv2\n",
    "\n",
    "import tensorflow as tf\n",
    "\n",
    "from tensorflow.keras import backend as K\n",
    "\n",
    "import sys\n",
    "\n",
    "\n",
    "\n",
    "\n",
    "\n",
    "from skimage.transform import resize\n",
    "from imgaug import augmenters as iaa\n",
    " \n",
    "from sklearn.model_selection import train_test_split, StratifiedKFold, ShuffleSplit\n",
    "from tensorflow.keras.applications.inception_resnet_v2 import InceptionResNetV2, preprocess_input\n",
    "from keras_applications.inception_v3 import InceptionV3\n",
    "\n",
    "from tensorflow.keras.applications import ResNet50, VGG16, VGG19\n",
    "from tensorflow.keras.applications.resnet50 import preprocess_input as preprocess_resnet_50\n",
    "from tensorflow.keras.applications.vgg16 import preprocess_input as preprocess_vgg_16\n",
    "from tensorflow.keras.layers import GlobalAveragePooling2D, Dense, Activation, concatenate, Dropout, MaxPooling2D, Conv2D, Flatten\n",
    "from tensorflow.keras.initializers import glorot_normal, he_normal\n",
    "from tensorflow.keras.regularizers import l2\n",
    "from tensorflow.keras.models import Model, load_model, Sequential, load_model\n",
    "from tensorflow.keras.utils import Sequence\n",
    "from tensorflow.keras.callbacks import ModelCheckpoint, ReduceLROnPlateau, EarlyStopping\n",
    "from tensorflow.keras.optimizers import Adam\n",
    "from tensorflow.keras.applications.densenet import DenseNet201\n",
    "\n",
    "from iterstrat.ml_stratifiers import MultilabelStratifiedShuffleSplit\n",
    "\n"
   ]
  },
  {
   "cell_type": "markdown",
   "metadata": {},
   "source": [
    "## Test GPU availability"
   ]
  },
  {
   "cell_type": "code",
   "execution_count": 61,
   "metadata": {
    "scrolled": true
   },
   "outputs": [
    {
     "data": {
      "text/plain": [
       "True"
      ]
     },
     "execution_count": 61,
     "metadata": {},
     "output_type": "execute_result"
    }
   ],
   "source": [
    "tf.test.is_gpu_available()"
   ]
  },
  {
   "cell_type": "code",
   "execution_count": 62,
   "metadata": {},
   "outputs": [
    {
     "data": {
      "text/plain": [
       "True"
      ]
     },
     "execution_count": 62,
     "metadata": {},
     "output_type": "execute_result"
    }
   ],
   "source": [
    "tf.test.is_built_with_cuda()"
   ]
  },
  {
   "cell_type": "markdown",
   "metadata": {},
   "source": [
    "## Image Path"
   ]
  },
  {
   "cell_type": "code",
   "execution_count": 63,
   "metadata": {},
   "outputs": [],
   "source": [
    "path_train_data = '../data/input/rsna-intracranial-hemorrhage-detection/stage_2_train/'"
   ]
  },
  {
   "cell_type": "code",
   "execution_count": 64,
   "metadata": {},
   "outputs": [],
   "source": [
    "path_test_data = '../data/input/rsna-intracranial-hemorrhage-detection/stage_2_test/'"
   ]
  },
  {
   "cell_type": "code",
   "execution_count": 65,
   "metadata": {},
   "outputs": [],
   "source": [
    "def get_number_of_files(path, data_name):\n",
    "    no =  len(os.listdir(path))\n",
    "    print (f'The {data_name} contains {no} files.')"
   ]
  },
  {
   "cell_type": "code",
   "execution_count": 66,
   "metadata": {},
   "outputs": [],
   "source": [
    "def get_size_directory(path, data_name):\n",
    "    size = round(sum([os.path.getsize(f'{path}'+ f'{file}') for file in os.listdir(path)])*(10**-9), 2)\n",
    "    print (f'The size of the {data_name} is {size} GB.')"
   ]
  },
  {
   "cell_type": "code",
   "execution_count": 67,
   "metadata": {},
   "outputs": [
    {
     "name": "stdout",
     "output_type": "stream",
     "text": [
      "***TRAIN DATA***\n",
      "The size of the Training Data is 395.19 GB.\n",
      "The Training Data contains 752803 files.\n",
      "*******\n",
      "***TEST DATA***\n",
      "The size of the Testing Data is 63.64 GB.\n",
      "The Testing Data contains 121232 files.\n",
      "*******\n",
      "We have 6.2 times more train than test data.\n"
     ]
    }
   ],
   "source": [
    "print('***TRAIN DATA***')\n",
    "get_size_directory(path_train_data, 'Training Data')\n",
    "get_number_of_files(path_train_data, 'Training Data')\n",
    "\n",
    "print('*******')\n",
    "\n",
    "print('***TEST DATA***')\n",
    "get_size_directory(path_test_data, 'Testing Data')\n",
    "get_number_of_files(path_test_data, 'Testing Data')\n",
    "\n",
    "print('*******')\n",
    "\n",
    "print(f'We have {round(len(os.listdir(path_train_data))/len(os.listdir(path_test_data)),1)} times more train than test data.' )"
   ]
  },
  {
   "cell_type": "markdown",
   "metadata": {},
   "source": [
    "## Meta Data"
   ]
  },
  {
   "cell_type": "code",
   "execution_count": 68,
   "metadata": {},
   "outputs": [],
   "source": [
    "\n",
    "train_meta_df = pd.read_csv('../data/input/rsna-intracranial-hemorrhage-detection/stage_2_train.csv')\n",
    "# Test submission as test \n",
    "test_meta_df = pd.read_csv('../data/input/rsna-intracranial-hemorrhage-detection/stage_2_sample_submission.csv')"
   ]
  },
  {
   "cell_type": "code",
   "execution_count": 69,
   "metadata": {},
   "outputs": [],
   "source": [
    "train_meta_df_shape = train_meta_df.shape\n",
    "test_meta_df_shape = test_meta_df.shape"
   ]
  },
  {
   "cell_type": "code",
   "execution_count": 70,
   "metadata": {},
   "outputs": [
    {
     "name": "stdout",
     "output_type": "stream",
     "text": [
      "(4516842, 2)\n",
      "(727392, 2)\n"
     ]
    }
   ],
   "source": [
    "print(train_meta_df_shape)\n",
    "print(test_meta_df_shape)"
   ]
  },
  {
   "cell_type": "markdown",
   "metadata": {},
   "source": [
    "## Constants"
   ]
  },
  {
   "cell_type": "code",
   "execution_count": 71,
   "metadata": {
    "colab": {},
    "colab_type": "code",
    "id": "MciWRND6Iv5_"
   },
   "outputs": [],
   "source": [
    "\n",
    "SEED = 11\n",
    "np.random.seed(SEED)\n",
    "\n",
    "# Constants\n",
    "TEST_SIZE = 0.15\n",
    "HEIGHT = 299\n",
    "WIDTH = 299\n",
    "CHANNELS = 3\n",
    "TRAIN_BATCH_SIZE = 32\n",
    "VALID_BATCH_SIZE = 16\n",
    "SHAPE = (HEIGHT, WIDTH, CHANNELS)\n",
    "\n",
    "TEST_IMAGES_DIR = '../data/input/rsna-intracranial-hemorrhage-detection/stage_2_test/'\n",
    "TRAIN_IMAGES_DIR = '../data/input/rsna-intracranial-hemorrhage-detection/stage_2_train/'"
   ]
  },
  {
   "cell_type": "markdown",
   "metadata": {},
   "source": [
    "## Preprocessing"
   ]
  },
  {
   "cell_type": "code",
   "execution_count": 72,
   "metadata": {
    "colab": {},
    "colab_type": "code",
    "id": "sMnLIunV7Yox"
   },
   "outputs": [],
   "source": [
    "def correct_dcm(dcm):\n",
    "    x = dcm.pixel_array + 1000\n",
    "    px_mode = 4096\n",
    "    x[x>=px_mode] = x[x>=px_mode] - px_mode\n",
    "    dcm.PixelData = x.tobytes()\n",
    "    dcm.RescaleIntercept = -1000\n",
    "\n",
    "def window_image(dcm, window_center, window_width):  \n",
    "#     About your question: I think Jeremy can explain it better, but this is how I understand it: A tiny fraction of the dicoms (what I found was ~120 dicoms in total, out of 670k) were treated as unsigned (cannot hold negative values; dcm.PixelRepresentation==0) when they should have been treated as signed (can hold negative values; dcm.PixelRepresentation==1). I think the bad images were found in the 12-bit dicoms (dcm.BitsStored==12). The dcm.RescaleIntercept of > -100, basically means that the dicoms didn't have a RescaleIntercept of -1024 as they should have had (if they really were unsigned), to be scaled to HU.\n",
    "\n",
    "# I guess this is what happened for the person(s) handling the data (simple example):\n",
    "# signed_integers = np.array([-128, 120, -128])\n",
    "# print(signed_integers)\n",
    "# unsigned_integers = signed_integers.astype(np.uint8)\n",
    "# print(unsigned_integers)\n",
    "\n",
    "# As a consequence of this mistreatment, the background values (which should have been highly negative) instead became highly positive numbers, as one can also see in one of the plots in this kernel (where the background is really white). The correction I directly took from Jeremy, and it brings the pixel values back to where they belong! :-)\n",
    "\n",
    "# Please correct me if I'm wrong\n",
    "    if (dcm.BitsStored == 12) and (dcm.PixelRepresentation == 0) and (int(dcm.RescaleIntercept) > -100):\n",
    "        correct_dcm(dcm)\n",
    "    img = dcm.pixel_array * dcm.RescaleSlope + dcm.RescaleIntercept\n",
    "    \n",
    "    # Resize\n",
    "    img = cv2.resize(img, SHAPE[:2], interpolation = cv2.INTER_LINEAR)\n",
    "   \n",
    "    img_min = window_center - window_width // 2\n",
    "    img_max = window_center + window_width // 2\n",
    "    img = np.clip(img, img_min, img_max)\n",
    "    return img\n",
    "\n",
    "def bss_window(dcm):\n",
    "    brain_img = window_image(dcm, 40, 80)\n",
    "    subdural_img = window_image(dcm, 80, 200)\n",
    "    soft_img = window_image(dcm, 40, 380)\n",
    "    \n",
    "    brain_img = (brain_img - 0) / 80\n",
    "    subdural_img = (subdural_img - (-20)) / 200\n",
    "    soft_img = (soft_img - (-150)) / 380\n",
    "    bss_img = np.array([brain_img, subdural_img, soft_img]).transpose(1,2,0)\n",
    "    return bsb_img\n",
    "\n",
    "def _read(path, SHAPE):\n",
    "    dcm = pydicom.dcmread(path)\n",
    "    try:\n",
    "        img = bsb_window(dcm)\n",
    "    except:\n",
    "        img = np.zeros(SHAPE)\n",
    "    return img"
   ]
  },
  {
   "cell_type": "code",
   "execution_count": 73,
   "metadata": {
    "colab": {},
    "colab_type": "code",
    "id": "GsyuE1lZ7Ygs"
   },
   "outputs": [],
   "source": [
    "# Image Augmentation\n",
    "sometimes = lambda aug: iaa.Sometimes(0.25, aug)\n",
    "augmentation = iaa.Sequential([ iaa.Fliplr(0.25),\n",
    "                                iaa.Flipud(0.10),\n",
    "                                sometimes(iaa.Crop(px=(0, 25), keep_size = True, sample_independently = False))   \n",
    "                            ], random_order = True)       \n",
    "        \n",
    "# Generators\n",
    "class TrainDataGenerator(Sequence):\n",
    "    def __init__(self, dataset, labels, batch_size = 16, img_size = SHAPE, img_dir = TRAIN_IMAGES_DIR, augment = False, *args, **kwargs):\n",
    "        self.dataset = dataset\n",
    "        self.ids = dataset.index\n",
    "        self.labels = labels\n",
    "        self.batch_size = batch_size\n",
    "        self.img_size = img_size\n",
    "        self.img_dir = img_dir\n",
    "        self.augment = augment\n",
    "        self.on_epoch_end()\n",
    "\n",
    "    def __len__(self):\n",
    "        return int(ceil(len(self.ids) / self.batch_size))\n",
    "\n",
    "    def __getitem__(self, index):\n",
    "        indices = self.indices[index*self.batch_size:(index+1)*self.batch_size]\n",
    "        X, Y = self.__data_generation(indices)\n",
    "        return X, Y\n",
    "\n",
    "    def augmentor(self, image):\n",
    "        augment_img = augmentation        \n",
    "        image_aug = augment_img.augment_image(image)\n",
    "        return image_aug\n",
    "\n",
    "    def on_epoch_end(self):\n",
    "        self.indices = np.arange(len(self.ids))\n",
    "        np.random.shuffle(self.indices)\n",
    "\n",
    "    def __data_generation(self, indices):\n",
    "        X = np.empty((self.batch_size, *self.img_size))\n",
    "        Y = np.empty((self.batch_size, 6), dtype=np.float32)\n",
    "        \n",
    "        for i, index in enumerate(indices):\n",
    "            ID = self.ids[index]\n",
    "            image = _read(self.img_dir+ID+\".dcm\", self.img_size)\n",
    "            if self.augment:\n",
    "                X[i,] = self.augmentor(image)\n",
    "            else:\n",
    "                X[i,] = image\n",
    "            Y[i,] = self.labels.iloc[index].values        \n",
    "        return X, Y\n",
    "    \n",
    "class TestDataGenerator(Sequence):\n",
    "    def __init__(self, dataset, labels, batch_size = 16, img_size = SHAPE, img_dir = TEST_IMAGES_DIR, *args, **kwargs):\n",
    "        self.dataset = dataset\n",
    "        self.ids = dataset.index\n",
    "        self.labels = labels\n",
    "        self.batch_size = batch_size\n",
    "        self.img_size = img_size\n",
    "        self.img_dir = img_dir\n",
    "        self.on_epoch_end()\n",
    "\n",
    "    def __len__(self):\n",
    "        return int(ceil(len(self.ids) / self.batch_size))\n",
    "\n",
    "    def __getitem__(self, index):\n",
    "        indices = self.indices[index*self.batch_size:(index+1)*self.batch_size]\n",
    "        X = self.__data_generation(indices)\n",
    "        return X\n",
    "\n",
    "    def on_epoch_end(self):\n",
    "        self.indices = np.arange(len(self.ids))\n",
    "    \n",
    "    def __data_generation(self, indices):\n",
    "        X = np.empty((self.batch_size, *self.img_size))\n",
    "        \n",
    "        for i, index in enumerate(indices):\n",
    "            ID = self.ids[index]\n",
    "            image = _read(self.img_dir+ID+\".dcm\", self.img_size)\n",
    "            X[i,] = image              \n",
    "        return X"
   ]
  },
  {
   "cell_type": "markdown",
   "metadata": {},
   "source": [
    "## Preparing Meta Data Frames\n"
   ]
  },
  {
   "cell_type": "code",
   "execution_count": 74,
   "metadata": {},
   "outputs": [],
   "source": [
    "def make_usable_df(df):\n",
    "    label = df.Label.values\n",
    "    new_df = df.ID.str.rsplit(\"_\", n=1, expand=True)\n",
    "    new_df.loc[:, \"label\"] = label\n",
    "    new_df = new_df.rename({0: \"id\", 1: \"subtype\"}, axis=1)\n",
    "    piv_df = pd.pivot_table(new_df, index=\"id\", columns=\"subtype\", values=\"label\")\n",
    "    \n",
    "    return piv_df\n"
   ]
  },
  {
   "cell_type": "markdown",
   "metadata": {},
   "source": [
    "Check for Dupicates:"
   ]
  },
  {
   "cell_type": "code",
   "execution_count": 75,
   "metadata": {
    "scrolled": true
   },
   "outputs": [
    {
     "data": {
      "text/plain": [
       "24"
      ]
     },
     "execution_count": 75,
     "metadata": {},
     "output_type": "execute_result"
    }
   ],
   "source": [
    "train_meta_df.duplicated().sum()"
   ]
  },
  {
   "cell_type": "code",
   "execution_count": 76,
   "metadata": {},
   "outputs": [],
   "source": [
    "train_meta_df.drop_duplicates(inplace = True)"
   ]
  },
  {
   "cell_type": "code",
   "execution_count": 77,
   "metadata": {},
   "outputs": [
    {
     "data": {
      "text/plain": [
       "True"
      ]
     },
     "execution_count": 77,
     "metadata": {},
     "output_type": "execute_result"
    }
   ],
   "source": [
    "train_meta_df_shape[0] - train_meta_df.shape[0] == 24"
   ]
  },
  {
   "cell_type": "markdown",
   "metadata": {},
   "source": [
    "Make usable Data Frame:"
   ]
  },
  {
   "cell_type": "code",
   "execution_count": 78,
   "metadata": {
    "scrolled": true
   },
   "outputs": [
    {
     "data": {
      "text/html": [
       "<div>\n",
       "<style scoped>\n",
       "    .dataframe tbody tr th:only-of-type {\n",
       "        vertical-align: middle;\n",
       "    }\n",
       "\n",
       "    .dataframe tbody tr th {\n",
       "        vertical-align: top;\n",
       "    }\n",
       "\n",
       "    .dataframe thead th {\n",
       "        text-align: right;\n",
       "    }\n",
       "</style>\n",
       "<table border=\"1\" class=\"dataframe\">\n",
       "  <thead>\n",
       "    <tr style=\"text-align: right;\">\n",
       "      <th>subtype</th>\n",
       "      <th>any</th>\n",
       "      <th>epidural</th>\n",
       "      <th>intraparenchymal</th>\n",
       "      <th>intraventricular</th>\n",
       "      <th>subarachnoid</th>\n",
       "      <th>subdural</th>\n",
       "    </tr>\n",
       "    <tr>\n",
       "      <th>id</th>\n",
       "      <th></th>\n",
       "      <th></th>\n",
       "      <th></th>\n",
       "      <th></th>\n",
       "      <th></th>\n",
       "      <th></th>\n",
       "    </tr>\n",
       "  </thead>\n",
       "  <tbody>\n",
       "    <tr>\n",
       "      <th>ID_000012eaf</th>\n",
       "      <td>0</td>\n",
       "      <td>0</td>\n",
       "      <td>0</td>\n",
       "      <td>0</td>\n",
       "      <td>0</td>\n",
       "      <td>0</td>\n",
       "    </tr>\n",
       "    <tr>\n",
       "      <th>ID_000039fa0</th>\n",
       "      <td>0</td>\n",
       "      <td>0</td>\n",
       "      <td>0</td>\n",
       "      <td>0</td>\n",
       "      <td>0</td>\n",
       "      <td>0</td>\n",
       "    </tr>\n",
       "    <tr>\n",
       "      <th>ID_00005679d</th>\n",
       "      <td>0</td>\n",
       "      <td>0</td>\n",
       "      <td>0</td>\n",
       "      <td>0</td>\n",
       "      <td>0</td>\n",
       "      <td>0</td>\n",
       "    </tr>\n",
       "    <tr>\n",
       "      <th>ID_00008ce3c</th>\n",
       "      <td>0</td>\n",
       "      <td>0</td>\n",
       "      <td>0</td>\n",
       "      <td>0</td>\n",
       "      <td>0</td>\n",
       "      <td>0</td>\n",
       "    </tr>\n",
       "    <tr>\n",
       "      <th>ID_0000950d7</th>\n",
       "      <td>0</td>\n",
       "      <td>0</td>\n",
       "      <td>0</td>\n",
       "      <td>0</td>\n",
       "      <td>0</td>\n",
       "      <td>0</td>\n",
       "    </tr>\n",
       "  </tbody>\n",
       "</table>\n",
       "</div>"
      ],
      "text/plain": [
       "subtype       any  epidural  intraparenchymal  intraventricular  subarachnoid  \\\n",
       "id                                                                              \n",
       "ID_000012eaf    0         0                 0                 0             0   \n",
       "ID_000039fa0    0         0                 0                 0             0   \n",
       "ID_00005679d    0         0                 0                 0             0   \n",
       "ID_00008ce3c    0         0                 0                 0             0   \n",
       "ID_0000950d7    0         0                 0                 0             0   \n",
       "\n",
       "subtype       subdural  \n",
       "id                      \n",
       "ID_000012eaf         0  \n",
       "ID_000039fa0         0  \n",
       "ID_00005679d         0  \n",
       "ID_00008ce3c         0  \n",
       "ID_0000950d7         0  "
      ]
     },
     "execution_count": 78,
     "metadata": {},
     "output_type": "execute_result"
    }
   ],
   "source": [
    "train_df = make_usable_df(train_meta_df)\n",
    "train_df.head()"
   ]
  },
  {
   "cell_type": "markdown",
   "metadata": {},
   "source": [
    "\n",
    "Check for Duplicates:"
   ]
  },
  {
   "cell_type": "code",
   "execution_count": 79,
   "metadata": {},
   "outputs": [
    {
     "data": {
      "text/plain": [
       "Index(['ID_000012eaf', 'ID_000039fa0', 'ID_00005679d', 'ID_00008ce3c',\n",
       "       'ID_0000950d7', 'ID_0000aee4b', 'ID_0000ca2f6', 'ID_0000f1657',\n",
       "       'ID_000178e76', 'ID_00019828f',\n",
       "       ...\n",
       "       'ID_ffff59a97', 'ID_ffff5a8be', 'ID_ffff639f4', 'ID_ffff73ede',\n",
       "       'ID_ffff80705', 'ID_ffff82e46', 'ID_ffff922b9', 'ID_ffffb670a',\n",
       "       'ID_ffffcbff8', 'ID_fffff9393'],\n",
       "      dtype='object', name='id', length=752803)"
      ]
     },
     "execution_count": 79,
     "metadata": {},
     "output_type": "execute_result"
    }
   ],
   "source": [
    "train_df.index.unique()"
   ]
  },
  {
   "cell_type": "code",
   "execution_count": 80,
   "metadata": {},
   "outputs": [
    {
     "data": {
      "text/plain": [
       "(752803, 6)"
      ]
     },
     "execution_count": 80,
     "metadata": {},
     "output_type": "execute_result"
    }
   ],
   "source": [
    "train_df.shape"
   ]
  },
  {
   "cell_type": "code",
   "execution_count": 81,
   "metadata": {},
   "outputs": [
    {
     "data": {
      "text/plain": [
       "0"
      ]
     },
     "execution_count": 81,
     "metadata": {},
     "output_type": "execute_result"
    }
   ],
   "source": [
    "train_df.index.duplicated().sum()"
   ]
  },
  {
   "cell_type": "markdown",
   "metadata": {},
   "source": [
    "Make usable Data Frame:"
   ]
  },
  {
   "cell_type": "code",
   "execution_count": 128,
   "metadata": {
    "scrolled": false
   },
   "outputs": [
    {
     "data": {
      "text/html": [
       "<div>\n",
       "<style scoped>\n",
       "    .dataframe tbody tr th:only-of-type {\n",
       "        vertical-align: middle;\n",
       "    }\n",
       "\n",
       "    .dataframe tbody tr th {\n",
       "        vertical-align: top;\n",
       "    }\n",
       "\n",
       "    .dataframe thead th {\n",
       "        text-align: right;\n",
       "    }\n",
       "</style>\n",
       "<table border=\"1\" class=\"dataframe\">\n",
       "  <thead>\n",
       "    <tr style=\"text-align: right;\">\n",
       "      <th>subtype</th>\n",
       "      <th>any</th>\n",
       "      <th>epidural</th>\n",
       "      <th>intraparenchymal</th>\n",
       "      <th>intraventricular</th>\n",
       "      <th>subarachnoid</th>\n",
       "      <th>subdural</th>\n",
       "    </tr>\n",
       "    <tr>\n",
       "      <th>id</th>\n",
       "      <th></th>\n",
       "      <th></th>\n",
       "      <th></th>\n",
       "      <th></th>\n",
       "      <th></th>\n",
       "      <th></th>\n",
       "    </tr>\n",
       "  </thead>\n",
       "  <tbody>\n",
       "    <tr>\n",
       "      <th>ID_000000e27</th>\n",
       "      <td>0.5</td>\n",
       "      <td>0.5</td>\n",
       "      <td>0.5</td>\n",
       "      <td>0.5</td>\n",
       "      <td>0.5</td>\n",
       "      <td>0.5</td>\n",
       "    </tr>\n",
       "    <tr>\n",
       "      <th>ID_000009146</th>\n",
       "      <td>0.5</td>\n",
       "      <td>0.5</td>\n",
       "      <td>0.5</td>\n",
       "      <td>0.5</td>\n",
       "      <td>0.5</td>\n",
       "      <td>0.5</td>\n",
       "    </tr>\n",
       "    <tr>\n",
       "      <th>ID_00007b8cb</th>\n",
       "      <td>0.5</td>\n",
       "      <td>0.5</td>\n",
       "      <td>0.5</td>\n",
       "      <td>0.5</td>\n",
       "      <td>0.5</td>\n",
       "      <td>0.5</td>\n",
       "    </tr>\n",
       "    <tr>\n",
       "      <th>ID_000134952</th>\n",
       "      <td>0.5</td>\n",
       "      <td>0.5</td>\n",
       "      <td>0.5</td>\n",
       "      <td>0.5</td>\n",
       "      <td>0.5</td>\n",
       "      <td>0.5</td>\n",
       "    </tr>\n",
       "    <tr>\n",
       "      <th>ID_000176f2a</th>\n",
       "      <td>0.5</td>\n",
       "      <td>0.5</td>\n",
       "      <td>0.5</td>\n",
       "      <td>0.5</td>\n",
       "      <td>0.5</td>\n",
       "      <td>0.5</td>\n",
       "    </tr>\n",
       "  </tbody>\n",
       "</table>\n",
       "</div>"
      ],
      "text/plain": [
       "subtype       any  epidural  intraparenchymal  intraventricular  subarachnoid  \\\n",
       "id                                                                              \n",
       "ID_000000e27  0.5       0.5               0.5               0.5           0.5   \n",
       "ID_000009146  0.5       0.5               0.5               0.5           0.5   \n",
       "ID_00007b8cb  0.5       0.5               0.5               0.5           0.5   \n",
       "ID_000134952  0.5       0.5               0.5               0.5           0.5   \n",
       "ID_000176f2a  0.5       0.5               0.5               0.5           0.5   \n",
       "\n",
       "subtype       subdural  \n",
       "id                      \n",
       "ID_000000e27       0.5  \n",
       "ID_000009146       0.5  \n",
       "ID_00007b8cb       0.5  \n",
       "ID_000134952       0.5  \n",
       "ID_000176f2a       0.5  "
      ]
     },
     "execution_count": 128,
     "metadata": {},
     "output_type": "execute_result"
    }
   ],
   "source": [
    "test_df = make_usable_df(test_meta_df)\n",
    "test_df.head()"
   ]
  },
  {
   "cell_type": "code",
   "execution_count": 104,
   "metadata": {},
   "outputs": [
    {
     "data": {
      "text/plain": [
       "(121232, 6)"
      ]
     },
     "execution_count": 104,
     "metadata": {},
     "output_type": "execute_result"
    }
   ],
   "source": [
    "test_df.shape"
   ]
  },
  {
   "cell_type": "code",
   "execution_count": 84,
   "metadata": {},
   "outputs": [],
   "source": [
    "epidural_df1 = train_df[train_df['epidural'] == 1]\n",
    "\n",
    "intraparenchymal_df1 = train_df[train_df['intraparenchymal'] == 1]\n",
    "\n",
    "subdural_df1 = train_df[train_df['subdural'] == 1]\n",
    "\n",
    "intraventricular_df1 = train_df[train_df['intraventricular'] == 1]\n",
    "\n",
    "subarachnoid_df1 = train_df[train_df['subarachnoid'] == 1]\n",
    "\n",
    "any_df1 = train_df[train_df['any'] == 1]"
   ]
  },
  {
   "cell_type": "code",
   "execution_count": 85,
   "metadata": {
    "colab": {},
    "colab_type": "code",
    "id": "8t6J8SCR7YbM"
   },
   "outputs": [
    {
     "data": {
      "text/plain": [
       "(968669, 6)"
      ]
     },
     "execution_count": 85,
     "metadata": {},
     "output_type": "execute_result"
    }
   ],
   "source": [
    "# Oversampling\n",
    "any_df = train_df[train_df['any'] == 1]\n",
    "#\n",
    "any_df_add = train_df[train_df['any'] == 1]\n",
    "train_oversample_df = pd.concat([train_df, any_df])\n",
    "train_oversample_df = pd.concat([train_oversample_df, any_df])\n",
    "\n",
    "train_df = train_oversample_df\n",
    "\n",
    "train_df.shape\n"
   ]
  },
  {
   "cell_type": "code",
   "execution_count": 86,
   "metadata": {
    "scrolled": false
   },
   "outputs": [
    {
     "data": {
      "text/plain": [
       "subtype\n",
       "any                 0.334272\n",
       "epidural            0.009740\n",
       "intraparenchymal    0.111859\n",
       "intraventricular    0.081158\n",
       "subarachnoid        0.110487\n",
       "subdural            0.146075\n",
       "dtype: float64"
      ]
     },
     "execution_count": 86,
     "metadata": {},
     "output_type": "execute_result"
    }
   ],
   "source": [
    "train_df.sum()/train_df.shape[0]"
   ]
  },
  {
   "cell_type": "code",
   "execution_count": 87,
   "metadata": {},
   "outputs": [],
   "source": [
    "filepath = '../models/mymodels/'"
   ]
  },
  {
   "cell_type": "markdown",
   "metadata": {},
   "source": [
    "## Make Model\n"
   ]
  },
  {
   "cell_type": "code",
   "execution_count": 88,
   "metadata": {},
   "outputs": [],
   "source": [
    "def create_model():\n",
    "    #K.clear_session()\n",
    "    \n",
    "    base_model =  InceptionResNetV2(weights = 'imagenet', include_top = False, pooling = 'avg', input_shape = SHAPE)\n",
    "    #base_model.load_weights(filepath+'model.h5')\n",
    "    x = base_model.output\n",
    "    x = Dropout(0.15)(x)\n",
    "    y_pred = Dense(6, activation = 'sigmoid')(x)\n",
    "\n",
    "    return Model(inputs = base_model.input, outputs = y_pred)"
   ]
  },
  {
   "cell_type": "code",
   "execution_count": 89,
   "metadata": {},
   "outputs": [],
   "source": [
    "msss = MultilabelStratifiedShuffleSplit(n_splits = 10, test_size = TEST_SIZE, random_state = SEED)\n",
    "X = train_df.index\n",
    "Y = train_df[['any','epidural','intraparenchymal','intraventricular','subarachnoid','subdural']].values\n",
    "\n",
    "# Get train and test index\n",
    "msss_splits = next(msss.split(X, Y))\n",
    "train_idx = msss_splits[0]\n",
    "val_idx = msss_splits[1]"
   ]
  },
  {
   "cell_type": "markdown",
   "metadata": {},
   "source": [
    "## Custom Loss"
   ]
  },
  {
   "cell_type": "code",
   "execution_count": 90,
   "metadata": {},
   "outputs": [],
   "source": [
    "from tensorflow.python.ops import array_ops"
   ]
  },
  {
   "cell_type": "code",
   "execution_count": 91,
   "metadata": {},
   "outputs": [],
   "source": [
    "def focal_loss(prediction_tensor, target_tensor, weights=None, alpha=0.25, gamma=2):\n",
    "    r\"\"\"Compute focal loss for predictions.\n",
    "        Multi-labels Focal loss formula:\n",
    "            FL = -alpha * (z-p)^gamma * log(p) -(1-alpha) * p^gamma * log(1-p)\n",
    "                 ,which alpha = 0.25, gamma = 2, p = sigmoid(x), z = target_tensor.\n",
    "    Args:\n",
    "     prediction_tensor: A float tensor of shape [batch_size, num_anchors,\n",
    "        num_classes] representing the predicted logits for each class\n",
    "     target_tensor: A float tensor of shape [batch_size, num_anchors,\n",
    "        num_classes] representing one-hot encoded classification targets\n",
    "     weights: A float tensor of shape [batch_size, num_anchors]\n",
    "     alpha: A scalar tensor for focal loss alpha hyper-parameter\n",
    "     gamma: A scalar tensor for focal loss gamma hyper-parameter\n",
    "    Returns:\n",
    "        loss: A (scalar) tensor representing the value of the loss function\n",
    "    \"\"\"\n",
    "    sigmoid_p = tf.nn.sigmoid(prediction_tensor)\n",
    "    zeros = array_ops.zeros_like(sigmoid_p, dtype=sigmoid_p.dtype)\n",
    "    \n",
    "    # For poitive prediction, only need consider front part loss, back part is 0;\n",
    "    # target_tensor > zeros <=> z=1, so poitive coefficient = z - p.\n",
    "    pos_p_sub = array_ops.where(target_tensor > zeros, target_tensor - sigmoid_p, zeros)\n",
    "    \n",
    "    # For negative prediction, only need consider back part loss, front part is 0;\n",
    "    # target_tensor > zeros <=> z=1, so negative coefficient = 0.\n",
    "    neg_p_sub = array_ops.where(target_tensor > zeros, zeros, sigmoid_p)\n",
    "    per_entry_cross_ent = - alpha * (pos_p_sub ** gamma) * K.log(tf.clip_by_value(sigmoid_p, 1e-8, 1.0)) \\\n",
    "                          - (1 - alpha) * (neg_p_sub ** gamma) * K.log(tf.clip_by_value(1.0 - sigmoid_p, 1e-8, 1.0))\n",
    "    return tf.reduce_sum(per_entry_cross_ent)"
   ]
  },
  {
   "cell_type": "code",
   "execution_count": 92,
   "metadata": {
    "scrolled": true
   },
   "outputs": [],
   "source": [
    "data_generator_train = TrainDataGenerator(train_df.iloc[train_idx], \n",
    "                                                train_df.iloc[train_idx], \n",
    "                                                TRAIN_BATCH_SIZE, \n",
    "                                                SHAPE,\n",
    "                                                augment = True)\n",
    "data_generator_val = TrainDataGenerator(train_df.iloc[val_idx], \n",
    "                                            train_df.iloc[val_idx], \n",
    "                                            VALID_BATCH_SIZE, \n",
    "                                            SHAPE,\n",
    "                                            augment = False)\n"
   ]
  },
  {
   "cell_type": "code",
   "execution_count": 34,
   "metadata": {},
   "outputs": [
    {
     "data": {
      "text/plain": [
       "804.09375"
      ]
     },
     "execution_count": 34,
     "metadata": {},
     "output_type": "execute_result"
    }
   ],
   "source": [
    "len(data_generator_train)/32\n",
    "\n",
    "\n",
    "\n",
    "\n"
   ]
  },
  {
   "cell_type": "code",
   "execution_count": 35,
   "metadata": {
    "scrolled": false
   },
   "outputs": [
    {
     "data": {
      "text/plain": [
       "subtype\n",
       "any                 0.601013\n",
       "epidural            0.017513\n",
       "intraparenchymal    0.201119\n",
       "intraventricular    0.145920\n",
       "subarachnoid        0.198652\n",
       "subdural            0.262649\n",
       "dtype: float64"
      ]
     },
     "execution_count": 35,
     "metadata": {},
     "output_type": "execute_result"
    }
   ],
   "source": [
    "train_df.loc[data_generator_train.ids].sum() / train_df.loc[data_generator_train.ids].shape[0]"
   ]
  },
  {
   "cell_type": "code",
   "execution_count": 36,
   "metadata": {},
   "outputs": [],
   "source": [
    "model7 = create_model()"
   ]
  },
  {
   "cell_type": "code",
   "execution_count": 37,
   "metadata": {},
   "outputs": [],
   "source": [
    "for layer in model7.layers[:-6]:\n",
    "    layer.trainable = False"
   ]
  },
  {
   "cell_type": "code",
   "execution_count": 38,
   "metadata": {},
   "outputs": [
    {
     "name": "stdout",
     "output_type": "stream",
     "text": [
      "<tensorflow.python.keras.engine.input_layer.InputLayer object at 0x7f3bf5ad2910> False\n",
      "<tensorflow.python.keras.layers.convolutional.Conv2D object at 0x7f3bf5accad0> False\n",
      "<tensorflow.python.keras.layers.normalization.BatchNormalization object at 0x7f3bf5ad2110> False\n",
      "<tensorflow.python.keras.layers.core.Activation object at 0x7f3bf5ad6810> False\n",
      "<tensorflow.python.keras.layers.convolutional.Conv2D object at 0x7f3bf5ad9150> False\n",
      "<tensorflow.python.keras.layers.normalization.BatchNormalization object at 0x7f3bf5ae8050> False\n",
      "<tensorflow.python.keras.layers.core.Activation object at 0x7f3bf5aea990> False\n",
      "<tensorflow.python.keras.layers.convolutional.Conv2D object at 0x7f3bf5aec190> False\n",
      "<tensorflow.python.keras.layers.normalization.BatchNormalization object at 0x7f3bf5aeca50> False\n",
      "<tensorflow.python.keras.layers.core.Activation object at 0x7f3bf5a7d610> False\n",
      "<tensorflow.python.keras.layers.pooling.MaxPooling2D object at 0x7f3bf5a7f9d0> False\n",
      "<tensorflow.python.keras.layers.convolutional.Conv2D object at 0x7f3bf5a817d0> False\n",
      "<tensorflow.python.keras.layers.normalization.BatchNormalization object at 0x7f3bf5a90710> False\n",
      "<tensorflow.python.keras.layers.core.Activation object at 0x7f3bf5a933d0> False\n",
      "<tensorflow.python.keras.layers.convolutional.Conv2D object at 0x7f3bf5a93410> False\n",
      "<tensorflow.python.keras.layers.normalization.BatchNormalization object at 0x7f3bf5aa4150> False\n",
      "<tensorflow.python.keras.layers.core.Activation object at 0x7f3bf5aa6ed0> False\n",
      "<tensorflow.python.keras.layers.pooling.MaxPooling2D object at 0x7f3bf5aa6d90> False\n",
      "<tensorflow.python.keras.layers.convolutional.Conv2D object at 0x7f3bf5a62710> False\n",
      "<tensorflow.python.keras.layers.normalization.BatchNormalization object at 0x7f3bf5a71b50> False\n",
      "<tensorflow.python.keras.layers.core.Activation object at 0x7f3bf59f3150> False\n",
      "<tensorflow.python.keras.layers.convolutional.Conv2D object at 0x7f3bf5a3b550> False\n",
      "<tensorflow.python.keras.layers.convolutional.Conv2D object at 0x7f3bf59f5a50> False\n",
      "<tensorflow.python.keras.layers.normalization.BatchNormalization object at 0x7f3bf5a3ba90> False\n",
      "<tensorflow.python.keras.layers.normalization.BatchNormalization object at 0x7f3bf5a04bd0> False\n",
      "<tensorflow.python.keras.layers.core.Activation object at 0x7f3bf5a4d910> False\n",
      "<tensorflow.python.keras.layers.core.Activation object at 0x7f3bf5a07490> False\n",
      "<tensorflow.python.keras.layers.pooling.AveragePooling2D object at 0x7f3bf5a1d690> False\n",
      "<tensorflow.python.keras.layers.convolutional.Conv2D object at 0x7f3bf5aae6d0> False\n",
      "<tensorflow.python.keras.layers.convolutional.Conv2D object at 0x7f3bf5a4fa50> False\n",
      "<tensorflow.python.keras.layers.convolutional.Conv2D object at 0x7f3bf5a0a7d0> False\n",
      "<tensorflow.python.keras.layers.convolutional.Conv2D object at 0x7f3bf5a1dc90> False\n",
      "<tensorflow.python.keras.layers.normalization.BatchNormalization object at 0x7f3bf5aaad90> False\n",
      "<tensorflow.python.keras.layers.normalization.BatchNormalization object at 0x7f3bf5a4f950> False\n",
      "<tensorflow.python.keras.layers.normalization.BatchNormalization object at 0x7f3bf5a19650> False\n",
      "<tensorflow.python.keras.layers.normalization.BatchNormalization object at 0x7f3bf5a2ed50> False\n",
      "<tensorflow.python.keras.layers.core.Activation object at 0x7f3bf5a39fd0> False\n",
      "<tensorflow.python.keras.layers.core.Activation object at 0x7f3bf5a607d0> False\n",
      "<tensorflow.python.keras.layers.core.Activation object at 0x7f3bf5a1b550> False\n",
      "<tensorflow.python.keras.layers.core.Activation object at 0x7f3bf5a30e90> False\n",
      "<tensorflow.python.keras.layers.merge.Concatenate object at 0x7f3bf5a30a50> False\n",
      "<tensorflow.python.keras.layers.convolutional.Conv2D object at 0x7f3bf59ede50> False\n",
      "<tensorflow.python.keras.layers.normalization.BatchNormalization object at 0x7f3bf597c110> False\n",
      "<tensorflow.python.keras.layers.core.Activation object at 0x7f3bf597e9d0> False\n",
      "<tensorflow.python.keras.layers.convolutional.Conv2D object at 0x7f3bf59c6ed0> False\n",
      "<tensorflow.python.keras.layers.convolutional.Conv2D object at 0x7f3bf5980f10> False\n",
      "<tensorflow.python.keras.layers.normalization.BatchNormalization object at 0x7f3bf59d5a90> False\n",
      "<tensorflow.python.keras.layers.normalization.BatchNormalization object at 0x7f3bf598f890> False\n",
      "<tensorflow.python.keras.layers.core.Activation object at 0x7f3bf59d79d0> False\n",
      "<tensorflow.python.keras.layers.core.Activation object at 0x7f3bf5991a90> False\n",
      "<tensorflow.python.keras.layers.convolutional.Conv2D object at 0x7f3bf59b34d0> False\n",
      "<tensorflow.python.keras.layers.convolutional.Conv2D object at 0x7f3bf59d9f10> False\n",
      "<tensorflow.python.keras.layers.convolutional.Conv2D object at 0x7f3bf5993ed0> False\n",
      "<tensorflow.python.keras.layers.normalization.BatchNormalization object at 0x7f3bf59c4d10> False\n",
      "<tensorflow.python.keras.layers.normalization.BatchNormalization object at 0x7f3bf59e87d0> False\n",
      "<tensorflow.python.keras.layers.normalization.BatchNormalization object at 0x7f3bf59a2310> False\n",
      "<tensorflow.python.keras.layers.core.Activation object at 0x7f3bf59c4690> False\n",
      "<tensorflow.python.keras.layers.core.Activation object at 0x7f3bf59ea910> False\n",
      "<tensorflow.python.keras.layers.core.Activation object at 0x7f3bf59a5a50> False\n",
      "<tensorflow.python.keras.layers.merge.Concatenate object at 0x7f3bf59a7a90> False\n",
      "<tensorflow.python.keras.layers.convolutional.Conv2D object at 0x7f3bf59a7850> False\n",
      "<tensorflow.python.keras.layers.core.Lambda object at 0x7f3bf59386d0> False\n",
      "<tensorflow.python.keras.layers.core.Activation object at 0x7f3bf593a190> False\n",
      "<tensorflow.python.keras.layers.convolutional.Conv2D object at 0x7f3bf5969210> False\n",
      "<tensorflow.python.keras.layers.normalization.BatchNormalization object at 0x7f3bf58f8ed0> False\n",
      "<tensorflow.python.keras.layers.core.Activation object at 0x7f3bf58fa110> False\n",
      "<tensorflow.python.keras.layers.convolutional.Conv2D object at 0x7f3bf5943090> False\n",
      "<tensorflow.python.keras.layers.convolutional.Conv2D object at 0x7f3bf58fd050> False\n",
      "<tensorflow.python.keras.layers.normalization.BatchNormalization object at 0x7f3bf5952810> False\n",
      "<tensorflow.python.keras.layers.normalization.BatchNormalization object at 0x7f3bf58fd890> False\n",
      "<tensorflow.python.keras.layers.core.Activation object at 0x7f3bf5954f50> False\n",
      "<tensorflow.python.keras.layers.core.Activation object at 0x7f3bf590e0d0> False\n",
      "<tensorflow.python.keras.layers.convolutional.Conv2D object at 0x7f3bf593a690> False\n",
      "<tensorflow.python.keras.layers.convolutional.Conv2D object at 0x7f3bf5956550> False\n",
      "<tensorflow.python.keras.layers.convolutional.Conv2D object at 0x7f3bf5910110> False\n",
      "<tensorflow.python.keras.layers.normalization.BatchNormalization object at 0x7f3bf593edd0> False\n",
      "<tensorflow.python.keras.layers.normalization.BatchNormalization object at 0x7f3bf5965490> False\n",
      "<tensorflow.python.keras.layers.normalization.BatchNormalization object at 0x7f3bf59108d0> False\n",
      "<tensorflow.python.keras.layers.core.Activation object at 0x7f3bf5940150> False\n",
      "<tensorflow.python.keras.layers.core.Activation object at 0x7f3bf5967050> False\n",
      "<tensorflow.python.keras.layers.core.Activation object at 0x7f3bf5922190> False\n",
      "<tensorflow.python.keras.layers.merge.Concatenate object at 0x7f3bf5924c90> False\n",
      "<tensorflow.python.keras.layers.convolutional.Conv2D object at 0x7f3bf59249d0> False\n",
      "<tensorflow.python.keras.layers.core.Lambda object at 0x7f3bf58b6b10> False\n",
      "<tensorflow.python.keras.layers.core.Activation object at 0x7f3bf58b66d0> False\n",
      "<tensorflow.python.keras.layers.convolutional.Conv2D object at 0x7f3bf58e5610> False\n",
      "<tensorflow.python.keras.layers.normalization.BatchNormalization object at 0x7f3bf5874b90> False\n",
      "<tensorflow.python.keras.layers.core.Activation object at 0x7f3bf5876610> False\n",
      "<tensorflow.python.keras.layers.convolutional.Conv2D object at 0x7f3bf58be810> False\n",
      "<tensorflow.python.keras.layers.convolutional.Conv2D object at 0x7f3bf5878650> False\n",
      "<tensorflow.python.keras.layers.normalization.BatchNormalization object at 0x7f3bf58cdc50> False\n",
      "<tensorflow.python.keras.layers.normalization.BatchNormalization object at 0x7f3bf5887c50> False\n",
      "<tensorflow.python.keras.layers.core.Activation object at 0x7f3bf58cf610> False\n",
      "<tensorflow.python.keras.layers.core.Activation object at 0x7f3bf58895d0> False\n",
      "<tensorflow.python.keras.layers.convolutional.Conv2D object at 0x7f3bf58b82d0> False\n",
      "<tensorflow.python.keras.layers.convolutional.Conv2D object at 0x7f3bf58d17d0> False\n",
      "<tensorflow.python.keras.layers.convolutional.Conv2D object at 0x7f3bf588c710> False\n",
      "<tensorflow.python.keras.layers.normalization.BatchNormalization object at 0x7f3bf58bc8d0> False\n",
      "<tensorflow.python.keras.layers.normalization.BatchNormalization object at 0x7f3bf58e1b50> False\n",
      "<tensorflow.python.keras.layers.normalization.BatchNormalization object at 0x7f3bf589b1d0> False\n",
      "<tensorflow.python.keras.layers.core.Activation object at 0x7f3bf58bc9d0> False\n",
      "<tensorflow.python.keras.layers.core.Activation object at 0x7f3bf58e3650> False\n",
      "<tensorflow.python.keras.layers.core.Activation object at 0x7f3bf589d790> False\n",
      "<tensorflow.python.keras.layers.merge.Concatenate object at 0x7f3bf589fe50> False\n",
      "<tensorflow.python.keras.layers.convolutional.Conv2D object at 0x7f3bf589fbd0> False\n",
      "<tensorflow.python.keras.layers.core.Lambda object at 0x7f3bf58b00d0> False\n",
      "<tensorflow.python.keras.layers.core.Activation object at 0x7f3bf5832790> False\n",
      "<tensorflow.python.keras.layers.convolutional.Conv2D object at 0x7f3bf585fc90> False\n",
      "<tensorflow.python.keras.layers.normalization.BatchNormalization object at 0x7f3bf5861bd0> False\n",
      "<tensorflow.python.keras.layers.core.Activation object at 0x7f3bf57f3850> False\n",
      "<tensorflow.python.keras.layers.convolutional.Conv2D object at 0x7f3bf583d050> False\n",
      "<tensorflow.python.keras.layers.convolutional.Conv2D object at 0x7f3bf57f3690> False\n",
      "<tensorflow.python.keras.layers.normalization.BatchNormalization object at 0x7f3bf584a150> False\n",
      "<tensorflow.python.keras.layers.normalization.BatchNormalization object at 0x7f3bf57f5050> False\n",
      "<tensorflow.python.keras.layers.core.Activation object at 0x7f3bf584c8d0> False\n",
      "<tensorflow.python.keras.layers.core.Activation object at 0x7f3bf5806910> False\n",
      "<tensorflow.python.keras.layers.convolutional.Conv2D object at 0x7f3bf5832050> False\n",
      "<tensorflow.python.keras.layers.convolutional.Conv2D object at 0x7f3bf584c850> False\n",
      "<tensorflow.python.keras.layers.convolutional.Conv2D object at 0x7f3bf5806250> False\n",
      "<tensorflow.python.keras.layers.normalization.BatchNormalization object at 0x7f3bf5836790> False\n",
      "<tensorflow.python.keras.layers.normalization.BatchNormalization object at 0x7f3bf585ddd0> False\n",
      "<tensorflow.python.keras.layers.normalization.BatchNormalization object at 0x7f3bf5808c90> False\n",
      "<tensorflow.python.keras.layers.core.Activation object at 0x7f3bf5839890> False\n",
      "<tensorflow.python.keras.layers.core.Activation object at 0x7f3bf585f910> False\n",
      "<tensorflow.python.keras.layers.core.Activation object at 0x7f3bf5819b90> False\n",
      "<tensorflow.python.keras.layers.merge.Concatenate object at 0x7f3bf581c190> False\n",
      "<tensorflow.python.keras.layers.convolutional.Conv2D object at 0x7f3bf581eb90> False\n",
      "<tensorflow.python.keras.layers.core.Lambda object at 0x7f3bf582e5d0> False\n",
      "<tensorflow.python.keras.layers.core.Activation object at 0x7f3bf582ec50> False\n",
      "<tensorflow.python.keras.layers.convolutional.Conv2D object at 0x7f3bf57dd950> False\n",
      "<tensorflow.python.keras.layers.normalization.BatchNormalization object at 0x7f3bf57dd410> False\n",
      "<tensorflow.python.keras.layers.core.Activation object at 0x7f3bf57ee810> False\n",
      "<tensorflow.python.keras.layers.convolutional.Conv2D object at 0x7f3bf57b6750> False\n",
      "<tensorflow.python.keras.layers.convolutional.Conv2D object at 0x7f3bf57f0a90> False\n",
      "<tensorflow.python.keras.layers.normalization.BatchNormalization object at 0x7f3bf57b6490> False\n",
      "<tensorflow.python.keras.layers.normalization.BatchNormalization object at 0x7f3bf57f04d0> False\n",
      "<tensorflow.python.keras.layers.core.Activation object at 0x7f3bf57c8710> False\n",
      "<tensorflow.python.keras.layers.core.Activation object at 0x7f3bf57828d0> False\n",
      "<tensorflow.python.keras.layers.convolutional.Conv2D object at 0x7f3bf582e650> False\n",
      "<tensorflow.python.keras.layers.convolutional.Conv2D object at 0x7f3bf57ca690> False\n",
      "<tensorflow.python.keras.layers.convolutional.Conv2D object at 0x7f3bf5784b50> False\n",
      "<tensorflow.python.keras.layers.normalization.BatchNormalization object at 0x7f3bf57b2f90> False\n",
      "<tensorflow.python.keras.layers.normalization.BatchNormalization object at 0x7f3bf57ca350> False\n",
      "<tensorflow.python.keras.layers.normalization.BatchNormalization object at 0x7f3bf5784610> False\n",
      "<tensorflow.python.keras.layers.core.Activation object at 0x7f3bf57b4850> False\n",
      "<tensorflow.python.keras.layers.core.Activation object at 0x7f3bf57db7d0> False\n",
      "<tensorflow.python.keras.layers.core.Activation object at 0x7f3bf5795990> False\n",
      "<tensorflow.python.keras.layers.merge.Concatenate object at 0x7f3bf5797dd0> False\n",
      "<tensorflow.python.keras.layers.convolutional.Conv2D object at 0x7f3bf5797a10> False\n",
      "<tensorflow.python.keras.layers.core.Lambda object at 0x7f3bf57a8390> False\n",
      "<tensorflow.python.keras.layers.core.Activation object at 0x7f3bf57aad50> False\n",
      "<tensorflow.python.keras.layers.convolutional.Conv2D object at 0x7f3bf5758050> False\n",
      "<tensorflow.python.keras.layers.normalization.BatchNormalization object at 0x7f3bf57675d0> False\n",
      "<tensorflow.python.keras.layers.core.Activation object at 0x7f3bf576b390> False\n",
      "<tensorflow.python.keras.layers.convolutional.Conv2D object at 0x7f3bf57b1750> False\n",
      "<tensorflow.python.keras.layers.convolutional.Conv2D object at 0x7f3bf576b210> False\n",
      "<tensorflow.python.keras.layers.normalization.BatchNormalization object at 0x7f3bf5740950> False\n",
      "<tensorflow.python.keras.layers.normalization.BatchNormalization object at 0x7f3bf56fa690> False\n",
      "<tensorflow.python.keras.layers.core.Activation object at 0x7f3bf57446d0> False\n",
      "<tensorflow.python.keras.layers.core.Activation object at 0x7f3bf56fe450> False\n",
      "<tensorflow.python.keras.layers.convolutional.Conv2D object at 0x7f3bf57aa250> False\n",
      "<tensorflow.python.keras.layers.convolutional.Conv2D object at 0x7f3bf5744790> False\n",
      "<tensorflow.python.keras.layers.convolutional.Conv2D object at 0x7f3bf56fe1d0> False\n",
      "<tensorflow.python.keras.layers.normalization.BatchNormalization object at 0x7f3bf57afad0> False\n",
      "<tensorflow.python.keras.layers.normalization.BatchNormalization object at 0x7f3bf5753a90> False\n",
      "<tensorflow.python.keras.layers.normalization.BatchNormalization object at 0x7f3bf570d6d0> False\n",
      "<tensorflow.python.keras.layers.core.Activation object at 0x7f3bf57b1a90> False\n",
      "<tensorflow.python.keras.layers.core.Activation object at 0x7f3bf57582d0> False\n",
      "<tensorflow.python.keras.layers.core.Activation object at 0x7f3bf5712410> False\n",
      "<tensorflow.python.keras.layers.merge.Concatenate object at 0x7f3bf5712d10> False\n",
      "<tensorflow.python.keras.layers.convolutional.Conv2D object at 0x7f3bf5721c90> False\n",
      "<tensorflow.python.keras.layers.core.Lambda object at 0x7f3bf5723350> False\n",
      "<tensorflow.python.keras.layers.core.Activation object at 0x7f3bf5725810> False\n",
      "<tensorflow.python.keras.layers.convolutional.Conv2D object at 0x7f3bf56d5ed0> False\n",
      "<tensorflow.python.keras.layers.normalization.BatchNormalization object at 0x7f3bf56d5310> False\n",
      "<tensorflow.python.keras.layers.core.Activation object at 0x7f3bf56e6750> False\n",
      "<tensorflow.python.keras.layers.convolutional.Conv2D object at 0x7f3bf572ee50> False\n",
      "<tensorflow.python.keras.layers.convolutional.Conv2D object at 0x7f3bf56e9050> False\n",
      "<tensorflow.python.keras.layers.normalization.BatchNormalization object at 0x7f3bf5731d90> False\n",
      "<tensorflow.python.keras.layers.normalization.BatchNormalization object at 0x7f3bf56e9450> False\n",
      "<tensorflow.python.keras.layers.core.Activation object at 0x7f3bf56c06d0> False\n",
      "<tensorflow.python.keras.layers.core.Activation object at 0x7f3bf567a8d0> False\n",
      "<tensorflow.python.keras.layers.convolutional.Conv2D object at 0x7f3bf5725dd0> False\n",
      "<tensorflow.python.keras.layers.convolutional.Conv2D object at 0x7f3bf56c21d0> False\n",
      "<tensorflow.python.keras.layers.convolutional.Conv2D object at 0x7f3bf567cf90> False\n",
      "<tensorflow.python.keras.layers.normalization.BatchNormalization object at 0x7f3bf5729d10> False\n",
      "<tensorflow.python.keras.layers.normalization.BatchNormalization object at 0x7f3bf56c2190> False\n",
      "<tensorflow.python.keras.layers.normalization.BatchNormalization object at 0x7f3bf567c3d0> False\n",
      "<tensorflow.python.keras.layers.core.Activation object at 0x7f3bf572b850> False\n",
      "<tensorflow.python.keras.layers.core.Activation object at 0x7f3bf56d3750> False\n",
      "<tensorflow.python.keras.layers.core.Activation object at 0x7f3bf568d990> False\n",
      "<tensorflow.python.keras.layers.merge.Concatenate object at 0x7f3bf568f490> False\n",
      "<tensorflow.python.keras.layers.convolutional.Conv2D object at 0x7f3bf568f090> False\n",
      "<tensorflow.python.keras.layers.core.Lambda object at 0x7f3bf56a06d0> False\n",
      "<tensorflow.python.keras.layers.core.Activation object at 0x7f3bf56a0d50> False\n",
      "<tensorflow.python.keras.layers.convolutional.Conv2D object at 0x7f3bf5650fd0> False\n",
      "<tensorflow.python.keras.layers.normalization.BatchNormalization object at 0x7f3bf565f710> False\n",
      "<tensorflow.python.keras.layers.core.Activation object at 0x7f3bf56619d0> False\n",
      "<tensorflow.python.keras.layers.convolutional.Conv2D object at 0x7f3bf56a9f50> False\n",
      "<tensorflow.python.keras.layers.convolutional.Conv2D object at 0x7f3bf5663610> False\n",
      "<tensorflow.python.keras.layers.normalization.BatchNormalization object at 0x7f3bf5638590> False\n",
      "<tensorflow.python.keras.layers.normalization.BatchNormalization object at 0x7f3bf55f2650> False\n",
      "<tensorflow.python.keras.layers.core.Activation object at 0x7f3bf563a7d0> False\n",
      "<tensorflow.python.keras.layers.core.Activation object at 0x7f3bf55f4a90> False\n",
      "<tensorflow.python.keras.layers.convolutional.Conv2D object at 0x7f3bf56a3fd0> False\n",
      "<tensorflow.python.keras.layers.convolutional.Conv2D object at 0x7f3bf563cc10> False\n",
      "<tensorflow.python.keras.layers.convolutional.Conv2D object at 0x7f3bf55f6bd0> False\n",
      "<tensorflow.python.keras.layers.normalization.BatchNormalization object at 0x7f3bf56a7e10> False\n",
      "<tensorflow.python.keras.layers.normalization.BatchNormalization object at 0x7f3bf564bbd0> False\n",
      "<tensorflow.python.keras.layers.normalization.BatchNormalization object at 0x7f3bf5605710> False\n",
      "<tensorflow.python.keras.layers.core.Activation object at 0x7f3bf56a7a10> False\n",
      "<tensorflow.python.keras.layers.core.Activation object at 0x7f3bf564ea10> False\n",
      "<tensorflow.python.keras.layers.core.Activation object at 0x7f3bf560a990> False\n",
      "<tensorflow.python.keras.layers.merge.Concatenate object at 0x7f3bf560a250> False\n",
      "<tensorflow.python.keras.layers.convolutional.Conv2D object at 0x7f3bf560abd0> False\n",
      "<tensorflow.python.keras.layers.core.Lambda object at 0x7f3bf561b2d0> False\n",
      "<tensorflow.python.keras.layers.core.Activation object at 0x7f3bf561d710> False\n",
      "<tensorflow.python.keras.layers.convolutional.Conv2D object at 0x7f3bf55cd090> False\n",
      "<tensorflow.python.keras.layers.normalization.BatchNormalization object at 0x7f3bf55cd950> False\n",
      "<tensorflow.python.keras.layers.core.Activation object at 0x7f3bf55df1d0> False\n",
      "<tensorflow.python.keras.layers.convolutional.Conv2D object at 0x7f3bf5626210> False\n",
      "<tensorflow.python.keras.layers.convolutional.Conv2D object at 0x7f3bf55e1050> False\n",
      "<tensorflow.python.keras.layers.normalization.BatchNormalization object at 0x7f3bf55b5390> False\n",
      "<tensorflow.python.keras.layers.normalization.BatchNormalization object at 0x7f3bf55e1a90> False\n",
      "<tensorflow.python.keras.layers.core.Activation object at 0x7f3bf55b7e50> False\n",
      "<tensorflow.python.keras.layers.core.Activation object at 0x7f3bf5572290> False\n",
      "<tensorflow.python.keras.layers.convolutional.Conv2D object at 0x7f3bf561d810> False\n",
      "<tensorflow.python.keras.layers.convolutional.Conv2D object at 0x7f3bf55b7750> False\n",
      "<tensorflow.python.keras.layers.convolutional.Conv2D object at 0x7f3bf5574a90> False\n",
      "<tensorflow.python.keras.layers.normalization.BatchNormalization object at 0x7f3bf5621710> False\n",
      "<tensorflow.python.keras.layers.normalization.BatchNormalization object at 0x7f3bf55c9050> False\n",
      "<tensorflow.python.keras.layers.normalization.BatchNormalization object at 0x7f3bf5574a50> False\n",
      "<tensorflow.python.keras.layers.core.Activation object at 0x7f3bf5624050> False\n",
      "<tensorflow.python.keras.layers.core.Activation object at 0x7f3bf55cbf90> False\n",
      "<tensorflow.python.keras.layers.core.Activation object at 0x7f3bf5585350> False\n",
      "<tensorflow.python.keras.layers.merge.Concatenate object at 0x7f3bf5587590> False\n",
      "<tensorflow.python.keras.layers.convolutional.Conv2D object at 0x7f3bf5587950> False\n",
      "<tensorflow.python.keras.layers.core.Lambda object at 0x7f3bf5599f10> False\n",
      "<tensorflow.python.keras.layers.core.Activation object at 0x7f3bf5599d90> False\n",
      "<tensorflow.python.keras.layers.convolutional.Conv2D object at 0x7f3bf5548910> False\n",
      "<tensorflow.python.keras.layers.normalization.BatchNormalization object at 0x7f3bf5557410> False\n",
      "<tensorflow.python.keras.layers.core.Activation object at 0x7f3bf5559990> False\n",
      "<tensorflow.python.keras.layers.convolutional.Conv2D object at 0x7f3bf55a1710> False\n",
      "<tensorflow.python.keras.layers.convolutional.Conv2D object at 0x7f3bf555ba50> False\n",
      "<tensorflow.python.keras.layers.normalization.BatchNormalization object at 0x7f3bf55b0250> False\n",
      "<tensorflow.python.keras.layers.normalization.BatchNormalization object at 0x7f3bf556a490> False\n",
      "<tensorflow.python.keras.layers.core.Activation object at 0x7f3bf5532710> False\n",
      "<tensorflow.python.keras.layers.core.Activation object at 0x7f3bf556ca50> False\n",
      "<tensorflow.python.keras.layers.convolutional.Conv2D object at 0x7f3bf559b250> False\n",
      "<tensorflow.python.keras.layers.convolutional.Conv2D object at 0x7f3bf5535850> False\n",
      "<tensorflow.python.keras.layers.convolutional.Conv2D object at 0x7f3bf556fa10> False\n",
      "<tensorflow.python.keras.layers.normalization.BatchNormalization object at 0x7f3bf559f7d0> False\n",
      "<tensorflow.python.keras.layers.normalization.BatchNormalization object at 0x7f3bf5544250> False\n",
      "<tensorflow.python.keras.layers.normalization.BatchNormalization object at 0x7f3bf54fe5d0> False\n",
      "<tensorflow.python.keras.layers.core.Activation object at 0x7f3bf559f8d0> False\n",
      "<tensorflow.python.keras.layers.core.Activation object at 0x7f3bf55468d0> False\n",
      "<tensorflow.python.keras.layers.core.Activation object at 0x7f3bf5500b90> False\n",
      "<tensorflow.python.keras.layers.merge.Concatenate object at 0x7f3bf5502ad0> False\n",
      "<tensorflow.python.keras.layers.convolutional.Conv2D object at 0x7f3bf5502910> False\n",
      "<tensorflow.python.keras.layers.core.Lambda object at 0x7f3bf5513710> False\n",
      "<tensorflow.python.keras.layers.core.Activation object at 0x7f3bf5515b90> False\n",
      "<tensorflow.python.keras.layers.convolutional.Conv2D object at 0x7f3bf551c850> False\n",
      "<tensorflow.python.keras.layers.normalization.BatchNormalization object at 0x7f3bf552b510> False\n",
      "<tensorflow.python.keras.layers.core.Activation object at 0x7f3bf552f350> False\n",
      "<tensorflow.python.keras.layers.convolutional.Conv2D object at 0x7f3bf552f0d0> False\n",
      "<tensorflow.python.keras.layers.normalization.BatchNormalization object at 0x7f3bf54beb50> False\n",
      "<tensorflow.python.keras.layers.core.Activation object at 0x7f3bf54c2950> False\n",
      "<tensorflow.python.keras.layers.convolutional.Conv2D object at 0x7f3bf5515690> False\n",
      "<tensorflow.python.keras.layers.convolutional.Conv2D object at 0x7f3bf54c2110> False\n",
      "<tensorflow.python.keras.layers.normalization.BatchNormalization object at 0x7f3bf551aa90> False\n",
      "<tensorflow.python.keras.layers.normalization.BatchNormalization object at 0x7f3bf54d2390> False\n",
      "<tensorflow.python.keras.layers.core.Activation object at 0x7f3bf551c890> False\n",
      "<tensorflow.python.keras.layers.core.Activation object at 0x7f3bf54d5ad0> False\n",
      "<tensorflow.python.keras.layers.pooling.MaxPooling2D object at 0x7f3bf54d7a10> False\n",
      "<tensorflow.python.keras.layers.merge.Concatenate object at 0x7f3bf54d9c90> False\n",
      "<tensorflow.python.keras.layers.convolutional.Conv2D object at 0x7f3bf54ec990> False\n",
      "<tensorflow.python.keras.layers.normalization.BatchNormalization object at 0x7f3bf547b850> False\n",
      "<tensorflow.python.keras.layers.core.Activation object at 0x7f3bf547d610> False\n",
      "<tensorflow.python.keras.layers.convolutional.Conv2D object at 0x7f3bf54804d0> False\n",
      "<tensorflow.python.keras.layers.normalization.BatchNormalization object at 0x7f3bf548f750> False\n",
      "<tensorflow.python.keras.layers.core.Activation object at 0x7f3bf5491750> False\n",
      "<tensorflow.python.keras.layers.convolutional.Conv2D object at 0x7f3bf54e60d0> False\n",
      "<tensorflow.python.keras.layers.convolutional.Conv2D object at 0x7f3bf5493e10> False\n",
      "<tensorflow.python.keras.layers.normalization.BatchNormalization object at 0x7f3bf54eaad0> False\n",
      "<tensorflow.python.keras.layers.normalization.BatchNormalization object at 0x7f3bf54a2450> False\n",
      "<tensorflow.python.keras.layers.core.Activation object at 0x7f3bf54eaa50> False\n",
      "<tensorflow.python.keras.layers.core.Activation object at 0x7f3bf54a4a10> False\n",
      "<tensorflow.python.keras.layers.merge.Concatenate object at 0x7f3bf54a6450> False\n",
      "<tensorflow.python.keras.layers.convolutional.Conv2D object at 0x7f3bf54a6ed0> False\n",
      "<tensorflow.python.keras.layers.core.Lambda object at 0x7f3bf5437750> False\n",
      "<tensorflow.python.keras.layers.core.Activation object at 0x7f3bf543ae90> False\n",
      "<tensorflow.python.keras.layers.convolutional.Conv2D object at 0x7f3bf5444050> False\n",
      "<tensorflow.python.keras.layers.normalization.BatchNormalization object at 0x7f3bf544fa10> False\n",
      "<tensorflow.python.keras.layers.core.Activation object at 0x7f3bf5453710> False\n",
      "<tensorflow.python.keras.layers.convolutional.Conv2D object at 0x7f3bf5453750> False\n",
      "<tensorflow.python.keras.layers.normalization.BatchNormalization object at 0x7f3bf5462ad0> False\n",
      "<tensorflow.python.keras.layers.core.Activation object at 0x7f3bf54672d0> False\n",
      "<tensorflow.python.keras.layers.convolutional.Conv2D object at 0x7f3bf543ae10> False\n",
      "<tensorflow.python.keras.layers.convolutional.Conv2D object at 0x7f3bf5467110> False\n",
      "<tensorflow.python.keras.layers.normalization.BatchNormalization object at 0x7f3bf543e890> False\n",
      "<tensorflow.python.keras.layers.normalization.BatchNormalization object at 0x7f3bf53f6b50> False\n",
      "<tensorflow.python.keras.layers.core.Activation object at 0x7f3bf5440710> False\n",
      "<tensorflow.python.keras.layers.core.Activation object at 0x7f3bf53faf10> False\n",
      "<tensorflow.python.keras.layers.merge.Concatenate object at 0x7f3bf53fa910> False\n",
      "<tensorflow.python.keras.layers.convolutional.Conv2D object at 0x7f3bf53fa890> False\n",
      "<tensorflow.python.keras.layers.core.Lambda object at 0x7f3bf540b890> False\n",
      "<tensorflow.python.keras.layers.core.Activation object at 0x7f3bf540d790> False\n",
      "<tensorflow.python.keras.layers.convolutional.Conv2D object at 0x7f3bf5414910> False\n",
      "<tensorflow.python.keras.layers.normalization.BatchNormalization object at 0x7f3bf5416d50> False\n",
      "<tensorflow.python.keras.layers.core.Activation object at 0x7f3bf5427890> False\n",
      "<tensorflow.python.keras.layers.convolutional.Conv2D object at 0x7f3bf5ad41d0> False\n",
      "<tensorflow.python.keras.layers.normalization.BatchNormalization object at 0x7f3bf53b8450> False\n",
      "<tensorflow.python.keras.layers.core.Activation object at 0x7f3bf53bb550> False\n",
      "<tensorflow.python.keras.layers.convolutional.Conv2D object at 0x7f3bf540d990> False\n",
      "<tensorflow.python.keras.layers.convolutional.Conv2D object at 0x7f3bf53bbcd0> False\n",
      "<tensorflow.python.keras.layers.normalization.BatchNormalization object at 0x7f3bf5412490> False\n",
      "<tensorflow.python.keras.layers.normalization.BatchNormalization object at 0x7f3bf53ca3d0> False\n",
      "<tensorflow.python.keras.layers.core.Activation object at 0x7f3bf5414c90> False\n",
      "<tensorflow.python.keras.layers.core.Activation object at 0x7f3bf53ce490> False\n",
      "<tensorflow.python.keras.layers.merge.Concatenate object at 0x7f3bf53ce290> False\n",
      "<tensorflow.python.keras.layers.convolutional.Conv2D object at 0x7f3bf53de990> False\n",
      "<tensorflow.python.keras.layers.core.Lambda object at 0x7f3bf53e07d0> False\n",
      "<tensorflow.python.keras.layers.core.Activation object at 0x7f3bf53e2950> False\n",
      "<tensorflow.python.keras.layers.convolutional.Conv2D object at 0x7f3bf53ebed0> False\n",
      "<tensorflow.python.keras.layers.normalization.BatchNormalization object at 0x7f3bf53ebfd0> False\n",
      "<tensorflow.python.keras.layers.core.Activation object at 0x7f3bf537c150> False\n",
      "<tensorflow.python.keras.layers.convolutional.Conv2D object at 0x7f3bf537eb90> False\n",
      "<tensorflow.python.keras.layers.normalization.BatchNormalization object at 0x7f3bf537ead0> False\n",
      "<tensorflow.python.keras.layers.core.Activation object at 0x7f3bf538f290> False\n",
      "<tensorflow.python.keras.layers.convolutional.Conv2D object at 0x7f3bf53e4c10> False\n",
      "<tensorflow.python.keras.layers.convolutional.Conv2D object at 0x7f3bf5392b50> False\n",
      "<tensorflow.python.keras.layers.normalization.BatchNormalization object at 0x7f3bf53e7e90> False\n",
      "<tensorflow.python.keras.layers.normalization.BatchNormalization object at 0x7f3bf53a1b90> False\n",
      "<tensorflow.python.keras.layers.core.Activation object at 0x7f3bf53e9690> False\n",
      "<tensorflow.python.keras.layers.core.Activation object at 0x7f3bf53a3e90> False\n",
      "<tensorflow.python.keras.layers.merge.Concatenate object at 0x7f3bf53a5850> False\n",
      "<tensorflow.python.keras.layers.convolutional.Conv2D object at 0x7f3bf53a7450> False\n",
      "<tensorflow.python.keras.layers.core.Lambda object at 0x7f3bf53367d0> False\n",
      "<tensorflow.python.keras.layers.core.Activation object at 0x7f3bf5336050> False\n",
      "<tensorflow.python.keras.layers.convolutional.Conv2D object at 0x7f3bf533fad0> False\n",
      "<tensorflow.python.keras.layers.normalization.BatchNormalization object at 0x7f3bf533f710> False\n",
      "<tensorflow.python.keras.layers.core.Activation object at 0x7f3bf5350a10> False\n",
      "<tensorflow.python.keras.layers.convolutional.Conv2D object at 0x7f3bf5352210> False\n",
      "<tensorflow.python.keras.layers.normalization.BatchNormalization object at 0x7f3bf5352990> False\n",
      "<tensorflow.python.keras.layers.core.Activation object at 0x7f3bf53635d0> False\n",
      "<tensorflow.python.keras.layers.convolutional.Conv2D object at 0x7f3bf5336950> False\n",
      "<tensorflow.python.keras.layers.convolutional.Conv2D object at 0x7f3bf53653d0> False\n",
      "<tensorflow.python.keras.layers.normalization.BatchNormalization object at 0x7f3bf533a350> False\n",
      "<tensorflow.python.keras.layers.normalization.BatchNormalization object at 0x7f3bf5365110> False\n",
      "<tensorflow.python.keras.layers.core.Activation object at 0x7f3bf533d9d0> False\n",
      "<tensorflow.python.keras.layers.core.Activation object at 0x7f3bf52f7850> False\n",
      "<tensorflow.python.keras.layers.merge.Concatenate object at 0x7f3bf52f92d0> False\n",
      "<tensorflow.python.keras.layers.convolutional.Conv2D object at 0x7f3bf52f98d0> False\n",
      "<tensorflow.python.keras.layers.core.Lambda object at 0x7f3bf530af10> False\n",
      "<tensorflow.python.keras.layers.core.Activation object at 0x7f3bf530a690> False\n",
      "<tensorflow.python.keras.layers.convolutional.Conv2D object at 0x7f3bf5313a90> False\n",
      "<tensorflow.python.keras.layers.normalization.BatchNormalization object at 0x7f3bf5322ad0> False\n",
      "<tensorflow.python.keras.layers.core.Activation object at 0x7f3bf5324590> False\n",
      "<tensorflow.python.keras.layers.convolutional.Conv2D object at 0x7f3bf5326110> False\n",
      "<tensorflow.python.keras.layers.normalization.BatchNormalization object at 0x7f3bf52b5ad0> False\n",
      "<tensorflow.python.keras.layers.core.Activation object at 0x7f3bf52b76d0> False\n",
      "<tensorflow.python.keras.layers.convolutional.Conv2D object at 0x7f3bf530cb10> False\n",
      "<tensorflow.python.keras.layers.convolutional.Conv2D object at 0x7f3bf52b91d0> False\n",
      "<tensorflow.python.keras.layers.normalization.BatchNormalization object at 0x7f3bf5310c50> False\n",
      "<tensorflow.python.keras.layers.normalization.BatchNormalization object at 0x7f3bf52c88d0> False\n",
      "<tensorflow.python.keras.layers.core.Activation object at 0x7f3bf5310d50> False\n",
      "<tensorflow.python.keras.layers.core.Activation object at 0x7f3bf52ca110> False\n",
      "<tensorflow.python.keras.layers.merge.Concatenate object at 0x7f3bf52cdf10> False\n",
      "<tensorflow.python.keras.layers.convolutional.Conv2D object at 0x7f3bf52cda10> False\n",
      "<tensorflow.python.keras.layers.core.Lambda object at 0x7f3bf52def10> False\n",
      "<tensorflow.python.keras.layers.core.Activation object at 0x7f3bf52e0610> False\n",
      "<tensorflow.python.keras.layers.convolutional.Conv2D object at 0x7f3bf52e7090> False\n",
      "<tensorflow.python.keras.layers.normalization.BatchNormalization object at 0x7f3bf5276110> False\n",
      "<tensorflow.python.keras.layers.core.Activation object at 0x7f3bf52799d0> False\n",
      "<tensorflow.python.keras.layers.convolutional.Conv2D object at 0x7f3bf527be10> False\n",
      "<tensorflow.python.keras.layers.normalization.BatchNormalization object at 0x7f3bf528a910> False\n",
      "<tensorflow.python.keras.layers.core.Activation object at 0x7f3bf528ca90> False\n",
      "<tensorflow.python.keras.layers.convolutional.Conv2D object at 0x7f3bf52e0ed0> False\n",
      "<tensorflow.python.keras.layers.convolutional.Conv2D object at 0x7f3bf528ef50> False\n",
      "<tensorflow.python.keras.layers.normalization.BatchNormalization object at 0x7f3bf52e5810> False\n",
      "<tensorflow.python.keras.layers.normalization.BatchNormalization object at 0x7f3bf529d510> False\n",
      "<tensorflow.python.keras.layers.core.Activation object at 0x7f3bf52e7d50> False\n",
      "<tensorflow.python.keras.layers.core.Activation object at 0x7f3bf529f6d0> False\n",
      "<tensorflow.python.keras.layers.merge.Concatenate object at 0x7f3bf52a1610> False\n",
      "<tensorflow.python.keras.layers.convolutional.Conv2D object at 0x7f3bf52a10d0> False\n",
      "<tensorflow.python.keras.layers.core.Lambda object at 0x7f3bf5233a10> False\n",
      "<tensorflow.python.keras.layers.core.Activation object at 0x7f3bf5235fd0> False\n",
      "<tensorflow.python.keras.layers.convolutional.Conv2D object at 0x7f3bf523ff50> False\n",
      "<tensorflow.python.keras.layers.normalization.BatchNormalization object at 0x7f3bf524a550> False\n",
      "<tensorflow.python.keras.layers.core.Activation object at 0x7f3bf524f490> False\n",
      "<tensorflow.python.keras.layers.convolutional.Conv2D object at 0x7f3bf524f110> False\n",
      "<tensorflow.python.keras.layers.normalization.BatchNormalization object at 0x7f3bf525e690> False\n",
      "<tensorflow.python.keras.layers.core.Activation object at 0x7f3bf5262550> False\n",
      "<tensorflow.python.keras.layers.convolutional.Conv2D object at 0x7f3bf52355d0> False\n",
      "<tensorflow.python.keras.layers.convolutional.Conv2D object at 0x7f3bf52621d0> False\n",
      "<tensorflow.python.keras.layers.normalization.BatchNormalization object at 0x7f3bf5239b50> False\n",
      "<tensorflow.python.keras.layers.normalization.BatchNormalization object at 0x7f3bf5271c10> False\n",
      "<tensorflow.python.keras.layers.core.Activation object at 0x7f3bf523ba10> False\n",
      "<tensorflow.python.keras.layers.core.Activation object at 0x7f3bf51f5790> False\n",
      "<tensorflow.python.keras.layers.merge.Concatenate object at 0x7f3bf51f5550> False\n",
      "<tensorflow.python.keras.layers.convolutional.Conv2D object at 0x7f3bf5204610> False\n",
      "<tensorflow.python.keras.layers.core.Lambda object at 0x7f3bf52066d0> False\n",
      "<tensorflow.python.keras.layers.core.Activation object at 0x7f3bf52093d0> False\n",
      "<tensorflow.python.keras.layers.convolutional.Conv2D object at 0x7f3bf52110d0> False\n",
      "<tensorflow.python.keras.layers.normalization.BatchNormalization object at 0x7f3bf5220750> False\n",
      "<tensorflow.python.keras.layers.core.Activation object at 0x7f3bf5222fd0> False\n",
      "<tensorflow.python.keras.layers.convolutional.Conv2D object at 0x7f3bf5222210> False\n",
      "<tensorflow.python.keras.layers.normalization.BatchNormalization object at 0x7f3bf51b4450> False\n",
      "<tensorflow.python.keras.layers.core.Activation object at 0x7f3bf51b6f90> False\n",
      "<tensorflow.python.keras.layers.convolutional.Conv2D object at 0x7f3bf5209750> False\n",
      "<tensorflow.python.keras.layers.convolutional.Conv2D object at 0x7f3bf51b6dd0> False\n",
      "<tensorflow.python.keras.layers.normalization.BatchNormalization object at 0x7f3bf520d5d0> False\n",
      "<tensorflow.python.keras.layers.normalization.BatchNormalization object at 0x7f3bf51b8c10> False\n",
      "<tensorflow.python.keras.layers.core.Activation object at 0x7f3bf520f110> False\n",
      "<tensorflow.python.keras.layers.core.Activation object at 0x7f3bf51c98d0> False\n",
      "<tensorflow.python.keras.layers.merge.Concatenate object at 0x7f3bf51c9150> False\n",
      "<tensorflow.python.keras.layers.convolutional.Conv2D object at 0x7f3bf51cd490> False\n",
      "<tensorflow.python.keras.layers.core.Lambda object at 0x7f3bf51dcf90> False\n",
      "<tensorflow.python.keras.layers.core.Activation object at 0x7f3bf51dc5d0> False\n",
      "<tensorflow.python.keras.layers.convolutional.Conv2D object at 0x7f3bf51e5fd0> False\n",
      "<tensorflow.python.keras.layers.normalization.BatchNormalization object at 0x7f3bf51e53d0> False\n",
      "<tensorflow.python.keras.layers.core.Activation object at 0x7f3bf51774d0> False\n",
      "<tensorflow.python.keras.layers.convolutional.Conv2D object at 0x7f3bf5179c50> False\n",
      "<tensorflow.python.keras.layers.normalization.BatchNormalization object at 0x7f3bf5179fd0> False\n",
      "<tensorflow.python.keras.layers.core.Activation object at 0x7f3bf518b4d0> False\n",
      "<tensorflow.python.keras.layers.convolutional.Conv2D object at 0x7f3bf51dc0d0> False\n",
      "<tensorflow.python.keras.layers.convolutional.Conv2D object at 0x7f3bf518dc90> False\n",
      "<tensorflow.python.keras.layers.normalization.BatchNormalization object at 0x7f3bf51e1f50> False\n",
      "<tensorflow.python.keras.layers.normalization.BatchNormalization object at 0x7f3bf518d150> False\n",
      "<tensorflow.python.keras.layers.core.Activation object at 0x7f3bf51e3950> False\n",
      "<tensorflow.python.keras.layers.core.Activation object at 0x7f3bf519e150> False\n",
      "<tensorflow.python.keras.layers.merge.Concatenate object at 0x7f3bf51a0650> False\n",
      "<tensorflow.python.keras.layers.convolutional.Conv2D object at 0x7f3bf51a2510> False\n",
      "<tensorflow.python.keras.layers.core.Lambda object at 0x7f3bf51b1290> False\n",
      "<tensorflow.python.keras.layers.core.Activation object at 0x7f3bf51b1c90> False\n",
      "<tensorflow.python.keras.layers.convolutional.Conv2D object at 0x7f3bf513a610> False\n",
      "<tensorflow.python.keras.layers.normalization.BatchNormalization object at 0x7f3bf513a410> False\n",
      "<tensorflow.python.keras.layers.core.Activation object at 0x7f3bf514b750> False\n",
      "<tensorflow.python.keras.layers.convolutional.Conv2D object at 0x7f3bf514d050> False\n",
      "<tensorflow.python.keras.layers.normalization.BatchNormalization object at 0x7f3bf514d450> False\n",
      "<tensorflow.python.keras.layers.core.Activation object at 0x7f3bf515e990> False\n",
      "<tensorflow.python.keras.layers.convolutional.Conv2D object at 0x7f3bf51b1610> False\n",
      "<tensorflow.python.keras.layers.convolutional.Conv2D object at 0x7f3bf5160110> False\n",
      "<tensorflow.python.keras.layers.normalization.BatchNormalization object at 0x7f3bf5135fd0> False\n",
      "<tensorflow.python.keras.layers.normalization.BatchNormalization object at 0x7f3bf5160990> False\n",
      "<tensorflow.python.keras.layers.core.Activation object at 0x7f3bf5138690> False\n",
      "<tensorflow.python.keras.layers.core.Activation object at 0x7f3bf50f25d0> False\n",
      "<tensorflow.python.keras.layers.merge.Concatenate object at 0x7f3bf50f4210> False\n",
      "<tensorflow.python.keras.layers.convolutional.Conv2D object at 0x7f3bf50f6a90> False\n",
      "<tensorflow.python.keras.layers.core.Lambda object at 0x7f3bf5105950> False\n",
      "<tensorflow.python.keras.layers.core.Activation object at 0x7f3bf5105c50> False\n",
      "<tensorflow.python.keras.layers.convolutional.Conv2D object at 0x7f3bf510efd0> False\n",
      "<tensorflow.python.keras.layers.normalization.BatchNormalization object at 0x7f3bf510ea90> False\n",
      "<tensorflow.python.keras.layers.core.Activation object at 0x7f3bf511f710> False\n",
      "<tensorflow.python.keras.layers.convolutional.Conv2D object at 0x7f3bf5121910> False\n",
      "<tensorflow.python.keras.layers.normalization.BatchNormalization object at 0x7f3bf51213d0> False\n",
      "<tensorflow.python.keras.layers.core.Activation object at 0x7f3bf50b27d0> False\n",
      "<tensorflow.python.keras.layers.convolutional.Conv2D object at 0x7f3bf5107b10> False\n",
      "<tensorflow.python.keras.layers.convolutional.Conv2D object at 0x7f3bf50b4a50> False\n",
      "<tensorflow.python.keras.layers.normalization.BatchNormalization object at 0x7f3bf51095d0> False\n",
      "<tensorflow.python.keras.layers.normalization.BatchNormalization object at 0x7f3bf50b4510> False\n",
      "<tensorflow.python.keras.layers.core.Activation object at 0x7f3bf510b410> False\n",
      "<tensorflow.python.keras.layers.core.Activation object at 0x7f3bf50c6490> False\n",
      "<tensorflow.python.keras.layers.merge.Concatenate object at 0x7f3bf50c8710> False\n",
      "<tensorflow.python.keras.layers.convolutional.Conv2D object at 0x7f3bf50ca050> False\n",
      "<tensorflow.python.keras.layers.core.Lambda object at 0x7f3bf50d9b90> False\n",
      "<tensorflow.python.keras.layers.core.Activation object at 0x7f3bf50d9390> False\n",
      "<tensorflow.python.keras.layers.convolutional.Conv2D object at 0x7f3bf50e1910> False\n",
      "<tensorflow.python.keras.layers.normalization.BatchNormalization object at 0x7f3bf50f0950> False\n",
      "<tensorflow.python.keras.layers.core.Activation object at 0x7f3bf5073310> False\n",
      "<tensorflow.python.keras.layers.convolutional.Conv2D object at 0x7f3bf5075fd0> False\n",
      "<tensorflow.python.keras.layers.normalization.BatchNormalization object at 0x7f3bf5084b90> False\n",
      "<tensorflow.python.keras.layers.core.Activation object at 0x7f3bf5087450> False\n",
      "<tensorflow.python.keras.layers.convolutional.Conv2D object at 0x7f3bf50dbb10> False\n",
      "<tensorflow.python.keras.layers.convolutional.Conv2D object at 0x7f3bf50890d0> False\n",
      "<tensorflow.python.keras.layers.normalization.BatchNormalization object at 0x7f3bf50df9d0> False\n",
      "<tensorflow.python.keras.layers.normalization.BatchNormalization object at 0x7f3bf50986d0> False\n",
      "<tensorflow.python.keras.layers.core.Activation object at 0x7f3bf50dfad0> False\n",
      "<tensorflow.python.keras.layers.core.Activation object at 0x7f3bf509a950> False\n",
      "<tensorflow.python.keras.layers.merge.Concatenate object at 0x7f3bf509cb10> False\n",
      "<tensorflow.python.keras.layers.convolutional.Conv2D object at 0x7f3bf509fe10> False\n",
      "<tensorflow.python.keras.layers.core.Lambda object at 0x7f3bf50aeb10> False\n",
      "<tensorflow.python.keras.layers.core.Activation object at 0x7f3bf50aef50> False\n",
      "<tensorflow.python.keras.layers.convolutional.Conv2D object at 0x7f3bf5036ed0> False\n",
      "<tensorflow.python.keras.layers.normalization.BatchNormalization object at 0x7f3bf5045250> False\n",
      "<tensorflow.python.keras.layers.core.Activation object at 0x7f3bf5047750> False\n",
      "<tensorflow.python.keras.layers.convolutional.Conv2D object at 0x7f3bf504a910> False\n",
      "<tensorflow.python.keras.layers.normalization.BatchNormalization object at 0x7f3bf5059c90> False\n",
      "<tensorflow.python.keras.layers.core.Activation object at 0x7f3bf505ba10> False\n",
      "<tensorflow.python.keras.layers.convolutional.Conv2D object at 0x7f3bf50b0d10> False\n",
      "<tensorflow.python.keras.layers.convolutional.Conv2D object at 0x7f3bf505dad0> False\n",
      "<tensorflow.python.keras.layers.normalization.BatchNormalization object at 0x7f3bf5034f10> False\n",
      "<tensorflow.python.keras.layers.normalization.BatchNormalization object at 0x7f3bf506cbd0> False\n",
      "<tensorflow.python.keras.layers.core.Activation object at 0x7f3bf5034890> False\n",
      "<tensorflow.python.keras.layers.core.Activation object at 0x7f3bf506e5d0> False\n",
      "<tensorflow.python.keras.layers.merge.Concatenate object at 0x7f3bf5070c90> False\n",
      "<tensorflow.python.keras.layers.convolutional.Conv2D object at 0x7f3bf50704d0> False\n",
      "<tensorflow.python.keras.layers.core.Lambda object at 0x7f3bf5002090> False\n",
      "<tensorflow.python.keras.layers.core.Activation object at 0x7f3bf5004f90> False\n",
      "<tensorflow.python.keras.layers.convolutional.Conv2D object at 0x7f3bf500af90> False\n",
      "<tensorflow.python.keras.layers.normalization.BatchNormalization object at 0x7f3bf5019890> False\n",
      "<tensorflow.python.keras.layers.core.Activation object at 0x7f3bf501b990> False\n",
      "<tensorflow.python.keras.layers.convolutional.Conv2D object at 0x7f3bf501ddd0> False\n",
      "<tensorflow.python.keras.layers.normalization.BatchNormalization object at 0x7f3bf502c310> False\n",
      "<tensorflow.python.keras.layers.core.Activation object at 0x7f3bf502f9d0> False\n",
      "<tensorflow.python.keras.layers.convolutional.Conv2D object at 0x7f3bf5004bd0> False\n",
      "<tensorflow.python.keras.layers.convolutional.Conv2D object at 0x7f3bf5031f10> False\n",
      "<tensorflow.python.keras.layers.normalization.BatchNormalization object at 0x7f3bf5008850> False\n",
      "<tensorflow.python.keras.layers.normalization.BatchNormalization object at 0x7f3bf4fc06d0> False\n",
      "<tensorflow.python.keras.layers.core.Activation object at 0x7f3bf500a890> False\n",
      "<tensorflow.python.keras.layers.core.Activation object at 0x7f3bf4fc2c10> False\n",
      "<tensorflow.python.keras.layers.merge.Concatenate object at 0x7f3bf4fc4a50> False\n",
      "<tensorflow.python.keras.layers.convolutional.Conv2D object at 0x7f3bf4fc4990> False\n",
      "<tensorflow.python.keras.layers.core.Lambda object at 0x7f3bf4fd5650> False\n",
      "<tensorflow.python.keras.layers.core.Activation object at 0x7f3bf4fd7350> False\n",
      "<tensorflow.python.keras.layers.convolutional.Conv2D object at 0x7f3bf4fde090> False\n",
      "<tensorflow.python.keras.layers.normalization.BatchNormalization object at 0x7f3bf4fedad0> False\n",
      "<tensorflow.python.keras.layers.core.Activation object at 0x7f3bf4ff1990> False\n",
      "<tensorflow.python.keras.layers.convolutional.Conv2D object at 0x7f3bf4ff1050> False\n",
      "<tensorflow.python.keras.layers.normalization.BatchNormalization object at 0x7f3bf4f80b10> False\n",
      "<tensorflow.python.keras.layers.core.Activation object at 0x7f3bf4f858d0> False\n",
      "<tensorflow.python.keras.layers.convolutional.Conv2D object at 0x7f3bf4fd7990> False\n",
      "<tensorflow.python.keras.layers.convolutional.Conv2D object at 0x7f3bf4f85090> False\n",
      "<tensorflow.python.keras.layers.normalization.BatchNormalization object at 0x7f3bf4fdc490> False\n",
      "<tensorflow.python.keras.layers.normalization.BatchNormalization object at 0x7f3bf4f95490> False\n",
      "<tensorflow.python.keras.layers.core.Activation object at 0x7f3bf4fde410> False\n",
      "<tensorflow.python.keras.layers.core.Activation object at 0x7f3bf4f97bd0> False\n",
      "<tensorflow.python.keras.layers.merge.Concatenate object at 0x7f3bf4f99950> False\n",
      "<tensorflow.python.keras.layers.convolutional.Conv2D object at 0x7f3bf4f99650> False\n",
      "<tensorflow.python.keras.layers.core.Lambda object at 0x7f3bf4faac90> False\n",
      "<tensorflow.python.keras.layers.core.Activation object at 0x7f3bf4fac6d0> False\n",
      "<tensorflow.python.keras.layers.convolutional.Conv2D object at 0x7f3bf4f33b10> False\n",
      "<tensorflow.python.keras.layers.normalization.BatchNormalization object at 0x7f3bf4f42650> False\n",
      "<tensorflow.python.keras.layers.core.Activation object at 0x7f3bf4f46450> False\n",
      "<tensorflow.python.keras.layers.convolutional.Conv2D object at 0x7f3bf4f46210> False\n",
      "<tensorflow.python.keras.layers.normalization.BatchNormalization object at 0x7f3bf4f55590> False\n",
      "<tensorflow.python.keras.layers.core.Activation object at 0x7f3bf4f59550> False\n",
      "<tensorflow.python.keras.layers.convolutional.Conv2D object at 0x7f3bf4fac9d0> False\n",
      "<tensorflow.python.keras.layers.convolutional.Conv2D object at 0x7f3bf4f595d0> False\n",
      "<tensorflow.python.keras.layers.normalization.BatchNormalization object at 0x7f3bf4fb1c50> False\n",
      "<tensorflow.python.keras.layers.normalization.BatchNormalization object at 0x7f3bf4f688d0> False\n",
      "<tensorflow.python.keras.layers.core.Activation object at 0x7f3bf4f338d0> False\n",
      "<tensorflow.python.keras.layers.core.Activation object at 0x7f3bf4f6d710> False\n",
      "<tensorflow.python.keras.layers.merge.Concatenate object at 0x7f3bf4f6db10> False\n",
      "<tensorflow.python.keras.layers.convolutional.Conv2D object at 0x7f3bf4f6d4d0> False\n",
      "<tensorflow.python.keras.layers.core.Lambda object at 0x7f3bf4efe350> False\n",
      "<tensorflow.python.keras.layers.core.Activation object at 0x7f3bf4f00d10> False\n",
      "<tensorflow.python.keras.layers.convolutional.Conv2D object at 0x7f3bf4f07350> False\n",
      "<tensorflow.python.keras.layers.normalization.BatchNormalization object at 0x7f3bf4f09b90> False\n",
      "<tensorflow.python.keras.layers.core.Activation object at 0x7f3bf4f1aa10> False\n",
      "<tensorflow.python.keras.layers.convolutional.Conv2D object at 0x7f3bf4f1aa50> False\n",
      "<tensorflow.python.keras.layers.normalization.BatchNormalization object at 0x7f3bf4f1cc10> False\n",
      "<tensorflow.python.keras.layers.core.Activation object at 0x7f3bf4f2d910> False\n",
      "<tensorflow.python.keras.layers.convolutional.Conv2D object at 0x7f3bf4f000d0> False\n",
      "<tensorflow.python.keras.layers.convolutional.Conv2D object at 0x7f3bf4f2d8d0> False\n",
      "<tensorflow.python.keras.layers.normalization.BatchNormalization object at 0x7f3bf4f04350> False\n",
      "<tensorflow.python.keras.layers.normalization.BatchNormalization object at 0x7f3bf4ebe5d0> False\n",
      "<tensorflow.python.keras.layers.core.Activation object at 0x7f3bf4f072d0> False\n",
      "<tensorflow.python.keras.layers.core.Activation object at 0x7f3bf4ec1750> False\n",
      "<tensorflow.python.keras.layers.merge.Concatenate object at 0x7f3bf4ec16d0> False\n",
      "<tensorflow.python.keras.layers.convolutional.Conv2D object at 0x7f3bf4ec14d0> False\n",
      "<tensorflow.python.keras.layers.core.Lambda object at 0x7f3bf4ed2090> False\n",
      "<tensorflow.python.keras.layers.core.Activation object at 0x7f3bf4ed4790> False\n",
      "<tensorflow.python.keras.layers.convolutional.Conv2D object at 0x7f3bf4edd090> False\n",
      "<tensorflow.python.keras.layers.normalization.BatchNormalization object at 0x7f3bf4eec7d0> False\n",
      "<tensorflow.python.keras.layers.core.Activation object at 0x7f3bf4eeefd0> False\n",
      "<tensorflow.python.keras.layers.convolutional.Conv2D object at 0x7f3bf4eee7d0> False\n",
      "<tensorflow.python.keras.layers.normalization.BatchNormalization object at 0x7f3bf4ef0c10> False\n",
      "<tensorflow.python.keras.layers.core.Activation object at 0x7f3bf4e81090> False\n",
      "<tensorflow.python.keras.layers.convolutional.Conv2D object at 0x7f3bf4ed4690> False\n",
      "<tensorflow.python.keras.layers.convolutional.Conv2D object at 0x7f3bf4e81790> False\n",
      "<tensorflow.python.keras.layers.normalization.BatchNormalization object at 0x7f3bf4ed8390> False\n",
      "<tensorflow.python.keras.layers.normalization.BatchNormalization object at 0x7f3bf4e92210> False\n",
      "<tensorflow.python.keras.layers.core.Activation object at 0x7f3bf4eda290> False\n",
      "<tensorflow.python.keras.layers.core.Activation object at 0x7f3bf4e94a90> False\n",
      "<tensorflow.python.keras.layers.merge.Concatenate object at 0x7f3bf4e94c50> False\n",
      "<tensorflow.python.keras.layers.convolutional.Conv2D object at 0x7f3bf4e99890> False\n",
      "<tensorflow.python.keras.layers.core.Lambda object at 0x7f3bf4ea7210> False\n",
      "<tensorflow.python.keras.layers.core.Activation object at 0x7f3bf4ea9390> False\n",
      "<tensorflow.python.keras.layers.convolutional.Conv2D object at 0x7f3bf4eb1f10> False\n",
      "<tensorflow.python.keras.layers.normalization.BatchNormalization object at 0x7f3bf4eb1050> False\n",
      "<tensorflow.python.keras.layers.core.Activation object at 0x7f3bf4e43190> False\n",
      "<tensorflow.python.keras.layers.convolutional.Conv2D object at 0x7f3bf4e450d0> False\n",
      "<tensorflow.python.keras.layers.normalization.BatchNormalization object at 0x7f3bf4e45950> False\n",
      "<tensorflow.python.keras.layers.core.Activation object at 0x7f3bf4e56250> False\n",
      "<tensorflow.python.keras.layers.convolutional.Conv2D object at 0x7f3bf4ea9d50> False\n",
      "<tensorflow.python.keras.layers.convolutional.Conv2D object at 0x7f3bf4e58a50> False\n",
      "<tensorflow.python.keras.layers.normalization.BatchNormalization object at 0x7f3bf4eadb10> False\n",
      "<tensorflow.python.keras.layers.normalization.BatchNormalization object at 0x7f3bf4e58990> False\n",
      "<tensorflow.python.keras.layers.core.Activation object at 0x7f3bf4eaf690> False\n",
      "<tensorflow.python.keras.layers.core.Activation object at 0x7f3bf4e69390> False\n",
      "<tensorflow.python.keras.layers.merge.Concatenate object at 0x7f3bf4e6b610> False\n",
      "<tensorflow.python.keras.layers.convolutional.Conv2D object at 0x7f3bf4e6e250> False\n",
      "<tensorflow.python.keras.layers.core.Lambda object at 0x7f3bf4dfdf10> False\n",
      "<tensorflow.python.keras.layers.core.Activation object at 0x7f3bf4dfd950> False\n",
      "<tensorflow.python.keras.layers.convolutional.Conv2D object at 0x7f3bf4dbf590> False\n",
      "<tensorflow.python.keras.layers.normalization.BatchNormalization object at 0x7f3bf4dcea90> False\n",
      "<tensorflow.python.keras.layers.core.Activation object at 0x7f3bf4dd0fd0> False\n",
      "<tensorflow.python.keras.layers.convolutional.Conv2D object at 0x7f3bf4dfd2d0> False\n",
      "<tensorflow.python.keras.layers.convolutional.Conv2D object at 0x7f3bf4e19ed0> False\n",
      "<tensorflow.python.keras.layers.convolutional.Conv2D object at 0x7f3bf4dd0310> False\n",
      "<tensorflow.python.keras.layers.normalization.BatchNormalization object at 0x7f3bf4e01d90> False\n",
      "<tensorflow.python.keras.layers.normalization.BatchNormalization object at 0x7f3bf4e19090> False\n",
      "<tensorflow.python.keras.layers.normalization.BatchNormalization object at 0x7f3bf4dd3bd0> False\n",
      "<tensorflow.python.keras.layers.core.Activation object at 0x7f3bf4e034d0> False\n",
      "<tensorflow.python.keras.layers.core.Activation object at 0x7f3bf4e2a250> False\n",
      "<tensorflow.python.keras.layers.core.Activation object at 0x7f3bf4de4990> False\n",
      "<tensorflow.python.keras.layers.convolutional.Conv2D object at 0x7f3bf4e05450> False\n",
      "<tensorflow.python.keras.layers.convolutional.Conv2D object at 0x7f3bf4e2cc50> False\n",
      "<tensorflow.python.keras.layers.convolutional.Conv2D object at 0x7f3bf4de4350> False\n",
      "<tensorflow.python.keras.layers.normalization.BatchNormalization object at 0x7f3bf4e05110> False\n",
      "<tensorflow.python.keras.layers.normalization.BatchNormalization object at 0x7f3bf4dbbc90> False\n",
      "<tensorflow.python.keras.layers.normalization.BatchNormalization object at 0x7f3bf4d75310> False\n",
      "<tensorflow.python.keras.layers.core.Activation object at 0x7f3bf4e16610> False\n",
      "<tensorflow.python.keras.layers.core.Activation object at 0x7f3bf4dbdf50> False\n",
      "<tensorflow.python.keras.layers.core.Activation object at 0x7f3bf4d777d0> False\n",
      "<tensorflow.python.keras.layers.pooling.MaxPooling2D object at 0x7f3bf4d77750> False\n",
      "<tensorflow.python.keras.layers.merge.Concatenate object at 0x7f3bf4d79ad0> False\n",
      "<tensorflow.python.keras.layers.convolutional.Conv2D object at 0x7f3bf4d8d210> False\n",
      "<tensorflow.python.keras.layers.normalization.BatchNormalization object at 0x7f3bf4d9e150> False\n",
      "<tensorflow.python.keras.layers.core.Activation object at 0x7f3bf4da0990> False\n",
      "<tensorflow.python.keras.layers.convolutional.Conv2D object at 0x7f3bf4da0d10> False\n",
      "<tensorflow.python.keras.layers.normalization.BatchNormalization object at 0x7f3bf4db0790> False\n",
      "<tensorflow.python.keras.layers.core.Activation object at 0x7f3bf4d34650> False\n",
      "<tensorflow.python.keras.layers.convolutional.Conv2D object at 0x7f3bf4d86650> False\n",
      "<tensorflow.python.keras.layers.convolutional.Conv2D object at 0x7f3bf4d345d0> False\n",
      "<tensorflow.python.keras.layers.normalization.BatchNormalization object at 0x7f3bf4d8a3d0> False\n",
      "<tensorflow.python.keras.layers.normalization.BatchNormalization object at 0x7f3bf4d43950> False\n",
      "<tensorflow.python.keras.layers.core.Activation object at 0x7f3bf4d8df50> False\n",
      "<tensorflow.python.keras.layers.core.Activation object at 0x7f3bf4d48350> False\n",
      "<tensorflow.python.keras.layers.merge.Concatenate object at 0x7f3bf4d484d0> False\n",
      "<tensorflow.python.keras.layers.convolutional.Conv2D object at 0x7f3bf4d57890> False\n",
      "<tensorflow.python.keras.layers.core.Lambda object at 0x7f3bf4d59850> False\n",
      "<tensorflow.python.keras.layers.core.Activation object at 0x7f3bf4d5b2d0> False\n",
      "<tensorflow.python.keras.layers.convolutional.Conv2D object at 0x7f3bf4d64250> False\n",
      "<tensorflow.python.keras.layers.normalization.BatchNormalization object at 0x7f3bf4cf3b10> False\n",
      "<tensorflow.python.keras.layers.core.Activation object at 0x7f3bf4cf5fd0> False\n",
      "<tensorflow.python.keras.layers.convolutional.Conv2D object at 0x7f3bf4cf5210> False\n",
      "<tensorflow.python.keras.layers.normalization.BatchNormalization object at 0x7f3bf4cf7c50> False\n",
      "<tensorflow.python.keras.layers.core.Activation object at 0x7f3bf4d08910> False\n",
      "<tensorflow.python.keras.layers.convolutional.Conv2D object at 0x7f3bf4d5b7d0> False\n",
      "<tensorflow.python.keras.layers.convolutional.Conv2D object at 0x7f3bf4d08250> False\n",
      "<tensorflow.python.keras.layers.normalization.BatchNormalization object at 0x7f3bf4d5f790> False\n",
      "<tensorflow.python.keras.layers.normalization.BatchNormalization object at 0x7f3bf4d19090> False\n",
      "<tensorflow.python.keras.layers.core.Activation object at 0x7f3bf4d61110> False\n",
      "<tensorflow.python.keras.layers.core.Activation object at 0x7f3bf4d1b750> False\n",
      "<tensorflow.python.keras.layers.merge.Concatenate object at 0x7f3bf4d1b4d0> False\n",
      "<tensorflow.python.keras.layers.convolutional.Conv2D object at 0x7f3bf4d20f90> False\n",
      "<tensorflow.python.keras.layers.core.Lambda object at 0x7f3bf4d2dd90> False\n",
      "<tensorflow.python.keras.layers.core.Activation object at 0x7f3bf4d2f1d0> False\n",
      "<tensorflow.python.keras.layers.convolutional.Conv2D object at 0x7f3bf4cb7d90> False\n",
      "<tensorflow.python.keras.layers.normalization.BatchNormalization object at 0x7f3bf4cc6d50> False\n",
      "<tensorflow.python.keras.layers.core.Activation object at 0x7f3bf4cc90d0> False\n",
      "<tensorflow.python.keras.layers.convolutional.Conv2D object at 0x7f3bf4ccb050> False\n",
      "<tensorflow.python.keras.layers.normalization.BatchNormalization object at 0x7f3bf4ccb810> False\n",
      "<tensorflow.python.keras.layers.core.Activation object at 0x7f3bf4cdc1d0> False\n",
      "<tensorflow.python.keras.layers.convolutional.Conv2D object at 0x7f3bf4d2fc90> False\n",
      "<tensorflow.python.keras.layers.convolutional.Conv2D object at 0x7f3bf4cdcf50> False\n",
      "<tensorflow.python.keras.layers.normalization.BatchNormalization object at 0x7f3bf4cb3a50> False\n",
      "<tensorflow.python.keras.layers.normalization.BatchNormalization object at 0x7f3bf4cede50> False\n",
      "<tensorflow.python.keras.layers.core.Activation object at 0x7f3bf4cb55d0> False\n",
      "<tensorflow.python.keras.layers.core.Activation object at 0x7f3bf4cef910> False\n",
      "<tensorflow.python.keras.layers.merge.Concatenate object at 0x7f3bf4cef790> False\n",
      "<tensorflow.python.keras.layers.convolutional.Conv2D object at 0x7f3bf4c744d0> False\n",
      "<tensorflow.python.keras.layers.core.Lambda object at 0x7f3bf4c81fd0> False\n",
      "<tensorflow.python.keras.layers.core.Activation object at 0x7f3bf4c83d50> False\n",
      "<tensorflow.python.keras.layers.convolutional.Conv2D object at 0x7f3bf4c8b390> False\n",
      "<tensorflow.python.keras.layers.normalization.BatchNormalization object at 0x7f3bf4c8b0d0> False\n",
      "<tensorflow.python.keras.layers.core.Activation object at 0x7f3bf4c9c4d0> False\n",
      "<tensorflow.python.keras.layers.convolutional.Conv2D object at 0x7f3bf4c9fd90> False\n",
      "<tensorflow.python.keras.layers.normalization.BatchNormalization object at 0x7f3bf4c9f2d0> False\n",
      "<tensorflow.python.keras.layers.core.Activation object at 0x7f3bf4cb0290> False\n",
      "<tensorflow.python.keras.layers.convolutional.Conv2D object at 0x7f3bf4c85050> False\n",
      "<tensorflow.python.keras.layers.convolutional.Conv2D object at 0x7f3bf4c32a50> False\n",
      "<tensorflow.python.keras.layers.normalization.BatchNormalization object at 0x7f3bf4c87cd0> False\n",
      "<tensorflow.python.keras.layers.normalization.BatchNormalization object at 0x7f3bf4c42490> False\n",
      "<tensorflow.python.keras.layers.core.Activation object at 0x7f3bf4c89490> False\n",
      "<tensorflow.python.keras.layers.core.Activation object at 0x7f3bf4c44d90> False\n",
      "<tensorflow.python.keras.layers.merge.Concatenate object at 0x7f3bf4c46850> False\n",
      "<tensorflow.python.keras.layers.convolutional.Conv2D object at 0x7f3bf4c48450> False\n",
      "<tensorflow.python.keras.layers.core.Lambda object at 0x7f3bf4c576d0> False\n",
      "<tensorflow.python.keras.layers.core.Activation object at 0x7f3bf4c57cd0> False\n",
      "<tensorflow.python.keras.layers.convolutional.Conv2D object at 0x7f3bf4c60e90> False\n",
      "<tensorflow.python.keras.layers.normalization.BatchNormalization object at 0x7f3bf4c60710> False\n",
      "<tensorflow.python.keras.layers.core.Activation object at 0x7f3bf4c719d0> False\n",
      "<tensorflow.python.keras.layers.convolutional.Conv2D object at 0x7f3bf4bf3390> False\n",
      "<tensorflow.python.keras.layers.normalization.BatchNormalization object at 0x7f3bf4bf3b10> False\n",
      "<tensorflow.python.keras.layers.core.Activation object at 0x7f3bf4c05650> False\n",
      "<tensorflow.python.keras.layers.convolutional.Conv2D object at 0x7f3bf4c577d0> False\n",
      "<tensorflow.python.keras.layers.convolutional.Conv2D object at 0x7f3bf4c07f10> False\n",
      "<tensorflow.python.keras.layers.normalization.BatchNormalization object at 0x7f3bf4c5c2d0> False\n",
      "<tensorflow.python.keras.layers.normalization.BatchNormalization object at 0x7f3bf4c07350> False\n",
      "<tensorflow.python.keras.layers.core.Activation object at 0x7f3bf4c5e910> False\n",
      "<tensorflow.python.keras.layers.core.Activation object at 0x7f3bf4c183d0> False\n",
      "<tensorflow.python.keras.layers.merge.Concatenate object at 0x7f3bf4c1a710> False\n",
      "<tensorflow.python.keras.layers.convolutional.Conv2D object at 0x7f3bf4c1a950> False\n",
      "<tensorflow.python.keras.layers.core.Lambda object at 0x7f3bf4c2bd10> False\n",
      "<tensorflow.python.keras.layers.core.Activation object at 0x7f3bf4c2bb90> False\n",
      "<tensorflow.python.keras.layers.convolutional.Conv2D object at 0x7f3bf4bb4050> False\n",
      "<tensorflow.python.keras.layers.normalization.BatchNormalization object at 0x7f3bf4bb4c50> False\n",
      "<tensorflow.python.keras.layers.core.Activation object at 0x7f3bf4bc5850> False\n",
      "<tensorflow.python.keras.layers.convolutional.Conv2D object at 0x7f3bf4bc7ad0> False\n",
      "<tensorflow.python.keras.layers.normalization.BatchNormalization object at 0x7f3bf4bc7690> False\n",
      "<tensorflow.python.keras.layers.core.Activation object at 0x7f3bf4bd8650> False\n",
      "<tensorflow.python.keras.layers.convolutional.Conv2D object at 0x7f3bf4c2dbd0> False\n",
      "<tensorflow.python.keras.layers.convolutional.Conv2D object at 0x7f3bf4bdb410> False\n",
      "<tensorflow.python.keras.layers.normalization.BatchNormalization object at 0x7f3bf4c30790> False\n",
      "<tensorflow.python.keras.layers.normalization.BatchNormalization object at 0x7f3bf4bdb0d0> False\n",
      "<tensorflow.python.keras.layers.core.Activation object at 0x7f3bf4bb25d0> False\n",
      "<tensorflow.python.keras.layers.core.Activation object at 0x7f3bf4bec7d0> False\n",
      "<tensorflow.python.keras.layers.merge.Concatenate object at 0x7f3bf4bee210> False\n",
      "<tensorflow.python.keras.layers.convolutional.Conv2D object at 0x7f3bf4beeb50> False\n",
      "<tensorflow.python.keras.layers.core.Lambda object at 0x7f3bf4b7ffd0> False\n",
      "<tensorflow.python.keras.layers.core.Activation object at 0x7f3bf4b7f690> False\n",
      "<tensorflow.python.keras.layers.convolutional.Conv2D object at 0x7f3bf4b88950> False\n",
      "<tensorflow.python.keras.layers.normalization.BatchNormalization object at 0x7f3bf4b97ad0> False\n",
      "<tensorflow.python.keras.layers.core.Activation object at 0x7f3bf4b995d0> False\n",
      "<tensorflow.python.keras.layers.convolutional.Conv2D object at 0x7f3bf4b9b1d0> False\n",
      "<tensorflow.python.keras.layers.normalization.BatchNormalization object at 0x7f3bf4baa850> False\n",
      "<tensorflow.python.keras.layers.core.Activation object at 0x7f3bf4bac190> False\n",
      "<tensorflow.python.keras.layers.convolutional.Conv2D object at 0x7f3bf4b81b50> False\n",
      "<tensorflow.python.keras.layers.convolutional.Conv2D object at 0x7f3bf4baed50> False\n",
      "<tensorflow.python.keras.layers.normalization.BatchNormalization object at 0x7f3bf4b86b10> False\n",
      "<tensorflow.python.keras.layers.normalization.BatchNormalization object at 0x7f3bf4bae350> False\n",
      "<tensorflow.python.keras.layers.core.Activation object at 0x7f3bf4b86c10> False\n",
      "<tensorflow.python.keras.layers.core.Activation object at 0x7f3bf4b407d0> False\n",
      "<tensorflow.python.keras.layers.merge.Concatenate object at 0x7f3bf4b42a50> False\n",
      "<tensorflow.python.keras.layers.convolutional.Conv2D object at 0x7f3bf4b42650> False\n",
      "<tensorflow.python.keras.layers.core.Lambda object at 0x7f3bf4b54b10> False\n",
      "<tensorflow.python.keras.layers.core.Activation object at 0x7f3bf4b54f10> False\n",
      "<tensorflow.python.keras.layers.convolutional.Conv2D object at 0x7f3bf4b5dd90> False\n",
      "<tensorflow.python.keras.layers.normalization.BatchNormalization object at 0x7f3bf4b6ce10> False\n",
      "<tensorflow.python.keras.layers.core.Activation object at 0x7f3bf4b6eb10> False\n",
      "<tensorflow.python.keras.layers.convolutional.Conv2D object at 0x7f3bf4b70a50> False\n",
      "<tensorflow.python.keras.layers.normalization.BatchNormalization object at 0x7f3bf4affa50> False\n",
      "<tensorflow.python.keras.layers.core.Activation object at 0x7f3bf4b01750> False\n",
      "<tensorflow.python.keras.layers.convolutional.Conv2D object at 0x7f3bf4b56ad0> False\n",
      "<tensorflow.python.keras.layers.convolutional.Conv2D object at 0x7f3bf4b03690> False\n",
      "<tensorflow.python.keras.layers.normalization.BatchNormalization object at 0x7f3bf4b5aed0> False\n",
      "<tensorflow.python.keras.layers.normalization.BatchNormalization object at 0x7f3bf4b128d0> False\n",
      "<tensorflow.python.keras.layers.core.Activation object at 0x7f3bf4b5a850> False\n",
      "<tensorflow.python.keras.layers.core.Activation object at 0x7f3bf4b14410> False\n",
      "<tensorflow.python.keras.layers.merge.Concatenate object at 0x7f3bf4b17150> False\n",
      "<tensorflow.python.keras.layers.convolutional.Conv2D object at 0x7f3bf4b17650> False\n",
      "<tensorflow.python.keras.layers.core.Lambda object at 0x7f3bf4b280d0> False\n",
      "<tensorflow.python.keras.layers.core.Activation object at 0x7f3bf4b2a210> False\n",
      "<tensorflow.python.keras.layers.convolutional.Conv2D object at 0x7f3bf4b304d0> False\n",
      "<tensorflow.python.keras.layers.normalization.BatchNormalization object at 0x7f3bf4abf410> False\n",
      "<tensorflow.python.keras.layers.core.Activation object at 0x7f3bf4ac2ad0> False\n",
      "<tensorflow.python.keras.layers.convolutional.Conv2D object at 0x7f3bf4ac4f90> False\n",
      "<tensorflow.python.keras.layers.normalization.BatchNormalization object at 0x7f3bf4ad3250> False\n",
      "<tensorflow.python.keras.layers.core.Activation object at 0x7f3bf4ad5790> False\n",
      "<tensorflow.python.keras.layers.convolutional.Conv2D object at 0x7f3bf4b2af50> False\n",
      "<tensorflow.python.keras.layers.convolutional.Conv2D object at 0x7f3bf4ad74d0> False\n",
      "<tensorflow.python.keras.layers.normalization.BatchNormalization object at 0x7f3bf4b2ea90> False\n",
      "<tensorflow.python.keras.layers.normalization.BatchNormalization object at 0x7f3bf4ae6350> False\n",
      "<tensorflow.python.keras.layers.core.Activation object at 0x7f3bf4b309d0> False\n",
      "<tensorflow.python.keras.layers.core.Activation object at 0x7f3bf4ae88d0> False\n",
      "<tensorflow.python.keras.layers.merge.Concatenate object at 0x7f3bf4aea510> False\n",
      "<tensorflow.python.keras.layers.convolutional.Conv2D object at 0x7f3bf4aead10> False\n",
      "<tensorflow.python.keras.layers.core.Lambda object at 0x7f3bf4a7c610> False\n",
      "<tensorflow.python.keras.layers.core.Activation object at 0x7f3bf4a7e0d0> False\n",
      "<tensorflow.python.keras.layers.convolutional.Conv2D object at 0x7f3bf4a845d0> False\n",
      "<tensorflow.python.keras.layers.normalization.BatchNormalization object at 0x7f3bf4a93c10> False\n",
      "<tensorflow.python.keras.layers.core.Activation object at 0x7f3bf4a98710> False\n",
      "<tensorflow.python.keras.layers.convolutional.Conv2D object at 0x7f3bf4a98690> False\n",
      "<tensorflow.python.keras.layers.normalization.BatchNormalization object at 0x7f3bf4aa7610> False\n",
      "<tensorflow.python.keras.layers.core.Activation object at 0x7f3bf4aab910> False\n",
      "<tensorflow.python.keras.layers.convolutional.Conv2D object at 0x7f3bf4a7e7d0> False\n",
      "<tensorflow.python.keras.layers.convolutional.Conv2D object at 0x7f3bf4aabc90> False\n",
      "<tensorflow.python.keras.layers.normalization.BatchNormalization object at 0x7f3bf4a825d0> False\n",
      "<tensorflow.python.keras.layers.normalization.BatchNormalization object at 0x7f3bf4a3a790> False\n",
      "<tensorflow.python.keras.layers.core.Activation object at 0x7f3bf4a84650> False\n",
      "<tensorflow.python.keras.layers.core.Activation object at 0x7f3bf4a3c910> False\n",
      "<tensorflow.python.keras.layers.merge.Concatenate object at 0x7f3bf4a3e750> False\n",
      "<tensorflow.python.keras.layers.convolutional.Conv2D object at 0x7f3bf4a3e290> False\n",
      "<tensorflow.python.keras.layers.core.Lambda object at 0x7f3bf4a4fc50> False\n",
      "<tensorflow.python.keras.layers.convolutional.Conv2D object at 0x7f3bf4a53f90> True\n",
      "<tensorflow.python.keras.layers.normalization.BatchNormalization object at 0x7f3bf4a56990> True\n",
      "<tensorflow.python.keras.layers.core.Activation object at 0x7f3bf4a56310> True\n",
      "<tensorflow.python.keras.layers.pooling.GlobalAveragePooling2D object at 0x7f3bf4a59c50> True\n",
      "<tensorflow.python.keras.layers.core.Dropout object at 0x7f3bf4a59450> True\n",
      "<tensorflow.python.keras.layers.core.Dense object at 0x7f3bf4a20110> True\n"
     ]
    }
   ],
   "source": [
    "for layer in model7.layers:\n",
    "    print(layer, layer.trainable)"
   ]
  },
  {
   "cell_type": "code",
   "execution_count": 39,
   "metadata": {
    "scrolled": true
   },
   "outputs": [
    {
     "name": "stdout",
     "output_type": "stream",
     "text": [
      "Epoch 1/150\n",
      "803/804 [============================>.] - ETA: 1s - loss: 0.1508 - acc: 0.4555 - binary_crossentropy: 0.7010\n",
      "Epoch 00001: val_loss improved from inf to 0.04708, saving model to ../models/mymodels/irnv2_model7.h5\n",
      "804/804 [==============================] - 4297s 5s/step - loss: 0.1508 - acc: 0.4555 - binary_crossentropy: 0.7010 - val_loss: 0.0471 - val_acc: 0.4073 - val_binary_crossentropy: 0.6859\n",
      "Epoch 2/150\n",
      "803/804 [============================>.] - ETA: 1s - loss: 0.0826 - acc: 0.5771 - binary_crossentropy: 0.6943\n",
      "Epoch 00002: val_loss improved from 0.04708 to 0.04340, saving model to ../models/mymodels/irnv2_model7.h5\n",
      "804/804 [==============================] - 3718s 5s/step - loss: 0.0826 - acc: 0.5769 - binary_crossentropy: 0.6943 - val_loss: 0.0434 - val_acc: 0.4791 - val_binary_crossentropy: 0.6979\n",
      "Epoch 3/150\n",
      "803/804 [============================>.] - ETA: 1s - loss: 0.0759 - acc: 0.6090 - binary_crossentropy: 0.6936\n",
      "Epoch 00003: val_loss did not improve from 0.04340\n",
      "804/804 [==============================] - 3727s 5s/step - loss: 0.0759 - acc: 0.6087 - binary_crossentropy: 0.6936 - val_loss: 0.0583 - val_acc: 0.9444 - val_binary_crossentropy: 0.7405\n",
      "Epoch 4/150\n",
      "803/804 [============================>.] - ETA: 1s - loss: 0.0730 - acc: 0.6277 - binary_crossentropy: 0.6936\n",
      "Epoch 00004: val_loss improved from 0.04340 to 0.04284, saving model to ../models/mymodels/irnv2_model7.h5\n",
      "804/804 [==============================] - 3726s 5s/step - loss: 0.0730 - acc: 0.6274 - binary_crossentropy: 0.6936 - val_loss: 0.0428 - val_acc: 0.7253 - val_binary_crossentropy: 0.7117\n",
      "Epoch 5/150\n",
      "803/804 [============================>.] - ETA: 1s - loss: 0.0722 - acc: 0.6392 - binary_crossentropy: 0.6931\n",
      "Epoch 00005: val_loss did not improve from 0.04284\n",
      "804/804 [==============================] - 3732s 5s/step - loss: 0.0722 - acc: 0.6395 - binary_crossentropy: 0.6931 - val_loss: 0.0431 - val_acc: 0.5131 - val_binary_crossentropy: 0.6945\n",
      "Epoch 6/150\n",
      "803/804 [============================>.] - ETA: 1s - loss: 0.0703 - acc: 0.6445 - binary_crossentropy: 0.6920\n",
      "Epoch 00006: val_loss improved from 0.04284 to 0.03989, saving model to ../models/mymodels/irnv2_model7.h5\n",
      "804/804 [==============================] - 3739s 5s/step - loss: 0.0703 - acc: 0.6449 - binary_crossentropy: 0.6920 - val_loss: 0.0399 - val_acc: 0.8634 - val_binary_crossentropy: 0.6961\n",
      "Epoch 7/150\n",
      "803/804 [============================>.] - ETA: 1s - loss: 0.0684 - acc: 0.6598 - binary_crossentropy: 0.6917\n",
      "Epoch 00007: val_loss did not improve from 0.03989\n",
      "804/804 [==============================] - 3729s 5s/step - loss: 0.0684 - acc: 0.6600 - binary_crossentropy: 0.6917 - val_loss: 0.0451 - val_acc: 0.4675 - val_binary_crossentropy: 0.6971\n",
      "Epoch 8/150\n",
      "803/804 [============================>.] - ETA: 1s - loss: 0.0670 - acc: 0.6670 - binary_crossentropy: 0.6907\n",
      "Epoch 00008: val_loss did not improve from 0.03989\n",
      "804/804 [==============================] - 3734s 5s/step - loss: 0.0669 - acc: 0.6670 - binary_crossentropy: 0.6907 - val_loss: 0.0412 - val_acc: 0.6814 - val_binary_crossentropy: 0.7044\n",
      "Epoch 9/150\n",
      "803/804 [============================>.] - ETA: 1s - loss: 0.0649 - acc: 0.6712 - binary_crossentropy: 0.6902\n",
      "Epoch 00009: val_loss did not improve from 0.03989\n",
      "804/804 [==============================] - 3732s 5s/step - loss: 0.0649 - acc: 0.6714 - binary_crossentropy: 0.6902 - val_loss: 0.0405 - val_acc: 0.5708 - val_binary_crossentropy: 0.6889\n",
      "Epoch 10/150\n",
      "803/804 [============================>.] - ETA: 1s - loss: 0.0650 - acc: 0.6831 - binary_crossentropy: 0.6894\n",
      "Epoch 00010: val_loss did not improve from 0.03989\n",
      "804/804 [==============================] - 3724s 5s/step - loss: 0.0650 - acc: 0.6829 - binary_crossentropy: 0.6894 - val_loss: 0.0439 - val_acc: 0.7763 - val_binary_crossentropy: 0.7034\n",
      "Epoch 11/150\n",
      "803/804 [============================>.] - ETA: 1s - loss: 0.0654 - acc: 0.6943 - binary_crossentropy: 0.6885\n",
      "Epoch 00011: val_loss did not improve from 0.03989\n",
      "804/804 [==============================] - 3738s 5s/step - loss: 0.0653 - acc: 0.6941 - binary_crossentropy: 0.6885 - val_loss: 0.0546 - val_acc: 0.9031 - val_binary_crossentropy: 0.7199\n",
      "\n"
     ]
    }
   ],
   "source": [
    "model7.compile(optimizer ='adam', \n",
    "                  loss =[focal_loss],\n",
    "                  metrics = ['acc', 'binary_crossentropy'])\n",
    "\n",
    "my_callbacks = [EarlyStopping(monitor='val_loss', patience=5),\n",
    "             ModelCheckpoint(filepath='../models/mymodels/irnv2_model7.h5', monitor='val_loss', save_best_only=True, verbose=1)]\n",
    "\n",
    "model_7_history = model7.fit_generator(generator = data_generator_train,\n",
    "                        validation_data = data_generator_val,\n",
    "                        steps_per_epoch = 804,\n",
    "                        epochs = 150,\n",
    "                        callbacks = my_callbacks,\n",
    "                        verbose = 1,\n",
    "                                      use_multiprocessing =True,\n",
    "                                      workers =12)\n",
    "    "
   ]
  },
  {
   "cell_type": "code",
   "execution_count": 93,
   "metadata": {},
   "outputs": [
    {
     "name": "stdout",
     "output_type": "stream",
     "text": [
      "24247/24247 [==============================] - 5052s 208ms/step\n"
     ]
    }
   ],
   "source": [
    "preds_model7 = model7.predict_generator(TestDataGenerator(test_df, None, 5, SHAPE, path_test_data), verbose = 1)\n"
   ]
  },
  {
   "cell_type": "code",
   "execution_count": 142,
   "metadata": {},
   "outputs": [
    {
     "data": {
      "image/png": "[encoded data removed]",
      "text/plain": [
       "<Figure size 864x576 with 1 Axes>"
      ]
     },
     "metadata": {
      "needs_background": "light"
     },
     "output_type": "display_data"
    }
   ],
   "source": [
    "train_loss = model_7_history.history['loss']\n",
    "val_loss = model_7_history.history['val_loss']\n",
    "\n",
    "plt.figure(figsize = (12,8))\n",
    "\n",
    "plt.plot(train_loss, label = 'training_loss', color = 'b')\n",
    "plt.plot(val_loss, label = 'val_loss', color = 'orange')\n",
    "\n",
    "plt.title('Any Label Training and Validation Loss by Epochs')\n",
    "plt.xlabel('Epochs')\n",
    "plt.ylabel('weighted_log_loss')\n",
    "plt.legend();"
   ]
  },
  {
   "cell_type": "code",
   "execution_count": 122,
   "metadata": {},
   "outputs": [],
   "source": [
    "preds7_clipped = np.clip(preds_model7,1e-15,1-1e-15)"
   ]
  },
  {
   "cell_type": "code",
   "execution_count": 97,
   "metadata": {},
   "outputs": [
    {
     "data": {
      "text/plain": [
       "(727392, 2)"
      ]
     },
     "execution_count": 97,
     "metadata": {},
     "output_type": "execute_result"
    }
   ],
   "source": [
    "test_meta_df.shape"
   ]
  },
  {
   "cell_type": "code",
   "execution_count": 130,
   "metadata": {},
   "outputs": [],
   "source": [
    "preds_model = preds7_clipped[:test_df.iloc[range(test_df.shape[0])].shape[0]]"
   ]
  },
  {
   "cell_type": "code",
   "execution_count": 123,
   "metadata": {},
   "outputs": [
    {
     "data": {
      "text/plain": [
       "array([[0.56719196, 0.4997375 , 0.5170732 , 0.49547917, 0.52442425,\n",
       "        0.517204  ],\n",
       "       [0.59258527, 0.49784258, 0.495399  , 0.51428443, 0.51590055,\n",
       "        0.55965865],\n",
       "       [0.567464  , 0.4947933 , 0.48957896, 0.5529076 , 0.51776445,\n",
       "        0.5191355 ],\n",
       "       ...,\n",
       "       [0.61323017, 0.49924245, 0.53085005, 0.48268512, 0.5355304 ,\n",
       "        0.52901864],\n",
       "       [0.5614074 , 0.4932659 , 0.489189  , 0.5262945 , 0.55136186,\n",
       "        0.5185274 ],\n",
       "       [0.57209456, 0.5001353 , 0.4963876 , 0.5025877 , 0.52583146,\n",
       "        0.53368926]], dtype=float32)"
      ]
     },
     "execution_count": 123,
     "metadata": {},
     "output_type": "execute_result"
    }
   ],
   "source": [
    "preds7_clipped"
   ]
  },
  {
   "cell_type": "code",
   "execution_count": 133,
   "metadata": {},
   "outputs": [
    {
     "data": {
      "text/plain": [
       "(121232, 6)"
      ]
     },
     "execution_count": 133,
     "metadata": {},
     "output_type": "execute_result"
    }
   ],
   "source": [
    "preds_model.shape"
   ]
  },
  {
   "cell_type": "code",
   "execution_count": 55,
   "metadata": {},
   "outputs": [
    {
     "data": {
      "text/plain": [
       "(727392, 2)"
      ]
     },
     "execution_count": 55,
     "metadata": {},
     "output_type": "execute_result"
    }
   ],
   "source": [
    "test_meta_df.shape"
   ]
  },
  {
   "cell_type": "code",
   "execution_count": 132,
   "metadata": {},
   "outputs": [
    {
     "data": {
      "text/plain": [
       "(121232, 6)"
      ]
     },
     "execution_count": 132,
     "metadata": {},
     "output_type": "execute_result"
    }
   ],
   "source": [
    "test_df.shape"
   ]
  },
  {
   "cell_type": "code",
   "execution_count": 134,
   "metadata": {},
   "outputs": [],
   "source": [
    "test_df.iloc[:, :] = preds_model\n",
    "test_df = test_df.stack().reset_index()\n",
    "\n"
   ]
  },
  {
   "cell_type": "code",
   "execution_count": 135,
   "metadata": {},
   "outputs": [],
   "source": [
    "test_df.insert(loc = 0, column = 'ID', value = test_df['id'].astype(str) + \"_\" + test_df['subtype'])\n"
   ]
  },
  {
   "cell_type": "code",
   "execution_count": 136,
   "metadata": {},
   "outputs": [],
   "source": [
    "test_df = test_df.drop([\"id\", \"subtype\"], axis=1)\n",
    "\n"
   ]
  },
  {
   "cell_type": "code",
   "execution_count": 137,
   "metadata": {},
   "outputs": [],
   "source": [
    "test_df.columns = ['ID', 'Label']"
   ]
  },
  {
   "cell_type": "code",
   "execution_count": 138,
   "metadata": {},
   "outputs": [
    {
     "data": {
      "text/html": [
       "<div>\n",
       "<style scoped>\n",
       "    .dataframe tbody tr th:only-of-type {\n",
       "        vertical-align: middle;\n",
       "    }\n",
       "\n",
       "    .dataframe tbody tr th {\n",
       "        vertical-align: top;\n",
       "    }\n",
       "\n",
       "    .dataframe thead th {\n",
       "        text-align: right;\n",
       "    }\n",
       "</style>\n",
       "<table border=\"1\" class=\"dataframe\">\n",
       "  <thead>\n",
       "    <tr style=\"text-align: right;\">\n",
       "      <th></th>\n",
       "      <th>ID</th>\n",
       "      <th>Label</th>\n",
       "    </tr>\n",
       "  </thead>\n",
       "  <tbody>\n",
       "    <tr>\n",
       "      <th>0</th>\n",
       "      <td>ID_000000e27_any</td>\n",
       "      <td>0.567192</td>\n",
       "    </tr>\n",
       "    <tr>\n",
       "      <th>1</th>\n",
       "      <td>ID_000000e27_epidural</td>\n",
       "      <td>0.499738</td>\n",
       "    </tr>\n",
       "    <tr>\n",
       "      <th>2</th>\n",
       "      <td>ID_000000e27_intraparenchymal</td>\n",
       "      <td>0.517073</td>\n",
       "    </tr>\n",
       "    <tr>\n",
       "      <th>3</th>\n",
       "      <td>ID_000000e27_intraventricular</td>\n",
       "      <td>0.495479</td>\n",
       "    </tr>\n",
       "    <tr>\n",
       "      <th>4</th>\n",
       "      <td>ID_000000e27_subarachnoid</td>\n",
       "      <td>0.524424</td>\n",
       "    </tr>\n",
       "  </tbody>\n",
       "</table>\n",
       "</div>"
      ],
      "text/plain": [
       "                              ID     Label\n",
       "0               ID_000000e27_any  0.567192\n",
       "1          ID_000000e27_epidural  0.499738\n",
       "2  ID_000000e27_intraparenchymal  0.517073\n",
       "3  ID_000000e27_intraventricular  0.495479\n",
       "4      ID_000000e27_subarachnoid  0.524424"
      ]
     },
     "execution_count": 138,
     "metadata": {},
     "output_type": "execute_result"
    }
   ],
   "source": [
    "test_df.head()"
   ]
  },
  {
   "cell_type": "code",
   "execution_count": 140,
   "metadata": {},
   "outputs": [],
   "source": [
    "test_df.to_csv('../data/output/submissions/model_7_nottrainable_clipped.csv', index = False)"
   ]
  }
 ],
 "metadata": {
  "accelerator": "GPU",
  "colab": {
   "collapsed_sections": [],
   "name": "Resize dataset.ipynb",
   "provenance": [],
   "toc_visible": true
  },
  "kernelspec": {
   "display_name": "Python 3",
   "language": "python",
   "name": "python3"
  },
  "language_info": {
   "codemirror_mode": {
    "name": "ipython",
    "version": 3
   },
   "file_extension": ".py",
   "mimetype": "text/x-python",
   "name": "python",
   "nbconvert_exporter": "python",
   "pygments_lexer": "ipython3",
   "version": "3.7.4"
  }
 },
 "nbformat": 4,
 "nbformat_minor": 1
}
