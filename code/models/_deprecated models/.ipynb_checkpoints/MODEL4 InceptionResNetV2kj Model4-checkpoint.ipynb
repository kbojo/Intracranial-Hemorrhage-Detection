{
 "cells": [
  {
   "cell_type": "markdown",
   "metadata": {
    "colab_type": "text",
    "id": "FakRWDPtXfXs"
   },
   "source": [
    "#  Intracranial Hemorrhage Detection\n",
    "\n",
    "## Model 4\n",
    "\n",
    "#### Kristina Joos\n",
    "\n",
    "---   \n",
    "\n",
    "|                 \t|                                                        \t|\n",
    "|:----------------:\t|:-------------------------------------------------------:\t|\n",
    "| Model           \t|InceptionResNetV2, trainable=True                          |\n",
    "| Augmentation      |Fliplr(0.25),Flipud(0.10),Crop(px=(0, 25)(in25% of images) |\n",
    "| Windowing         |BSS windows                                              \t|\n",
    "| Class Balancing \t|Oversampling                                           \t|\n",
    "| Loss Function   \t|Binary_crossentropy                                      \t|\n",
    "| Regularization  \t|Early Stopping, Drop Out Layers 0.3 \t                    |\n",
    "| Epochs Run      \t|  3                                                      \t|\n",
    "| Time Run (min)   \t|                                                       \t|\n",
    "|                 \t|                                                       \t|\n",
    "| Train Sores      \t| Accuracy:0.9635 Loss: 0.1031                              |\n",
    "| Validation      \t| Accuracy: 0.9693 Loss:  0.0868                           \t|\n",
    "| Leader Board    \t| Score: 0.42592 Rank: 405/1354 (30%)                      \t|\n",
    "\n"
   ]
  },
  {
   "cell_type": "code",
   "execution_count": 25,
   "metadata": {
    "colab": {
     "base_uri": "https://localhost:8080/",
     "height": 52
    },
    "colab_type": "code",
    "id": "LrHBOVyYUJZa",
    "outputId": "380731b0-eaf6-4fe6-eb93-914968082819"
   },
   "outputs": [],
   "source": [
    "import numpy as np\n",
    "import pandas as pd\n",
    "import pydicom\n",
    "import os\n",
    "import collections\n",
    "import sys\n",
    "import glob\n",
    "import PIL\n",
    "import random\n",
    "import cv2\n",
    "import tensorflow as tf\n",
    "import multiprocessing\n",
    "\n",
    "from math import ceil, floor\n",
    "from copy import deepcopy\n",
    "from tqdm import tqdm\n",
    "from imgaug import augmenters as iaa\n",
    "\n",
    "import tensorflow.keras\n",
    "import tensorflow.keras.backend as K\n",
    "from tensorflow.keras.callbacks import Callback, ModelCheckpoint\n",
    "from tensorflow.keras.layers import Dense, Flatten, Dropout\n",
    "from tensorflow.keras.models import Model, load_model\n",
    "from tensorflow.keras.utils import Sequence\n",
    "from tensorflow.keras.losses import binary_crossentropy\n",
    "from tensorflow.keras.optimizers import Adam\n",
    "import glob\n",
    "import os\n",
    "from iterstrat.ml_stratifiers import MultilabelStratifiedShuffleSplit"
   ]
  },
  {
   "cell_type": "markdown",
   "metadata": {
    "colab_type": "text",
    "id": "gqo9cUAiU6Eo"
   },
   "source": [
    "# Get images path"
   ]
  },
  {
   "cell_type": "code",
   "execution_count": 3,
   "metadata": {
    "colab": {
     "base_uri": "https://localhost:8080/",
     "height": 35
    },
    "colab_type": "code",
    "id": "7FsLeV_iYjdM",
    "outputId": "0682460a-af28-472f-9150-b682455f71e3"
   },
   "outputs": [
    {
     "data": {
      "text/plain": [
       "(752803, 121232)"
      ]
     },
     "execution_count": 3,
     "metadata": {},
     "output_type": "execute_result"
    }
   ],
   "source": [
    "train_dir = '../data/input/rsna-intracranial-hemorrhage-detection/stage_2_train/'\n",
    "train_paths = glob.glob(f\"{train_dir}/*.dcm\")\n",
    "test_dir = '../data/input/rsna-intracranial-hemorrhage-detection/stage_2_test/'\n",
    "test_paths = glob.glob(f\"{test_dir}/*.dcm\")\n",
    "len(train_paths), len(test_paths)"
   ]
  },
  {
   "cell_type": "markdown",
   "metadata": {},
   "source": [
    "## Setup"
   ]
  },
  {
   "cell_type": "code",
   "execution_count": 5,
   "metadata": {
    "colab": {},
    "colab_type": "code",
    "id": "MciWRND6Iv5_"
   },
   "outputs": [],
   "source": [
    "\n",
    "np.random.seed(11)\n",
    "\n",
    "\n",
    "# Constants\n",
    "TEST_SIZE = 0.15\n",
    "HEIGHT = 299\n",
    "WIDTH = 299\n",
    "CHANNELS = 3\n",
    "TRAIN_BATCH_SIZE = 32\n",
    "VALID_BATCH_SIZE = 16\n",
    "SHAPE = (HEIGHT, WIDTH, CHANNELS)\n",
    "\n",
    "# Folders\n",
    "#DATA_DIR = '/kaggle/input/rsna-intracranial-hemorrhage-detection/'\n",
    "TEST_IMAGES_DIR = test_dir\n",
    "TRAIN_IMAGES_DIR = train_dir"
   ]
  },
  {
   "cell_type": "markdown",
   "metadata": {},
   "source": [
    "## Preprocessing "
   ]
  },
  {
   "cell_type": "code",
   "execution_count": 6,
   "metadata": {
    "colab": {},
    "colab_type": "code",
    "id": "sMnLIunV7Yox"
   },
   "outputs": [],
   "source": [
    "def correct_dcm(dcm):\n",
    "    x = dcm.pixel_array + 1000\n",
    "    px_mode = 4096\n",
    "    x[x>=px_mode] = x[x>=px_mode] - px_mode\n",
    "    dcm.PixelData = x.tobytes()\n",
    "    dcm.RescaleIntercept = -1000\n",
    "\n",
    "def window_image(dcm, window_center, window_width):    \n",
    "    if (dcm.BitsStored == 12) and (dcm.PixelRepresentation == 0) and (int(dcm.RescaleIntercept) > -100):\n",
    "        correct_dcm(dcm)\n",
    "    img = dcm.pixel_array * dcm.RescaleSlope + dcm.RescaleIntercept\n",
    "    \n",
    "    # Resize\n",
    "    img = cv2.resize(img, SHAPE[:2], interpolation = cv2.INTER_LINEAR)\n",
    "   \n",
    "    img_min = window_center - window_width // 2\n",
    "    img_max = window_center + window_width // 2\n",
    "    img = np.clip(img, img_min, img_max)\n",
    "    return img\n",
    "\n",
    "def bsb_window(dcm):\n",
    "    brain_img = window_image(dcm, 40, 80)\n",
    "    subdural_img = window_image(dcm, 80, 200)\n",
    "    soft_img = window_image(dcm, 40, 380)\n",
    "    \n",
    "    brain_img = (brain_img - 0) / 80\n",
    "    subdural_img = (subdural_img - (-20)) / 200\n",
    "    soft_img = (soft_img - (-150)) / 380\n",
    "    bsb_img = np.array([brain_img, subdural_img, soft_img]).transpose(1,2,0)\n",
    "    return bsb_img\n",
    "\n",
    "def _read(path, SHAPE):\n",
    "    dcm = pydicom.dcmread(path)\n",
    "    try:\n",
    "        img = bsb_window(dcm)\n",
    "    except:\n",
    "        img = np.zeros(SHAPE)\n",
    "    return img"
   ]
  },
  {
   "cell_type": "code",
   "execution_count": 12,
   "metadata": {
    "colab": {},
    "colab_type": "code",
    "id": "GsyuE1lZ7Ygs"
   },
   "outputs": [],
   "source": [
    "# Image Augmentation\n",
    "sometimes = lambda aug: iaa.Sometimes(0.25, aug)\n",
    "augmentation = iaa.Sequential([ iaa.Fliplr(0.25),\n",
    "                                iaa.Flipud(0.10),\n",
    "                                sometimes(iaa.Crop(px=(0, 25), keep_size = True, sample_independently = False))   \n",
    "                            ], random_order = True)       \n",
    "        \n",
    "# Generators\n",
    "class TrainDataGenerator(Sequence):\n",
    "    def __init__(self, dataset, labels, batch_size = 16, img_size = SHAPE, img_dir = TRAIN_IMAGES_DIR, augment = False, *args, **kwargs):\n",
    "        self.dataset = dataset\n",
    "        self.ids = dataset.index\n",
    "        self.labels = labels\n",
    "        self.batch_size = batch_size\n",
    "        self.img_size = img_size\n",
    "        self.img_dir = train_dir\n",
    "        self.augment = augment\n",
    "        self.on_epoch_end()\n",
    "\n",
    "    def __len__(self):\n",
    "        return int(ceil(len(self.ids) / self.batch_size))\n",
    "\n",
    "    def __getitem__(self, index):\n",
    "        indices = self.indices[index*self.batch_size:(index+1)*self.batch_size]\n",
    "        X, Y = self.__data_generation(indices)\n",
    "        return X, Y\n",
    "\n",
    "    def augmentor(self, image):\n",
    "        augment_img = augmentation        \n",
    "        image_aug = augment_img.augment_image(image)\n",
    "        return image_aug\n",
    "\n",
    "    def on_epoch_end(self):\n",
    "        self.indices = np.arange(len(self.ids))\n",
    "        np.random.shuffle(self.indices)\n",
    "\n",
    "    def __data_generation(self, indices):\n",
    "        X = np.empty((self.batch_size, *self.img_size))\n",
    "        Y = np.empty((self.batch_size, 6), dtype=np.float32)\n",
    "        \n",
    "        for i, index in enumerate(indices):\n",
    "            ID = self.ids[index]\n",
    "            image = _read(self.img_dir+ID+\".dcm\", self.img_size)########\n",
    "            if self.augment:\n",
    "                X[i,] = self.augmentor(image)\n",
    "            else:\n",
    "                X[i,] = image\n",
    "            Y[i,] = self.labels.iloc[index].values        \n",
    "        return X, Y\n",
    "    \n",
    "class TestDataGenerator(Sequence):\n",
    "    def __init__(self, dataset, labels, batch_size = 16, img_size = SHAPE, img_dir = TEST_IMAGES_DIR, *args, **kwargs):\n",
    "        self.dataset = dataset\n",
    "        self.ids = dataset.index\n",
    "        self.labels = labels\n",
    "        self.batch_size = batch_size\n",
    "        self.img_size = img_size\n",
    "        self.img_dir = test_dir\n",
    "        self.on_epoch_end()\n",
    "\n",
    "    def __len__(self):\n",
    "        return int(ceil(len(self.ids) / self.batch_size))\n",
    "\n",
    "    def __getitem__(self, index):\n",
    "        indices = self.indices[index*self.batch_size:(index+1)*self.batch_size]\n",
    "        X = self.__data_generation(indices)\n",
    "        return X\n",
    "\n",
    "    def on_epoch_end(self):\n",
    "        self.indices = np.arange(len(self.ids))\n",
    "    \n",
    "    def __data_generation(self, indices):\n",
    "        X = np.empty((self.batch_size, *self.img_size))\n",
    "        \n",
    "        for i, index in enumerate(indices):\n",
    "            ID = self.ids[index]\n",
    "            image = _read(self.img_dir+ID+\".dcm\", self.img_size)########\n",
    "            X[i,] = image              \n",
    "        return X"
   ]
  },
  {
   "cell_type": "code",
   "execution_count": 13,
   "metadata": {
    "colab": {},
    "colab_type": "code",
    "id": "S76bWDBKNIfd"
   },
   "outputs": [
    {
     "data": {
      "text/html": [
       "<div>\n",
       "<style scoped>\n",
       "    .dataframe tbody tr th:only-of-type {\n",
       "        vertical-align: middle;\n",
       "    }\n",
       "\n",
       "    .dataframe tbody tr th {\n",
       "        vertical-align: top;\n",
       "    }\n",
       "\n",
       "    .dataframe thead th {\n",
       "        text-align: right;\n",
       "    }\n",
       "</style>\n",
       "<table border=\"1\" class=\"dataframe\">\n",
       "  <thead>\n",
       "    <tr style=\"text-align: right;\">\n",
       "      <th></th>\n",
       "      <th>ID</th>\n",
       "      <th>Label</th>\n",
       "    </tr>\n",
       "  </thead>\n",
       "  <tbody>\n",
       "    <tr>\n",
       "      <th>0</th>\n",
       "      <td>ID_12cadc6af_epidural</td>\n",
       "      <td>0</td>\n",
       "    </tr>\n",
       "    <tr>\n",
       "      <th>1</th>\n",
       "      <td>ID_12cadc6af_intraparenchymal</td>\n",
       "      <td>0</td>\n",
       "    </tr>\n",
       "    <tr>\n",
       "      <th>2</th>\n",
       "      <td>ID_12cadc6af_intraventricular</td>\n",
       "      <td>0</td>\n",
       "    </tr>\n",
       "    <tr>\n",
       "      <th>3</th>\n",
       "      <td>ID_12cadc6af_subarachnoid</td>\n",
       "      <td>0</td>\n",
       "    </tr>\n",
       "    <tr>\n",
       "      <th>4</th>\n",
       "      <td>ID_12cadc6af_subdural</td>\n",
       "      <td>0</td>\n",
       "    </tr>\n",
       "  </tbody>\n",
       "</table>\n",
       "</div>"
      ],
      "text/plain": [
       "                              ID  Label\n",
       "0          ID_12cadc6af_epidural      0\n",
       "1  ID_12cadc6af_intraparenchymal      0\n",
       "2  ID_12cadc6af_intraventricular      0\n",
       "3      ID_12cadc6af_subarachnoid      0\n",
       "4          ID_12cadc6af_subdural      0"
      ]
     },
     "execution_count": 13,
     "metadata": {},
     "output_type": "execute_result"
    }
   ],
   "source": [
    "a = pd.read_csv('../data/input/rsna-intracranial-hemorrhage-detection/stage_2_train.csv')\n",
    "a.head()"
   ]
  },
  {
   "cell_type": "code",
   "execution_count": 14,
   "metadata": {
    "colab": {},
    "colab_type": "code",
    "id": "j4ckrlFOQWD3"
   },
   "outputs": [],
   "source": [
    "df_bigdata_duplicates = a[a.duplicated()]"
   ]
  },
  {
   "cell_type": "code",
   "execution_count": 15,
   "metadata": {
    "colab": {},
    "colab_type": "code",
    "id": "FVGQ2i1dQjYB"
   },
   "outputs": [
    {
     "data": {
      "text/plain": [
       "(4516842, 2)"
      ]
     },
     "execution_count": 15,
     "metadata": {},
     "output_type": "execute_result"
    }
   ],
   "source": [
    "a.shape"
   ]
  },
  {
   "cell_type": "code",
   "execution_count": 16,
   "metadata": {
    "colab": {},
    "colab_type": "code",
    "id": "YN8xXshxQnxt"
   },
   "outputs": [
    {
     "data": {
      "text/html": [
       "<div>\n",
       "<style scoped>\n",
       "    .dataframe tbody tr th:only-of-type {\n",
       "        vertical-align: middle;\n",
       "    }\n",
       "\n",
       "    .dataframe tbody tr th {\n",
       "        vertical-align: top;\n",
       "    }\n",
       "\n",
       "    .dataframe thead th {\n",
       "        text-align: right;\n",
       "    }\n",
       "</style>\n",
       "<table border=\"1\" class=\"dataframe\">\n",
       "  <thead>\n",
       "    <tr style=\"text-align: right;\">\n",
       "      <th></th>\n",
       "      <th>ID</th>\n",
       "      <th>Label</th>\n",
       "    </tr>\n",
       "  </thead>\n",
       "  <tbody>\n",
       "    <tr>\n",
       "      <th>56346</th>\n",
       "      <td>ID_a64d5deed_epidural</td>\n",
       "      <td>0</td>\n",
       "    </tr>\n",
       "    <tr>\n",
       "      <th>56347</th>\n",
       "      <td>ID_a64d5deed_intraparenchymal</td>\n",
       "      <td>0</td>\n",
       "    </tr>\n",
       "    <tr>\n",
       "      <th>56348</th>\n",
       "      <td>ID_a64d5deed_intraventricular</td>\n",
       "      <td>0</td>\n",
       "    </tr>\n",
       "    <tr>\n",
       "      <th>56349</th>\n",
       "      <td>ID_a64d5deed_subarachnoid</td>\n",
       "      <td>0</td>\n",
       "    </tr>\n",
       "    <tr>\n",
       "      <th>56350</th>\n",
       "      <td>ID_a64d5deed_subdural</td>\n",
       "      <td>0</td>\n",
       "    </tr>\n",
       "    <tr>\n",
       "      <th>56351</th>\n",
       "      <td>ID_a64d5deed_any</td>\n",
       "      <td>0</td>\n",
       "    </tr>\n",
       "    <tr>\n",
       "      <th>1171830</th>\n",
       "      <td>ID_854fba667_epidural</td>\n",
       "      <td>0</td>\n",
       "    </tr>\n",
       "    <tr>\n",
       "      <th>1171831</th>\n",
       "      <td>ID_854fba667_intraparenchymal</td>\n",
       "      <td>0</td>\n",
       "    </tr>\n",
       "    <tr>\n",
       "      <th>1171832</th>\n",
       "      <td>ID_854fba667_intraventricular</td>\n",
       "      <td>0</td>\n",
       "    </tr>\n",
       "    <tr>\n",
       "      <th>1171833</th>\n",
       "      <td>ID_854fba667_subarachnoid</td>\n",
       "      <td>0</td>\n",
       "    </tr>\n",
       "    <tr>\n",
       "      <th>1171834</th>\n",
       "      <td>ID_854fba667_subdural</td>\n",
       "      <td>0</td>\n",
       "    </tr>\n",
       "    <tr>\n",
       "      <th>1171835</th>\n",
       "      <td>ID_854fba667_any</td>\n",
       "      <td>0</td>\n",
       "    </tr>\n",
       "    <tr>\n",
       "      <th>3705312</th>\n",
       "      <td>ID_489ae4179_epidural</td>\n",
       "      <td>0</td>\n",
       "    </tr>\n",
       "    <tr>\n",
       "      <th>3705313</th>\n",
       "      <td>ID_489ae4179_intraparenchymal</td>\n",
       "      <td>0</td>\n",
       "    </tr>\n",
       "    <tr>\n",
       "      <th>3705314</th>\n",
       "      <td>ID_489ae4179_intraventricular</td>\n",
       "      <td>0</td>\n",
       "    </tr>\n",
       "    <tr>\n",
       "      <th>3705315</th>\n",
       "      <td>ID_489ae4179_subarachnoid</td>\n",
       "      <td>0</td>\n",
       "    </tr>\n",
       "    <tr>\n",
       "      <th>3705316</th>\n",
       "      <td>ID_489ae4179_subdural</td>\n",
       "      <td>0</td>\n",
       "    </tr>\n",
       "    <tr>\n",
       "      <th>3705317</th>\n",
       "      <td>ID_489ae4179_any</td>\n",
       "      <td>0</td>\n",
       "    </tr>\n",
       "    <tr>\n",
       "      <th>3842478</th>\n",
       "      <td>ID_921490062_epidural</td>\n",
       "      <td>0</td>\n",
       "    </tr>\n",
       "    <tr>\n",
       "      <th>3842479</th>\n",
       "      <td>ID_921490062_intraparenchymal</td>\n",
       "      <td>0</td>\n",
       "    </tr>\n",
       "    <tr>\n",
       "      <th>3842480</th>\n",
       "      <td>ID_921490062_intraventricular</td>\n",
       "      <td>0</td>\n",
       "    </tr>\n",
       "    <tr>\n",
       "      <th>3842481</th>\n",
       "      <td>ID_921490062_subarachnoid</td>\n",
       "      <td>0</td>\n",
       "    </tr>\n",
       "    <tr>\n",
       "      <th>3842482</th>\n",
       "      <td>ID_921490062_subdural</td>\n",
       "      <td>0</td>\n",
       "    </tr>\n",
       "    <tr>\n",
       "      <th>3842483</th>\n",
       "      <td>ID_921490062_any</td>\n",
       "      <td>0</td>\n",
       "    </tr>\n",
       "  </tbody>\n",
       "</table>\n",
       "</div>"
      ],
      "text/plain": [
       "                                    ID  Label\n",
       "56346            ID_a64d5deed_epidural      0\n",
       "56347    ID_a64d5deed_intraparenchymal      0\n",
       "56348    ID_a64d5deed_intraventricular      0\n",
       "56349        ID_a64d5deed_subarachnoid      0\n",
       "56350            ID_a64d5deed_subdural      0\n",
       "56351                 ID_a64d5deed_any      0\n",
       "1171830          ID_854fba667_epidural      0\n",
       "1171831  ID_854fba667_intraparenchymal      0\n",
       "1171832  ID_854fba667_intraventricular      0\n",
       "1171833      ID_854fba667_subarachnoid      0\n",
       "1171834          ID_854fba667_subdural      0\n",
       "1171835               ID_854fba667_any      0\n",
       "3705312          ID_489ae4179_epidural      0\n",
       "3705313  ID_489ae4179_intraparenchymal      0\n",
       "3705314  ID_489ae4179_intraventricular      0\n",
       "3705315      ID_489ae4179_subarachnoid      0\n",
       "3705316          ID_489ae4179_subdural      0\n",
       "3705317               ID_489ae4179_any      0\n",
       "3842478          ID_921490062_epidural      0\n",
       "3842479  ID_921490062_intraparenchymal      0\n",
       "3842480  ID_921490062_intraventricular      0\n",
       "3842481      ID_921490062_subarachnoid      0\n",
       "3842482          ID_921490062_subdural      0\n",
       "3842483               ID_921490062_any      0"
      ]
     },
     "execution_count": 16,
     "metadata": {},
     "output_type": "execute_result"
    }
   ],
   "source": [
    "df_bigdata_duplicates"
   ]
  },
  {
   "cell_type": "code",
   "execution_count": 17,
   "metadata": {
    "colab": {},
    "colab_type": "code",
    "id": "fddS33gm7Yed"
   },
   "outputs": [],
   "source": [
    "def read_testset(filename = '../data/input/rsna-intracranial-hemorrhage-detection/stage_2_sample_submission.csv'):\n",
    "    df = pd.read_csv(filename)\n",
    "    df[\"Image\"] = df[\"ID\"].str.slice(stop=12)\n",
    "    df[\"Diagnosis\"] = df[\"ID\"].str.slice(start=13)\n",
    "    df = df.loc[:, [\"Label\", \"Diagnosis\", \"Image\"]]\n",
    "    df = df.set_index(['Image', 'Diagnosis']).unstack(level=-1)\n",
    "    return df\n",
    "\n",
    "def read_trainset(filename = '../data/input/rsna-intracranial-hemorrhage-detection/stage_2_train.csv'):\n",
    "    df = pd.read_csv(filename)\n",
    "    df[\"Image\"] = df[\"ID\"].str.slice(stop=12)\n",
    "    df[\"Diagnosis\"] = df[\"ID\"].str.slice(start=13)\n",
    "    #duplicates_to_remove = [\n",
    "     #   1598538, 1598539, 1598540, 1598541, 1598542, 1598543,\n",
    "     #   312468,  312469,  312470,  312471,  312472,  312473,\n",
    "     #   2708700, 2708701, 2708702, 2708703, 2708704, 2708705,\n",
    "     #   3032994, 3032995, 3032996, 3032997, 3032998, 3032999\n",
    "  #  ]\n",
    "    #df = df.drop(index = duplicates_to_remove)\n",
    "\n",
    "    duplicates_to_remove = [\n",
    "        56346,56347,56348,56349,\n",
    "        56350,56351,1171830,1171831,\n",
    "        1171832,1171833,1171834,1171835,\n",
    "        3705312,3705313,3705314,3705315,\n",
    "        3705316,3705317,3842478,3842479,\n",
    "        3842480,3842481,3842482,3842483\n",
    "    ]\n",
    "    df = df.drop(index = duplicates_to_remove)\n",
    "\n",
    "    df = df.reset_index(drop = True)    \n",
    "    df = df.loc[:, [\"Label\", \"Diagnosis\", \"Image\"]]\n",
    "    df = df.set_index(['Image', 'Diagnosis']).unstack(level=-1)\n",
    "    return df\n"
   ]
  },
  {
   "cell_type": "code",
   "execution_count": 61,
   "metadata": {},
   "outputs": [],
   "source": [
    "\n",
    "# Read Train and Test Datasets\n",
    "test_df = read_testset()\n",
    "train_df = read_trainset()"
   ]
  },
  {
   "cell_type": "code",
   "execution_count": 18,
   "metadata": {
    "colab": {},
    "colab_type": "code",
    "id": "8t6J8SCR7YbM"
   },
   "outputs": [
    {
     "name": "stdout",
     "output_type": "stream",
     "text": [
      "Train Shape: (759093, 6)\n",
      "Test Shape: (121232, 6)\n"
     ]
    }
   ],
   "source": [
    "# Oversampling\n",
    "epidural_df = train_df[train_df.Label['epidural'] == 1]\n",
    "epidural_df1 = train_df[train_df.Label['epidural'] == 1]\n",
    "train_oversample_df = pd.concat([train_df, epidural_df])\n",
    "train_oversample_df = pd.concat([train_oversample_df, epidural_df1])\n",
    "train_df = train_oversample_df\n",
    "\n",
    "# Summary\n",
    "print('Train Shape: {}'.format(train_df.shape))\n",
    "print('Test Shape: {}'.format(test_df.shape))"
   ]
  },
  {
   "cell_type": "code",
   "execution_count": 19,
   "metadata": {
    "colab": {},
    "colab_type": "code",
    "id": "g2Q0PHanxX7o"
   },
   "outputs": [],
   "source": [
    "epidural_df1 = train_df[train_df.Label['epidural'] == 1]\n",
    "\n",
    "intraparenchymal_df1 = train_df[train_df.Label['intraparenchymal'] == 1]\n",
    "\n",
    "subdural_df1 = train_df[train_df.Label['subdural'] == 1]\n",
    "\n",
    "intraventricular_df1 = train_df[train_df.Label['intraventricular'] == 1]\n",
    "\n",
    "subarachnoid_df1 = train_df[train_df.Label['subarachnoid'] == 1]\n",
    "\n",
    "any_df1 = train_df[train_df.Label['any'] == 1]"
   ]
  },
  {
   "cell_type": "code",
   "execution_count": 20,
   "metadata": {},
   "outputs": [],
   "source": [
    "filepath = '../models/mymodels/'"
   ]
  },
  {
   "cell_type": "code",
   "execution_count": 21,
   "metadata": {
    "colab": {},
    "colab_type": "code",
    "id": "crF_cyPD7YZE"
   },
   "outputs": [],
   "source": [
    "from tensorflow.keras.applications.densenet import DenseNet201\n",
    "from tensorflow.keras.applications.inception_resnet_v2 import InceptionResNetV2, preprocess_input\n",
    "def predictions(test_df, model):    \n",
    "    test_preds = model.predict_generator(TestDataGenerator(test_df, None, 5, SHAPE, TEST_IMAGES_DIR), verbose = 1)\n",
    "    return test_preds[:test_df.iloc[range(test_df.shape[0])].shape[0]]\n",
    "\n",
    "def ModelCheckpointFull(model_name):\n",
    "    return ModelCheckpoint(filepath + model_name, \n",
    "                            monitor = 'val_loss', \n",
    "                            verbose = 1, \n",
    "                            save_best_only = False, \n",
    "                            save_weights_only = True, \n",
    "                            mode = 'min', \n",
    "                            period = 1)\n",
    "\n",
    "# Create Model\n",
    "def create_model():\n",
    "    #K.clear_session()\n",
    "    \n",
    "    base_model =  InceptionResNetV2(weights = 'imagenet', include_top = False, pooling = 'avg', input_shape = SHAPE)\n",
    "    #base_model.load_weights(filepath+'model.h5')\n",
    "    x = base_model.output\n",
    "    x = Dropout(0.15)(x)\n",
    "    y_pred = Dense(6, activation = 'sigmoid')(x)\n",
    "\n",
    "    return Model(inputs = base_model.input, outputs = y_pred)"
   ]
  },
  {
   "cell_type": "code",
   "execution_count": 22,
   "metadata": {
    "colab": {},
    "colab_type": "code",
    "id": "lzGG1OYD7YV3"
   },
   "outputs": [],
   "source": [
    "# Submission Placeholder\n",
    "submission_predictions = []\n",
    "\n",
    "# Multi Label Stratified Split stuff...\n",
    "msss = MultilabelStratifiedShuffleSplit(n_splits = 10, test_size = TEST_SIZE, random_state = SEED)\n",
    "X = train_df.index\n",
    "Y = train_df.Label.values\n",
    "\n",
    "# Get train and test index\n",
    "msss_splits = next(msss.split(X, Y))\n",
    "train_idx = msss_splits[0]\n",
    "valid_idx = msss_splits[1]"
   ]
  },
  {
   "cell_type": "code",
   "execution_count": 75,
   "metadata": {},
   "outputs": [
    {
     "data": {
      "text/plain": [
       "113864"
      ]
     },
     "execution_count": 75,
     "metadata": {},
     "output_type": "execute_result"
    }
   ],
   "source": [
    "len(msss_splits[1])"
   ]
  },
  {
   "cell_type": "code",
   "execution_count": null,
   "metadata": {},
   "outputs": [],
   "source": []
  },
  {
   "cell_type": "code",
   "execution_count": 24,
   "metadata": {
    "colab": {
     "base_uri": "https://localhost:8080/",
     "height": 731
    },
    "colab_type": "code",
    "id": "FWzXsFfa7YTa",
    "outputId": "65f8bf3d-d97a-4e8c-e3c0-44e96fa7f935"
   },
   "outputs": [
    {
     "name": "stdout",
     "output_type": "stream",
     "text": [
      "=========== EPOCH 0\n",
      "[144626 310428 295358 327488 269523]\n",
      "[ 3 13 19 22 27]\n",
      "WARNING:tensorflow:`period` argument is deprecated. Please use `save_freq` to specify the frequency in number of samples seen.\n",
      "3879/3880 [============================>.] - ETA: 1s - loss: 0.1032 - acc: 0.9634\n",
      "Epoch 00001: saving model to ../models/mymodels/model2.h5\n",
      "3880/3880 [==============================] - 7141s 2s/step - loss: 0.1031 - acc: 0.9634 - val_loss: 0.0853 - val_acc: 0.9700\n",
      "24247/24247 [==============================] - 5257s 217ms/step\n",
      "=========== EPOCH 1\n",
      "[416714  19578  67292 518491 652578]\n",
      "[ 3 13 19 22 27]\n",
      "WARNING:tensorflow:`period` argument is deprecated. Please use `save_freq` to specify the frequency in number of samples seen.\n",
      "3879/3880 [============================>.] - ETA: 1s - loss: 0.1038 - acc: 0.9635\n",
      "Epoch 00001: saving model to ../models/mymodels/model2.h5\n",
      "3880/3880 [==============================] - 7100s 2s/step - loss: 0.1038 - acc: 0.9635 - val_loss: 0.0836 - val_acc: 0.9712\n",
      "24247/24247 [==============================] - 5267s 217ms/step\n",
      "=========== EPOCH 2\n",
      "[282996 532838  19636 470436 754700]\n",
      "[ 3 13 19 22 27]\n",
      "WARNING:tensorflow:`period` argument is deprecated. Please use `save_freq` to specify the frequency in number of samples seen.\n",
      "3879/3880 [============================>.] - ETA: 1s - loss: 0.1031 - acc: 0.9635\n",
      "Epoch 00001: saving model to ../models/mymodels/model2.h5\n",
      "3880/3880 [==============================] - 7113s 2s/step - loss: 0.1031 - acc: 0.9635 - val_loss: 0.0868 - val_acc: 0.9693\n",
      "24247/24247 [==============================] - 5272s 217ms/step\n"
     ]
    }
   ],
   "source": [
    "# Loop through Folds of Multi Label Stratified Split\n",
    "#for epoch, msss_splits in zip(range(0, 9), msss.split(X, Y)): \n",
    "#    # Get train and test index\n",
    "#    train_idx = msss_splits[0]\n",
    "#    valid_idx = msss_splits[1]\n",
    "LR = 0.00015\n",
    "for epoch in range(0, 3):\n",
    "    print('=========== EPOCH {}'.format(epoch))\n",
    "\n",
    "    # Shuffle Train data\n",
    "    np.random.shuffle(train_idx)\n",
    "    print(train_idx[:5])    \n",
    "    print(valid_idx[:5])\n",
    "\n",
    "    # Create Data Generators for Train and Valid\n",
    "    data_generator_train = TrainDataGenerator(train_df.iloc[train_idx], \n",
    "                                                train_df.iloc[train_idx], \n",
    "                                                TRAIN_BATCH_SIZE, \n",
    "                                                SHAPE,\n",
    "                                                augment = True)\n",
    "    data_generator_val = TrainDataGenerator(train_df.iloc[valid_idx], \n",
    "                                            train_df.iloc[valid_idx], \n",
    "                                            VALID_BATCH_SIZE, \n",
    "                                            SHAPE,\n",
    "                                            augment = False)\n",
    "\n",
    "    # Create Model\n",
    "    model = create_model()\n",
    "    \n",
    "    # Full Training Model\n",
    "    for base_layer in model.layers[:-1]:\n",
    "        base_layer.trainable = True\n",
    "        TRAIN_STEPS = int(len(data_generator_train) / 7)\n",
    "        TRAIN_STEPS = TRAIN_STEPS + 1000\n",
    "      #model.load_weights('../models/predtrained models/inception_resnet_v2_weights_tf_dim_ordering_tf_kernels_notop.h5')\n",
    "      # Load Model Weights\n",
    "    if epoch != 0:\n",
    "        a = filepath + \"model2.h5\"\n",
    "        model.load_weights(a)\n",
    "        \n",
    "\n",
    "    model.compile(optimizer = Adam(LR), \n",
    "                  loss = 'binary_crossentropy',\n",
    "                  metrics = ['acc'])\n",
    "    \n",
    "    # Train Model\n",
    "    model.fit_generator(generator = data_generator_train,\n",
    "                        validation_data = data_generator_val,\n",
    "                        steps_per_epoch = TRAIN_STEPS,\n",
    "                        epochs = 1,\n",
    "                        callbacks = [ModelCheckpointFull('model2.h5')],\n",
    "                        verbose = 1)\n",
    "    \n",
    "    # Starting with the 6th epoch we create predictions for the test set on each epoch\n",
    "    if epoch >= 0:\n",
    "        preds = predictions(test_df, model)\n",
    "        submission_predictions.append(preds)"
   ]
  },
  {
   "cell_type": "code",
   "execution_count": 26,
   "metadata": {
    "scrolled": true
   },
   "outputs": [
    {
     "data": {
      "text/plain": [
       "[array([[3.2062799e-02, 7.2214007e-04, 5.7641566e-03, 3.4001470e-04,\n",
       "         1.6646206e-02, 1.0306597e-02],\n",
       "        [8.6754560e-05, 1.1980534e-05, 8.3923340e-05, 1.4901161e-06,\n",
       "         1.3372302e-04, 7.7605247e-05],\n",
       "        [1.2642145e-03, 2.1100044e-05, 1.8957257e-04, 1.8894672e-05,\n",
       "         1.3716817e-03, 2.2023916e-04],\n",
       "        ...,\n",
       "        [4.8075616e-03, 3.0708313e-04, 1.0452867e-03, 3.8325787e-05,\n",
       "         1.6314448e-03, 6.6514574e-03],\n",
       "        [2.3899078e-03, 2.5719404e-05, 7.1510673e-04, 2.5629997e-06,\n",
       "         1.2078285e-03, 1.2829900e-03],\n",
       "        [2.0373166e-03, 4.7087669e-05, 4.9012899e-04, 3.0457973e-05,\n",
       "         6.9916248e-04, 6.4516068e-04]], dtype=float32),\n",
       " array([[1.5551034e-01, 3.8559437e-03, 5.8054626e-03, 2.1094084e-03,\n",
       "         8.7463886e-02, 8.8470161e-02],\n",
       "        [1.0957122e-03, 8.5830688e-06, 1.6754866e-04, 3.3378601e-05,\n",
       "         2.0228624e-03, 1.3576746e-03],\n",
       "        [8.4406137e-03, 3.4525990e-04, 7.3087215e-04, 5.3972006e-04,\n",
       "         3.4384727e-03, 2.1492541e-03],\n",
       "        ...,\n",
       "        [6.0792267e-03, 3.5291910e-04, 1.9958615e-04, 2.4855137e-05,\n",
       "         6.5230494e-03, 2.0272888e-03],\n",
       "        [1.0013342e-02, 4.3749809e-05, 3.7679076e-04, 7.2836876e-05,\n",
       "         5.9081018e-03, 5.9482753e-03],\n",
       "        [8.3087653e-02, 2.3247600e-03, 2.3467839e-03, 9.5880032e-04,\n",
       "         4.1488111e-02, 2.8327972e-02]], dtype=float32),\n",
       " array([[2.0057172e-02, 1.0902882e-03, 1.9682646e-03, 7.4896216e-04,\n",
       "         1.4631480e-02, 5.0401092e-03],\n",
       "        [3.1204522e-03, 3.5116076e-04, 1.6024709e-04, 1.8709898e-04,\n",
       "         2.3715794e-03, 1.2217760e-03],\n",
       "        [1.1073649e-03, 3.9637089e-04, 4.3302774e-05, 2.0533800e-05,\n",
       "         6.1187148e-04, 2.1779537e-04],\n",
       "        ...,\n",
       "        [2.0334423e-03, 8.4105134e-04, 1.1232495e-04, 2.4408102e-05,\n",
       "         1.5593162e-03, 5.2382587e-04],\n",
       "        [4.0601194e-03, 1.4871359e-04, 8.6516142e-04, 1.0338426e-04,\n",
       "         2.1260381e-03, 1.0159016e-03],\n",
       "        [1.9604445e-02, 5.8522224e-03, 1.7835796e-03, 4.5844913e-04,\n",
       "         8.8746548e-03, 6.6677630e-03]], dtype=float32)]"
      ]
     },
     "execution_count": 26,
     "metadata": {},
     "output_type": "execute_result"
    }
   ],
   "source": [
    "submission_predictions"
   ]
  },
  {
   "cell_type": "code",
   "execution_count": 27,
   "metadata": {},
   "outputs": [
    {
     "data": {
      "text/plain": [
       "[1, 2, 4]"
      ]
     },
     "execution_count": 27,
     "metadata": {},
     "output_type": "execute_result"
    }
   ],
   "source": [
    "[2**i for i in range(len(submission_predictions))]"
   ]
  },
  {
   "cell_type": "code",
   "execution_count": 28,
   "metadata": {},
   "outputs": [
    {
     "data": {
      "text/plain": [
       "[0, 1, 2]"
      ]
     },
     "execution_count": 28,
     "metadata": {},
     "output_type": "execute_result"
    }
   ],
   "source": [
    "[i for i in range(len(submission_predictions))]"
   ]
  },
  {
   "cell_type": "code",
   "execution_count": 38,
   "metadata": {
    "colab": {
     "base_uri": "https://localhost:8080/",
     "height": 243
    },
    "colab_type": "code",
    "id": "pjBH-1Ia7YQW",
    "outputId": "c1e46f9e-162d-4fa3-dc64-dc6b3539a0b7",
    "scrolled": false
   },
   "outputs": [
    {
     "name": "stdout",
     "output_type": "stream",
     "text": [
      "                               ID     Label\n",
      "0                ID_000000e27_any  0.060473\n",
      "1           ID_000000e27_epidural  0.001828\n",
      "2   ID_000000e27_intraparenchymal  0.003607\n",
      "3   ID_000000e27_intraventricular  0.001079\n",
      "4       ID_000000e27_subarachnoid  0.035729\n",
      "5           ID_000000e27_subdural  0.029630\n",
      "6                ID_000009146_any  0.002109\n",
      "7           ID_000009146_epidural  0.000205\n",
      "8   ID_000009146_intraparenchymal  0.000151\n",
      "9   ID_000009146_intraventricular  0.000117\n",
      "10      ID_000009146_subarachnoid  0.001952\n",
      "11          ID_000009146_subdural  0.001097\n"
     ]
    }
   ],
   "source": [
    "test_df.iloc[:, :] = np.average(submission_predictions, axis = 0, weights = [1,2,4])\n",
    "test_df = test_df.stack().reset_index()\n",
    "test_df.insert(loc = 0, column = 'ID', value = test_df['Image'].astype(str) + \"_\" + test_df['Diagnosis'])\n",
    "test_df = test_df.drop([\"Image\", \"Diagnosis\"], axis=1)\n",
    "test_df.to_csv('submission.csv', index = False)\n",
    "print(test_df.head(12))"
   ]
  },
  {
   "cell_type": "code",
   "execution_count": 39,
   "metadata": {},
   "outputs": [],
   "source": [
    "test_df.to_csv('../data/output/submissions/model_4.csv', index = False)"
   ]
  },
  {
   "cell_type": "code",
   "execution_count": 35,
   "metadata": {},
   "outputs": [
    {
     "name": "stdout",
     "output_type": "stream",
     "text": [
      "                               ID     Label\n",
      "0                ID_000000e27_any  0.020057\n",
      "1           ID_000000e27_epidural  0.001090\n",
      "2   ID_000000e27_intraparenchymal  0.001968\n",
      "3   ID_000000e27_intraventricular  0.000749\n",
      "4       ID_000000e27_subarachnoid  0.014631\n",
      "5           ID_000000e27_subdural  0.005040\n",
      "6                ID_000009146_any  0.003120\n",
      "7           ID_000009146_epidural  0.000351\n",
      "8   ID_000009146_intraparenchymal  0.000160\n",
      "9   ID_000009146_intraventricular  0.000187\n",
      "10      ID_000009146_subarachnoid  0.002372\n",
      "11          ID_000009146_subdural  0.001222\n"
     ]
    }
   ],
   "source": [
    "test_df.iloc[:, :] = submission_predictions[2]\n",
    "test_df = test_df.stack().reset_index()\n",
    "test_df.insert(loc = 0, column = 'ID', value = test_df['Image'].astype(str) + \"_\" + test_df['Diagnosis'])\n",
    "test_df = test_df.drop([\"Image\", \"Diagnosis\"], axis=1)\n",
    "\n",
    "print(test_df.head(12))"
   ]
  },
  {
   "cell_type": "code",
   "execution_count": 36,
   "metadata": {
    "colab": {},
    "colab_type": "code",
    "id": "SnFX0pgaa_Qs"
   },
   "outputs": [],
   "source": [
    "test_df.to_csv('../data/output/submissions/model_4_epoch3.csv', index = False)"
   ]
  },
  {
   "cell_type": "code",
   "execution_count": 40,
   "metadata": {},
   "outputs": [],
   "source": [
    "preds_epoch3 = submission_predictions[2]"
   ]
  },
  {
   "cell_type": "code",
   "execution_count": 76,
   "metadata": {},
   "outputs": [
    {
     "data": {
      "text/plain": [
       "array([[2.0057172e-02, 1.0902882e-03, 1.9682646e-03, 7.4896216e-04,\n",
       "        1.4631480e-02, 5.0401092e-03],\n",
       "       [3.1204522e-03, 3.5116076e-04, 1.6024709e-04, 1.8709898e-04,\n",
       "        2.3715794e-03, 1.2217760e-03],\n",
       "       [1.1073649e-03, 3.9637089e-04, 4.3302774e-05, 2.0533800e-05,\n",
       "        6.1187148e-04, 2.1779537e-04],\n",
       "       ...,\n",
       "       [2.0334423e-03, 8.4105134e-04, 1.1232495e-04, 2.4408102e-05,\n",
       "        1.5593162e-03, 5.2382587e-04],\n",
       "       [4.0601194e-03, 1.4871359e-04, 8.6516142e-04, 1.0338426e-04,\n",
       "        2.1260381e-03, 1.0159016e-03],\n",
       "       [1.9604445e-02, 5.8522224e-03, 1.7835796e-03, 4.5844913e-04,\n",
       "        8.8746548e-03, 6.6677630e-03]], dtype=float32)"
      ]
     },
     "execution_count": 76,
     "metadata": {},
     "output_type": "execute_result"
    }
   ],
   "source": [
    "preds_epoch3 "
   ]
  },
  {
   "cell_type": "code",
   "execution_count": 82,
   "metadata": {},
   "outputs": [],
   "source": [
    "preds_epoch3_clipped = np.clip(preds_epoch3,1e-4,1-1e-6)"
   ]
  },
  {
   "cell_type": "code",
   "execution_count": 83,
   "metadata": {},
   "outputs": [
    {
     "data": {
      "text/plain": [
       "array([[2.0057172e-02, 1.0902882e-03, 1.9682646e-03, 7.4896216e-04,\n",
       "        1.4631480e-02, 5.0401092e-03],\n",
       "       [3.1204522e-03, 3.5116076e-04, 1.6024709e-04, 1.8709898e-04,\n",
       "        2.3715794e-03, 1.2217760e-03],\n",
       "       [1.1073649e-03, 3.9637089e-04, 9.9999997e-05, 9.9999997e-05,\n",
       "        6.1187148e-04, 2.1779537e-04],\n",
       "       ...,\n",
       "       [2.0334423e-03, 8.4105134e-04, 1.1232495e-04, 9.9999997e-05,\n",
       "        1.5593162e-03, 5.2382587e-04],\n",
       "       [4.0601194e-03, 1.4871359e-04, 8.6516142e-04, 1.0338426e-04,\n",
       "        2.1260381e-03, 1.0159016e-03],\n",
       "       [1.9604445e-02, 5.8522224e-03, 1.7835796e-03, 4.5844913e-04,\n",
       "        8.8746548e-03, 6.6677630e-03]], dtype=float32)"
      ]
     },
     "execution_count": 83,
     "metadata": {},
     "output_type": "execute_result"
    }
   ],
   "source": [
    "preds_epoch3_clipped "
   ]
  },
  {
   "cell_type": "code",
   "execution_count": 60,
   "metadata": {
    "scrolled": true
   },
   "outputs": [
    {
     "data": {
      "text/plain": [
       "(121232, 6)"
      ]
     },
     "execution_count": 60,
     "metadata": {},
     "output_type": "execute_result"
    }
   ],
   "source": [
    "preds_epoch3.shape"
   ]
  },
  {
   "cell_type": "code",
   "execution_count": 85,
   "metadata": {},
   "outputs": [],
   "source": [
    "df = test_df"
   ]
  },
  {
   "cell_type": "code",
   "execution_count": 86,
   "metadata": {
    "scrolled": true
   },
   "outputs": [
    {
     "data": {
      "text/plain": [
       "(121232, 6)"
      ]
     },
     "execution_count": 86,
     "metadata": {},
     "output_type": "execute_result"
    }
   ],
   "source": [
    "df.shape"
   ]
  },
  {
   "cell_type": "code",
   "execution_count": 87,
   "metadata": {},
   "outputs": [
    {
     "data": {
      "text/plain": [
       "(121232, 6)"
      ]
     },
     "execution_count": 87,
     "metadata": {},
     "output_type": "execute_result"
    }
   ],
   "source": [
    "preds_epoch3_clipped.shape"
   ]
  },
  {
   "cell_type": "code",
   "execution_count": 88,
   "metadata": {
    "scrolled": true
   },
   "outputs": [
    {
     "name": "stdout",
     "output_type": "stream",
     "text": [
      "                               ID     Label\n",
      "0                ID_000000e27_any  0.020057\n",
      "1           ID_000000e27_epidural  0.001090\n",
      "2   ID_000000e27_intraparenchymal  0.001968\n",
      "3   ID_000000e27_intraventricular  0.000749\n",
      "4       ID_000000e27_subarachnoid  0.014631\n",
      "5           ID_000000e27_subdural  0.005040\n",
      "6                ID_000009146_any  0.003120\n",
      "7           ID_000009146_epidural  0.000351\n",
      "8   ID_000009146_intraparenchymal  0.000160\n",
      "9   ID_000009146_intraventricular  0.000187\n",
      "10      ID_000009146_subarachnoid  0.002372\n",
      "11          ID_000009146_subdural  0.001222\n"
     ]
    }
   ],
   "source": [
    "df.iloc[:, :] = preds_epoch3_clipped\n",
    "df = df.stack().reset_index()\n",
    "df.insert(loc = 0, column = 'ID', value = df['Image'].astype(str) + \"_\" + df['Diagnosis'])\n",
    "df = df.drop([\"Image\", \"Diagnosis\"], axis=1)\n",
    "\n",
    "print(df.head(12))"
   ]
  },
  {
   "cell_type": "code",
   "execution_count": 89,
   "metadata": {},
   "outputs": [],
   "source": [
    "df.to_csv('../data/output/submissions/model_4_epoch3_clipped.csv', index = False)"
   ]
  },
  {
   "cell_type": "code",
   "execution_count": null,
   "metadata": {},
   "outputs": [],
   "source": []
  }
 ],
 "metadata": {
  "accelerator": "GPU",
  "colab": {
   "collapsed_sections": [],
   "name": "Resize dataset.ipynb",
   "provenance": [],
   "toc_visible": true
  },
  "kernelspec": {
   "display_name": "Python 3",
   "language": "python",
   "name": "python3"
  },
  "language_info": {
   "codemirror_mode": {
    "name": "ipython",
    "version": 3
   },
   "file_extension": ".py",
   "mimetype": "text/x-python",
   "name": "python",
   "nbconvert_exporter": "python",
   "pygments_lexer": "ipython3",
   "version": "3.7.5"
  }
 },
 "nbformat": 4,
 "nbformat_minor": 1
}
