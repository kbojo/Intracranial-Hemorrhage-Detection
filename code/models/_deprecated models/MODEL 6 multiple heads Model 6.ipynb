{
 "cells": [
  {
   "cell_type": "markdown",
   "metadata": {},
   "source": [
    "#  Intracranial Hemorrhage Detection\n",
    "\n",
    "## Model 6\n",
    "\n",
    "#### Kristina Joos\n",
    "\n",
    "---   \n",
    "\n",
    "|                 \t|                                                        \t|\n",
    "|:----------------:\t|:-------------------------------------------------------:\t|\n",
    "| Model           \t| VGG 16 (242x242) Multiple Outputs Heads, Trainable=False  |\n",
    "| Augementation    \t| Crop, Affine, Flip                \t                    |\n",
    "| Windowing         | Single Window                                             |\n",
    "| Class Balancing \t| Undersampling                                           \t|\n",
    "| Loss Function   \t| Binary_crossentropy                                      \t|\n",
    "| Regularization  \t| Early Stopping, Drop Out Layers 0.3 \t                    |\n",
    "| Epochs Run      \t| 115                                                      \t|\n",
    "| Time Run (h)   \t| 7                                                     \t|\n",
    "|                 \t|                                                        \t|\n",
    "| Test           \t| Accuracy: any 0.7053 subtype 0.2917 Loss: 0.5542         \t|\n",
    "| Validation      \t| Accuracy: any 0.7028 subtype 0.4675 Loss: 0.5569        \t|\n",
    "| Leader Board    \t| Score: 0.66256 Rank: 412/1345 (31%)                      \t|\n",
    "\n"
   ]
  },
  {
   "cell_type": "code",
   "execution_count": 1,
   "metadata": {},
   "outputs": [],
   "source": [
    "import numpy as np\n",
    "import pandas as pd\n",
    "import pydicom\n",
    "import os\n",
    "import matplotlib.pyplot as plt\n",
    "%matplotlib inline\n",
    "import seaborn as sns\n",
    "import collections\n",
    "from tqdm import tqdm_notebook as tqdm\n",
    "from datetime import datetime\n",
    "\n",
    "from math import ceil, floor, log\n",
    "import cv2\n",
    "\n",
    "import tensorflow as tf\n",
    "\n",
    "from tensorflow.keras import backend as K\n",
    "\n",
    "import sys\n",
    "\n",
    "from keras_applications.inception_v3 import InceptionV3\n",
    "\n",
    "\n",
    "\n",
    "\n",
    "from skimage.transform import resize\n",
    "from imgaug import augmenters as iaa\n",
    " \n",
    "from sklearn.model_selection import train_test_split, StratifiedKFold, ShuffleSplit\n",
    "\n",
    "\n",
    "\n",
    "from tensorflow.keras.applications.resnet50 import preprocess_input as preprocess_resnet_50\n",
    "from tensorflow.keras.applications.vgg16 import preprocess_input as preprocess_vgg_16\n",
    "\n",
    "from tensorflow.keras.applications import ResNet50, VGG16, VGG19\n",
    "from tensorflow.keras.applications.resnet50 import preprocess_input as preprocess_resnet_50\n",
    "from tensorflow.keras.applications.vgg16 import preprocess_input as preprocess_vgg_16\n",
    "from tensorflow.keras.layers import GlobalAveragePooling2D, Dense, Activation, concatenate, Dropout, MaxPooling2D, Conv2D, Flatten\n",
    "from tensorflow.keras.initializers import glorot_normal, he_normal\n",
    "from tensorflow.keras.regularizers import l2\n",
    "from tensorflow.keras.models import Model, load_model, Sequential, load_model\n",
    "from tensorflow.keras.utils import Sequence\n",
    "from tensorflow.keras.callbacks import ModelCheckpoint, ReduceLROnPlateau, EarlyStopping\n",
    "from tensorflow.keras.optimizers import Adam\n",
    "\n",
    "from iterstrat.ml_stratifiers import MultilabelStratifiedShuffleSplit"
   ]
  },
  {
   "cell_type": "code",
   "execution_count": 2,
   "metadata": {
    "scrolled": true
   },
   "outputs": [
    {
     "data": {
      "text/plain": [
       "True"
      ]
     },
     "execution_count": 2,
     "metadata": {},
     "output_type": "execute_result"
    }
   ],
   "source": [
    "tf.test.is_gpu_available()"
   ]
  },
  {
   "cell_type": "code",
   "execution_count": 3,
   "metadata": {},
   "outputs": [
    {
     "data": {
      "text/plain": [
       "True"
      ]
     },
     "execution_count": 3,
     "metadata": {},
     "output_type": "execute_result"
    }
   ],
   "source": [
    "tf.test.is_built_with_cuda()"
   ]
  },
  {
   "cell_type": "markdown",
   "metadata": {},
   "source": [
    "## Image Path"
   ]
  },
  {
   "cell_type": "code",
   "execution_count": 4,
   "metadata": {},
   "outputs": [],
   "source": [
    "path_train_data = '../data/input/rsna-intracranial-hemorrhage-detection/stage_2_train/'"
   ]
  },
  {
   "cell_type": "code",
   "execution_count": 5,
   "metadata": {},
   "outputs": [],
   "source": [
    "path_test_data = '../data/input/rsna-intracranial-hemorrhage-detection/stage_2_test/'"
   ]
  },
  {
   "cell_type": "code",
   "execution_count": 6,
   "metadata": {},
   "outputs": [],
   "source": [
    "def get_number_of_files(path, data_name):\n",
    "    no =  len(os.listdir(path))\n",
    "    print (f'The {data_name} contains {no} files.')"
   ]
  },
  {
   "cell_type": "code",
   "execution_count": 7,
   "metadata": {},
   "outputs": [],
   "source": [
    "def get_size_directory(path, data_name):\n",
    "    size = round(sum([os.path.getsize(f'{path}'+ f'{file}') for file in os.listdir(path)])*(10**-9), 2)\n",
    "    print (f'The size of the {data_name} is {size} GB.')"
   ]
  },
  {
   "cell_type": "code",
   "execution_count": 8,
   "metadata": {},
   "outputs": [
    {
     "name": "stdout",
     "output_type": "stream",
     "text": [
      "***TRAIN DATA***\n",
      "The size of the Training Data is 395.19 GB.\n",
      "The Training Data contains 752803 files.\n",
      "*******\n",
      "***TEST DATA***\n",
      "The size of the Testing Data is 63.64 GB.\n",
      "The Testing Data contains 121232 files.\n",
      "*******\n",
      "We have 6.2 times more train than test data.\n"
     ]
    }
   ],
   "source": [
    "print('***TRAIN DATA***')\n",
    "get_size_directory(path_train_data, 'Training Data')\n",
    "get_number_of_files(path_train_data, 'Training Data')\n",
    "\n",
    "print('*******')\n",
    "\n",
    "print('***TEST DATA***')\n",
    "get_size_directory(path_test_data, 'Testing Data')\n",
    "get_number_of_files(path_test_data, 'Testing Data')\n",
    "\n",
    "print('*******')\n",
    "\n",
    "print(f'We have {round(len(os.listdir(path_train_data))/len(os.listdir(path_test_data)),1)} times more train than test data.' )"
   ]
  },
  {
   "cell_type": "markdown",
   "metadata": {},
   "source": [
    "## Meta Data"
   ]
  },
  {
   "cell_type": "code",
   "execution_count": 9,
   "metadata": {},
   "outputs": [],
   "source": [
    "\n",
    "train_meta_df = pd.read_csv('../data/input/rsna-intracranial-hemorrhage-detection/stage_2_train.csv')\n",
    "# Test submission as test \n",
    "test_meta_df = pd.read_csv('../data/input/rsna-intracranial-hemorrhage-detection/stage_2_sample_submission.csv')"
   ]
  },
  {
   "cell_type": "code",
   "execution_count": 10,
   "metadata": {},
   "outputs": [],
   "source": [
    "train_meta_df_shape = train_meta_df.shape\n",
    "test_meta_df_shape = test_meta_df.shape"
   ]
  },
  {
   "cell_type": "code",
   "execution_count": 11,
   "metadata": {},
   "outputs": [
    {
     "name": "stdout",
     "output_type": "stream",
     "text": [
      "(4516842, 2)\n",
      "(727392, 2)\n"
     ]
    }
   ],
   "source": [
    "print(train_meta_df_shape)\n",
    "print(test_meta_df_shape)"
   ]
  },
  {
   "cell_type": "markdown",
   "metadata": {},
   "source": [
    "## Parameters"
   ]
  },
  {
   "cell_type": "code",
   "execution_count": 12,
   "metadata": {},
   "outputs": [],
   "source": [
    "\n",
    "# Seed\n",
    "SEED = 11\n",
    "np.random.seed(SEED)\n",
    "\n",
    "\n",
    "# Constants\n",
    "TEST_SIZE = 0.2\n",
    "HEIGHT = 224 #VGG 16 has 256x256\n",
    "WIDTH = 224\n",
    "CHANNELS = 3\n",
    "TRAIN_BATCH_SIZE = 2\n",
    "VALID_BATCH_SIZE = 2\n",
    "TEST_BATCH_SIZE = 4\n",
    "SHAPE = (HEIGHT, WIDTH, CHANNELS)\n",
    "\n",
    "# Folders\n",
    "#DATA_DIR = '/kaggle/input/rsna-intracranial-hemorrhage-detection/'\n",
    "PATH_TEST_DATA = path_test_data\n",
    "PATH_TRAIN_DATA = path_train_data\n",
    "PATH_PT_MODELS = '../models/predtrained models/'"
   ]
  },
  {
   "cell_type": "code",
   "execution_count": 13,
   "metadata": {},
   "outputs": [],
   "source": [
    "def rescale_pixelarray(dataset):\n",
    "    image = dataset.pixel_array\n",
    "    rescaled_image = image * dataset.RescaleSlope + dataset.RescaleIntercept\n",
    "    rescaled_image[rescaled_image < -1024] = -1024\n",
    "    return rescaled_image\n",
    "\n",
    "def set_manual_window(hu_image, min_value, max_value):\n",
    "    hu_image[hu_image < min_value] = min_value\n",
    "    hu_image[hu_image > max_value] = min_value #max_value\n",
    "    return hu_image\n",
    "\n",
    "class Preprocessor:    \n",
    "    \n",
    "    def __init__(self, path,hu_min_value, hu_max_value, augment=False):\n",
    "        self.path = path\n",
    "        self.nn_input_shape = (224,224) #was 256, 256\n",
    "        self.hu_min_value = hu_min_value\n",
    "        self.hu_max_value = hu_max_value\n",
    "        self.augment = augment\n",
    "        \n",
    "  #load the dicom dataset\n",
    "    def load_dicom_dataset(self, filename):\n",
    "        dataset = pydicom.dcmread(self.path + filename)\n",
    "        return dataset\n",
    "    \n",
    "    #Rescale the pixelarray to HU units and set to window\n",
    "    \n",
    "    def get_hounsfield_window(self, dataset, min_value, max_value):\n",
    "        \n",
    "        hu_image = rescale_pixelarray(dataset)\n",
    "        windowed_image = set_manual_window(hu_image, min_value, max_value)\n",
    " \n",
    "        return windowed_image\n",
    " \n",
    "    def resize(self, image):\n",
    "        image = resize(image, self.nn_input_shape)\n",
    "        return image\n",
    "\n",
    "    #augment our image\n",
    "    def augment_img(self, image): \n",
    "        augment_img = iaa.Sequential([\n",
    "            iaa.Crop(keep_size=True, percent=(0.01, 0.05), sample_independently=False),\n",
    "            iaa.Affine(rotate=(-10, 10)),\n",
    "            iaa.Fliplr(0.5)])\n",
    "        image_aug = augment_img.augment_image(image)\n",
    "        return image_aug\n",
    "    \n",
    "    def fill_channels(self, image):\n",
    "        filled_image = np.stack((image,)*3, axis=-1)\n",
    "        return filled_image\n",
    "    \n",
    "    def preprocess(self, identifier):\n",
    "        filename = identifier +  \".dcm\"\n",
    "        dataset = self.load_dicom_dataset(filename)\n",
    "        windowed_image = self.get_hounsfield_window(dataset, self.hu_min_value, self.hu_max_value)\n",
    "        image = self.resize(windowed_image)\n",
    "        if self.augment:\n",
    "            image = self.augment_img(image)\n",
    "        image = self.fill_channels(image)\n",
    "        return image\n",
    "    \n",
    "    def normalize(self, image):\n",
    "        return (image - self.hu_min_value)/(self.hu_max_value-self.hu_min_value) * 0.5\n"
   ]
  },
  {
   "cell_type": "code",
   "execution_count": 15,
   "metadata": {},
   "outputs": [],
   "source": [
    "class Data_Generator(Sequence):\n",
    "    \n",
    "    def __init__(self, dataframe,\n",
    "                 preprocessor,\n",
    "                 batch_size,\n",
    "                 shuffle,\n",
    "                 num_classes=5,\n",
    "                 steps=None):\n",
    "        \n",
    "        self.preprocessor = preprocessor\n",
    "        self.data_ids = dataframe.index.values\n",
    "        self.dataframe = dataframe\n",
    "        self.batch_size = batch_size\n",
    "        self.shuffle = shuffle\n",
    "        self.input_shape = (224,224)\n",
    "        self.preprocess_net = preprocess_vgg_16\n",
    "        self.num_classes = num_classes\n",
    "        self.current_epoch=0\n",
    "        \n",
    "        self.steps=steps\n",
    "        if self.steps is not None:\n",
    "            self.steps = np.round(self.steps/3) * 3\n",
    "            self.undersample()\n",
    "\n",
    "    def undersample(self):\n",
    "        part = np.int(self.steps/4 * self.batch_size)\n",
    "        zero_ids = np.random.choice(self.dataframe.loc[self.dataframe[\"any\"] == 0].index.values, size=2*part, replace=False)\n",
    "        hot_ids = np.random.choice(self.dataframe.loc[self.dataframe[\"any\"] == 1].index.values, size=2*part, replace=False)\n",
    "        self.data_ids = list(set(zero_ids).union(hot_ids))\n",
    "        np.random.shuffle(self.data_ids)\n",
    "\n",
    "    # defines the number of steps per epoch\n",
    "    def __len__(self):\n",
    "        if self.steps is None:\n",
    "            return np.int(np.ceil(len(self.data_ids) / np.float(self.batch_size)))\n",
    "        else:\n",
    "            return 3*np.int(self.steps/3) \n",
    "    \n",
    "    # at the end of an epoch: \n",
    "    def on_epoch_end(self):\n",
    "        # if steps is None and shuffle is true:\n",
    "        if self.steps is None:\n",
    "            self.data_ids = self.dataframe.index.values\n",
    "            if self.shuffle:\n",
    "                np.random.shuffle(self.data_ids)\n",
    "        else:\n",
    "            self.undersample()\n",
    "        self.current_epoch += 1\n",
    "    \n",
    "    # should return a batch of images\n",
    "    def __getitem__(self, item):\n",
    "        # select the ids of the current batch\n",
    "        current_ids = self.data_ids[item*self.batch_size:(item+1)*self.batch_size]\n",
    "        X, y_any, y_subtype = self.__generate_batch(current_ids)\n",
    "        return X, [y_any, y_subtype]\n",
    "    \n",
    "    \n",
    "    def __generate_batch(self, current_ids):\n",
    "        X = np.empty((self.batch_size, *self.input_shape, 3))\n",
    "        y_subtype = np.empty((self.batch_size, self.num_classes))\n",
    "        y_any = np.empty((self.batch_size, 1))\n",
    "        for idx, ident in enumerate(current_ids):\n",
    "            # Store sample\n",
    "            image = self.preprocessor.preprocess(ident)\n",
    "            X[idx] = self.preprocessor.normalize(image)\n",
    "            # Store class\n",
    "            y_any[idx], y_subtype[idx] = self.__get_target(ident)\n",
    "        return X, y_any, y_subtype\n",
    "    \n",
    "    # extract the targets of one image id:\n",
    "    def __get_target(self, ident):\n",
    "        y_any = self.dataframe.loc[ident, \"any\"]\n",
    "        y_subtype = self.dataframe.drop(\"any\", axis=1).loc[ident].values\n",
    "        return y_any, y_subtype"
   ]
  },
  {
   "cell_type": "markdown",
   "metadata": {},
   "source": [
    "## Preparing Meta Data Frames\n"
   ]
  },
  {
   "cell_type": "code",
   "execution_count": 16,
   "metadata": {},
   "outputs": [],
   "source": [
    "def make_usable_df(df):\n",
    "    label = df.Label.values\n",
    "    new_df = df.ID.str.rsplit(\"_\", n=1, expand=True)\n",
    "    new_df.loc[:, \"label\"] = label\n",
    "    new_df = new_df.rename({0: \"id\", 1: \"subtype\"}, axis=1)\n",
    "    piv_df = pd.pivot_table(new_df, index=\"id\", columns=\"subtype\", values=\"label\")\n",
    "    \n",
    "    return piv_df\n"
   ]
  },
  {
   "cell_type": "markdown",
   "metadata": {},
   "source": [
    "Check for Dupicates:"
   ]
  },
  {
   "cell_type": "code",
   "execution_count": 17,
   "metadata": {
    "scrolled": true
   },
   "outputs": [
    {
     "data": {
      "text/plain": [
       "24"
      ]
     },
     "execution_count": 17,
     "metadata": {},
     "output_type": "execute_result"
    }
   ],
   "source": [
    "train_meta_df.duplicated().sum()"
   ]
  },
  {
   "cell_type": "code",
   "execution_count": 18,
   "metadata": {},
   "outputs": [],
   "source": [
    "train_meta_df.drop_duplicates(inplace = True)"
   ]
  },
  {
   "cell_type": "code",
   "execution_count": 19,
   "metadata": {},
   "outputs": [
    {
     "data": {
      "text/plain": [
       "True"
      ]
     },
     "execution_count": 19,
     "metadata": {},
     "output_type": "execute_result"
    }
   ],
   "source": [
    "train_meta_df_shape[0] - train_meta_df.shape[0] == 24"
   ]
  },
  {
   "cell_type": "markdown",
   "metadata": {},
   "source": [
    "Make usable Data Frame:"
   ]
  },
  {
   "cell_type": "code",
   "execution_count": 20,
   "metadata": {
    "scrolled": true
   },
   "outputs": [
    {
     "data": {
      "text/html": [
       "<div>\n",
       "<style scoped>\n",
       "    .dataframe tbody tr th:only-of-type {\n",
       "        vertical-align: middle;\n",
       "    }\n",
       "\n",
       "    .dataframe tbody tr th {\n",
       "        vertical-align: top;\n",
       "    }\n",
       "\n",
       "    .dataframe thead th {\n",
       "        text-align: right;\n",
       "    }\n",
       "</style>\n",
       "<table border=\"1\" class=\"dataframe\">\n",
       "  <thead>\n",
       "    <tr style=\"text-align: right;\">\n",
       "      <th>subtype</th>\n",
       "      <th>any</th>\n",
       "      <th>epidural</th>\n",
       "      <th>intraparenchymal</th>\n",
       "      <th>intraventricular</th>\n",
       "      <th>subarachnoid</th>\n",
       "      <th>subdural</th>\n",
       "    </tr>\n",
       "    <tr>\n",
       "      <th>id</th>\n",
       "      <th></th>\n",
       "      <th></th>\n",
       "      <th></th>\n",
       "      <th></th>\n",
       "      <th></th>\n",
       "      <th></th>\n",
       "    </tr>\n",
       "  </thead>\n",
       "  <tbody>\n",
       "    <tr>\n",
       "      <th>ID_000012eaf</th>\n",
       "      <td>0</td>\n",
       "      <td>0</td>\n",
       "      <td>0</td>\n",
       "      <td>0</td>\n",
       "      <td>0</td>\n",
       "      <td>0</td>\n",
       "    </tr>\n",
       "    <tr>\n",
       "      <th>ID_000039fa0</th>\n",
       "      <td>0</td>\n",
       "      <td>0</td>\n",
       "      <td>0</td>\n",
       "      <td>0</td>\n",
       "      <td>0</td>\n",
       "      <td>0</td>\n",
       "    </tr>\n",
       "    <tr>\n",
       "      <th>ID_00005679d</th>\n",
       "      <td>0</td>\n",
       "      <td>0</td>\n",
       "      <td>0</td>\n",
       "      <td>0</td>\n",
       "      <td>0</td>\n",
       "      <td>0</td>\n",
       "    </tr>\n",
       "    <tr>\n",
       "      <th>ID_00008ce3c</th>\n",
       "      <td>0</td>\n",
       "      <td>0</td>\n",
       "      <td>0</td>\n",
       "      <td>0</td>\n",
       "      <td>0</td>\n",
       "      <td>0</td>\n",
       "    </tr>\n",
       "    <tr>\n",
       "      <th>ID_0000950d7</th>\n",
       "      <td>0</td>\n",
       "      <td>0</td>\n",
       "      <td>0</td>\n",
       "      <td>0</td>\n",
       "      <td>0</td>\n",
       "      <td>0</td>\n",
       "    </tr>\n",
       "  </tbody>\n",
       "</table>\n",
       "</div>"
      ],
      "text/plain": [
       "subtype       any  epidural  intraparenchymal  intraventricular  subarachnoid  \\\n",
       "id                                                                              \n",
       "ID_000012eaf    0         0                 0                 0             0   \n",
       "ID_000039fa0    0         0                 0                 0             0   \n",
       "ID_00005679d    0         0                 0                 0             0   \n",
       "ID_00008ce3c    0         0                 0                 0             0   \n",
       "ID_0000950d7    0         0                 0                 0             0   \n",
       "\n",
       "subtype       subdural  \n",
       "id                      \n",
       "ID_000012eaf         0  \n",
       "ID_000039fa0         0  \n",
       "ID_00005679d         0  \n",
       "ID_00008ce3c         0  \n",
       "ID_0000950d7         0  "
      ]
     },
     "execution_count": 20,
     "metadata": {},
     "output_type": "execute_result"
    }
   ],
   "source": [
    "train_df = make_usable_df(train_meta_df)\n",
    "train_df.head()"
   ]
  },
  {
   "cell_type": "markdown",
   "metadata": {},
   "source": [
    "\n",
    "Check for Duplicates:"
   ]
  },
  {
   "cell_type": "code",
   "execution_count": 21,
   "metadata": {},
   "outputs": [
    {
     "data": {
      "text/plain": [
       "0"
      ]
     },
     "execution_count": 21,
     "metadata": {},
     "output_type": "execute_result"
    }
   ],
   "source": [
    "test_meta_df.duplicated().sum()"
   ]
  },
  {
   "cell_type": "markdown",
   "metadata": {},
   "source": [
    "Make usable Data Frame:"
   ]
  },
  {
   "cell_type": "code",
   "execution_count": 22,
   "metadata": {},
   "outputs": [
    {
     "data": {
      "text/html": [
       "<div>\n",
       "<style scoped>\n",
       "    .dataframe tbody tr th:only-of-type {\n",
       "        vertical-align: middle;\n",
       "    }\n",
       "\n",
       "    .dataframe tbody tr th {\n",
       "        vertical-align: top;\n",
       "    }\n",
       "\n",
       "    .dataframe thead th {\n",
       "        text-align: right;\n",
       "    }\n",
       "</style>\n",
       "<table border=\"1\" class=\"dataframe\">\n",
       "  <thead>\n",
       "    <tr style=\"text-align: right;\">\n",
       "      <th>subtype</th>\n",
       "      <th>any</th>\n",
       "      <th>epidural</th>\n",
       "      <th>intraparenchymal</th>\n",
       "      <th>intraventricular</th>\n",
       "      <th>subarachnoid</th>\n",
       "      <th>subdural</th>\n",
       "    </tr>\n",
       "    <tr>\n",
       "      <th>id</th>\n",
       "      <th></th>\n",
       "      <th></th>\n",
       "      <th></th>\n",
       "      <th></th>\n",
       "      <th></th>\n",
       "      <th></th>\n",
       "    </tr>\n",
       "  </thead>\n",
       "  <tbody>\n",
       "    <tr>\n",
       "      <th>ID_000000e27</th>\n",
       "      <td>0.5</td>\n",
       "      <td>0.5</td>\n",
       "      <td>0.5</td>\n",
       "      <td>0.5</td>\n",
       "      <td>0.5</td>\n",
       "      <td>0.5</td>\n",
       "    </tr>\n",
       "    <tr>\n",
       "      <th>ID_000009146</th>\n",
       "      <td>0.5</td>\n",
       "      <td>0.5</td>\n",
       "      <td>0.5</td>\n",
       "      <td>0.5</td>\n",
       "      <td>0.5</td>\n",
       "      <td>0.5</td>\n",
       "    </tr>\n",
       "    <tr>\n",
       "      <th>ID_00007b8cb</th>\n",
       "      <td>0.5</td>\n",
       "      <td>0.5</td>\n",
       "      <td>0.5</td>\n",
       "      <td>0.5</td>\n",
       "      <td>0.5</td>\n",
       "      <td>0.5</td>\n",
       "    </tr>\n",
       "    <tr>\n",
       "      <th>ID_000134952</th>\n",
       "      <td>0.5</td>\n",
       "      <td>0.5</td>\n",
       "      <td>0.5</td>\n",
       "      <td>0.5</td>\n",
       "      <td>0.5</td>\n",
       "      <td>0.5</td>\n",
       "    </tr>\n",
       "    <tr>\n",
       "      <th>ID_000176f2a</th>\n",
       "      <td>0.5</td>\n",
       "      <td>0.5</td>\n",
       "      <td>0.5</td>\n",
       "      <td>0.5</td>\n",
       "      <td>0.5</td>\n",
       "      <td>0.5</td>\n",
       "    </tr>\n",
       "  </tbody>\n",
       "</table>\n",
       "</div>"
      ],
      "text/plain": [
       "subtype       any  epidural  intraparenchymal  intraventricular  subarachnoid  \\\n",
       "id                                                                              \n",
       "ID_000000e27  0.5       0.5               0.5               0.5           0.5   \n",
       "ID_000009146  0.5       0.5               0.5               0.5           0.5   \n",
       "ID_00007b8cb  0.5       0.5               0.5               0.5           0.5   \n",
       "ID_000134952  0.5       0.5               0.5               0.5           0.5   \n",
       "ID_000176f2a  0.5       0.5               0.5               0.5           0.5   \n",
       "\n",
       "subtype       subdural  \n",
       "id                      \n",
       "ID_000000e27       0.5  \n",
       "ID_000009146       0.5  \n",
       "ID_00007b8cb       0.5  \n",
       "ID_000134952       0.5  \n",
       "ID_000176f2a       0.5  "
      ]
     },
     "execution_count": 22,
     "metadata": {},
     "output_type": "execute_result"
    }
   ],
   "source": [
    "test_df = make_usable_df(test_meta_df)\n",
    "test_df.head()"
   ]
  },
  {
   "cell_type": "markdown",
   "metadata": {},
   "source": [
    "# Train/ Val Split"
   ]
  },
  {
   "cell_type": "markdown",
   "metadata": {},
   "source": [
    "## Multi Label Stratified Shuffel Splitter \n",
    "Cross Validaor with stratification on multiple labels:\n",
    "https://github.com/trent-b/iterative-stratification"
   ]
  },
  {
   "cell_type": "code",
   "execution_count": 23,
   "metadata": {},
   "outputs": [],
   "source": [
    "msss = MultilabelStratifiedShuffleSplit(n_splits = 10, test_size = TEST_SIZE, random_state = SEED)\n",
    "X = train_df.index\n",
    "Y = train_df[['any', 'epidural', 'intraparenchymal', 'intraventricular',\n",
    "       'subarachnoid', 'subdural']].values\n",
    "\n",
    "# Get train and test index\n",
    "msss_splits = next(msss.split(X, Y))\n",
    "train_idx = msss_splits[0]\n",
    "val_idx = msss_splits[1]"
   ]
  },
  {
   "cell_type": "code",
   "execution_count": 24,
   "metadata": {
    "scrolled": true
   },
   "outputs": [
    {
     "data": {
      "text/plain": [
       "(602242,)"
      ]
     },
     "execution_count": 24,
     "metadata": {},
     "output_type": "execute_result"
    }
   ],
   "source": [
    "train_idx.shape"
   ]
  },
  {
   "cell_type": "code",
   "execution_count": 25,
   "metadata": {},
   "outputs": [
    {
     "data": {
      "text/plain": [
       "(150561,)"
      ]
     },
     "execution_count": 25,
     "metadata": {},
     "output_type": "execute_result"
    }
   ],
   "source": [
    "val_idx.shape"
   ]
  },
  {
   "cell_type": "code",
   "execution_count": 26,
   "metadata": {},
   "outputs": [],
   "source": [
    "train_data = train_df.iloc[train_idx]"
   ]
  },
  {
   "cell_type": "code",
   "execution_count": 27,
   "metadata": {},
   "outputs": [
    {
     "data": {
      "text/plain": [
       "(602242, 6)"
      ]
     },
     "execution_count": 27,
     "metadata": {},
     "output_type": "execute_result"
    }
   ],
   "source": [
    "train_data.shape"
   ]
  },
  {
   "cell_type": "code",
   "execution_count": 28,
   "metadata": {},
   "outputs": [],
   "source": [
    "val_data = train_df.iloc[val_idx]"
   ]
  },
  {
   "cell_type": "code",
   "execution_count": 29,
   "metadata": {},
   "outputs": [
    {
     "data": {
      "text/plain": [
       "(150561, 6)"
      ]
     },
     "execution_count": 29,
     "metadata": {},
     "output_type": "execute_result"
    }
   ],
   "source": [
    "val_data.shape"
   ]
  },
  {
   "cell_type": "markdown",
   "metadata": {},
   "source": [
    "## Custom Loan Functions\n"
   ]
  },
  {
   "cell_type": "code",
   "execution_count": 30,
   "metadata": {},
   "outputs": [],
   "source": [
    "from tensorflow.python.ops import array_ops"
   ]
  },
  {
   "cell_type": "code",
   "execution_count": 31,
   "metadata": {},
   "outputs": [],
   "source": [
    "def focal_loss(prediction_tensor, target_tensor, weights=None, alpha=0.25, gamma=2):\n",
    "    r\"\"\"Compute focal loss for predictions.\n",
    "        Multi-labels Focal loss formula:\n",
    "            FL = -alpha * (z-p)^gamma * log(p) -(1-alpha) * p^gamma * log(1-p)\n",
    "                 ,which alpha = 0.25, gamma = 2, p = sigmoid(x), z = target_tensor.\n",
    "    Args:\n",
    "     prediction_tensor: A float tensor of shape [batch_size, num_anchors,\n",
    "        num_classes] representing the predicted logits for each class\n",
    "     target_tensor: A float tensor of shape [batch_size, num_anchors,\n",
    "        num_classes] representing one-hot encoded classification targets\n",
    "     weights: A float tensor of shape [batch_size, num_anchors]\n",
    "     alpha: A scalar tensor for focal loss alpha hyper-parameter\n",
    "     gamma: A scalar tensor for focal loss gamma hyper-parameter\n",
    "    Returns:\n",
    "        loss: A (scalar) tensor representing the value of the loss function\n",
    "    \"\"\"\n",
    "    sigmoid_p = tf.nn.sigmoid(prediction_tensor)\n",
    "    zeros = array_ops.zeros_like(sigmoid_p, dtype=sigmoid_p.dtype)\n",
    "    \n",
    "    # For poitive prediction, only need consider front part loss, back part is 0;\n",
    "    # target_tensor > zeros <=> z=1, so poitive coefficient = z - p.\n",
    "    pos_p_sub = array_ops.where(target_tensor > zeros, target_tensor - sigmoid_p, zeros)\n",
    "    \n",
    "    # For negative prediction, only need consider back part loss, front part is 0;\n",
    "    # target_tensor > zeros <=> z=1, so negative coefficient = 0.\n",
    "    neg_p_sub = array_ops.where(target_tensor > zeros, zeros, sigmoid_p)\n",
    "    per_entry_cross_ent = - alpha * (pos_p_sub ** gamma) * K.log(tf.clip_by_value(sigmoid_p, 1e-8, 1.0)) \\\n",
    "                          - (1 - alpha) * (neg_p_sub ** gamma) * K.log(tf.clip_by_value(1.0 - sigmoid_p, 1e-8, 1.0))\n",
    "    return tf.reduce_sum(per_entry_cross_ent)"
   ]
  },
  {
   "cell_type": "markdown",
   "metadata": {},
   "source": [
    "## Make Model\n"
   ]
  },
  {
   "cell_type": "code",
   "execution_count": 76,
   "metadata": {},
   "outputs": [],
   "source": [
    "def vgg_16():\n",
    "    weights_path = '../models/predtrained models/vgg16_weights_tf_dim_ordering_tf_kernels_notop.h5'\n",
    "    net = VGG16(include_top=False, weights=weights_path)\n",
    "    for layer in net.layers:\n",
    "        layer.trainable = False\n",
    "    return net"
   ]
  },
  {
   "cell_type": "code",
   "execution_count": 77,
   "metadata": {},
   "outputs": [],
   "source": [
    "my_vgg_16 = vgg_16"
   ]
  },
  {
   "cell_type": "code",
   "execution_count": 78,
   "metadata": {},
   "outputs": [],
   "source": [
    "class MakeModel:\n",
    "    \n",
    "    def __init__(self,\n",
    "                 pt_model,\n",
    "                 #loss,\n",
    "                 metrics_list,\n",
    "                 data_generator_train,\n",
    "                 data_generator_val,\n",
    "                 epochs,\n",
    "                 num_classes=6,\n",
    "                 checkpoint_path='../models/mymodels/'):\n",
    "        \n",
    "        self.pt_model = pt_model\n",
    "        #self.loss = loss\n",
    "        self.metrics_list = metrics_list\n",
    "        self.data_generator_train = data_generator_train\n",
    "        self.data_generator_val = data_generator_val\n",
    "        self.epochs = epochs\n",
    "        self.num_classes = num_classes\n",
    "        self.checkpoint_path = checkpoint_path \n",
    "        self.checkpoint = ModelCheckpoint(filepath=self.checkpoint_path,\n",
    "                                          mode=\"min\",\n",
    "                                          verbose=1,\n",
    "                                          save_best_only=True,\n",
    "                                          save_weights_only=True)\n",
    "#         self.learningrate = ReduceLROnPlateau(monitor='val_loss',\n",
    "#                                             factor=0.5,\n",
    "#                                             patience=2,\n",
    "#                                             min_lr=1e-8,\n",
    "#                                             mode=\"min\")\n",
    "        self.earlystopping = EarlyStopping(monitor=\"val_any_predictions_loss\",\n",
    "                                        patience=10,\n",
    "                                        mode=\"min\",\n",
    "                                        restore_best_weights=True)\n",
    "        \n",
    "    def build_model(self):\n",
    "        base_model = self.pt_model()\n",
    "        x = base_model.output\n",
    "        x = GlobalAveragePooling2D()(x)\n",
    "        x = Dropout(0.5)(x)\n",
    "        any_logits = Dense(1, kernel_initializer=he_normal(seed=11))(x)\n",
    "        any_pred = Activation(\"sigmoid\", name=\"any_predictions\")(any_logits)\n",
    "        x = concatenate([any_pred, x])\n",
    "        sub_pred = Dense(self.num_classes,\n",
    "                         name=\"subtype_pred\",\n",
    "                         kernel_initializer=he_normal(seed=11),\n",
    "                         activation=\"sigmoid\")(x) \n",
    "        self.model = Model(inputs=base_model.input, outputs=[any_pred, sub_pred])\n",
    "        \n",
    "        \n",
    "    \n",
    "    def compile_model(self):\n",
    "        self.model.compile(optimizer='adam',\n",
    "                           loss=['binary_crossentropy', focal_loss],\n",
    "                           loss_weights = [1., 0.],\n",
    "                           metrics=self.metrics_list)\n",
    "    \n",
    "    def fit_model(self):\n",
    "        return self.model.fit_generator(generator = self.data_generator_train,\n",
    "                    validation_data=self.data_generator_val,\n",
    "                    epochs=self.epochs,\n",
    "                    callbacks=[self.checkpoint,self.earlystopping],\n",
    "                    use_multiprocessing=True,\n",
    "                    workers=-1)\n",
    "    \n",
    "    def load_weights(self, path):\n",
    "        self.model.load_weights(path)\n",
    "    \n",
    "    def predict(self, data_generator_test):\n",
    "        predictions = self.model.predict_generator(data_generator_test, use_multiprocessing = True, workers=-1)\n",
    "        return predictions"
   ]
  },
  {
   "cell_type": "code",
   "execution_count": 79,
   "metadata": {},
   "outputs": [],
   "source": [
    "train_preprocessor = Preprocessor(path=PATH_TRAIN_DATA,\n",
    "                                  hu_min_value=0,\n",
    "                                  hu_max_value=100,\n",
    "                                  augment=True)"
   ]
  },
  {
   "cell_type": "code",
   "execution_count": 80,
   "metadata": {},
   "outputs": [],
   "source": [
    "val_preprocessor = Preprocessor(path=PATH_TRAIN_DATA,\n",
    "                                  hu_min_value=0,\n",
    "                                  hu_max_value=100,\n",
    "                                  augment=False)"
   ]
  },
  {
   "cell_type": "code",
   "execution_count": 81,
   "metadata": {},
   "outputs": [],
   "source": [
    "test_preprocessor = Preprocessor(path=PATH_TEST_DATA,\n",
    "                                hu_min_value=0,\n",
    "                                hu_max_value=100,\n",
    "                                augment=False)"
   ]
  },
  {
   "cell_type": "code",
   "execution_count": 82,
   "metadata": {},
   "outputs": [],
   "source": [
    "data_generator_train = Data_Generator(train_data,\n",
    "                              train_preprocessor,\n",
    "                              32,\n",
    "                              shuffle=True,\n",
    "                              steps=50)\n",
    "\n",
    "data_generator_val = Data_Generator(val_data, \n",
    "                            val_preprocessor,\n",
    "                            32,\n",
    "                            shuffle=True,\n",
    "                            steps=50)\n",
    "\n",
    "data_generator_test= Data_Generator(test_df, \n",
    "                             test_preprocessor,\n",
    "                             16,\n",
    "                             shuffle=False)"
   ]
  },
  {
   "cell_type": "code",
   "execution_count": 83,
   "metadata": {},
   "outputs": [
    {
     "data": {
      "text/plain": [
       "subtype\n",
       "any                 0.500000\n",
       "epidural            0.018382\n",
       "intraparenchymal    0.172181\n",
       "intraventricular    0.133578\n",
       "subarachnoid        0.164216\n",
       "subdural            0.204657\n",
       "dtype: float64"
      ]
     },
     "execution_count": 83,
     "metadata": {},
     "output_type": "execute_result"
    }
   ],
   "source": [
    "train_data.loc[data_generator_train.data_ids].sum() / train_data.loc[data_generator_train.data_ids].shape[0]"
   ]
  },
  {
   "cell_type": "code",
   "execution_count": 84,
   "metadata": {
    "scrolled": true
   },
   "outputs": [
    {
     "name": "stdout",
     "output_type": "stream",
     "text": [
      "Epoch 1/500\n",
      "50/51 [============================>.] - ETA: 1s - loss: 0.6986 - any_predictions_loss: 0.6986 - subtype_pred_loss: 1.0070 - any_predictions_binary_crossentropy: 0.6986 - any_predictions_accuracy: 0.5344 - subtype_pred_focal_loss: 1.0070 - subtype_pred_accuracy: 0.2937\n",
      "Epoch 00001: val_loss improved from inf to 0.67060, saving model to ../models/mymodels/\n",
      "51/51 [==============================] - 75s 1s/step - loss: 0.6979 - any_predictions_loss: 0.6979 - subtype_pred_loss: 1.0094 - any_predictions_binary_crossentropy: 0.6979 - any_predictions_accuracy: 0.5343 - subtype_pred_focal_loss: 1.0094 - subtype_pred_accuracy: 0.2929 - val_loss: 0.6706 - val_any_predictions_loss: 0.6706 - val_subtype_pred_loss: 0.5194 - val_any_predictions_binary_crossentropy: 0.6706 - val_any_predictions_accuracy: 0.6844 - val_subtype_pred_focal_loss: 0.5194 - val_subtype_pred_accuracy: 0.4730\n",
      "Epoch 2/500\n",
      "50/51 [============================>.] - ETA: 1s - loss: 0.6662 - any_predictions_loss: 0.6662 - subtype_pred_loss: 0.9865 - any_predictions_binary_crossentropy: 0.6662 - any_predictions_accuracy: 0.5944 - subtype_pred_focal_loss: 0.9865 - subtype_pred_accuracy: 0.3119\n",
      "Epoch 00002: val_loss improved from 0.67060 to 0.65043, saving model to ../models/mymodels/\n",
      "51/51 [==============================] - 75s 1s/step - loss: 0.6662 - any_predictions_loss: 0.6662 - subtype_pred_loss: 0.9851 - any_predictions_binary_crossentropy: 0.6662 - any_predictions_accuracy: 0.5931 - subtype_pred_focal_loss: 0.9851 - subtype_pred_accuracy: 0.3100 - val_loss: 0.6504 - val_any_predictions_loss: 0.6504 - val_subtype_pred_loss: 0.5194 - val_any_predictions_binary_crossentropy: 0.6504 - val_any_predictions_accuracy: 0.6918 - val_subtype_pred_focal_loss: 0.5194 - val_subtype_pred_accuracy: 0.4730\n",
      "Epoch 3/500\n",
      "50/51 [============================>.] - ETA: 1s - loss: 0.6593 - any_predictions_loss: 0.6593 - subtype_pred_loss: 1.0130 - any_predictions_binary_crossentropy: 0.6593 - any_predictions_accuracy: 0.6156 - subtype_pred_focal_loss: 1.0130 - subtype_pred_accuracy: 0.3113\n",
      "Epoch 00003: val_loss improved from 0.65043 to 0.63684, saving model to ../models/mymodels/\n",
      "51/51 [==============================] - 75s 1s/step - loss: 0.6578 - any_predictions_loss: 0.6578 - subtype_pred_loss: 1.0115 - any_predictions_binary_crossentropy: 0.6578 - any_predictions_accuracy: 0.6207 - subtype_pred_focal_loss: 1.0115 - subtype_pred_accuracy: 0.3094 - val_loss: 0.6368 - val_any_predictions_loss: 0.6368 - val_subtype_pred_loss: 0.5195 - val_any_predictions_binary_crossentropy: 0.6368 - val_any_predictions_accuracy: 0.6936 - val_subtype_pred_focal_loss: 0.5195 - val_subtype_pred_accuracy: 0.4718\n",
      "Epoch 4/500\n",
      "50/51 [============================>.] - ETA: 1s - loss: 0.6391 - any_predictions_loss: 0.6391 - subtype_pred_loss: 1.0050 - any_predictions_binary_crossentropy: 0.6391 - any_predictions_accuracy: 0.6506 - subtype_pred_focal_loss: 1.0050 - subtype_pred_accuracy: 0.3100\n",
      "Epoch 00004: val_loss improved from 0.63684 to 0.62630, saving model to ../models/mymodels/\n",
      "51/51 [==============================] - 76s 1s/step - loss: 0.6389 - any_predictions_loss: 0.6389 - subtype_pred_loss: 1.0005 - any_predictions_binary_crossentropy: 0.6389 - any_predictions_accuracy: 0.6495 - subtype_pred_focal_loss: 1.0005 - subtype_pred_accuracy: 0.3082 - val_loss: 0.6263 - val_any_predictions_loss: 0.6263 - val_subtype_pred_loss: 0.5194 - val_any_predictions_binary_crossentropy: 0.6263 - val_any_predictions_accuracy: 0.6949 - val_subtype_pred_focal_loss: 0.5194 - val_subtype_pred_accuracy: 0.4706\n",
      "Epoch 5/500\n",
      "50/51 [============================>.] - ETA: 1s - loss: 0.6231 - any_predictions_loss: 0.6231 - subtype_pred_loss: 0.9705 - any_predictions_binary_crossentropy: 0.6231 - any_predictions_accuracy: 0.6687 - subtype_pred_focal_loss: 0.9705 - subtype_pred_accuracy: 0.2956\n",
      "Epoch 00005: val_loss improved from 0.62630 to 0.61820, saving model to ../models/mymodels/\n",
      "51/51 [==============================] - 74s 1s/step - loss: 0.6228 - any_predictions_loss: 0.6228 - subtype_pred_loss: 0.9676 - any_predictions_binary_crossentropy: 0.6228 - any_predictions_accuracy: 0.6685 - subtype_pred_focal_loss: 0.9676 - subtype_pred_accuracy: 0.2917 - val_loss: 0.6182 - val_any_predictions_loss: 0.6182 - val_subtype_pred_loss: 0.5194 - val_any_predictions_binary_crossentropy: 0.6182 - val_any_predictions_accuracy: 0.6967 - val_subtype_pred_focal_loss: 0.5194 - val_subtype_pred_accuracy: 0.4694\n",
      "Epoch 6/500\n",
      "50/51 [============================>.] - ETA: 1s - loss: 0.6257 - any_predictions_loss: 0.6257 - subtype_pred_loss: 1.0188 - any_predictions_binary_crossentropy: 0.6257 - any_predictions_accuracy: 0.6606 - subtype_pred_focal_loss: 1.0188 - subtype_pred_accuracy: 0.3075\n",
      "Epoch 00006: val_loss improved from 0.61820 to 0.61282, saving model to ../models/mymodels/\n",
      "51/51 [==============================] - 73s 1s/step - loss: 0.6252 - any_predictions_loss: 0.6252 - subtype_pred_loss: 1.0197 - any_predictions_binary_crossentropy: 0.6252 - any_predictions_accuracy: 0.6605 - subtype_pred_focal_loss: 1.0197 - subtype_pred_accuracy: 0.3088 - val_loss: 0.6128 - val_any_predictions_loss: 0.6128 - val_subtype_pred_loss: 0.5193 - val_any_predictions_binary_crossentropy: 0.6128 - val_any_predictions_accuracy: 0.6838 - val_subtype_pred_focal_loss: 0.5193 - val_subtype_pred_accuracy: 0.4681\n",
      "Epoch 7/500\n",
      "50/51 [============================>.] - ETA: 1s - loss: 0.6180 - any_predictions_loss: 0.6180 - subtype_pred_loss: 1.0051 - any_predictions_binary_crossentropy: 0.6180 - any_predictions_accuracy: 0.6681 - subtype_pred_focal_loss: 1.0051 - subtype_pred_accuracy: 0.3044\n",
      "Epoch 00007: val_loss improved from 0.61282 to 0.60719, saving model to ../models/mymodels/\n",
      "51/51 [==============================] - 73s 1s/step - loss: 0.6170 - any_predictions_loss: 0.6170 - subtype_pred_loss: 1.0075 - any_predictions_binary_crossentropy: 0.6170 - any_predictions_accuracy: 0.6710 - subtype_pred_focal_loss: 1.0075 - subtype_pred_accuracy: 0.3051 - val_loss: 0.6072 - val_any_predictions_loss: 0.6072 - val_subtype_pred_loss: 0.5194 - val_any_predictions_binary_crossentropy: 0.6072 - val_any_predictions_accuracy: 0.6930 - val_subtype_pred_focal_loss: 0.5194 - val_subtype_pred_accuracy: 0.4681\n",
      "Epoch 8/500\n",
      "50/51 [============================>.] - ETA: 1s - loss: 0.6151 - any_predictions_loss: 0.6151 - subtype_pred_loss: 0.9851 - any_predictions_binary_crossentropy: 0.6151 - any_predictions_accuracy: 0.6550 - subtype_pred_focal_loss: 0.9851 - subtype_pred_accuracy: 0.3006\n",
      "Epoch 00008: val_loss improved from 0.60719 to 0.60323, saving model to ../models/mymodels/\n",
      "51/51 [==============================] - 73s 1s/step - loss: 0.6148 - any_predictions_loss: 0.6148 - subtype_pred_loss: 0.9842 - any_predictions_binary_crossentropy: 0.6148 - any_predictions_accuracy: 0.6550 - subtype_pred_focal_loss: 0.9842 - subtype_pred_accuracy: 0.3009 - val_loss: 0.6032 - val_any_predictions_loss: 0.6032 - val_subtype_pred_loss: 0.5195 - val_any_predictions_binary_crossentropy: 0.6032 - val_any_predictions_accuracy: 0.7004 - val_subtype_pred_focal_loss: 0.5195 - val_subtype_pred_accuracy: 0.4681\n",
      "Epoch 9/500\n",
      "50/51 [============================>.] - ETA: 1s - loss: 0.6126 - any_predictions_loss: 0.6126 - subtype_pred_loss: 1.0297 - any_predictions_binary_crossentropy: 0.6126 - any_predictions_accuracy: 0.6625 - subtype_pred_focal_loss: 1.0297 - subtype_pred_accuracy: 0.3063\n",
      "Epoch 00009: val_loss improved from 0.60323 to 0.60042, saving model to ../models/mymodels/\n",
      "51/51 [==============================] - 74s 1s/step - loss: 0.6115 - any_predictions_loss: 0.6115 - subtype_pred_loss: 1.0305 - any_predictions_binary_crossentropy: 0.6115 - any_predictions_accuracy: 0.6630 - subtype_pred_focal_loss: 1.0305 - subtype_pred_accuracy: 0.3070 - val_loss: 0.6004 - val_any_predictions_loss: 0.6004 - val_subtype_pred_loss: 0.5194 - val_any_predictions_binary_crossentropy: 0.6004 - val_any_predictions_accuracy: 0.6936 - val_subtype_pred_focal_loss: 0.5194 - val_subtype_pred_accuracy: 0.4681\n",
      "Epoch 10/500\n",
      "50/51 [============================>.] - ETA: 0s - loss: 0.6040 - any_predictions_loss: 0.6040 - subtype_pred_loss: 1.0333 - any_predictions_binary_crossentropy: 0.6040 - any_predictions_accuracy: 0.6837 - subtype_pred_focal_loss: 1.0333 - subtype_pred_accuracy: 0.3044\n",
      "Epoch 00010: val_loss improved from 0.60042 to 0.59749, saving model to ../models/mymodels/\n",
      "51/51 [==============================] - 72s 1s/step - loss: 0.6036 - any_predictions_loss: 0.6036 - subtype_pred_loss: 1.0295 - any_predictions_binary_crossentropy: 0.6036 - any_predictions_accuracy: 0.6838 - subtype_pred_focal_loss: 1.0295 - subtype_pred_accuracy: 0.3027 - val_loss: 0.5975 - val_any_predictions_loss: 0.5975 - val_subtype_pred_loss: 0.5194 - val_any_predictions_binary_crossentropy: 0.5975 - val_any_predictions_accuracy: 0.6955 - val_subtype_pred_focal_loss: 0.5194 - val_subtype_pred_accuracy: 0.4681\n",
      "Epoch 11/500\n",
      "50/51 [============================>.] - ETA: 1s - loss: 0.6040 - any_predictions_loss: 0.6040 - subtype_pred_loss: 1.0042 - any_predictions_binary_crossentropy: 0.6040 - any_predictions_accuracy: 0.6837 - subtype_pred_focal_loss: 1.0042 - subtype_pred_accuracy: 0.3025\n",
      "Epoch 00011: val_loss improved from 0.59749 to 0.59535, saving model to ../models/mymodels/\n",
      "51/51 [==============================] - 73s 1s/step - loss: 0.6034 - any_predictions_loss: 0.6034 - subtype_pred_loss: 1.0069 - any_predictions_binary_crossentropy: 0.6034 - any_predictions_accuracy: 0.6850 - subtype_pred_focal_loss: 1.0069 - subtype_pred_accuracy: 0.3021 - val_loss: 0.5954 - val_any_predictions_loss: 0.5954 - val_subtype_pred_loss: 0.5194 - val_any_predictions_binary_crossentropy: 0.5954 - val_any_predictions_accuracy: 0.6961 - val_subtype_pred_focal_loss: 0.5194 - val_subtype_pred_accuracy: 0.4681\n",
      "Epoch 12/500\n",
      "50/51 [============================>.] - ETA: 1s - loss: 0.6012 - any_predictions_loss: 0.6012 - subtype_pred_loss: 1.0232 - any_predictions_binary_crossentropy: 0.6012 - any_predictions_accuracy: 0.6737 - subtype_pred_focal_loss: 1.0232 - subtype_pred_accuracy: 0.3237\n",
      "Epoch 00012: val_loss improved from 0.59535 to 0.59314, saving model to ../models/mymodels/\n",
      "51/51 [==============================] - 72s 1s/step - loss: 0.6009 - any_predictions_loss: 0.6009 - subtype_pred_loss: 1.0230 - any_predictions_binary_crossentropy: 0.6009 - any_predictions_accuracy: 0.6746 - subtype_pred_focal_loss: 1.0230 - subtype_pred_accuracy: 0.3235 - val_loss: 0.5931 - val_any_predictions_loss: 0.5931 - val_subtype_pred_loss: 0.5194 - val_any_predictions_binary_crossentropy: 0.5931 - val_any_predictions_accuracy: 0.6985 - val_subtype_pred_focal_loss: 0.5194 - val_subtype_pred_accuracy: 0.4681\n",
      "Epoch 13/500\n",
      "50/51 [============================>.] - ETA: 1s - loss: 0.6017 - any_predictions_loss: 0.6017 - subtype_pred_loss: 0.9982 - any_predictions_binary_crossentropy: 0.6017 - any_predictions_accuracy: 0.6750 - subtype_pred_focal_loss: 0.9982 - subtype_pred_accuracy: 0.2919\n",
      "Epoch 00013: val_loss improved from 0.59314 to 0.59146, saving model to ../models/mymodels/\n",
      "51/51 [==============================] - 73s 1s/step - loss: 0.6015 - any_predictions_loss: 0.6015 - subtype_pred_loss: 0.9947 - any_predictions_binary_crossentropy: 0.6015 - any_predictions_accuracy: 0.6765 - subtype_pred_focal_loss: 0.9947 - subtype_pred_accuracy: 0.2923 - val_loss: 0.5915 - val_any_predictions_loss: 0.5915 - val_subtype_pred_loss: 0.5194 - val_any_predictions_binary_crossentropy: 0.5915 - val_any_predictions_accuracy: 0.6998 - val_subtype_pred_focal_loss: 0.5194 - val_subtype_pred_accuracy: 0.4681\n",
      "Epoch 14/500\n",
      "50/51 [============================>.] - ETA: 0s - loss: 0.5962 - any_predictions_loss: 0.5962 - subtype_pred_loss: 0.9921 - any_predictions_binary_crossentropy: 0.5962 - any_predictions_accuracy: 0.6844 - subtype_pred_focal_loss: 0.9921 - subtype_pred_accuracy: 0.3069\n",
      "Epoch 00014: val_loss improved from 0.59146 to 0.59024, saving model to ../models/mymodels/\n",
      "51/51 [==============================] - 72s 1s/step - loss: 0.5952 - any_predictions_loss: 0.5952 - subtype_pred_loss: 0.9903 - any_predictions_binary_crossentropy: 0.5952 - any_predictions_accuracy: 0.6850 - subtype_pred_focal_loss: 0.9903 - subtype_pred_accuracy: 0.3058 - val_loss: 0.5902 - val_any_predictions_loss: 0.5902 - val_subtype_pred_loss: 0.5194 - val_any_predictions_binary_crossentropy: 0.5902 - val_any_predictions_accuracy: 0.6961 - val_subtype_pred_focal_loss: 0.5194 - val_subtype_pred_accuracy: 0.4681\n",
      "Epoch 15/500\n",
      "50/51 [============================>.] - ETA: 1s - loss: 0.5944 - any_predictions_loss: 0.5944 - subtype_pred_loss: 0.9991 - any_predictions_binary_crossentropy: 0.5944 - any_predictions_accuracy: 0.6831 - subtype_pred_focal_loss: 0.9991 - subtype_pred_accuracy: 0.2906\n",
      "Epoch 00015: val_loss improved from 0.59024 to 0.58956, saving model to ../models/mymodels/\n",
      "51/51 [==============================] - 73s 1s/step - loss: 0.5934 - any_predictions_loss: 0.5934 - subtype_pred_loss: 0.9973 - any_predictions_binary_crossentropy: 0.5934 - any_predictions_accuracy: 0.6850 - subtype_pred_focal_loss: 0.9973 - subtype_pred_accuracy: 0.2911 - val_loss: 0.5896 - val_any_predictions_loss: 0.5896 - val_subtype_pred_loss: 0.5193 - val_any_predictions_binary_crossentropy: 0.5896 - val_any_predictions_accuracy: 0.6930 - val_subtype_pred_focal_loss: 0.5193 - val_subtype_pred_accuracy: 0.4681\n",
      "Epoch 16/500\n",
      "50/51 [============================>.] - ETA: 1s - loss: 0.5926 - any_predictions_loss: 0.5926 - subtype_pred_loss: 0.9855 - any_predictions_binary_crossentropy: 0.5926 - any_predictions_accuracy: 0.6769 - subtype_pred_focal_loss: 0.9855 - subtype_pred_accuracy: 0.2969\n",
      "Epoch 00016: val_loss improved from 0.58956 to 0.58752, saving model to ../models/mymodels/\n",
      "51/51 [==============================] - 72s 1s/step - loss: 0.5918 - any_predictions_loss: 0.5918 - subtype_pred_loss: 0.9838 - any_predictions_binary_crossentropy: 0.5918 - any_predictions_accuracy: 0.6783 - subtype_pred_focal_loss: 0.9838 - subtype_pred_accuracy: 0.2935 - val_loss: 0.5875 - val_any_predictions_loss: 0.5875 - val_subtype_pred_loss: 0.5193 - val_any_predictions_binary_crossentropy: 0.5875 - val_any_predictions_accuracy: 0.6967 - val_subtype_pred_focal_loss: 0.5193 - val_subtype_pred_accuracy: 0.4681\n",
      "Epoch 17/500\n",
      "50/51 [============================>.] - ETA: 1s - loss: 0.5923 - any_predictions_loss: 0.5923 - subtype_pred_loss: 1.0064 - any_predictions_binary_crossentropy: 0.5923 - any_predictions_accuracy: 0.6881 - subtype_pred_focal_loss: 1.0064 - subtype_pred_accuracy: 0.2900\n",
      "Epoch 00017: val_loss improved from 0.58752 to 0.58669, saving model to ../models/mymodels/\n",
      "51/51 [==============================] - 72s 1s/step - loss: 0.5914 - any_predictions_loss: 0.5914 - subtype_pred_loss: 1.0081 - any_predictions_binary_crossentropy: 0.5914 - any_predictions_accuracy: 0.6893 - subtype_pred_focal_loss: 1.0081 - subtype_pred_accuracy: 0.2898 - val_loss: 0.5867 - val_any_predictions_loss: 0.5867 - val_subtype_pred_loss: 0.5193 - val_any_predictions_binary_crossentropy: 0.5867 - val_any_predictions_accuracy: 0.6961 - val_subtype_pred_focal_loss: 0.5193 - val_subtype_pred_accuracy: 0.4681\n",
      "Epoch 18/500\n",
      "50/51 [============================>.] - ETA: 1s - loss: 0.5908 - any_predictions_loss: 0.5908 - subtype_pred_loss: 1.0079 - any_predictions_binary_crossentropy: 0.5908 - any_predictions_accuracy: 0.6812 - subtype_pred_focal_loss: 1.0079 - subtype_pred_accuracy: 0.3256\n",
      "Epoch 00018: val_loss improved from 0.58669 to 0.58539, saving model to ../models/mymodels/\n",
      "51/51 [==============================] - 72s 1s/step - loss: 0.5902 - any_predictions_loss: 0.5902 - subtype_pred_loss: 1.0063 - any_predictions_binary_crossentropy: 0.5902 - any_predictions_accuracy: 0.6826 - subtype_pred_focal_loss: 1.0063 - subtype_pred_accuracy: 0.3272 - val_loss: 0.5854 - val_any_predictions_loss: 0.5854 - val_subtype_pred_loss: 0.5192 - val_any_predictions_binary_crossentropy: 0.5854 - val_any_predictions_accuracy: 0.6955 - val_subtype_pred_focal_loss: 0.5192 - val_subtype_pred_accuracy: 0.4681\n",
      "Epoch 19/500\n"
     ]
    },
    {
     "name": "stdout",
     "output_type": "stream",
     "text": [
      "50/51 [============================>.] - ETA: 1s - loss: 0.5922 - any_predictions_loss: 0.5922 - subtype_pred_loss: 1.0082 - any_predictions_binary_crossentropy: 0.5922 - any_predictions_accuracy: 0.6869 - subtype_pred_focal_loss: 1.0082 - subtype_pred_accuracy: 0.3137\n",
      "Epoch 00019: val_loss improved from 0.58539 to 0.58341, saving model to ../models/mymodels/\n",
      "51/51 [==============================] - 73s 1s/step - loss: 0.5918 - any_predictions_loss: 0.5918 - subtype_pred_loss: 1.0094 - any_predictions_binary_crossentropy: 0.5918 - any_predictions_accuracy: 0.6869 - subtype_pred_focal_loss: 1.0094 - subtype_pred_accuracy: 0.3143 - val_loss: 0.5834 - val_any_predictions_loss: 0.5834 - val_subtype_pred_loss: 0.5193 - val_any_predictions_binary_crossentropy: 0.5834 - val_any_predictions_accuracy: 0.7010 - val_subtype_pred_focal_loss: 0.5193 - val_subtype_pred_accuracy: 0.4681\n",
      "Epoch 20/500\n",
      "50/51 [============================>.] - ETA: 1s - loss: 0.5915 - any_predictions_loss: 0.5915 - subtype_pred_loss: 1.0355 - any_predictions_binary_crossentropy: 0.5915 - any_predictions_accuracy: 0.6844 - subtype_pred_focal_loss: 1.0355 - subtype_pred_accuracy: 0.3144\n",
      "Epoch 00020: val_loss improved from 0.58341 to 0.58214, saving model to ../models/mymodels/\n",
      "51/51 [==============================] - 72s 1s/step - loss: 0.5918 - any_predictions_loss: 0.5918 - subtype_pred_loss: 1.0322 - any_predictions_binary_crossentropy: 0.5918 - any_predictions_accuracy: 0.6838 - subtype_pred_focal_loss: 1.0322 - subtype_pred_accuracy: 0.3125 - val_loss: 0.5821 - val_any_predictions_loss: 0.5821 - val_subtype_pred_loss: 0.5194 - val_any_predictions_binary_crossentropy: 0.5821 - val_any_predictions_accuracy: 0.7047 - val_subtype_pred_focal_loss: 0.5194 - val_subtype_pred_accuracy: 0.4681\n",
      "Epoch 21/500\n",
      "50/51 [============================>.] - ETA: 1s - loss: 0.5875 - any_predictions_loss: 0.5875 - subtype_pred_loss: 1.0341 - any_predictions_binary_crossentropy: 0.5875 - any_predictions_accuracy: 0.6900 - subtype_pred_focal_loss: 1.0341 - subtype_pred_accuracy: 0.3088\n",
      "Epoch 00021: val_loss did not improve from 0.58214\n",
      "51/51 [==============================] - 72s 1s/step - loss: 0.5868 - any_predictions_loss: 0.5868 - subtype_pred_loss: 1.0320 - any_predictions_binary_crossentropy: 0.5868 - any_predictions_accuracy: 0.6912 - subtype_pred_focal_loss: 1.0320 - subtype_pred_accuracy: 0.3070 - val_loss: 0.5837 - val_any_predictions_loss: 0.5837 - val_subtype_pred_loss: 0.5192 - val_any_predictions_binary_crossentropy: 0.5837 - val_any_predictions_accuracy: 0.6949 - val_subtype_pred_focal_loss: 0.5192 - val_subtype_pred_accuracy: 0.4681\n",
      "Epoch 22/500\n",
      "50/51 [============================>.] - ETA: 1s - loss: 0.5918 - any_predictions_loss: 0.5918 - subtype_pred_loss: 1.0280 - any_predictions_binary_crossentropy: 0.5918 - any_predictions_accuracy: 0.6762 - subtype_pred_focal_loss: 1.0280 - subtype_pred_accuracy: 0.3113\n",
      "Epoch 00022: val_loss improved from 0.58214 to 0.58167, saving model to ../models/mymodels/\n",
      "51/51 [==============================] - 72s 1s/step - loss: 0.5908 - any_predictions_loss: 0.5908 - subtype_pred_loss: 1.0310 - any_predictions_binary_crossentropy: 0.5908 - any_predictions_accuracy: 0.6783 - subtype_pred_focal_loss: 1.0310 - subtype_pred_accuracy: 0.3094 - val_loss: 0.5817 - val_any_predictions_loss: 0.5817 - val_subtype_pred_loss: 0.5193 - val_any_predictions_binary_crossentropy: 0.5817 - val_any_predictions_accuracy: 0.6998 - val_subtype_pred_focal_loss: 0.5193 - val_subtype_pred_accuracy: 0.4681\n",
      "Epoch 23/500\n",
      "50/51 [============================>.] - ETA: 1s - loss: 0.5918 - any_predictions_loss: 0.5918 - subtype_pred_loss: 1.0112 - any_predictions_binary_crossentropy: 0.5918 - any_predictions_accuracy: 0.6888 - subtype_pred_focal_loss: 1.0112 - subtype_pred_accuracy: 0.3181\n",
      "Epoch 00023: val_loss improved from 0.58167 to 0.58006, saving model to ../models/mymodels/\n",
      "51/51 [==============================] - 73s 1s/step - loss: 0.5914 - any_predictions_loss: 0.5914 - subtype_pred_loss: 1.0112 - any_predictions_binary_crossentropy: 0.5914 - any_predictions_accuracy: 0.6900 - subtype_pred_focal_loss: 1.0112 - subtype_pred_accuracy: 0.3180 - val_loss: 0.5801 - val_any_predictions_loss: 0.5801 - val_subtype_pred_loss: 0.5194 - val_any_predictions_binary_crossentropy: 0.5801 - val_any_predictions_accuracy: 0.7022 - val_subtype_pred_focal_loss: 0.5194 - val_subtype_pred_accuracy: 0.4681\n",
      "Epoch 24/500\n",
      "50/51 [============================>.] - ETA: 1s - loss: 0.5810 - any_predictions_loss: 0.5810 - subtype_pred_loss: 0.9814 - any_predictions_binary_crossentropy: 0.5810 - any_predictions_accuracy: 0.6950 - subtype_pred_focal_loss: 0.9814 - subtype_pred_accuracy: 0.2831\n",
      "Epoch 00024: val_loss did not improve from 0.58006\n",
      "51/51 [==============================] - 73s 1s/step - loss: 0.5810 - any_predictions_loss: 0.5810 - subtype_pred_loss: 0.9801 - any_predictions_binary_crossentropy: 0.5810 - any_predictions_accuracy: 0.6942 - subtype_pred_focal_loss: 0.9801 - subtype_pred_accuracy: 0.2855 - val_loss: 0.5803 - val_any_predictions_loss: 0.5803 - val_subtype_pred_loss: 0.5192 - val_any_predictions_binary_crossentropy: 0.5803 - val_any_predictions_accuracy: 0.7022 - val_subtype_pred_focal_loss: 0.5192 - val_subtype_pred_accuracy: 0.4681\n",
      "Epoch 25/500\n",
      "50/51 [============================>.] - ETA: 1s - loss: 0.5792 - any_predictions_loss: 0.5792 - subtype_pred_loss: 1.0071 - any_predictions_binary_crossentropy: 0.5792 - any_predictions_accuracy: 0.6956 - subtype_pred_focal_loss: 1.0071 - subtype_pred_accuracy: 0.3225\n",
      "Epoch 00025: val_loss improved from 0.58006 to 0.57935, saving model to ../models/mymodels/\n",
      "51/51 [==============================] - 73s 1s/step - loss: 0.5778 - any_predictions_loss: 0.5778 - subtype_pred_loss: 1.0109 - any_predictions_binary_crossentropy: 0.5778 - any_predictions_accuracy: 0.6961 - subtype_pred_focal_loss: 1.0109 - subtype_pred_accuracy: 0.3223 - val_loss: 0.5794 - val_any_predictions_loss: 0.5794 - val_subtype_pred_loss: 0.5193 - val_any_predictions_binary_crossentropy: 0.5794 - val_any_predictions_accuracy: 0.7010 - val_subtype_pred_focal_loss: 0.5193 - val_subtype_pred_accuracy: 0.4681\n",
      "Epoch 26/500\n",
      "50/51 [============================>.] - ETA: 1s - loss: 0.5861 - any_predictions_loss: 0.5861 - subtype_pred_loss: 1.0193 - any_predictions_binary_crossentropy: 0.5861 - any_predictions_accuracy: 0.6894 - subtype_pred_focal_loss: 1.0193 - subtype_pred_accuracy: 0.3019\n",
      "Epoch 00026: val_loss improved from 0.57935 to 0.57865, saving model to ../models/mymodels/\n",
      "51/51 [==============================] - 72s 1s/step - loss: 0.5849 - any_predictions_loss: 0.5849 - subtype_pred_loss: 1.0173 - any_predictions_binary_crossentropy: 0.5849 - any_predictions_accuracy: 0.6912 - subtype_pred_focal_loss: 1.0173 - subtype_pred_accuracy: 0.3009 - val_loss: 0.5787 - val_any_predictions_loss: 0.5787 - val_subtype_pred_loss: 0.5193 - val_any_predictions_binary_crossentropy: 0.5787 - val_any_predictions_accuracy: 0.7022 - val_subtype_pred_focal_loss: 0.5193 - val_subtype_pred_accuracy: 0.4681\n",
      "Epoch 27/500\n",
      "50/51 [============================>.] - ETA: 1s - loss: 0.5783 - any_predictions_loss: 0.5783 - subtype_pred_loss: 1.0056 - any_predictions_binary_crossentropy: 0.5783 - any_predictions_accuracy: 0.6981 - subtype_pred_focal_loss: 1.0056 - subtype_pred_accuracy: 0.3106\n",
      "Epoch 00027: val_loss improved from 0.57865 to 0.57732, saving model to ../models/mymodels/\n",
      "51/51 [==============================] - 72s 1s/step - loss: 0.5776 - any_predictions_loss: 0.5776 - subtype_pred_loss: 1.0076 - any_predictions_binary_crossentropy: 0.5776 - any_predictions_accuracy: 0.6998 - subtype_pred_focal_loss: 1.0076 - subtype_pred_accuracy: 0.3131 - val_loss: 0.5773 - val_any_predictions_loss: 0.5773 - val_subtype_pred_loss: 0.5193 - val_any_predictions_binary_crossentropy: 0.5773 - val_any_predictions_accuracy: 0.7053 - val_subtype_pred_focal_loss: 0.5193 - val_subtype_pred_accuracy: 0.4681\n",
      "Epoch 28/500\n",
      "50/51 [============================>.] - ETA: 1s - loss: 0.5821 - any_predictions_loss: 0.5821 - subtype_pred_loss: 1.0288 - any_predictions_binary_crossentropy: 0.5821 - any_predictions_accuracy: 0.6906 - subtype_pred_focal_loss: 1.0288 - subtype_pred_accuracy: 0.3175\n",
      "Epoch 00028: val_loss did not improve from 0.57732\n",
      "51/51 [==============================] - 72s 1s/step - loss: 0.5820 - any_predictions_loss: 0.5820 - subtype_pred_loss: 1.0281 - any_predictions_binary_crossentropy: 0.5820 - any_predictions_accuracy: 0.6900 - subtype_pred_focal_loss: 1.0281 - subtype_pred_accuracy: 0.3168 - val_loss: 0.5780 - val_any_predictions_loss: 0.5780 - val_subtype_pred_loss: 0.5192 - val_any_predictions_binary_crossentropy: 0.5780 - val_any_predictions_accuracy: 0.6985 - val_subtype_pred_focal_loss: 0.5192 - val_subtype_pred_accuracy: 0.4681\n",
      "Epoch 29/500\n",
      "50/51 [============================>.] - ETA: 1s - loss: 0.5795 - any_predictions_loss: 0.5795 - subtype_pred_loss: 1.0324 - any_predictions_binary_crossentropy: 0.5795 - any_predictions_accuracy: 0.6881 - subtype_pred_focal_loss: 1.0324 - subtype_pred_accuracy: 0.3044\n",
      "Epoch 00029: val_loss did not improve from 0.57732\n",
      "51/51 [==============================] - 73s 1s/step - loss: 0.5790 - any_predictions_loss: 0.5790 - subtype_pred_loss: 1.0351 - any_predictions_binary_crossentropy: 0.5790 - any_predictions_accuracy: 0.6887 - subtype_pred_focal_loss: 1.0351 - subtype_pred_accuracy: 0.3039 - val_loss: 0.5781 - val_any_predictions_loss: 0.5781 - val_subtype_pred_loss: 0.5192 - val_any_predictions_binary_crossentropy: 0.5781 - val_any_predictions_accuracy: 0.6967 - val_subtype_pred_focal_loss: 0.5192 - val_subtype_pred_accuracy: 0.4681\n",
      "Epoch 30/500\n",
      "50/51 [============================>.] - ETA: 1s - loss: 0.5841 - any_predictions_loss: 0.5841 - subtype_pred_loss: 1.0104 - any_predictions_binary_crossentropy: 0.5841 - any_predictions_accuracy: 0.6894 - subtype_pred_focal_loss: 1.0104 - subtype_pred_accuracy: 0.3006\n",
      "Epoch 00030: val_loss improved from 0.57732 to 0.57562, saving model to ../models/mymodels/\n",
      "51/51 [==============================] - 73s 1s/step - loss: 0.5830 - any_predictions_loss: 0.5830 - subtype_pred_loss: 1.0132 - any_predictions_binary_crossentropy: 0.5830 - any_predictions_accuracy: 0.6893 - subtype_pred_focal_loss: 1.0132 - subtype_pred_accuracy: 0.3002 - val_loss: 0.5756 - val_any_predictions_loss: 0.5756 - val_subtype_pred_loss: 0.5193 - val_any_predictions_binary_crossentropy: 0.5756 - val_any_predictions_accuracy: 0.7059 - val_subtype_pred_focal_loss: 0.5193 - val_subtype_pred_accuracy: 0.4681\n",
      "Epoch 31/500\n",
      "50/51 [============================>.] - ETA: 1s - loss: 0.5826 - any_predictions_loss: 0.5826 - subtype_pred_loss: 1.0102 - any_predictions_binary_crossentropy: 0.5826 - any_predictions_accuracy: 0.6931 - subtype_pred_focal_loss: 1.0102 - subtype_pred_accuracy: 0.2894\n",
      "Epoch 00031: val_loss improved from 0.57562 to 0.57478, saving model to ../models/mymodels/\n",
      "51/51 [==============================] - 73s 1s/step - loss: 0.5811 - any_predictions_loss: 0.5811 - subtype_pred_loss: 1.0119 - any_predictions_binary_crossentropy: 0.5811 - any_predictions_accuracy: 0.6955 - subtype_pred_focal_loss: 1.0119 - subtype_pred_accuracy: 0.2904 - val_loss: 0.5748 - val_any_predictions_loss: 0.5748 - val_subtype_pred_loss: 0.5193 - val_any_predictions_binary_crossentropy: 0.5748 - val_any_predictions_accuracy: 0.7059 - val_subtype_pred_focal_loss: 0.5193 - val_subtype_pred_accuracy: 0.4681\n",
      "Epoch 32/500\n",
      "50/51 [============================>.] - ETA: 1s - loss: 0.5706 - any_predictions_loss: 0.5706 - subtype_pred_loss: 1.0130 - any_predictions_binary_crossentropy: 0.5706 - any_predictions_accuracy: 0.7075 - subtype_pred_focal_loss: 1.0130 - subtype_pred_accuracy: 0.2950\n",
      "Epoch 00032: val_loss did not improve from 0.57478\n",
      "51/51 [==============================] - 72s 1s/step - loss: 0.5697 - any_predictions_loss: 0.5697 - subtype_pred_loss: 1.0109 - any_predictions_binary_crossentropy: 0.5697 - any_predictions_accuracy: 0.7083 - subtype_pred_focal_loss: 1.0109 - subtype_pred_accuracy: 0.2972 - val_loss: 0.5753 - val_any_predictions_loss: 0.5753 - val_subtype_pred_loss: 0.5192 - val_any_predictions_binary_crossentropy: 0.5753 - val_any_predictions_accuracy: 0.7004 - val_subtype_pred_focal_loss: 0.5192 - val_subtype_pred_accuracy: 0.4681\n",
      "Epoch 33/500\n",
      "50/51 [============================>.] - ETA: 1s - loss: 0.5772 - any_predictions_loss: 0.5772 - subtype_pred_loss: 0.9903 - any_predictions_binary_crossentropy: 0.5772 - any_predictions_accuracy: 0.6869 - subtype_pred_focal_loss: 0.9903 - subtype_pred_accuracy: 0.3063\n",
      "Epoch 00033: val_loss did not improve from 0.57478\n",
      "51/51 [==============================] - 72s 1s/step - loss: 0.5765 - any_predictions_loss: 0.5765 - subtype_pred_loss: 0.9892 - any_predictions_binary_crossentropy: 0.5765 - any_predictions_accuracy: 0.6881 - subtype_pred_focal_loss: 0.9892 - subtype_pred_accuracy: 0.3058 - val_loss: 0.5754 - val_any_predictions_loss: 0.5754 - val_subtype_pred_loss: 0.5192 - val_any_predictions_binary_crossentropy: 0.5754 - val_any_predictions_accuracy: 0.6967 - val_subtype_pred_focal_loss: 0.5192 - val_subtype_pred_accuracy: 0.4681\n",
      "Epoch 34/500\n",
      "50/51 [============================>.] - ETA: 1s - loss: 0.5820 - any_predictions_loss: 0.5820 - subtype_pred_loss: 1.0121 - any_predictions_binary_crossentropy: 0.5820 - any_predictions_accuracy: 0.6906 - subtype_pred_focal_loss: 1.0121 - subtype_pred_accuracy: 0.2988\n",
      "Epoch 00034: val_loss improved from 0.57478 to 0.57310, saving model to ../models/mymodels/\n",
      "51/51 [==============================] - 73s 1s/step - loss: 0.5821 - any_predictions_loss: 0.5821 - subtype_pred_loss: 1.0141 - any_predictions_binary_crossentropy: 0.5821 - any_predictions_accuracy: 0.6912 - subtype_pred_focal_loss: 1.0141 - subtype_pred_accuracy: 0.2990 - val_loss: 0.5731 - val_any_predictions_loss: 0.5731 - val_subtype_pred_loss: 0.5193 - val_any_predictions_binary_crossentropy: 0.5731 - val_any_predictions_accuracy: 0.7040 - val_subtype_pred_focal_loss: 0.5193 - val_subtype_pred_accuracy: 0.4681\n",
      "Epoch 35/500\n",
      "50/51 [============================>.] - ETA: 1s - loss: 0.5759 - any_predictions_loss: 0.5759 - subtype_pred_loss: 1.0418 - any_predictions_binary_crossentropy: 0.5759 - any_predictions_accuracy: 0.6988 - subtype_pred_focal_loss: 1.0418 - subtype_pred_accuracy: 0.3231\n",
      "Epoch 00035: val_loss did not improve from 0.57310\n",
      "51/51 [==============================] - 72s 1s/step - loss: 0.5755 - any_predictions_loss: 0.5755 - subtype_pred_loss: 1.0404 - any_predictions_binary_crossentropy: 0.5755 - any_predictions_accuracy: 0.7004 - subtype_pred_focal_loss: 1.0404 - subtype_pred_accuracy: 0.3217 - val_loss: 0.5736 - val_any_predictions_loss: 0.5736 - val_subtype_pred_loss: 0.5192 - val_any_predictions_binary_crossentropy: 0.5736 - val_any_predictions_accuracy: 0.7010 - val_subtype_pred_focal_loss: 0.5192 - val_subtype_pred_accuracy: 0.4681\n",
      "Epoch 36/500\n",
      "50/51 [============================>.] - ETA: 1s - loss: 0.5832 - any_predictions_loss: 0.5832 - subtype_pred_loss: 1.0100 - any_predictions_binary_crossentropy: 0.5832 - any_predictions_accuracy: 0.6963 - subtype_pred_focal_loss: 1.0100 - subtype_pred_accuracy: 0.3169\n",
      "Epoch 00036: val_loss improved from 0.57310 to 0.57278, saving model to ../models/mymodels/\n",
      "51/51 [==============================] - 73s 1s/step - loss: 0.5807 - any_predictions_loss: 0.5807 - subtype_pred_loss: 1.0064 - any_predictions_binary_crossentropy: 0.5807 - any_predictions_accuracy: 0.6985 - subtype_pred_focal_loss: 1.0064 - subtype_pred_accuracy: 0.3162 - val_loss: 0.5728 - val_any_predictions_loss: 0.5728 - val_subtype_pred_loss: 0.5192 - val_any_predictions_binary_crossentropy: 0.5728 - val_any_predictions_accuracy: 0.7034 - val_subtype_pred_focal_loss: 0.5192 - val_subtype_pred_accuracy: 0.4681\n",
      "Epoch 37/500\n",
      "50/51 [============================>.] - ETA: 1s - loss: 0.5828 - any_predictions_loss: 0.5828 - subtype_pred_loss: 1.0085 - any_predictions_binary_crossentropy: 0.5828 - any_predictions_accuracy: 0.6906 - subtype_pred_focal_loss: 1.0085 - subtype_pred_accuracy: 0.2900\n",
      "Epoch 00037: val_loss did not improve from 0.57278\n",
      "51/51 [==============================] - 72s 1s/step - loss: 0.5817 - any_predictions_loss: 0.5817 - subtype_pred_loss: 1.0099 - any_predictions_binary_crossentropy: 0.5817 - any_predictions_accuracy: 0.6912 - subtype_pred_focal_loss: 1.0099 - subtype_pred_accuracy: 0.2898 - val_loss: 0.5728 - val_any_predictions_loss: 0.5728 - val_subtype_pred_loss: 0.5192 - val_any_predictions_binary_crossentropy: 0.5728 - val_any_predictions_accuracy: 0.7022 - val_subtype_pred_focal_loss: 0.5192 - val_subtype_pred_accuracy: 0.4681\n"
     ]
    },
    {
     "name": "stdout",
     "output_type": "stream",
     "text": [
      "Epoch 38/500\n",
      "50/51 [============================>.] - ETA: 1s - loss: 0.5710 - any_predictions_loss: 0.5710 - subtype_pred_loss: 1.0248 - any_predictions_binary_crossentropy: 0.5710 - any_predictions_accuracy: 0.7075 - subtype_pred_focal_loss: 1.0248 - subtype_pred_accuracy: 0.3106\n",
      "Epoch 00038: val_loss improved from 0.57278 to 0.57216, saving model to ../models/mymodels/\n",
      "51/51 [==============================] - 73s 1s/step - loss: 0.5701 - any_predictions_loss: 0.5701 - subtype_pred_loss: 1.0244 - any_predictions_binary_crossentropy: 0.5701 - any_predictions_accuracy: 0.7077 - subtype_pred_focal_loss: 1.0244 - subtype_pred_accuracy: 0.3100 - val_loss: 0.5722 - val_any_predictions_loss: 0.5722 - val_subtype_pred_loss: 0.5192 - val_any_predictions_binary_crossentropy: 0.5722 - val_any_predictions_accuracy: 0.7028 - val_subtype_pred_focal_loss: 0.5192 - val_subtype_pred_accuracy: 0.4681\n",
      "Epoch 39/500\n",
      "50/51 [============================>.] - ETA: 1s - loss: 0.5781 - any_predictions_loss: 0.5781 - subtype_pred_loss: 1.0275 - any_predictions_binary_crossentropy: 0.5781 - any_predictions_accuracy: 0.6875 - subtype_pred_focal_loss: 1.0275 - subtype_pred_accuracy: 0.3081\n",
      "Epoch 00039: val_loss did not improve from 0.57216\n",
      "51/51 [==============================] - 73s 1s/step - loss: 0.5778 - any_predictions_loss: 0.5778 - subtype_pred_loss: 1.0314 - any_predictions_binary_crossentropy: 0.5778 - any_predictions_accuracy: 0.6869 - subtype_pred_focal_loss: 1.0314 - subtype_pred_accuracy: 0.3064 - val_loss: 0.5735 - val_any_predictions_loss: 0.5735 - val_subtype_pred_loss: 0.5191 - val_any_predictions_binary_crossentropy: 0.5735 - val_any_predictions_accuracy: 0.6979 - val_subtype_pred_focal_loss: 0.5191 - val_subtype_pred_accuracy: 0.4681\n",
      "Epoch 40/500\n",
      "50/51 [============================>.] - ETA: 1s - loss: 0.5804 - any_predictions_loss: 0.5804 - subtype_pred_loss: 1.0359 - any_predictions_binary_crossentropy: 0.5804 - any_predictions_accuracy: 0.6862 - subtype_pred_focal_loss: 1.0359 - subtype_pred_accuracy: 0.3231\n",
      "Epoch 00040: val_loss improved from 0.57216 to 0.57111, saving model to ../models/mymodels/\n",
      "51/51 [==============================] - 73s 1s/step - loss: 0.5783 - any_predictions_loss: 0.5783 - subtype_pred_loss: 1.0325 - any_predictions_binary_crossentropy: 0.5783 - any_predictions_accuracy: 0.6881 - subtype_pred_focal_loss: 1.0325 - subtype_pred_accuracy: 0.3205 - val_loss: 0.5711 - val_any_predictions_loss: 0.5711 - val_subtype_pred_loss: 0.5192 - val_any_predictions_binary_crossentropy: 0.5711 - val_any_predictions_accuracy: 0.7034 - val_subtype_pred_focal_loss: 0.5192 - val_subtype_pred_accuracy: 0.4681\n",
      "Epoch 41/500\n",
      "50/51 [============================>.] - ETA: 1s - loss: 0.5808 - any_predictions_loss: 0.5808 - subtype_pred_loss: 0.9796 - any_predictions_binary_crossentropy: 0.5808 - any_predictions_accuracy: 0.6994 - subtype_pred_focal_loss: 0.9796 - subtype_pred_accuracy: 0.2837\n",
      "Epoch 00041: val_loss improved from 0.57111 to 0.57062, saving model to ../models/mymodels/\n",
      "51/51 [==============================] - 73s 1s/step - loss: 0.5809 - any_predictions_loss: 0.5809 - subtype_pred_loss: 0.9789 - any_predictions_binary_crossentropy: 0.5809 - any_predictions_accuracy: 0.6991 - subtype_pred_focal_loss: 0.9789 - subtype_pred_accuracy: 0.2819 - val_loss: 0.5706 - val_any_predictions_loss: 0.5706 - val_subtype_pred_loss: 0.5193 - val_any_predictions_binary_crossentropy: 0.5706 - val_any_predictions_accuracy: 0.7040 - val_subtype_pred_focal_loss: 0.5193 - val_subtype_pred_accuracy: 0.4681\n",
      "Epoch 42/500\n",
      "50/51 [============================>.] - ETA: 1s - loss: 0.5705 - any_predictions_loss: 0.5705 - subtype_pred_loss: 0.9922 - any_predictions_binary_crossentropy: 0.5705 - any_predictions_accuracy: 0.6900 - subtype_pred_focal_loss: 0.9922 - subtype_pred_accuracy: 0.2906\n",
      "Epoch 00042: val_loss did not improve from 0.57062\n",
      "51/51 [==============================] - 72s 1s/step - loss: 0.5694 - any_predictions_loss: 0.5694 - subtype_pred_loss: 0.9918 - any_predictions_binary_crossentropy: 0.5694 - any_predictions_accuracy: 0.6930 - subtype_pred_focal_loss: 0.9918 - subtype_pred_accuracy: 0.2898 - val_loss: 0.5727 - val_any_predictions_loss: 0.5727 - val_subtype_pred_loss: 0.5191 - val_any_predictions_binary_crossentropy: 0.5727 - val_any_predictions_accuracy: 0.6991 - val_subtype_pred_focal_loss: 0.5191 - val_subtype_pred_accuracy: 0.4681\n",
      "Epoch 43/500\n",
      "50/51 [============================>.] - ETA: 1s - loss: 0.5792 - any_predictions_loss: 0.5792 - subtype_pred_loss: 1.0078 - any_predictions_binary_crossentropy: 0.5792 - any_predictions_accuracy: 0.6900 - subtype_pred_focal_loss: 1.0078 - subtype_pred_accuracy: 0.2919\n",
      "Epoch 00043: val_loss did not improve from 0.57062\n",
      "51/51 [==============================] - 72s 1s/step - loss: 0.5781 - any_predictions_loss: 0.5781 - subtype_pred_loss: 1.0113 - any_predictions_binary_crossentropy: 0.5781 - any_predictions_accuracy: 0.6924 - subtype_pred_focal_loss: 1.0113 - subtype_pred_accuracy: 0.2911 - val_loss: 0.5725 - val_any_predictions_loss: 0.5725 - val_subtype_pred_loss: 0.5191 - val_any_predictions_binary_crossentropy: 0.5725 - val_any_predictions_accuracy: 0.6991 - val_subtype_pred_focal_loss: 0.5191 - val_subtype_pred_accuracy: 0.4681\n",
      "Epoch 44/500\n",
      "50/51 [============================>.] - ETA: 1s - loss: 0.5808 - any_predictions_loss: 0.5808 - subtype_pred_loss: 0.9931 - any_predictions_binary_crossentropy: 0.5808 - any_predictions_accuracy: 0.6862 - subtype_pred_focal_loss: 0.9931 - subtype_pred_accuracy: 0.2988\n",
      "Epoch 00044: val_loss improved from 0.57062 to 0.57020, saving model to ../models/mymodels/\n",
      "51/51 [==============================] - 73s 1s/step - loss: 0.5793 - any_predictions_loss: 0.5793 - subtype_pred_loss: 0.9886 - any_predictions_binary_crossentropy: 0.5793 - any_predictions_accuracy: 0.6875 - subtype_pred_focal_loss: 0.9886 - subtype_pred_accuracy: 0.2972 - val_loss: 0.5702 - val_any_predictions_loss: 0.5702 - val_subtype_pred_loss: 0.5192 - val_any_predictions_binary_crossentropy: 0.5702 - val_any_predictions_accuracy: 0.7034 - val_subtype_pred_focal_loss: 0.5192 - val_subtype_pred_accuracy: 0.4681\n",
      "Epoch 45/500\n",
      "50/51 [============================>.] - ETA: 1s - loss: 0.5678 - any_predictions_loss: 0.5678 - subtype_pred_loss: 1.0131 - any_predictions_binary_crossentropy: 0.5678 - any_predictions_accuracy: 0.6950 - subtype_pred_focal_loss: 1.0131 - subtype_pred_accuracy: 0.2981\n",
      "Epoch 00045: val_loss did not improve from 0.57020\n",
      "51/51 [==============================] - 73s 1s/step - loss: 0.5678 - any_predictions_loss: 0.5678 - subtype_pred_loss: 1.0157 - any_predictions_binary_crossentropy: 0.5678 - any_predictions_accuracy: 0.6955 - subtype_pred_focal_loss: 1.0157 - subtype_pred_accuracy: 0.2984 - val_loss: 0.5707 - val_any_predictions_loss: 0.5707 - val_subtype_pred_loss: 0.5191 - val_any_predictions_binary_crossentropy: 0.5707 - val_any_predictions_accuracy: 0.7022 - val_subtype_pred_focal_loss: 0.5191 - val_subtype_pred_accuracy: 0.4681\n",
      "Epoch 46/500\n",
      "50/51 [============================>.] - ETA: 1s - loss: 0.5770 - any_predictions_loss: 0.5770 - subtype_pred_loss: 1.0032 - any_predictions_binary_crossentropy: 0.5770 - any_predictions_accuracy: 0.7000 - subtype_pred_focal_loss: 1.0032 - subtype_pred_accuracy: 0.3269\n",
      "Epoch 00046: val_loss improved from 0.57020 to 0.56941, saving model to ../models/mymodels/\n",
      "51/51 [==============================] - 73s 1s/step - loss: 0.5758 - any_predictions_loss: 0.5758 - subtype_pred_loss: 1.0026 - any_predictions_binary_crossentropy: 0.5758 - any_predictions_accuracy: 0.7016 - subtype_pred_focal_loss: 1.0026 - subtype_pred_accuracy: 0.3248 - val_loss: 0.5694 - val_any_predictions_loss: 0.5694 - val_subtype_pred_loss: 0.5192 - val_any_predictions_binary_crossentropy: 0.5694 - val_any_predictions_accuracy: 0.7022 - val_subtype_pred_focal_loss: 0.5192 - val_subtype_pred_accuracy: 0.4681\n",
      "Epoch 47/500\n",
      "50/51 [============================>.] - ETA: 1s - loss: 0.5784 - any_predictions_loss: 0.5784 - subtype_pred_loss: 0.9982 - any_predictions_binary_crossentropy: 0.5784 - any_predictions_accuracy: 0.6919 - subtype_pred_focal_loss: 0.9982 - subtype_pred_accuracy: 0.3056\n",
      "Epoch 00047: val_loss improved from 0.56941 to 0.56899, saving model to ../models/mymodels/\n",
      "51/51 [==============================] - 73s 1s/step - loss: 0.5776 - any_predictions_loss: 0.5776 - subtype_pred_loss: 0.9980 - any_predictions_binary_crossentropy: 0.5776 - any_predictions_accuracy: 0.6930 - subtype_pred_focal_loss: 0.9980 - subtype_pred_accuracy: 0.3051 - val_loss: 0.5690 - val_any_predictions_loss: 0.5690 - val_subtype_pred_loss: 0.5192 - val_any_predictions_binary_crossentropy: 0.5690 - val_any_predictions_accuracy: 0.7034 - val_subtype_pred_focal_loss: 0.5192 - val_subtype_pred_accuracy: 0.4681\n",
      "Epoch 48/500\n",
      "50/51 [============================>.] - ETA: 1s - loss: 0.5744 - any_predictions_loss: 0.5744 - subtype_pred_loss: 1.0042 - any_predictions_binary_crossentropy: 0.5744 - any_predictions_accuracy: 0.6944 - subtype_pred_focal_loss: 1.0042 - subtype_pred_accuracy: 0.2919\n",
      "Epoch 00048: val_loss did not improve from 0.56899\n",
      "51/51 [==============================] - 73s 1s/step - loss: 0.5725 - any_predictions_loss: 0.5725 - subtype_pred_loss: 1.0037 - any_predictions_binary_crossentropy: 0.5725 - any_predictions_accuracy: 0.6973 - subtype_pred_focal_loss: 1.0037 - subtype_pred_accuracy: 0.2904 - val_loss: 0.5698 - val_any_predictions_loss: 0.5698 - val_subtype_pred_loss: 0.5191 - val_any_predictions_binary_crossentropy: 0.5698 - val_any_predictions_accuracy: 0.7010 - val_subtype_pred_focal_loss: 0.5191 - val_subtype_pred_accuracy: 0.4681\n",
      "Epoch 49/500\n",
      "50/51 [============================>.] - ETA: 1s - loss: 0.5802 - any_predictions_loss: 0.5802 - subtype_pred_loss: 1.0115 - any_predictions_binary_crossentropy: 0.5802 - any_predictions_accuracy: 0.6913 - subtype_pred_focal_loss: 1.0115 - subtype_pred_accuracy: 0.2919\n",
      "Epoch 00049: val_loss improved from 0.56899 to 0.56829, saving model to ../models/mymodels/\n",
      "51/51 [==============================] - 73s 1s/step - loss: 0.5790 - any_predictions_loss: 0.5790 - subtype_pred_loss: 1.0088 - any_predictions_binary_crossentropy: 0.5790 - any_predictions_accuracy: 0.6918 - subtype_pred_focal_loss: 1.0088 - subtype_pred_accuracy: 0.2904 - val_loss: 0.5683 - val_any_predictions_loss: 0.5683 - val_subtype_pred_loss: 0.5192 - val_any_predictions_binary_crossentropy: 0.5683 - val_any_predictions_accuracy: 0.7028 - val_subtype_pred_focal_loss: 0.5192 - val_subtype_pred_accuracy: 0.4681\n",
      "Epoch 50/500\n",
      "50/51 [============================>.] - ETA: 1s - loss: 0.5723 - any_predictions_loss: 0.5723 - subtype_pred_loss: 0.9811 - any_predictions_binary_crossentropy: 0.5723 - any_predictions_accuracy: 0.7075 - subtype_pred_focal_loss: 0.9811 - subtype_pred_accuracy: 0.2894\n",
      "Epoch 00050: val_loss did not improve from 0.56829\n",
      "51/51 [==============================] - 73s 1s/step - loss: 0.5719 - any_predictions_loss: 0.5719 - subtype_pred_loss: 0.9790 - any_predictions_binary_crossentropy: 0.5719 - any_predictions_accuracy: 0.7077 - subtype_pred_focal_loss: 0.9790 - subtype_pred_accuracy: 0.2880 - val_loss: 0.5692 - val_any_predictions_loss: 0.5692 - val_subtype_pred_loss: 0.5191 - val_any_predictions_binary_crossentropy: 0.5692 - val_any_predictions_accuracy: 0.6991 - val_subtype_pred_focal_loss: 0.5191 - val_subtype_pred_accuracy: 0.4681\n",
      "Epoch 51/500\n",
      "50/51 [============================>.] - ETA: 1s - loss: 0.5732 - any_predictions_loss: 0.5732 - subtype_pred_loss: 1.0027 - any_predictions_binary_crossentropy: 0.5732 - any_predictions_accuracy: 0.6944 - subtype_pred_focal_loss: 1.0027 - subtype_pred_accuracy: 0.3050\n",
      "Epoch 00051: val_loss improved from 0.56829 to 0.56796, saving model to ../models/mymodels/\n",
      "51/51 [==============================] - 73s 1s/step - loss: 0.5713 - any_predictions_loss: 0.5713 - subtype_pred_loss: 1.0037 - any_predictions_binary_crossentropy: 0.5713 - any_predictions_accuracy: 0.6961 - subtype_pred_focal_loss: 1.0037 - subtype_pred_accuracy: 0.3058 - val_loss: 0.5680 - val_any_predictions_loss: 0.5680 - val_subtype_pred_loss: 0.5192 - val_any_predictions_binary_crossentropy: 0.5680 - val_any_predictions_accuracy: 0.7034 - val_subtype_pred_focal_loss: 0.5192 - val_subtype_pred_accuracy: 0.4681\n",
      "Epoch 52/500\n",
      "50/51 [============================>.] - ETA: 1s - loss: 0.5751 - any_predictions_loss: 0.5751 - subtype_pred_loss: 1.0106 - any_predictions_binary_crossentropy: 0.5751 - any_predictions_accuracy: 0.6913 - subtype_pred_focal_loss: 1.0106 - subtype_pred_accuracy: 0.3044\n",
      "Epoch 00052: val_loss did not improve from 0.56796\n",
      "51/51 [==============================] - 73s 1s/step - loss: 0.5722 - any_predictions_loss: 0.5722 - subtype_pred_loss: 1.0055 - any_predictions_binary_crossentropy: 0.5722 - any_predictions_accuracy: 0.6942 - subtype_pred_focal_loss: 1.0055 - subtype_pred_accuracy: 0.3033 - val_loss: 0.5685 - val_any_predictions_loss: 0.5685 - val_subtype_pred_loss: 0.5191 - val_any_predictions_binary_crossentropy: 0.5685 - val_any_predictions_accuracy: 0.7010 - val_subtype_pred_focal_loss: 0.5191 - val_subtype_pred_accuracy: 0.4681\n",
      "Epoch 53/500\n",
      "50/51 [============================>.] - ETA: 1s - loss: 0.5669 - any_predictions_loss: 0.5669 - subtype_pred_loss: 0.9943 - any_predictions_binary_crossentropy: 0.5669 - any_predictions_accuracy: 0.6931 - subtype_pred_focal_loss: 0.9943 - subtype_pred_accuracy: 0.3081\n",
      "Epoch 00053: val_loss improved from 0.56796 to 0.56782, saving model to ../models/mymodels/\n",
      "51/51 [==============================] - 73s 1s/step - loss: 0.5649 - any_predictions_loss: 0.5649 - subtype_pred_loss: 0.9971 - any_predictions_binary_crossentropy: 0.5649 - any_predictions_accuracy: 0.6955 - subtype_pred_focal_loss: 0.9971 - subtype_pred_accuracy: 0.3082 - val_loss: 0.5678 - val_any_predictions_loss: 0.5678 - val_subtype_pred_loss: 0.5191 - val_any_predictions_binary_crossentropy: 0.5678 - val_any_predictions_accuracy: 0.7047 - val_subtype_pred_focal_loss: 0.5191 - val_subtype_pred_accuracy: 0.4681\n",
      "Epoch 54/500\n",
      "50/51 [============================>.] - ETA: 1s - loss: 0.5676 - any_predictions_loss: 0.5676 - subtype_pred_loss: 1.0192 - any_predictions_binary_crossentropy: 0.5676 - any_predictions_accuracy: 0.6900 - subtype_pred_focal_loss: 1.0192 - subtype_pred_accuracy: 0.3231\n",
      "Epoch 00054: val_loss improved from 0.56782 to 0.56730, saving model to ../models/mymodels/\n",
      "51/51 [==============================] - 73s 1s/step - loss: 0.5672 - any_predictions_loss: 0.5672 - subtype_pred_loss: 1.0208 - any_predictions_binary_crossentropy: 0.5672 - any_predictions_accuracy: 0.6912 - subtype_pred_focal_loss: 1.0208 - subtype_pred_accuracy: 0.3223 - val_loss: 0.5673 - val_any_predictions_loss: 0.5673 - val_subtype_pred_loss: 0.5192 - val_any_predictions_binary_crossentropy: 0.5673 - val_any_predictions_accuracy: 0.7040 - val_subtype_pred_focal_loss: 0.5192 - val_subtype_pred_accuracy: 0.4681\n",
      "Epoch 55/500\n",
      "50/51 [============================>.] - ETA: 1s - loss: 0.5764 - any_predictions_loss: 0.5764 - subtype_pred_loss: 1.0277 - any_predictions_binary_crossentropy: 0.5764 - any_predictions_accuracy: 0.6925 - subtype_pred_focal_loss: 1.0277 - subtype_pred_accuracy: 0.3025\n",
      "Epoch 00055: val_loss did not improve from 0.56730\n",
      "51/51 [==============================] - 73s 1s/step - loss: 0.5752 - any_predictions_loss: 0.5752 - subtype_pred_loss: 1.0318 - any_predictions_binary_crossentropy: 0.5752 - any_predictions_accuracy: 0.6942 - subtype_pred_focal_loss: 1.0318 - subtype_pred_accuracy: 0.3051 - val_loss: 0.5691 - val_any_predictions_loss: 0.5691 - val_subtype_pred_loss: 0.5190 - val_any_predictions_binary_crossentropy: 0.5691 - val_any_predictions_accuracy: 0.6949 - val_subtype_pred_focal_loss: 0.5190 - val_subtype_pred_accuracy: 0.4681\n",
      "Epoch 56/500\n",
      "50/51 [============================>.] - ETA: 1s - loss: 0.5699 - any_predictions_loss: 0.5699 - subtype_pred_loss: 0.9856 - any_predictions_binary_crossentropy: 0.5699 - any_predictions_accuracy: 0.6913 - subtype_pred_focal_loss: 0.9856 - subtype_pred_accuracy: 0.3113\n",
      "Epoch 00056: val_loss did not improve from 0.56730\n",
      "51/51 [==============================] - 73s 1s/step - loss: 0.5675 - any_predictions_loss: 0.5675 - subtype_pred_loss: 0.9835 - any_predictions_binary_crossentropy: 0.5675 - any_predictions_accuracy: 0.6942 - subtype_pred_focal_loss: 0.9835 - subtype_pred_accuracy: 0.3113 - val_loss: 0.5673 - val_any_predictions_loss: 0.5673 - val_subtype_pred_loss: 0.5191 - val_any_predictions_binary_crossentropy: 0.5673 - val_any_predictions_accuracy: 0.6991 - val_subtype_pred_focal_loss: 0.5191 - val_subtype_pred_accuracy: 0.4681\n"
     ]
    },
    {
     "name": "stdout",
     "output_type": "stream",
     "text": [
      "Epoch 57/500\n",
      "50/51 [============================>.] - ETA: 1s - loss: 0.5638 - any_predictions_loss: 0.5638 - subtype_pred_loss: 1.0046 - any_predictions_binary_crossentropy: 0.5638 - any_predictions_accuracy: 0.7019 - subtype_pred_focal_loss: 1.0046 - subtype_pred_accuracy: 0.3006\n",
      "Epoch 00057: val_loss did not improve from 0.56730\n",
      "51/51 [==============================] - 73s 1s/step - loss: 0.5625 - any_predictions_loss: 0.5625 - subtype_pred_loss: 1.0024 - any_predictions_binary_crossentropy: 0.5625 - any_predictions_accuracy: 0.7028 - subtype_pred_focal_loss: 1.0024 - subtype_pred_accuracy: 0.2996 - val_loss: 0.5681 - val_any_predictions_loss: 0.5681 - val_subtype_pred_loss: 0.5191 - val_any_predictions_binary_crossentropy: 0.5681 - val_any_predictions_accuracy: 0.6949 - val_subtype_pred_focal_loss: 0.5191 - val_subtype_pred_accuracy: 0.4681\n",
      "Epoch 58/500\n",
      "50/51 [============================>.] - ETA: 1s - loss: 0.5756 - any_predictions_loss: 0.5756 - subtype_pred_loss: 0.9820 - any_predictions_binary_crossentropy: 0.5756 - any_predictions_accuracy: 0.6988 - subtype_pred_focal_loss: 0.9820 - subtype_pred_accuracy: 0.2906\n",
      "Epoch 00058: val_loss improved from 0.56730 to 0.56536, saving model to ../models/mymodels/\n",
      "51/51 [==============================] - 73s 1s/step - loss: 0.5740 - any_predictions_loss: 0.5740 - subtype_pred_loss: 0.9838 - any_predictions_binary_crossentropy: 0.5740 - any_predictions_accuracy: 0.7004 - subtype_pred_focal_loss: 0.9838 - subtype_pred_accuracy: 0.2904 - val_loss: 0.5654 - val_any_predictions_loss: 0.5654 - val_subtype_pred_loss: 0.5192 - val_any_predictions_binary_crossentropy: 0.5654 - val_any_predictions_accuracy: 0.7053 - val_subtype_pred_focal_loss: 0.5192 - val_subtype_pred_accuracy: 0.4681\n",
      "Epoch 59/500\n",
      "50/51 [============================>.] - ETA: 1s - loss: 0.5619 - any_predictions_loss: 0.5619 - subtype_pred_loss: 1.0179 - any_predictions_binary_crossentropy: 0.5619 - any_predictions_accuracy: 0.7006 - subtype_pred_focal_loss: 1.0179 - subtype_pred_accuracy: 0.2962\n",
      "Epoch 00059: val_loss did not improve from 0.56536\n",
      "51/51 [==============================] - 72s 1s/step - loss: 0.5605 - any_predictions_loss: 0.5605 - subtype_pred_loss: 1.0204 - any_predictions_binary_crossentropy: 0.5605 - any_predictions_accuracy: 0.7010 - subtype_pred_focal_loss: 1.0204 - subtype_pred_accuracy: 0.2960 - val_loss: 0.5667 - val_any_predictions_loss: 0.5667 - val_subtype_pred_loss: 0.5191 - val_any_predictions_binary_crossentropy: 0.5667 - val_any_predictions_accuracy: 0.6973 - val_subtype_pred_focal_loss: 0.5191 - val_subtype_pred_accuracy: 0.4681\n",
      "Epoch 60/500\n",
      "50/51 [============================>.] - ETA: 1s - loss: 0.5644 - any_predictions_loss: 0.5644 - subtype_pred_loss: 0.9938 - any_predictions_binary_crossentropy: 0.5644 - any_predictions_accuracy: 0.7156 - subtype_pred_focal_loss: 0.9938 - subtype_pred_accuracy: 0.2937\n",
      "Epoch 00060: val_loss did not improve from 0.56536\n",
      "51/51 [==============================] - 73s 1s/step - loss: 0.5637 - any_predictions_loss: 0.5637 - subtype_pred_loss: 0.9951 - any_predictions_binary_crossentropy: 0.5637 - any_predictions_accuracy: 0.7151 - subtype_pred_focal_loss: 0.9951 - subtype_pred_accuracy: 0.2923 - val_loss: 0.5665 - val_any_predictions_loss: 0.5665 - val_subtype_pred_loss: 0.5191 - val_any_predictions_binary_crossentropy: 0.5665 - val_any_predictions_accuracy: 0.6967 - val_subtype_pred_focal_loss: 0.5191 - val_subtype_pred_accuracy: 0.4675\n",
      "Epoch 61/500\n",
      "50/51 [============================>.] - ETA: 1s - loss: 0.5641 - any_predictions_loss: 0.5641 - subtype_pred_loss: 1.0055 - any_predictions_binary_crossentropy: 0.5641 - any_predictions_accuracy: 0.6994 - subtype_pred_focal_loss: 1.0055 - subtype_pred_accuracy: 0.3019\n",
      "Epoch 00061: val_loss did not improve from 0.56536\n",
      "51/51 [==============================] - 73s 1s/step - loss: 0.5639 - any_predictions_loss: 0.5639 - subtype_pred_loss: 1.0075 - any_predictions_binary_crossentropy: 0.5639 - any_predictions_accuracy: 0.7004 - subtype_pred_focal_loss: 1.0075 - subtype_pred_accuracy: 0.3009 - val_loss: 0.5681 - val_any_predictions_loss: 0.5681 - val_subtype_pred_loss: 0.5190 - val_any_predictions_binary_crossentropy: 0.5681 - val_any_predictions_accuracy: 0.6955 - val_subtype_pred_focal_loss: 0.5190 - val_subtype_pred_accuracy: 0.4675\n",
      "Epoch 62/500\n",
      "50/51 [============================>.] - ETA: 1s - loss: 0.5675 - any_predictions_loss: 0.5675 - subtype_pred_loss: 1.0067 - any_predictions_binary_crossentropy: 0.5675 - any_predictions_accuracy: 0.6963 - subtype_pred_focal_loss: 1.0067 - subtype_pred_accuracy: 0.3088\n",
      "Epoch 00062: val_loss improved from 0.56536 to 0.56496, saving model to ../models/mymodels/\n",
      "51/51 [==============================] - 73s 1s/step - loss: 0.5667 - any_predictions_loss: 0.5667 - subtype_pred_loss: 1.0060 - any_predictions_binary_crossentropy: 0.5667 - any_predictions_accuracy: 0.6973 - subtype_pred_focal_loss: 1.0060 - subtype_pred_accuracy: 0.3088 - val_loss: 0.5650 - val_any_predictions_loss: 0.5650 - val_subtype_pred_loss: 0.5191 - val_any_predictions_binary_crossentropy: 0.5650 - val_any_predictions_accuracy: 0.6991 - val_subtype_pred_focal_loss: 0.5191 - val_subtype_pred_accuracy: 0.4675\n",
      "Epoch 63/500\n",
      "50/51 [============================>.] - ETA: 1s - loss: 0.5633 - any_predictions_loss: 0.5633 - subtype_pred_loss: 1.0177 - any_predictions_binary_crossentropy: 0.5633 - any_predictions_accuracy: 0.7013 - subtype_pred_focal_loss: 1.0177 - subtype_pred_accuracy: 0.3069\n",
      "Epoch 00063: val_loss improved from 0.56496 to 0.56379, saving model to ../models/mymodels/\n",
      "51/51 [==============================] - 73s 1s/step - loss: 0.5622 - any_predictions_loss: 0.5622 - subtype_pred_loss: 1.0122 - any_predictions_binary_crossentropy: 0.5622 - any_predictions_accuracy: 0.7022 - subtype_pred_focal_loss: 1.0122 - subtype_pred_accuracy: 0.3076 - val_loss: 0.5638 - val_any_predictions_loss: 0.5638 - val_subtype_pred_loss: 0.5191 - val_any_predictions_binary_crossentropy: 0.5638 - val_any_predictions_accuracy: 0.7022 - val_subtype_pred_focal_loss: 0.5191 - val_subtype_pred_accuracy: 0.4675\n",
      "Epoch 64/500\n",
      "50/51 [============================>.] - ETA: 1s - loss: 0.5627 - any_predictions_loss: 0.5627 - subtype_pred_loss: 0.9668 - any_predictions_binary_crossentropy: 0.5627 - any_predictions_accuracy: 0.6994 - subtype_pred_focal_loss: 0.9668 - subtype_pred_accuracy: 0.3069\n",
      "Epoch 00064: val_loss improved from 0.56379 to 0.56363, saving model to ../models/mymodels/\n",
      "51/51 [==============================] - 73s 1s/step - loss: 0.5612 - any_predictions_loss: 0.5612 - subtype_pred_loss: 0.9667 - any_predictions_binary_crossentropy: 0.5612 - any_predictions_accuracy: 0.7004 - subtype_pred_focal_loss: 0.9667 - subtype_pred_accuracy: 0.3051 - val_loss: 0.5636 - val_any_predictions_loss: 0.5636 - val_subtype_pred_loss: 0.5191 - val_any_predictions_binary_crossentropy: 0.5636 - val_any_predictions_accuracy: 0.7016 - val_subtype_pred_focal_loss: 0.5191 - val_subtype_pred_accuracy: 0.4675\n",
      "Epoch 65/500\n",
      "50/51 [============================>.] - ETA: 1s - loss: 0.5686 - any_predictions_loss: 0.5686 - subtype_pred_loss: 1.0066 - any_predictions_binary_crossentropy: 0.5686 - any_predictions_accuracy: 0.6938 - subtype_pred_focal_loss: 1.0066 - subtype_pred_accuracy: 0.3056\n",
      "Epoch 00065: val_loss did not improve from 0.56363\n",
      "51/51 [==============================] - 73s 1s/step - loss: 0.5658 - any_predictions_loss: 0.5658 - subtype_pred_loss: 1.0082 - any_predictions_binary_crossentropy: 0.5658 - any_predictions_accuracy: 0.6979 - subtype_pred_focal_loss: 1.0082 - subtype_pred_accuracy: 0.3070 - val_loss: 0.5643 - val_any_predictions_loss: 0.5643 - val_subtype_pred_loss: 0.5191 - val_any_predictions_binary_crossentropy: 0.5643 - val_any_predictions_accuracy: 0.6967 - val_subtype_pred_focal_loss: 0.5191 - val_subtype_pred_accuracy: 0.4675\n",
      "Epoch 66/500\n",
      "50/51 [============================>.] - ETA: 1s - loss: 0.5683 - any_predictions_loss: 0.5683 - subtype_pred_loss: 1.0335 - any_predictions_binary_crossentropy: 0.5683 - any_predictions_accuracy: 0.6913 - subtype_pred_focal_loss: 1.0335 - subtype_pred_accuracy: 0.3137\n",
      "Epoch 00066: val_loss did not improve from 0.56363\n",
      "51/51 [==============================] - 72s 1s/step - loss: 0.5660 - any_predictions_loss: 0.5660 - subtype_pred_loss: 1.0347 - any_predictions_binary_crossentropy: 0.5660 - any_predictions_accuracy: 0.6930 - subtype_pred_focal_loss: 1.0347 - subtype_pred_accuracy: 0.3119 - val_loss: 0.5643 - val_any_predictions_loss: 0.5643 - val_subtype_pred_loss: 0.5191 - val_any_predictions_binary_crossentropy: 0.5643 - val_any_predictions_accuracy: 0.6973 - val_subtype_pred_focal_loss: 0.5191 - val_subtype_pred_accuracy: 0.4675\n"
     ]
    },
    {
     "name": "stdout",
     "output_type": "stream",
     "text": [
      "Epoch 67/500\n",
      "50/51 [============================>.] - ETA: 1s - loss: 0.5643 - any_predictions_loss: 0.5643 - subtype_pred_loss: 0.9820 - any_predictions_binary_crossentropy: 0.5643 - any_predictions_accuracy: 0.7038 - subtype_pred_focal_loss: 0.9820 - subtype_pred_accuracy: 0.3019\n",
      "Epoch 00067: val_loss improved from 0.56363 to 0.56228, saving model to ../models/mymodels/\n",
      "51/51 [==============================] - 73s 1s/step - loss: 0.5634 - any_predictions_loss: 0.5634 - subtype_pred_loss: 0.9804 - any_predictions_binary_crossentropy: 0.5634 - any_predictions_accuracy: 0.7047 - subtype_pred_focal_loss: 0.9804 - subtype_pred_accuracy: 0.3009 - val_loss: 0.5623 - val_any_predictions_loss: 0.5623 - val_subtype_pred_loss: 0.5192 - val_any_predictions_binary_crossentropy: 0.5623 - val_any_predictions_accuracy: 0.7022 - val_subtype_pred_focal_loss: 0.5192 - val_subtype_pred_accuracy: 0.4675\n",
      "Epoch 68/500\n",
      "50/51 [============================>.] - ETA: 1s - loss: 0.5658 - any_predictions_loss: 0.5658 - subtype_pred_loss: 1.0374 - any_predictions_binary_crossentropy: 0.5658 - any_predictions_accuracy: 0.6956 - subtype_pred_focal_loss: 1.0374 - subtype_pred_accuracy: 0.3050\n",
      "Epoch 00068: val_loss did not improve from 0.56228\n",
      "51/51 [==============================] - 73s 1s/step - loss: 0.5646 - any_predictions_loss: 0.5646 - subtype_pred_loss: 1.0373 - any_predictions_binary_crossentropy: 0.5646 - any_predictions_accuracy: 0.6967 - subtype_pred_focal_loss: 1.0373 - subtype_pred_accuracy: 0.3058 - val_loss: 0.5647 - val_any_predictions_loss: 0.5647 - val_subtype_pred_loss: 0.5190 - val_any_predictions_binary_crossentropy: 0.5647 - val_any_predictions_accuracy: 0.6973 - val_subtype_pred_focal_loss: 0.5190 - val_subtype_pred_accuracy: 0.4675\n",
      "Epoch 69/500\n",
      "50/51 [============================>.] - ETA: 1s - loss: 0.5609 - any_predictions_loss: 0.5609 - subtype_pred_loss: 1.0071 - any_predictions_binary_crossentropy: 0.5609 - any_predictions_accuracy: 0.7019 - subtype_pred_focal_loss: 1.0071 - subtype_pred_accuracy: 0.2969\n",
      "Epoch 00069: val_loss did not improve from 0.56228\n",
      "51/51 [==============================] - 72s 1s/step - loss: 0.5597 - any_predictions_loss: 0.5597 - subtype_pred_loss: 1.0083 - any_predictions_binary_crossentropy: 0.5597 - any_predictions_accuracy: 0.7034 - subtype_pred_focal_loss: 1.0083 - subtype_pred_accuracy: 0.2978 - val_loss: 0.5638 - val_any_predictions_loss: 0.5638 - val_subtype_pred_loss: 0.5191 - val_any_predictions_binary_crossentropy: 0.5638 - val_any_predictions_accuracy: 0.6967 - val_subtype_pred_focal_loss: 0.5191 - val_subtype_pred_accuracy: 0.4675\n",
      "Epoch 70/500\n",
      "50/51 [============================>.] - ETA: 1s - loss: 0.5657 - any_predictions_loss: 0.5657 - subtype_pred_loss: 1.0111 - any_predictions_binary_crossentropy: 0.5657 - any_predictions_accuracy: 0.7044 - subtype_pred_focal_loss: 1.0111 - subtype_pred_accuracy: 0.3256\n",
      "Epoch 00070: val_loss did not improve from 0.56228\n",
      "51/51 [==============================] - 72s 1s/step - loss: 0.5649 - any_predictions_loss: 0.5649 - subtype_pred_loss: 1.0088 - any_predictions_binary_crossentropy: 0.5649 - any_predictions_accuracy: 0.7059 - subtype_pred_focal_loss: 1.0088 - subtype_pred_accuracy: 0.3266 - val_loss: 0.5624 - val_any_predictions_loss: 0.5624 - val_subtype_pred_loss: 0.5191 - val_any_predictions_binary_crossentropy: 0.5624 - val_any_predictions_accuracy: 0.7034 - val_subtype_pred_focal_loss: 0.5191 - val_subtype_pred_accuracy: 0.4675\n",
      "Epoch 71/500\n",
      "50/51 [============================>.] - ETA: 1s - loss: 0.5605 - any_predictions_loss: 0.5605 - subtype_pred_loss: 0.9970 - any_predictions_binary_crossentropy: 0.5605 - any_predictions_accuracy: 0.7050 - subtype_pred_focal_loss: 0.9970 - subtype_pred_accuracy: 0.3038\n",
      "Epoch 00071: val_loss did not improve from 0.56228\n",
      "51/51 [==============================] - 72s 1s/step - loss: 0.5602 - any_predictions_loss: 0.5602 - subtype_pred_loss: 0.9935 - any_predictions_binary_crossentropy: 0.5602 - any_predictions_accuracy: 0.7053 - subtype_pred_focal_loss: 0.9935 - subtype_pred_accuracy: 0.3015 - val_loss: 0.5625 - val_any_predictions_loss: 0.5625 - val_subtype_pred_loss: 0.5191 - val_any_predictions_binary_crossentropy: 0.5625 - val_any_predictions_accuracy: 0.6985 - val_subtype_pred_focal_loss: 0.5191 - val_subtype_pred_accuracy: 0.4675\n",
      "Epoch 72/500\n",
      "50/51 [============================>.] - ETA: 1s - loss: 0.5681 - any_predictions_loss: 0.5681 - subtype_pred_loss: 1.0138 - any_predictions_binary_crossentropy: 0.5681 - any_predictions_accuracy: 0.6975 - subtype_pred_focal_loss: 1.0138 - subtype_pred_accuracy: 0.3050\n",
      "Epoch 00072: val_loss improved from 0.56228 to 0.56149, saving model to ../models/mymodels/\n",
      "51/51 [==============================] - 73s 1s/step - loss: 0.5665 - any_predictions_loss: 0.5665 - subtype_pred_loss: 1.0106 - any_predictions_binary_crossentropy: 0.5665 - any_predictions_accuracy: 0.7004 - subtype_pred_focal_loss: 1.0106 - subtype_pred_accuracy: 0.3045 - val_loss: 0.5615 - val_any_predictions_loss: 0.5615 - val_subtype_pred_loss: 0.5191 - val_any_predictions_binary_crossentropy: 0.5615 - val_any_predictions_accuracy: 0.7022 - val_subtype_pred_focal_loss: 0.5191 - val_subtype_pred_accuracy: 0.4675\n",
      "Epoch 73/500\n",
      "50/51 [============================>.] - ETA: 0s - loss: 0.5630 - any_predictions_loss: 0.5630 - subtype_pred_loss: 1.0281 - any_predictions_binary_crossentropy: 0.5630 - any_predictions_accuracy: 0.7088 - subtype_pred_focal_loss: 1.0281 - subtype_pred_accuracy: 0.3131\n",
      "Epoch 00073: val_loss improved from 0.56149 to 0.56139, saving model to ../models/mymodels/\n",
      "51/51 [==============================] - 72s 1s/step - loss: 0.5617 - any_predictions_loss: 0.5617 - subtype_pred_loss: 1.0276 - any_predictions_binary_crossentropy: 0.5617 - any_predictions_accuracy: 0.7108 - subtype_pred_focal_loss: 1.0276 - subtype_pred_accuracy: 0.3150 - val_loss: 0.5614 - val_any_predictions_loss: 0.5614 - val_subtype_pred_loss: 0.5191 - val_any_predictions_binary_crossentropy: 0.5614 - val_any_predictions_accuracy: 0.7028 - val_subtype_pred_focal_loss: 0.5191 - val_subtype_pred_accuracy: 0.4675\n",
      "Epoch 74/500\n",
      "50/51 [============================>.] - ETA: 1s - loss: 0.5764 - any_predictions_loss: 0.5764 - subtype_pred_loss: 1.0191 - any_predictions_binary_crossentropy: 0.5764 - any_predictions_accuracy: 0.6975 - subtype_pred_focal_loss: 1.0191 - subtype_pred_accuracy: 0.3075\n",
      "Epoch 00074: val_loss did not improve from 0.56139\n",
      "51/51 [==============================] - 73s 1s/step - loss: 0.5744 - any_predictions_loss: 0.5744 - subtype_pred_loss: 1.0182 - any_predictions_binary_crossentropy: 0.5744 - any_predictions_accuracy: 0.6998 - subtype_pred_focal_loss: 1.0182 - subtype_pred_accuracy: 0.3076 - val_loss: 0.5646 - val_any_predictions_loss: 0.5646 - val_subtype_pred_loss: 0.5190 - val_any_predictions_binary_crossentropy: 0.5646 - val_any_predictions_accuracy: 0.7004 - val_subtype_pred_focal_loss: 0.5190 - val_subtype_pred_accuracy: 0.4675\n",
      "Epoch 75/500\n",
      "50/51 [============================>.] - ETA: 1s - loss: 0.5558 - any_predictions_loss: 0.5558 - subtype_pred_loss: 1.0113 - any_predictions_binary_crossentropy: 0.5558 - any_predictions_accuracy: 0.7031 - subtype_pred_focal_loss: 1.0113 - subtype_pred_accuracy: 0.2912\n",
      "Epoch 00075: val_loss did not improve from 0.56139\n",
      "51/51 [==============================] - 72s 1s/step - loss: 0.5540 - any_predictions_loss: 0.5540 - subtype_pred_loss: 1.0124 - any_predictions_binary_crossentropy: 0.5540 - any_predictions_accuracy: 0.7040 - subtype_pred_focal_loss: 1.0124 - subtype_pred_accuracy: 0.2911 - val_loss: 0.5651 - val_any_predictions_loss: 0.5651 - val_subtype_pred_loss: 0.5189 - val_any_predictions_binary_crossentropy: 0.5651 - val_any_predictions_accuracy: 0.6998 - val_subtype_pred_focal_loss: 0.5189 - val_subtype_pred_accuracy: 0.4675\n",
      "Epoch 76/500\n",
      "50/51 [============================>.] - ETA: 1s - loss: 0.5622 - any_predictions_loss: 0.5622 - subtype_pred_loss: 0.9976 - any_predictions_binary_crossentropy: 0.5622 - any_predictions_accuracy: 0.7138 - subtype_pred_focal_loss: 0.9976 - subtype_pred_accuracy: 0.3100\n",
      "Epoch 00076: val_loss did not improve from 0.56139\n",
      "51/51 [==============================] - 72s 1s/step - loss: 0.5605 - any_predictions_loss: 0.5605 - subtype_pred_loss: 0.9939 - any_predictions_binary_crossentropy: 0.5605 - any_predictions_accuracy: 0.7145 - subtype_pred_focal_loss: 0.9939 - subtype_pred_accuracy: 0.3094 - val_loss: 0.5620 - val_any_predictions_loss: 0.5620 - val_subtype_pred_loss: 0.5191 - val_any_predictions_binary_crossentropy: 0.5620 - val_any_predictions_accuracy: 0.6991 - val_subtype_pred_focal_loss: 0.5191 - val_subtype_pred_accuracy: 0.4675\n"
     ]
    },
    {
     "name": "stdout",
     "output_type": "stream",
     "text": [
      "Epoch 77/500\n",
      "50/51 [============================>.] - ETA: 0s - loss: 0.5627 - any_predictions_loss: 0.5627 - subtype_pred_loss: 1.0186 - any_predictions_binary_crossentropy: 0.5627 - any_predictions_accuracy: 0.7069 - subtype_pred_focal_loss: 1.0186 - subtype_pred_accuracy: 0.3150\n",
      "Epoch 00077: val_loss did not improve from 0.56139\n",
      "51/51 [==============================] - 72s 1s/step - loss: 0.5621 - any_predictions_loss: 0.5621 - subtype_pred_loss: 1.0163 - any_predictions_binary_crossentropy: 0.5621 - any_predictions_accuracy: 0.7077 - subtype_pred_focal_loss: 1.0163 - subtype_pred_accuracy: 0.3131 - val_loss: 0.5636 - val_any_predictions_loss: 0.5636 - val_subtype_pred_loss: 0.5190 - val_any_predictions_binary_crossentropy: 0.5636 - val_any_predictions_accuracy: 0.7004 - val_subtype_pred_focal_loss: 0.5190 - val_subtype_pred_accuracy: 0.4675\n",
      "Epoch 78/500\n",
      "50/51 [============================>.] - ETA: 1s - loss: 0.5688 - any_predictions_loss: 0.5688 - subtype_pred_loss: 0.9976 - any_predictions_binary_crossentropy: 0.5688 - any_predictions_accuracy: 0.6894 - subtype_pred_focal_loss: 0.9976 - subtype_pred_accuracy: 0.3150\n",
      "Epoch 00078: val_loss did not improve from 0.56139\n",
      "51/51 [==============================] - 72s 1s/step - loss: 0.5671 - any_predictions_loss: 0.5671 - subtype_pred_loss: 0.9975 - any_predictions_binary_crossentropy: 0.5671 - any_predictions_accuracy: 0.6918 - subtype_pred_focal_loss: 0.9975 - subtype_pred_accuracy: 0.3162 - val_loss: 0.5618 - val_any_predictions_loss: 0.5618 - val_subtype_pred_loss: 0.5190 - val_any_predictions_binary_crossentropy: 0.5618 - val_any_predictions_accuracy: 0.7010 - val_subtype_pred_focal_loss: 0.5190 - val_subtype_pred_accuracy: 0.4675\n",
      "Epoch 79/500\n",
      "50/51 [============================>.] - ETA: 1s - loss: 0.5741 - any_predictions_loss: 0.5741 - subtype_pred_loss: 0.9767 - any_predictions_binary_crossentropy: 0.5741 - any_predictions_accuracy: 0.7038 - subtype_pred_focal_loss: 0.9767 - subtype_pred_accuracy: 0.2800\n",
      "Epoch 00079: val_loss did not improve from 0.56139\n",
      "51/51 [==============================] - 73s 1s/step - loss: 0.5731 - any_predictions_loss: 0.5731 - subtype_pred_loss: 0.9747 - any_predictions_binary_crossentropy: 0.5731 - any_predictions_accuracy: 0.7047 - subtype_pred_focal_loss: 0.9747 - subtype_pred_accuracy: 0.2763 - val_loss: 0.5619 - val_any_predictions_loss: 0.5619 - val_subtype_pred_loss: 0.5190 - val_any_predictions_binary_crossentropy: 0.5619 - val_any_predictions_accuracy: 0.7022 - val_subtype_pred_focal_loss: 0.5190 - val_subtype_pred_accuracy: 0.4675\n",
      "Epoch 80/500\n",
      "50/51 [============================>.] - ETA: 1s - loss: 0.5658 - any_predictions_loss: 0.5658 - subtype_pred_loss: 1.0049 - any_predictions_binary_crossentropy: 0.5658 - any_predictions_accuracy: 0.6994 - subtype_pred_focal_loss: 1.0049 - subtype_pred_accuracy: 0.3088\n",
      "Epoch 00080: val_loss did not improve from 0.56139\n",
      "51/51 [==============================] - 72s 1s/step - loss: 0.5646 - any_predictions_loss: 0.5646 - subtype_pred_loss: 1.0090 - any_predictions_binary_crossentropy: 0.5646 - any_predictions_accuracy: 0.7004 - subtype_pred_focal_loss: 1.0090 - subtype_pred_accuracy: 0.3076 - val_loss: 0.5627 - val_any_predictions_loss: 0.5627 - val_subtype_pred_loss: 0.5190 - val_any_predictions_binary_crossentropy: 0.5627 - val_any_predictions_accuracy: 0.7016 - val_subtype_pred_focal_loss: 0.5190 - val_subtype_pred_accuracy: 0.4675\n",
      "Epoch 81/500\n",
      "50/51 [============================>.] - ETA: 1s - loss: 0.5657 - any_predictions_loss: 0.5657 - subtype_pred_loss: 1.0082 - any_predictions_binary_crossentropy: 0.5657 - any_predictions_accuracy: 0.7119 - subtype_pred_focal_loss: 1.0082 - subtype_pred_accuracy: 0.3113\n",
      "Epoch 00081: val_loss improved from 0.56139 to 0.56022, saving model to ../models/mymodels/\n",
      "51/51 [==============================] - 73s 1s/step - loss: 0.5630 - any_predictions_loss: 0.5630 - subtype_pred_loss: 1.0084 - any_predictions_binary_crossentropy: 0.5630 - any_predictions_accuracy: 0.7145 - subtype_pred_focal_loss: 1.0084 - subtype_pred_accuracy: 0.3113 - val_loss: 0.5602 - val_any_predictions_loss: 0.5602 - val_subtype_pred_loss: 0.5191 - val_any_predictions_binary_crossentropy: 0.5602 - val_any_predictions_accuracy: 0.7010 - val_subtype_pred_focal_loss: 0.5191 - val_subtype_pred_accuracy: 0.4675\n",
      "Epoch 82/500\n",
      "50/51 [============================>.] - ETA: 1s - loss: 0.5671 - any_predictions_loss: 0.5671 - subtype_pred_loss: 1.0087 - any_predictions_binary_crossentropy: 0.5671 - any_predictions_accuracy: 0.6888 - subtype_pred_focal_loss: 1.0087 - subtype_pred_accuracy: 0.2919\n",
      "Epoch 00082: val_loss did not improve from 0.56022\n",
      "51/51 [==============================] - 72s 1s/step - loss: 0.5656 - any_predictions_loss: 0.5656 - subtype_pred_loss: 1.0105 - any_predictions_binary_crossentropy: 0.5656 - any_predictions_accuracy: 0.6918 - subtype_pred_focal_loss: 1.0105 - subtype_pred_accuracy: 0.2929 - val_loss: 0.5614 - val_any_predictions_loss: 0.5614 - val_subtype_pred_loss: 0.5190 - val_any_predictions_binary_crossentropy: 0.5614 - val_any_predictions_accuracy: 0.7022 - val_subtype_pred_focal_loss: 0.5190 - val_subtype_pred_accuracy: 0.4675\n",
      "Epoch 83/500\n",
      "50/51 [============================>.] - ETA: 1s - loss: 0.5556 - any_predictions_loss: 0.5556 - subtype_pred_loss: 1.0100 - any_predictions_binary_crossentropy: 0.5556 - any_predictions_accuracy: 0.7144 - subtype_pred_focal_loss: 1.0100 - subtype_pred_accuracy: 0.3000\n",
      "Epoch 00083: val_loss did not improve from 0.56022\n",
      "51/51 [==============================] - 73s 1s/step - loss: 0.5545 - any_predictions_loss: 0.5545 - subtype_pred_loss: 1.0082 - any_predictions_binary_crossentropy: 0.5545 - any_predictions_accuracy: 0.7157 - subtype_pred_focal_loss: 1.0082 - subtype_pred_accuracy: 0.2996 - val_loss: 0.5623 - val_any_predictions_loss: 0.5623 - val_subtype_pred_loss: 0.5190 - val_any_predictions_binary_crossentropy: 0.5623 - val_any_predictions_accuracy: 0.7010 - val_subtype_pred_focal_loss: 0.5190 - val_subtype_pred_accuracy: 0.4675\n",
      "Epoch 84/500\n",
      "50/51 [============================>.] - ETA: 1s - loss: 0.5699 - any_predictions_loss: 0.5699 - subtype_pred_loss: 1.0091 - any_predictions_binary_crossentropy: 0.5699 - any_predictions_accuracy: 0.6956 - subtype_pred_focal_loss: 1.0091 - subtype_pred_accuracy: 0.3031\n",
      "Epoch 00084: val_loss did not improve from 0.56022\n",
      "51/51 [==============================] - 73s 1s/step - loss: 0.5681 - any_predictions_loss: 0.5681 - subtype_pred_loss: 1.0141 - any_predictions_binary_crossentropy: 0.5681 - any_predictions_accuracy: 0.6967 - subtype_pred_focal_loss: 1.0141 - subtype_pred_accuracy: 0.3045 - val_loss: 0.5607 - val_any_predictions_loss: 0.5607 - val_subtype_pred_loss: 0.5191 - val_any_predictions_binary_crossentropy: 0.5607 - val_any_predictions_accuracy: 0.7022 - val_subtype_pred_focal_loss: 0.5191 - val_subtype_pred_accuracy: 0.4675\n",
      "Epoch 85/500\n",
      "50/51 [============================>.] - ETA: 1s - loss: 0.5630 - any_predictions_loss: 0.5630 - subtype_pred_loss: 0.9881 - any_predictions_binary_crossentropy: 0.5630 - any_predictions_accuracy: 0.7031 - subtype_pred_focal_loss: 0.9881 - subtype_pred_accuracy: 0.2925\n",
      "Epoch 00085: val_loss did not improve from 0.56022\n",
      "51/51 [==============================] - 73s 1s/step - loss: 0.5621 - any_predictions_loss: 0.5621 - subtype_pred_loss: 0.9887 - any_predictions_binary_crossentropy: 0.5621 - any_predictions_accuracy: 0.7028 - subtype_pred_focal_loss: 0.9887 - subtype_pred_accuracy: 0.2917 - val_loss: 0.5632 - val_any_predictions_loss: 0.5632 - val_subtype_pred_loss: 0.5189 - val_any_predictions_binary_crossentropy: 0.5632 - val_any_predictions_accuracy: 0.7022 - val_subtype_pred_focal_loss: 0.5189 - val_subtype_pred_accuracy: 0.4675\n",
      "Epoch 86/500\n",
      "50/51 [============================>.] - ETA: 1s - loss: 0.5658 - any_predictions_loss: 0.5658 - subtype_pred_loss: 1.0088 - any_predictions_binary_crossentropy: 0.5658 - any_predictions_accuracy: 0.7019 - subtype_pred_focal_loss: 1.0088 - subtype_pred_accuracy: 0.3269\n",
      "Epoch 00086: val_loss did not improve from 0.56022\n",
      "51/51 [==============================] - 72s 1s/step - loss: 0.5643 - any_predictions_loss: 0.5643 - subtype_pred_loss: 1.0080 - any_predictions_binary_crossentropy: 0.5643 - any_predictions_accuracy: 0.7022 - subtype_pred_focal_loss: 1.0080 - subtype_pred_accuracy: 0.3254 - val_loss: 0.5657 - val_any_predictions_loss: 0.5657 - val_subtype_pred_loss: 0.5188 - val_any_predictions_binary_crossentropy: 0.5657 - val_any_predictions_accuracy: 0.6967 - val_subtype_pred_focal_loss: 0.5188 - val_subtype_pred_accuracy: 0.4675\n"
     ]
    },
    {
     "name": "stdout",
     "output_type": "stream",
     "text": [
      "Epoch 87/500\n",
      "50/51 [============================>.] - ETA: 0s - loss: 0.5640 - any_predictions_loss: 0.5640 - subtype_pred_loss: 1.0348 - any_predictions_binary_crossentropy: 0.5640 - any_predictions_accuracy: 0.7131 - subtype_pred_focal_loss: 1.0348 - subtype_pred_accuracy: 0.3081\n",
      "Epoch 00087: val_loss did not improve from 0.56022\n",
      "51/51 [==============================] - 72s 1s/step - loss: 0.5632 - any_predictions_loss: 0.5632 - subtype_pred_loss: 1.0288 - any_predictions_binary_crossentropy: 0.5632 - any_predictions_accuracy: 0.7138 - subtype_pred_focal_loss: 1.0288 - subtype_pred_accuracy: 0.3082 - val_loss: 0.5625 - val_any_predictions_loss: 0.5625 - val_subtype_pred_loss: 0.5189 - val_any_predictions_binary_crossentropy: 0.5625 - val_any_predictions_accuracy: 0.7022 - val_subtype_pred_focal_loss: 0.5189 - val_subtype_pred_accuracy: 0.4675\n",
      "Epoch 88/500\n",
      "50/51 [============================>.] - ETA: 1s - loss: 0.5624 - any_predictions_loss: 0.5624 - subtype_pred_loss: 1.0210 - any_predictions_binary_crossentropy: 0.5624 - any_predictions_accuracy: 0.7138 - subtype_pred_focal_loss: 1.0210 - subtype_pred_accuracy: 0.3219\n",
      "Epoch 00088: val_loss did not improve from 0.56022\n",
      "51/51 [==============================] - 73s 1s/step - loss: 0.5613 - any_predictions_loss: 0.5613 - subtype_pred_loss: 1.0228 - any_predictions_binary_crossentropy: 0.5613 - any_predictions_accuracy: 0.7151 - subtype_pred_focal_loss: 1.0228 - subtype_pred_accuracy: 0.3211 - val_loss: 0.5608 - val_any_predictions_loss: 0.5608 - val_subtype_pred_loss: 0.5190 - val_any_predictions_binary_crossentropy: 0.5608 - val_any_predictions_accuracy: 0.7016 - val_subtype_pred_focal_loss: 0.5190 - val_subtype_pred_accuracy: 0.4675\n",
      "Epoch 89/500\n",
      "50/51 [============================>.] - ETA: 1s - loss: 0.5675 - any_predictions_loss: 0.5675 - subtype_pred_loss: 1.0193 - any_predictions_binary_crossentropy: 0.5675 - any_predictions_accuracy: 0.6994 - subtype_pred_focal_loss: 1.0193 - subtype_pred_accuracy: 0.3169\n",
      "Epoch 00089: val_loss improved from 0.56022 to 0.55898, saving model to ../models/mymodels/\n",
      "51/51 [==============================] - 73s 1s/step - loss: 0.5661 - any_predictions_loss: 0.5661 - subtype_pred_loss: 1.0155 - any_predictions_binary_crossentropy: 0.5661 - any_predictions_accuracy: 0.7004 - subtype_pred_focal_loss: 1.0155 - subtype_pred_accuracy: 0.3174 - val_loss: 0.5590 - val_any_predictions_loss: 0.5590 - val_subtype_pred_loss: 0.5191 - val_any_predictions_binary_crossentropy: 0.5590 - val_any_predictions_accuracy: 0.7010 - val_subtype_pred_focal_loss: 0.5191 - val_subtype_pred_accuracy: 0.4675\n",
      "Epoch 90/500\n",
      "50/51 [============================>.] - ETA: 1s - loss: 0.5653 - any_predictions_loss: 0.5653 - subtype_pred_loss: 0.9880 - any_predictions_binary_crossentropy: 0.5653 - any_predictions_accuracy: 0.6969 - subtype_pred_focal_loss: 0.9880 - subtype_pred_accuracy: 0.3044\n",
      "Epoch 00090: val_loss did not improve from 0.55898\n",
      "51/51 [==============================] - 72s 1s/step - loss: 0.5636 - any_predictions_loss: 0.5636 - subtype_pred_loss: 0.9901 - any_predictions_binary_crossentropy: 0.5636 - any_predictions_accuracy: 0.6998 - subtype_pred_focal_loss: 0.9901 - subtype_pred_accuracy: 0.3051 - val_loss: 0.5616 - val_any_predictions_loss: 0.5616 - val_subtype_pred_loss: 0.5189 - val_any_predictions_binary_crossentropy: 0.5616 - val_any_predictions_accuracy: 0.7040 - val_subtype_pred_focal_loss: 0.5189 - val_subtype_pred_accuracy: 0.4675\n",
      "Epoch 91/500\n",
      "50/51 [============================>.] - ETA: 1s - loss: 0.5584 - any_predictions_loss: 0.5584 - subtype_pred_loss: 0.9890 - any_predictions_binary_crossentropy: 0.5584 - any_predictions_accuracy: 0.7113 - subtype_pred_focal_loss: 0.9890 - subtype_pred_accuracy: 0.3075\n",
      "Epoch 00091: val_loss improved from 0.55898 to 0.55812, saving model to ../models/mymodels/\n",
      "51/51 [==============================] - 73s 1s/step - loss: 0.5577 - any_predictions_loss: 0.5577 - subtype_pred_loss: 0.9885 - any_predictions_binary_crossentropy: 0.5577 - any_predictions_accuracy: 0.7114 - subtype_pred_focal_loss: 0.9885 - subtype_pred_accuracy: 0.3039 - val_loss: 0.5581 - val_any_predictions_loss: 0.5581 - val_subtype_pred_loss: 0.5191 - val_any_predictions_binary_crossentropy: 0.5581 - val_any_predictions_accuracy: 0.7040 - val_subtype_pred_focal_loss: 0.5191 - val_subtype_pred_accuracy: 0.4675\n",
      "Epoch 92/500\n",
      "50/51 [============================>.] - ETA: 1s - loss: 0.5566 - any_predictions_loss: 0.5566 - subtype_pred_loss: 1.0390 - any_predictions_binary_crossentropy: 0.5566 - any_predictions_accuracy: 0.7081 - subtype_pred_focal_loss: 1.0390 - subtype_pred_accuracy: 0.3131\n",
      "Epoch 00092: val_loss did not improve from 0.55812\n",
      "51/51 [==============================] - 72s 1s/step - loss: 0.5548 - any_predictions_loss: 0.5548 - subtype_pred_loss: 1.0341 - any_predictions_binary_crossentropy: 0.5548 - any_predictions_accuracy: 0.7102 - subtype_pred_focal_loss: 1.0341 - subtype_pred_accuracy: 0.3119 - val_loss: 0.5599 - val_any_predictions_loss: 0.5599 - val_subtype_pred_loss: 0.5190 - val_any_predictions_binary_crossentropy: 0.5599 - val_any_predictions_accuracy: 0.7040 - val_subtype_pred_focal_loss: 0.5190 - val_subtype_pred_accuracy: 0.4675\n",
      "Epoch 93/500\n",
      "50/51 [============================>.] - ETA: 1s - loss: 0.5603 - any_predictions_loss: 0.5603 - subtype_pred_loss: 1.0246 - any_predictions_binary_crossentropy: 0.5603 - any_predictions_accuracy: 0.7113 - subtype_pred_focal_loss: 1.0246 - subtype_pred_accuracy: 0.3394\n",
      "Epoch 00093: val_loss did not improve from 0.55812\n",
      "51/51 [==============================] - 72s 1s/step - loss: 0.5604 - any_predictions_loss: 0.5604 - subtype_pred_loss: 1.0279 - any_predictions_binary_crossentropy: 0.5604 - any_predictions_accuracy: 0.7132 - subtype_pred_focal_loss: 1.0279 - subtype_pred_accuracy: 0.3376 - val_loss: 0.5601 - val_any_predictions_loss: 0.5601 - val_subtype_pred_loss: 0.5190 - val_any_predictions_binary_crossentropy: 0.5601 - val_any_predictions_accuracy: 0.7028 - val_subtype_pred_focal_loss: 0.5190 - val_subtype_pred_accuracy: 0.4675\n",
      "Epoch 94/500\n",
      "50/51 [============================>.] - ETA: 1s - loss: 0.5574 - any_predictions_loss: 0.5574 - subtype_pred_loss: 0.9999 - any_predictions_binary_crossentropy: 0.5574 - any_predictions_accuracy: 0.7000 - subtype_pred_focal_loss: 0.9999 - subtype_pred_accuracy: 0.3019\n",
      "Epoch 00094: val_loss did not improve from 0.55812\n",
      "51/51 [==============================] - 72s 1s/step - loss: 0.5553 - any_predictions_loss: 0.5553 - subtype_pred_loss: 1.0036 - any_predictions_binary_crossentropy: 0.5553 - any_predictions_accuracy: 0.7010 - subtype_pred_focal_loss: 1.0036 - subtype_pred_accuracy: 0.3015 - val_loss: 0.5582 - val_any_predictions_loss: 0.5582 - val_subtype_pred_loss: 0.5191 - val_any_predictions_binary_crossentropy: 0.5582 - val_any_predictions_accuracy: 0.7016 - val_subtype_pred_focal_loss: 0.5191 - val_subtype_pred_accuracy: 0.4675\n",
      "Epoch 95/500\n",
      "50/51 [============================>.] - ETA: 1s - loss: 0.5600 - any_predictions_loss: 0.5600 - subtype_pred_loss: 1.0063 - any_predictions_binary_crossentropy: 0.5600 - any_predictions_accuracy: 0.7050 - subtype_pred_focal_loss: 1.0063 - subtype_pred_accuracy: 0.3094\n",
      "Epoch 00095: val_loss did not improve from 0.55812\n",
      "51/51 [==============================] - 73s 1s/step - loss: 0.5603 - any_predictions_loss: 0.5603 - subtype_pred_loss: 1.0093 - any_predictions_binary_crossentropy: 0.5603 - any_predictions_accuracy: 0.7059 - subtype_pred_focal_loss: 1.0093 - subtype_pred_accuracy: 0.3088 - val_loss: 0.5598 - val_any_predictions_loss: 0.5598 - val_subtype_pred_loss: 0.5190 - val_any_predictions_binary_crossentropy: 0.5598 - val_any_predictions_accuracy: 0.7022 - val_subtype_pred_focal_loss: 0.5190 - val_subtype_pred_accuracy: 0.4675\n",
      "Epoch 96/500\n",
      "50/51 [============================>.] - ETA: 1s - loss: 0.5579 - any_predictions_loss: 0.5579 - subtype_pred_loss: 1.0568 - any_predictions_binary_crossentropy: 0.5579 - any_predictions_accuracy: 0.7163 - subtype_pred_focal_loss: 1.0568 - subtype_pred_accuracy: 0.3013\n",
      "Epoch 00096: val_loss did not improve from 0.55812\n",
      "51/51 [==============================] - 73s 1s/step - loss: 0.5566 - any_predictions_loss: 0.5566 - subtype_pred_loss: 1.0585 - any_predictions_binary_crossentropy: 0.5566 - any_predictions_accuracy: 0.7163 - subtype_pred_focal_loss: 1.0585 - subtype_pred_accuracy: 0.3009 - val_loss: 0.5584 - val_any_predictions_loss: 0.5584 - val_subtype_pred_loss: 0.5190 - val_any_predictions_binary_crossentropy: 0.5584 - val_any_predictions_accuracy: 0.7010 - val_subtype_pred_focal_loss: 0.5190 - val_subtype_pred_accuracy: 0.4675\n"
     ]
    },
    {
     "name": "stdout",
     "output_type": "stream",
     "text": [
      "Epoch 97/500\n",
      "50/51 [============================>.] - ETA: 1s - loss: 0.5494 - any_predictions_loss: 0.5494 - subtype_pred_loss: 1.0243 - any_predictions_binary_crossentropy: 0.5494 - any_predictions_accuracy: 0.7113 - subtype_pred_focal_loss: 1.0243 - subtype_pred_accuracy: 0.3137\n",
      "Epoch 00097: val_loss did not improve from 0.55812\n",
      "51/51 [==============================] - 72s 1s/step - loss: 0.5475 - any_predictions_loss: 0.5475 - subtype_pred_loss: 1.0244 - any_predictions_binary_crossentropy: 0.5475 - any_predictions_accuracy: 0.7126 - subtype_pred_focal_loss: 1.0244 - subtype_pred_accuracy: 0.3107 - val_loss: 0.5596 - val_any_predictions_loss: 0.5596 - val_subtype_pred_loss: 0.5190 - val_any_predictions_binary_crossentropy: 0.5596 - val_any_predictions_accuracy: 0.7053 - val_subtype_pred_focal_loss: 0.5190 - val_subtype_pred_accuracy: 0.4675\n",
      "Epoch 98/500\n",
      "50/51 [============================>.] - ETA: 1s - loss: 0.5533 - any_predictions_loss: 0.5533 - subtype_pred_loss: 1.0115 - any_predictions_binary_crossentropy: 0.5533 - any_predictions_accuracy: 0.7031 - subtype_pred_focal_loss: 1.0115 - subtype_pred_accuracy: 0.2962\n",
      "Epoch 00098: val_loss improved from 0.55812 to 0.55732, saving model to ../models/mymodels/\n",
      "51/51 [==============================] - 72s 1s/step - loss: 0.5526 - any_predictions_loss: 0.5526 - subtype_pred_loss: 1.0058 - any_predictions_binary_crossentropy: 0.5526 - any_predictions_accuracy: 0.7047 - subtype_pred_focal_loss: 1.0058 - subtype_pred_accuracy: 0.2953 - val_loss: 0.5573 - val_any_predictions_loss: 0.5573 - val_subtype_pred_loss: 0.5191 - val_any_predictions_binary_crossentropy: 0.5573 - val_any_predictions_accuracy: 0.7004 - val_subtype_pred_focal_loss: 0.5191 - val_subtype_pred_accuracy: 0.4675\n",
      "Epoch 99/500\n",
      "50/51 [============================>.] - ETA: 1s - loss: 0.5594 - any_predictions_loss: 0.5594 - subtype_pred_loss: 1.0073 - any_predictions_binary_crossentropy: 0.5594 - any_predictions_accuracy: 0.7056 - subtype_pred_focal_loss: 1.0073 - subtype_pred_accuracy: 0.3013\n",
      "Epoch 00099: val_loss improved from 0.55732 to 0.55723, saving model to ../models/mymodels/\n",
      "51/51 [==============================] - 73s 1s/step - loss: 0.5572 - any_predictions_loss: 0.5572 - subtype_pred_loss: 1.0028 - any_predictions_binary_crossentropy: 0.5572 - any_predictions_accuracy: 0.7089 - subtype_pred_focal_loss: 1.0028 - subtype_pred_accuracy: 0.2996 - val_loss: 0.5572 - val_any_predictions_loss: 0.5572 - val_subtype_pred_loss: 0.5190 - val_any_predictions_binary_crossentropy: 0.5572 - val_any_predictions_accuracy: 0.7016 - val_subtype_pred_focal_loss: 0.5190 - val_subtype_pred_accuracy: 0.4675\n",
      "Epoch 100/500\n",
      "50/51 [============================>.] - ETA: 1s - loss: 0.5635 - any_predictions_loss: 0.5635 - subtype_pred_loss: 1.0209 - any_predictions_binary_crossentropy: 0.5635 - any_predictions_accuracy: 0.7006 - subtype_pred_focal_loss: 1.0209 - subtype_pred_accuracy: 0.3013\n",
      "Epoch 00100: val_loss did not improve from 0.55723\n",
      "51/51 [==============================] - 73s 1s/step - loss: 0.5629 - any_predictions_loss: 0.5629 - subtype_pred_loss: 1.0230 - any_predictions_binary_crossentropy: 0.5629 - any_predictions_accuracy: 0.7016 - subtype_pred_focal_loss: 1.0230 - subtype_pred_accuracy: 0.3015 - val_loss: 0.5592 - val_any_predictions_loss: 0.5592 - val_subtype_pred_loss: 0.5189 - val_any_predictions_binary_crossentropy: 0.5592 - val_any_predictions_accuracy: 0.7053 - val_subtype_pred_focal_loss: 0.5189 - val_subtype_pred_accuracy: 0.4669\n",
      "Epoch 101/500\n",
      "50/51 [============================>.] - ETA: 1s - loss: 0.5545 - any_predictions_loss: 0.5545 - subtype_pred_loss: 0.9865 - any_predictions_binary_crossentropy: 0.5545 - any_predictions_accuracy: 0.7125 - subtype_pred_focal_loss: 0.9865 - subtype_pred_accuracy: 0.2894\n",
      "Epoch 00101: val_loss did not improve from 0.55723\n",
      "51/51 [==============================] - 73s 1s/step - loss: 0.5543 - any_predictions_loss: 0.5543 - subtype_pred_loss: 0.9849 - any_predictions_binary_crossentropy: 0.5543 - any_predictions_accuracy: 0.7126 - subtype_pred_focal_loss: 0.9849 - subtype_pred_accuracy: 0.2911 - val_loss: 0.5604 - val_any_predictions_loss: 0.5604 - val_subtype_pred_loss: 0.5189 - val_any_predictions_binary_crossentropy: 0.5604 - val_any_predictions_accuracy: 0.7028 - val_subtype_pred_focal_loss: 0.5189 - val_subtype_pred_accuracy: 0.4669\n",
      "Epoch 102/500\n",
      "50/51 [============================>.] - ETA: 1s - loss: 0.5513 - any_predictions_loss: 0.5513 - subtype_pred_loss: 1.0289 - any_predictions_binary_crossentropy: 0.5513 - any_predictions_accuracy: 0.7156 - subtype_pred_focal_loss: 1.0289 - subtype_pred_accuracy: 0.3156\n",
      "Epoch 00102: val_loss did not improve from 0.55723\n",
      "51/51 [==============================] - 72s 1s/step - loss: 0.5513 - any_predictions_loss: 0.5513 - subtype_pred_loss: 1.0287 - any_predictions_binary_crossentropy: 0.5513 - any_predictions_accuracy: 0.7163 - subtype_pred_focal_loss: 1.0287 - subtype_pred_accuracy: 0.3143 - val_loss: 0.5577 - val_any_predictions_loss: 0.5577 - val_subtype_pred_loss: 0.5190 - val_any_predictions_binary_crossentropy: 0.5577 - val_any_predictions_accuracy: 0.7034 - val_subtype_pred_focal_loss: 0.5190 - val_subtype_pred_accuracy: 0.4675\n",
      "Epoch 103/500\n",
      "50/51 [============================>.] - ETA: 1s - loss: 0.5616 - any_predictions_loss: 0.5616 - subtype_pred_loss: 1.0170 - any_predictions_binary_crossentropy: 0.5616 - any_predictions_accuracy: 0.6981 - subtype_pred_focal_loss: 1.0170 - subtype_pred_accuracy: 0.3125\n",
      "Epoch 00103: val_loss did not improve from 0.55723\n",
      "51/51 [==============================] - 73s 1s/step - loss: 0.5601 - any_predictions_loss: 0.5601 - subtype_pred_loss: 1.0163 - any_predictions_binary_crossentropy: 0.5601 - any_predictions_accuracy: 0.6998 - subtype_pred_focal_loss: 1.0163 - subtype_pred_accuracy: 0.3125 - val_loss: 0.5574 - val_any_predictions_loss: 0.5574 - val_subtype_pred_loss: 0.5190 - val_any_predictions_binary_crossentropy: 0.5574 - val_any_predictions_accuracy: 0.7028 - val_subtype_pred_focal_loss: 0.5190 - val_subtype_pred_accuracy: 0.4675\n",
      "Epoch 104/500\n",
      "50/51 [============================>.] - ETA: 1s - loss: 0.5540 - any_predictions_loss: 0.5540 - subtype_pred_loss: 1.0091 - any_predictions_binary_crossentropy: 0.5540 - any_predictions_accuracy: 0.7225 - subtype_pred_focal_loss: 1.0091 - subtype_pred_accuracy: 0.3169\n",
      "Epoch 00104: val_loss did not improve from 0.55723\n",
      "51/51 [==============================] - 73s 1s/step - loss: 0.5521 - any_predictions_loss: 0.5521 - subtype_pred_loss: 1.0086 - any_predictions_binary_crossentropy: 0.5521 - any_predictions_accuracy: 0.7237 - subtype_pred_focal_loss: 1.0086 - subtype_pred_accuracy: 0.3174 - val_loss: 0.5577 - val_any_predictions_loss: 0.5577 - val_subtype_pred_loss: 0.5190 - val_any_predictions_binary_crossentropy: 0.5577 - val_any_predictions_accuracy: 0.7040 - val_subtype_pred_focal_loss: 0.5190 - val_subtype_pred_accuracy: 0.4675\n",
      "Epoch 105/500\n",
      "50/51 [============================>.] - ETA: 1s - loss: 0.5588 - any_predictions_loss: 0.5588 - subtype_pred_loss: 0.9793 - any_predictions_binary_crossentropy: 0.5588 - any_predictions_accuracy: 0.7113 - subtype_pred_focal_loss: 0.9793 - subtype_pred_accuracy: 0.2962\n",
      "Epoch 00105: val_loss improved from 0.55723 to 0.55572, saving model to ../models/mymodels/\n",
      "51/51 [==============================] - 73s 1s/step - loss: 0.5573 - any_predictions_loss: 0.5573 - subtype_pred_loss: 0.9852 - any_predictions_binary_crossentropy: 0.5573 - any_predictions_accuracy: 0.7126 - subtype_pred_focal_loss: 0.9852 - subtype_pred_accuracy: 0.2953 - val_loss: 0.5557 - val_any_predictions_loss: 0.5557 - val_subtype_pred_loss: 0.5191 - val_any_predictions_binary_crossentropy: 0.5557 - val_any_predictions_accuracy: 0.7040 - val_subtype_pred_focal_loss: 0.5191 - val_subtype_pred_accuracy: 0.4675\n",
      "Epoch 106/500\n",
      "50/51 [============================>.] - ETA: 0s - loss: 0.5527 - any_predictions_loss: 0.5527 - subtype_pred_loss: 1.0111 - any_predictions_binary_crossentropy: 0.5527 - any_predictions_accuracy: 0.7075 - subtype_pred_focal_loss: 1.0111 - subtype_pred_accuracy: 0.3025\n",
      "Epoch 00106: val_loss did not improve from 0.55572\n",
      "51/51 [==============================] - 72s 1s/step - loss: 0.5508 - any_predictions_loss: 0.5508 - subtype_pred_loss: 1.0121 - any_predictions_binary_crossentropy: 0.5508 - any_predictions_accuracy: 0.7108 - subtype_pred_focal_loss: 1.0121 - subtype_pred_accuracy: 0.3021 - val_loss: 0.5563 - val_any_predictions_loss: 0.5563 - val_subtype_pred_loss: 0.5191 - val_any_predictions_binary_crossentropy: 0.5563 - val_any_predictions_accuracy: 0.7028 - val_subtype_pred_focal_loss: 0.5191 - val_subtype_pred_accuracy: 0.4675\n"
     ]
    },
    {
     "name": "stdout",
     "output_type": "stream",
     "text": [
      "Epoch 107/500\n",
      "50/51 [============================>.] - ETA: 0s - loss: 0.5667 - any_predictions_loss: 0.5667 - subtype_pred_loss: 0.9994 - any_predictions_binary_crossentropy: 0.5667 - any_predictions_accuracy: 0.7056 - subtype_pred_focal_loss: 0.9994 - subtype_pred_accuracy: 0.3331\n",
      "Epoch 00107: val_loss did not improve from 0.55572\n",
      "51/51 [==============================] - 72s 1s/step - loss: 0.5649 - any_predictions_loss: 0.5649 - subtype_pred_loss: 1.0041 - any_predictions_binary_crossentropy: 0.5649 - any_predictions_accuracy: 0.7096 - subtype_pred_focal_loss: 1.0041 - subtype_pred_accuracy: 0.3339 - val_loss: 0.5578 - val_any_predictions_loss: 0.5578 - val_subtype_pred_loss: 0.5190 - val_any_predictions_binary_crossentropy: 0.5578 - val_any_predictions_accuracy: 0.7047 - val_subtype_pred_focal_loss: 0.5190 - val_subtype_pred_accuracy: 0.4675\n",
      "Epoch 108/500\n",
      "50/51 [============================>.] - ETA: 0s - loss: 0.5571 - any_predictions_loss: 0.5571 - subtype_pred_loss: 1.0306 - any_predictions_binary_crossentropy: 0.5571 - any_predictions_accuracy: 0.7150 - subtype_pred_focal_loss: 1.0306 - subtype_pred_accuracy: 0.3119\n",
      "Epoch 00108: val_loss did not improve from 0.55572\n",
      "51/51 [==============================] - 72s 1s/step - loss: 0.5566 - any_predictions_loss: 0.5566 - subtype_pred_loss: 1.0331 - any_predictions_binary_crossentropy: 0.5566 - any_predictions_accuracy: 0.7151 - subtype_pred_focal_loss: 1.0331 - subtype_pred_accuracy: 0.3113 - val_loss: 0.5573 - val_any_predictions_loss: 0.5573 - val_subtype_pred_loss: 0.5190 - val_any_predictions_binary_crossentropy: 0.5573 - val_any_predictions_accuracy: 0.7034 - val_subtype_pred_focal_loss: 0.5190 - val_subtype_pred_accuracy: 0.4675\n",
      "Epoch 109/500\n",
      "50/51 [============================>.] - ETA: 1s - loss: 0.5621 - any_predictions_loss: 0.5621 - subtype_pred_loss: 1.0113 - any_predictions_binary_crossentropy: 0.5621 - any_predictions_accuracy: 0.7125 - subtype_pred_focal_loss: 1.0113 - subtype_pred_accuracy: 0.3075\n",
      "Epoch 00109: val_loss did not improve from 0.55572\n",
      "51/51 [==============================] - 72s 1s/step - loss: 0.5609 - any_predictions_loss: 0.5609 - subtype_pred_loss: 1.0123 - any_predictions_binary_crossentropy: 0.5609 - any_predictions_accuracy: 0.7120 - subtype_pred_focal_loss: 1.0123 - subtype_pred_accuracy: 0.3064 - val_loss: 0.5592 - val_any_predictions_loss: 0.5592 - val_subtype_pred_loss: 0.5189 - val_any_predictions_binary_crossentropy: 0.5592 - val_any_predictions_accuracy: 0.7047 - val_subtype_pred_focal_loss: 0.5189 - val_subtype_pred_accuracy: 0.4669\n",
      "Epoch 110/500\n",
      "50/51 [============================>.] - ETA: 1s - loss: 0.5555 - any_predictions_loss: 0.5555 - subtype_pred_loss: 1.0059 - any_predictions_binary_crossentropy: 0.5555 - any_predictions_accuracy: 0.7081 - subtype_pred_focal_loss: 1.0059 - subtype_pred_accuracy: 0.3056\n",
      "Epoch 00110: val_loss did not improve from 0.55572\n",
      "51/51 [==============================] - 73s 1s/step - loss: 0.5552 - any_predictions_loss: 0.5552 - subtype_pred_loss: 1.0061 - any_predictions_binary_crossentropy: 0.5552 - any_predictions_accuracy: 0.7096 - subtype_pred_focal_loss: 1.0061 - subtype_pred_accuracy: 0.3051 - val_loss: 0.5575 - val_any_predictions_loss: 0.5575 - val_subtype_pred_loss: 0.5190 - val_any_predictions_binary_crossentropy: 0.5575 - val_any_predictions_accuracy: 0.7047 - val_subtype_pred_focal_loss: 0.5190 - val_subtype_pred_accuracy: 0.4669\n",
      "Epoch 111/500\n",
      "50/51 [============================>.] - ETA: 0s - loss: 0.5521 - any_predictions_loss: 0.5521 - subtype_pred_loss: 1.0178 - any_predictions_binary_crossentropy: 0.5521 - any_predictions_accuracy: 0.7138 - subtype_pred_focal_loss: 1.0178 - subtype_pred_accuracy: 0.3106\n",
      "Epoch 00111: val_loss did not improve from 0.55572\n",
      "51/51 [==============================] - 72s 1s/step - loss: 0.5500 - any_predictions_loss: 0.5500 - subtype_pred_loss: 1.0173 - any_predictions_binary_crossentropy: 0.5500 - any_predictions_accuracy: 0.7151 - subtype_pred_focal_loss: 1.0173 - subtype_pred_accuracy: 0.3100 - val_loss: 0.5577 - val_any_predictions_loss: 0.5577 - val_subtype_pred_loss: 0.5189 - val_any_predictions_binary_crossentropy: 0.5577 - val_any_predictions_accuracy: 0.7034 - val_subtype_pred_focal_loss: 0.5189 - val_subtype_pred_accuracy: 0.4669\n",
      "Epoch 112/500\n",
      "50/51 [============================>.] - ETA: 1s - loss: 0.5628 - any_predictions_loss: 0.5628 - subtype_pred_loss: 0.9836 - any_predictions_binary_crossentropy: 0.5628 - any_predictions_accuracy: 0.6969 - subtype_pred_focal_loss: 0.9836 - subtype_pred_accuracy: 0.3038\n",
      "Epoch 00112: val_loss did not improve from 0.55572\n",
      "51/51 [==============================] - 72s 1s/step - loss: 0.5608 - any_predictions_loss: 0.5608 - subtype_pred_loss: 0.9849 - any_predictions_binary_crossentropy: 0.5608 - any_predictions_accuracy: 0.6998 - subtype_pred_focal_loss: 0.9849 - subtype_pred_accuracy: 0.3027 - val_loss: 0.5563 - val_any_predictions_loss: 0.5563 - val_subtype_pred_loss: 0.5190 - val_any_predictions_binary_crossentropy: 0.5563 - val_any_predictions_accuracy: 0.7053 - val_subtype_pred_focal_loss: 0.5190 - val_subtype_pred_accuracy: 0.4675\n",
      "Epoch 113/500\n",
      "50/51 [============================>.] - ETA: 0s - loss: 0.5427 - any_predictions_loss: 0.5427 - subtype_pred_loss: 1.0084 - any_predictions_binary_crossentropy: 0.5427 - any_predictions_accuracy: 0.7244 - subtype_pred_focal_loss: 1.0084 - subtype_pred_accuracy: 0.3169\n",
      "Epoch 00113: val_loss did not improve from 0.55572\n",
      "51/51 [==============================] - 72s 1s/step - loss: 0.5425 - any_predictions_loss: 0.5425 - subtype_pred_loss: 1.0096 - any_predictions_binary_crossentropy: 0.5425 - any_predictions_accuracy: 0.7243 - subtype_pred_focal_loss: 1.0096 - subtype_pred_accuracy: 0.3162 - val_loss: 0.5564 - val_any_predictions_loss: 0.5564 - val_subtype_pred_loss: 0.5190 - val_any_predictions_binary_crossentropy: 0.5564 - val_any_predictions_accuracy: 0.7047 - val_subtype_pred_focal_loss: 0.5190 - val_subtype_pred_accuracy: 0.4675\n",
      "Epoch 114/500\n",
      "50/51 [============================>.] - ETA: 1s - loss: 0.5659 - any_predictions_loss: 0.5659 - subtype_pred_loss: 0.9776 - any_predictions_binary_crossentropy: 0.5659 - any_predictions_accuracy: 0.7031 - subtype_pred_focal_loss: 0.9776 - subtype_pred_accuracy: 0.2962\n",
      "Epoch 00114: val_loss did not improve from 0.55572\n",
      "51/51 [==============================] - 72s 1s/step - loss: 0.5647 - any_predictions_loss: 0.5647 - subtype_pred_loss: 0.9799 - any_predictions_binary_crossentropy: 0.5647 - any_predictions_accuracy: 0.7034 - subtype_pred_focal_loss: 0.9799 - subtype_pred_accuracy: 0.2953 - val_loss: 0.5558 - val_any_predictions_loss: 0.5558 - val_subtype_pred_loss: 0.5190 - val_any_predictions_binary_crossentropy: 0.5558 - val_any_predictions_accuracy: 0.7040 - val_subtype_pred_focal_loss: 0.5190 - val_subtype_pred_accuracy: 0.4675\n",
      "Epoch 115/500\n",
      "50/51 [============================>.] - ETA: 1s - loss: 0.5553 - any_predictions_loss: 0.5553 - subtype_pred_loss: 1.0016 - any_predictions_binary_crossentropy: 0.5553 - any_predictions_accuracy: 0.7044 - subtype_pred_focal_loss: 1.0016 - subtype_pred_accuracy: 0.2894\n",
      "Epoch 00115: val_loss did not improve from 0.55572\n",
      "51/51 [==============================] - 72s 1s/step - loss: 0.5542 - any_predictions_loss: 0.5542 - subtype_pred_loss: 1.0018 - any_predictions_binary_crossentropy: 0.5542 - any_predictions_accuracy: 0.7053 - subtype_pred_focal_loss: 1.0018 - subtype_pred_accuracy: 0.2917 - val_loss: 0.5569 - val_any_predictions_loss: 0.5569 - val_subtype_pred_loss: 0.5190 - val_any_predictions_binary_crossentropy: 0.5569 - val_any_predictions_accuracy: 0.7028 - val_subtype_pred_focal_loss: 0.5190 - val_subtype_pred_accuracy: 0.4675\n"
     ]
    }
   ],
   "source": [
    "model6 = MakeModel(pt_model=my_vgg_16,\n",
    "                      metrics_list={'any_predictions':['binary_crossentropy', 'accuracy'],\n",
    "                                            'subtype_pred': [focal_loss, 'accuracy']},\n",
    "                      data_generator_train = data_generator_train,\n",
    "                      data_generator_val = data_generator_val,\n",
    "                      epochs=500,\n",
    "                      num_classes=5)\n",
    "model6.build_model()\n",
    "model6.compile_model()\n",
    "model6_history = model6.fit_model()\n"
   ]
  },
  {
   "cell_type": "code",
   "execution_count": 85,
   "metadata": {},
   "outputs": [
    {
     "name": "stdout",
     "output_type": "stream",
     "text": [
      "Model: \"model_4\"\n",
      "__________________________________________________________________________________________________\n",
      "Layer (type)                    Output Shape         Param #     Connected to                     \n",
      "==================================================================================================\n",
      "input_5 (InputLayer)            [(None, None, None,  0                                            \n",
      "__________________________________________________________________________________________________\n",
      "block1_conv1 (Conv2D)           (None, None, None, 6 1792        input_5[0][0]                    \n",
      "__________________________________________________________________________________________________\n",
      "block1_conv2 (Conv2D)           (None, None, None, 6 36928       block1_conv1[0][0]               \n",
      "__________________________________________________________________________________________________\n",
      "block1_pool (MaxPooling2D)      (None, None, None, 6 0           block1_conv2[0][0]               \n",
      "__________________________________________________________________________________________________\n",
      "block2_conv1 (Conv2D)           (None, None, None, 1 73856       block1_pool[0][0]                \n",
      "__________________________________________________________________________________________________\n",
      "block2_conv2 (Conv2D)           (None, None, None, 1 147584      block2_conv1[0][0]               \n",
      "__________________________________________________________________________________________________\n",
      "block2_pool (MaxPooling2D)      (None, None, None, 1 0           block2_conv2[0][0]               \n",
      "__________________________________________________________________________________________________\n",
      "block3_conv1 (Conv2D)           (None, None, None, 2 295168      block2_pool[0][0]                \n",
      "__________________________________________________________________________________________________\n",
      "block3_conv2 (Conv2D)           (None, None, None, 2 590080      block3_conv1[0][0]               \n",
      "__________________________________________________________________________________________________\n",
      "block3_conv3 (Conv2D)           (None, None, None, 2 590080      block3_conv2[0][0]               \n",
      "__________________________________________________________________________________________________\n",
      "block3_pool (MaxPooling2D)      (None, None, None, 2 0           block3_conv3[0][0]               \n",
      "__________________________________________________________________________________________________\n",
      "block4_conv1 (Conv2D)           (None, None, None, 5 1180160     block3_pool[0][0]                \n",
      "__________________________________________________________________________________________________\n",
      "block4_conv2 (Conv2D)           (None, None, None, 5 2359808     block4_conv1[0][0]               \n",
      "__________________________________________________________________________________________________\n",
      "block4_conv3 (Conv2D)           (None, None, None, 5 2359808     block4_conv2[0][0]               \n",
      "__________________________________________________________________________________________________\n",
      "block4_pool (MaxPooling2D)      (None, None, None, 5 0           block4_conv3[0][0]               \n",
      "__________________________________________________________________________________________________\n",
      "block5_conv1 (Conv2D)           (None, None, None, 5 2359808     block4_pool[0][0]                \n",
      "__________________________________________________________________________________________________\n",
      "block5_conv2 (Conv2D)           (None, None, None, 5 2359808     block5_conv1[0][0]               \n",
      "__________________________________________________________________________________________________\n",
      "block5_conv3 (Conv2D)           (None, None, None, 5 2359808     block5_conv2[0][0]               \n",
      "__________________________________________________________________________________________________\n",
      "block5_pool (MaxPooling2D)      (None, None, None, 5 0           block5_conv3[0][0]               \n",
      "__________________________________________________________________________________________________\n",
      "global_average_pooling2d_4 (Glo (None, 512)          0           block5_pool[0][0]                \n",
      "__________________________________________________________________________________________________\n",
      "dropout_4 (Dropout)             (None, 512)          0           global_average_pooling2d_4[0][0] \n",
      "__________________________________________________________________________________________________\n",
      "dense_4 (Dense)                 (None, 1)            513         dropout_4[0][0]                  \n",
      "__________________________________________________________________________________________________\n",
      "any_predictions (Activation)    (None, 1)            0           dense_4[0][0]                    \n",
      "__________________________________________________________________________________________________\n",
      "concatenate_4 (Concatenate)     (None, 513)          0           any_predictions[0][0]            \n",
      "                                                                 dropout_4[0][0]                  \n",
      "__________________________________________________________________________________________________\n",
      "subtype_pred (Dense)            (None, 5)            2570        concatenate_4[0][0]              \n",
      "==================================================================================================\n",
      "Total params: 14,717,771\n",
      "Trainable params: 3,083\n",
      "Non-trainable params: 14,714,688\n",
      "__________________________________________________________________________________________________\n"
     ]
    }
   ],
   "source": [
    "model6.model.summary()"
   ]
  },
  {
   "cell_type": "code",
   "execution_count": 86,
   "metadata": {
    "scrolled": false
   },
   "outputs": [
    {
     "data": {
      "image/png": "[encoded data removed]",
      "text/plain": [
       "<Figure size 864x576 with 1 Axes>"
      ]
     },
     "metadata": {
      "needs_background": "light"
     },
     "output_type": "display_data"
    }
   ],
   "source": [
    "train_loss = model6_history.history['any_predictions_loss']\n",
    "val_loss = model6_history.history['val_any_predictions_loss']\n",
    "\n",
    "plt.figure(figsize = (12,8))\n",
    "\n",
    "plt.plot(train_loss, label = 'training_loss', color = 'b')\n",
    "plt.plot(val_loss, label = 'val_loss', color = 'orange')\n",
    "\n",
    "plt.title('Any Label Training and Validation Loss by Epochs')\n",
    "plt.xlabel('Epochs')\n",
    "plt.ylabel('weighted_log_loss')\n",
    "plt.legend();"
   ]
  },
  {
   "cell_type": "code",
   "execution_count": 88,
   "metadata": {},
   "outputs": [
    {
     "data": {
      "image/png": "[encoded data removed]",
      "text/plain": [
       "<Figure size 864x576 with 1 Axes>"
      ]
     },
     "metadata": {
      "needs_background": "light"
     },
     "output_type": "display_data"
    }
   ],
   "source": [
    "train_loss = model6_history.history['subtype_pred_loss']\n",
    "val_loss = model6_history.history['val_subtype_pred_loss']\n",
    "\n",
    "plt.figure(figsize = (12,8))\n",
    "\n",
    "plt.plot(train_loss, label = 'training_loss', color = 'b')\n",
    "plt.plot(val_loss, label = 'val_loss', color = 'orange')\n",
    "\n",
    "plt.title('Subtype Label Training and Validation Loss by Epochs')\n",
    "plt.xlabel('Epochs')\n",
    "plt.ylabel('weighted_log_loss')\n",
    "plt.legend();"
   ]
  },
  {
   "cell_type": "code",
   "execution_count": 89,
   "metadata": {},
   "outputs": [
    {
     "data": {
      "image/png": "[encoded data removed]",
      "text/plain": [
       "<Figure size 864x576 with 1 Axes>"
      ]
     },
     "metadata": {
      "needs_background": "light"
     },
     "output_type": "display_data"
    }
   ],
   "source": [
    "train_loss = model6_history.history['subtype_pred_focal_loss']\n",
    "val_loss = model6_history.history['val_subtype_pred_focal_loss']\n",
    "\n",
    "plt.figure(figsize = (12,8))\n",
    "\n",
    "plt.plot(train_loss, label = 'training_loss', color = 'b')\n",
    "plt.plot(val_loss, label = 'val_loss', color = 'orange')\n",
    "\n",
    "plt.title('Any Label Training and Validation Focal Loss by Epochs')\n",
    "plt.xlabel('Epochs')\n",
    "plt.ylabel('weighted_log_loss')\n",
    "plt.legend();"
   ]
  },
  {
   "cell_type": "code",
   "execution_count": 90,
   "metadata": {},
   "outputs": [
    {
     "data": {
      "image/png": "[encoded data removed]",
      "text/plain": [
       "<Figure size 864x576 with 1 Axes>"
      ]
     },
     "metadata": {
      "needs_background": "light"
     },
     "output_type": "display_data"
    }
   ],
   "source": [
    "train_acc = model6_history.history['subtype_pred_accuracy']\n",
    "val_acc = model6_history.history['val_subtype_pred_accuracy']\n",
    "\n",
    "plt.figure(figsize = (12,8))\n",
    "\n",
    "plt.plot(train_loss, label = 'training_acc', color = 'b')\n",
    "plt.plot(val_loss, label = 'val_acc', color = 'orange')\n",
    "\n",
    "plt.title('Training and Validation Subtype Accuracy by Epochs')\n",
    "plt.xlabel('Epochs')\n",
    "plt.ylabel('Accuracy')\n",
    "plt.legend();"
   ]
  },
  {
   "cell_type": "code",
   "execution_count": 91,
   "metadata": {},
   "outputs": [],
   "source": [
    "train_proba_any, train_proba_subtype = model6.predict(data_generator_test)"
   ]
  },
  {
   "cell_type": "code",
   "execution_count": 92,
   "metadata": {},
   "outputs": [
    {
     "data": {
      "text/plain": [
       "(121232, 1)"
      ]
     },
     "execution_count": 92,
     "metadata": {},
     "output_type": "execute_result"
    }
   ],
   "source": [
    "train_proba_any.shape"
   ]
  },
  {
   "cell_type": "code",
   "execution_count": 93,
   "metadata": {},
   "outputs": [
    {
     "data": {
      "text/plain": [
       "(121232, 5)"
      ]
     },
     "execution_count": 93,
     "metadata": {},
     "output_type": "execute_result"
    }
   ],
   "source": [
    "train_proba_subtype.shape"
   ]
  },
  {
   "cell_type": "code",
   "execution_count": 94,
   "metadata": {},
   "outputs": [],
   "source": [
    "submission = np.concatenate((train_proba_any,train_proba_subtype),axis=1)"
   ]
  },
  {
   "cell_type": "code",
   "execution_count": 95,
   "metadata": {},
   "outputs": [
    {
     "data": {
      "text/plain": [
       "(121232, 6)"
      ]
     },
     "execution_count": 95,
     "metadata": {},
     "output_type": "execute_result"
    }
   ],
   "source": [
    "submission.shape"
   ]
  },
  {
   "cell_type": "code",
   "execution_count": 96,
   "metadata": {},
   "outputs": [],
   "source": [
    "def make_df(meta_data_df, predictions):\n",
    "    df = pd.DataFrame(predictions, columns=meta_data_df.columns, index=meta_data_df.index)\n",
    "    df = df.stack().reset_index()\n",
    "    df.loc[:, \"ID\"] = df.id.str.cat(df.subtype, sep=\"_\")\n",
    "    df = df.drop([\"id\", \"subtype\"], axis=1)\n",
    "    df = df.rename({0: \"Label\"}, axis=1)\n",
    "    df = df[['ID','Label']]\n",
    "   \n",
    "    return df"
   ]
  },
  {
   "cell_type": "code",
   "execution_count": 97,
   "metadata": {
    "scrolled": false
   },
   "outputs": [],
   "source": [
    "submission_6 = make_df(test_df, submission)"
   ]
  },
  {
   "cell_type": "code",
   "execution_count": 98,
   "metadata": {},
   "outputs": [],
   "source": [
    "submission_6.to_csv('../data/output/submissions/submission_model_6.csv', index=False)"
   ]
  }
 ],
 "metadata": {
  "kernelspec": {
   "display_name": "Python 3",
   "language": "python",
   "name": "python3"
  },
  "language_info": {
   "codemirror_mode": {
    "name": "ipython",
    "version": 3
   },
   "file_extension": ".py",
   "mimetype": "text/x-python",
   "name": "python",
   "nbconvert_exporter": "python",
   "pygments_lexer": "ipython3",
   "version": "3.7.4"
  }
 },
 "nbformat": 4,
 "nbformat_minor": 2
}
