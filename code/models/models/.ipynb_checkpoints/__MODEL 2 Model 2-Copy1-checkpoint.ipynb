{
 "cells": [
  {
   "cell_type": "markdown",
   "metadata": {},
   "source": [
    "#  Intracranial Hemorrhage Detection\n",
    "\n",
    "## Model 2 \n",
    "\n",
    "#### Kristina Joos\n",
    "\n",
    "---   \n",
    "\n",
    "|                 \t|                                                        \t|\n",
    "|:----------------:\t|:-------------------------------------------------------:\t|\n",
    "| Model           \t| VGG 16 (242x242), trainable = False                       |\n",
    "| Preprocessing   \t| Augementation Flip, Single Windowing                   \t|\n",
    "| Class Balancing \t| Oversampling                                           \t|\n",
    "| Loss Function   \t| Binary_crossentropy                                      \t|\n",
    "| Regularization  \t| Early Stopping, Drop Out Layers 0.3 \t                    |\n",
    "| Epochs Run      \t| 50                                                     \t|\n",
    "| Time Run (h)   \t| 1                                                       \t|\n",
    "|                 \t|                                                        \t|\n",
    "| Test Sores      \t| Accuracy: 0.8731 Loss: 0.3220                             |\n",
    "| Validation      \t| Accuracy: 0.8804 Loss: 0.3136                             |\n",
    "| Leader Board    \t| Score: 0.52307 Rank: 410/1345 (31%)                     \t|\n",
    "\n",
    "\n",
    "oss: 0.3220 - accuracy: 0.8731 - val_loss: 0.3136 - val_accuracy: 0.8804"
   ]
  },
  {
   "cell_type": "code",
   "execution_count": 1,
   "metadata": {},
   "outputs": [],
   "source": [
    "import numpy as np\n",
    "import pandas as pd\n",
    "import pydicom\n",
    "import os\n",
    "import matplotlib.pyplot as plt\n",
    "%matplotlib inline\n",
    "import seaborn as sns\n",
    "import collections\n",
    "from tqdm import tqdm_notebook as tqdm\n",
    "from datetime import datetime\n",
    "\n",
    "from math import ceil, floor, log\n",
    "import cv2\n",
    "\n",
    "import tensorflow as tf\n",
    "#import tensorflow.keras\n",
    "from tensorflow.keras import backend as K\n",
    "\n",
    "import sys\n",
    "\n",
    "# from keras_applications.resnet import ResNet50\n",
    "from keras_applications.inception_v3 import InceptionV3\n",
    "\n",
    "\n",
    "\n",
    "\n",
    "from skimage.transform import resize\n",
    "from imgaug import augmenters as iaa\n",
    " \n",
    "from sklearn.model_selection import train_test_split, StratifiedKFold, ShuffleSplit\n",
    "from sklearn.metrics import confusion_matrix\n",
    "import itertools\n",
    "\n",
    "\n",
    "from tensorflow.keras.applications.resnet50 import preprocess_input as preprocess_resnet_50\n",
    "from tensorflow.keras.applications.vgg16 import preprocess_input as preprocess_vgg_16\n",
    "\n",
    "from tensorflow.keras.applications import ResNet50, VGG16, VGG19\n",
    "from tensorflow.keras.applications.resnet50 import preprocess_input as preprocess_resnet_50\n",
    "from tensorflow.keras.applications.vgg16 import preprocess_input as preprocess_vgg_16\n",
    "from tensorflow.keras.layers import GlobalAveragePooling2D, Dense, Activation, concatenate, Dropout, MaxPooling2D, Conv2D, Flatten\n",
    "from tensorflow.keras.initializers import glorot_normal, he_normal\n",
    "from tensorflow.keras.regularizers import l2\n",
    "from tensorflow.keras.models import Model, load_model, Sequential, load_model\n",
    "from tensorflow.keras.utils import Sequence\n",
    "from tensorflow.keras.callbacks import ModelCheckpoint, ReduceLROnPlateau, EarlyStopping\n",
    "from tensorflow.keras.optimizers import Adam\n",
    "\n",
    "from iterstrat.ml_stratifiers import MultilabelStratifiedShuffleSplit\n",
    "\n"
   ]
  },
  {
   "cell_type": "code",
   "execution_count": 2,
   "metadata": {
    "scrolled": true
   },
   "outputs": [
    {
     "data": {
      "text/plain": [
       "True"
      ]
     },
     "execution_count": 2,
     "metadata": {},
     "output_type": "execute_result"
    }
   ],
   "source": [
    "tf.test.is_gpu_available()"
   ]
  },
  {
   "cell_type": "code",
   "execution_count": 3,
   "metadata": {},
   "outputs": [
    {
     "data": {
      "text/plain": [
       "True"
      ]
     },
     "execution_count": 3,
     "metadata": {},
     "output_type": "execute_result"
    }
   ],
   "source": [
    "tf.test.is_built_with_cuda()"
   ]
  },
  {
   "cell_type": "markdown",
   "metadata": {},
   "source": [
    "## Image Path"
   ]
  },
  {
   "cell_type": "code",
   "execution_count": 4,
   "metadata": {},
   "outputs": [],
   "source": [
    "path_train_data = '../data/input/rsna-intracranial-hemorrhage-detection/stage_2_train/'"
   ]
  },
  {
   "cell_type": "code",
   "execution_count": 5,
   "metadata": {},
   "outputs": [],
   "source": [
    "path_test_data = '../data/input/rsna-intracranial-hemorrhage-detection/stage_2_test/'"
   ]
  },
  {
   "cell_type": "code",
   "execution_count": 6,
   "metadata": {},
   "outputs": [],
   "source": [
    "def get_number_of_files(path, data_name):\n",
    "    no =  len(os.listdir(path))\n",
    "    print (f'The {data_name} contains {no} files.')"
   ]
  },
  {
   "cell_type": "code",
   "execution_count": 7,
   "metadata": {},
   "outputs": [],
   "source": [
    "def get_size_directory(path, data_name):\n",
    "    size = round(sum([os.path.getsize(f'{path}'+ f'{file}') for file in os.listdir(path)])*(10**-9), 2)\n",
    "    print (f'The size of the {data_name} is {size} GB.')"
   ]
  },
  {
   "cell_type": "code",
   "execution_count": 8,
   "metadata": {},
   "outputs": [
    {
     "name": "stdout",
     "output_type": "stream",
     "text": [
      "***TRAIN DATA***\n",
      "The size of the Training Data is 395.19 GB.\n",
      "The Training Data contains 752803 files.\n",
      "*******\n",
      "***TEST DATA***\n",
      "The size of the Testing Data is 63.64 GB.\n",
      "The Testing Data contains 121232 files.\n",
      "*******\n",
      "We have 6.2 times more train than test data.\n"
     ]
    }
   ],
   "source": [
    "print('***TRAIN DATA***')\n",
    "get_size_directory(path_train_data, 'Training Data')\n",
    "get_number_of_files(path_train_data, 'Training Data')\n",
    "\n",
    "print('*******')\n",
    "\n",
    "print('***TEST DATA***')\n",
    "get_size_directory(path_test_data, 'Testing Data')\n",
    "get_number_of_files(path_test_data, 'Testing Data')\n",
    "\n",
    "print('*******')\n",
    "\n",
    "print(f'We have {round(len(os.listdir(path_train_data))/len(os.listdir(path_test_data)),1)} times more train than test data.' )"
   ]
  },
  {
   "cell_type": "markdown",
   "metadata": {},
   "source": [
    "## Meta Data"
   ]
  },
  {
   "cell_type": "code",
   "execution_count": 9,
   "metadata": {},
   "outputs": [],
   "source": [
    "\n",
    "train_meta_df = pd.read_csv('../data/input/rsna-intracranial-hemorrhage-detection/stage_2_train.csv')\n",
    "# Test submission as test \n",
    "test_meta_df = pd.read_csv('../data/input/rsna-intracranial-hemorrhage-detection/stage_2_sample_submission.csv')"
   ]
  },
  {
   "cell_type": "code",
   "execution_count": 10,
   "metadata": {},
   "outputs": [],
   "source": [
    "train_meta_df_shape = train_meta_df.shape\n",
    "test_meta_df_shape = test_meta_df.shape"
   ]
  },
  {
   "cell_type": "code",
   "execution_count": 11,
   "metadata": {},
   "outputs": [
    {
     "name": "stdout",
     "output_type": "stream",
     "text": [
      "(4516842, 2)\n",
      "(727392, 2)\n"
     ]
    }
   ],
   "source": [
    "print(train_meta_df_shape)\n",
    "print(test_meta_df_shape)"
   ]
  },
  {
   "cell_type": "markdown",
   "metadata": {},
   "source": [
    "## Parameters"
   ]
  },
  {
   "cell_type": "code",
   "execution_count": 12,
   "metadata": {},
   "outputs": [],
   "source": [
    "\n",
    "# Seed\n",
    "SEED = 11\n",
    "np.random.seed(SEED)\n",
    "\n",
    "\n",
    "# Constants\n",
    "TEST_SIZE = 0.2\n",
    "HEIGHT = 224 #VGG 16 has 256x256\n",
    "WIDTH = 224\n",
    "CHANNELS = 3\n",
    "TRAIN_BATCH_SIZE = 2\n",
    "VALID_BATCH_SIZE = 2\n",
    "TEST_BATCH_SIZE = 4\n",
    "SHAPE = (HEIGHT, WIDTH, CHANNELS)\n",
    "\n",
    "# Folders\n",
    "#DATA_DIR = '/kaggle/input/rsna-intracranial-hemorrhage-detection/'\n",
    "PATH_TEST_DATA = path_test_data\n",
    "PATH_TRAIN_DATA = path_train_data\n",
    "PATH_PT_MODELS = '../models/predtrained models/'"
   ]
  },
  {
   "cell_type": "code",
   "execution_count": 37,
   "metadata": {},
   "outputs": [],
   "source": [
    "def rescale_pixelarray(dataset):\n",
    "    image = dataset.pixel_array\n",
    "    rescaled_image = image * dataset.RescaleSlope + dataset.RescaleIntercept\n",
    "    rescaled_image[rescaled_image < -1024] = -1024\n",
    "    return rescaled_image\n",
    "\n",
    "def set_manual_window(hu_image, min_value, max_value):\n",
    "    hu_image[hu_image < min_value] = min_value\n",
    "    hu_image[hu_image > max_value] = min_value #max_value\n",
    "    return hu_image\n",
    "\n",
    "class Preprocessor:    \n",
    "    \n",
    "    def __init__(self, path,hu_min_value, hu_max_value, augment=False):\n",
    "        self.path = path\n",
    "        self.nn_input_shape = (224,224) #was 256, 256\n",
    "        self.hu_min_value = hu_min_value\n",
    "        self.hu_max_value = hu_max_value\n",
    "        self.augment = augment\n",
    "        \n",
    "  #load the dicom dataset\n",
    "    def load_dicom_dataset(self, filename):\n",
    "        dataset = pydicom.dcmread(self.path + filename)\n",
    "        return dataset\n",
    "    \n",
    "    #Rescale the pixelarray to HU units and set to window\n",
    "    \n",
    "    def get_hounsfield_window(self, dataset, min_value, max_value):\n",
    "        \n",
    "        hu_image = rescale_pixelarray(dataset)\n",
    "        windowed_image = set_manual_window(hu_image, min_value, max_value)\n",
    " \n",
    "        return windowed_image\n",
    "        \n",
    "#     def get_hounsfield_window(self, dataset, min_value, max_value):\n",
    "#         try:\n",
    "#             hu_image = rescale_pixelarray(dataset)\n",
    "#             windowed_image = set_manual_window(hu_image, min_value, max_value)\n",
    "#         except ValueError:\n",
    "#             # set to level \n",
    "#             windowed_image = min_value * np.ones((self.nn_input_shape[0], self.nn_input_shape[1]))\n",
    "#         return windowed_image\n",
    "        \n",
    "\n",
    "    #Resize the image to the input shape of our CNN\n",
    "    def resize(self, image):\n",
    "        image = resize(image, self.nn_input_shape)\n",
    "        return image\n",
    "\n",
    "    #augment our image\n",
    "    def augment_img(self, image): \n",
    "        augment_img = iaa.Sequential([\n",
    "            #iaa.Crop(keep_size=True, percent=(0.01, 0.05), sample_independently=False),\n",
    "            #iaa.Affine(rotate=(-10, 10)),\n",
    "            iaa.Fliplr(0.5)])\n",
    "        image_aug = augment_img.augment_image(image)\n",
    "        return image_aug\n",
    "    \n",
    "    def fill_channels(self, image):\n",
    "        filled_image = np.stack((image,)*3, axis=-1)\n",
    "        return filled_image\n",
    "    \n",
    "    def preprocess(self, identifier):\n",
    "        filename = identifier +  \".dcm\"\n",
    "        dataset = self.load_dicom_dataset(filename)\n",
    "        windowed_image = self.get_hounsfield_window(dataset, self.hu_min_value, self.hu_max_value)\n",
    "        image = self.resize(windowed_image)\n",
    "        if self.augment:\n",
    "            image = self.augment_img(image)\n",
    "        image = self.fill_channels(image)\n",
    "        return image\n",
    "    \n",
    "    def normalize(self, image):\n",
    "        return (image - self.hu_min_value)/(self.hu_max_value-self.hu_min_value) * 0.5\n"
   ]
  },
  {
   "cell_type": "code",
   "execution_count": 39,
   "metadata": {},
   "outputs": [],
   "source": [
    "class Data_Generator(Sequence):\n",
    "    \n",
    "    def __init__(self, dataframe,\n",
    "                 preprocessor,\n",
    "                 batch_size,\n",
    "                 shuffle,\n",
    "                 num_classes=6,\n",
    "                 steps=None):\n",
    "        \n",
    "        self.preprocessor = preprocessor\n",
    "        self.data_ids = dataframe.index.values\n",
    "        self.dataframe = dataframe\n",
    "        self.batch_size = batch_size\n",
    "        self.shuffle = shuffle\n",
    "        self.input_shape = (224,224)\n",
    "        self.preprocess_net = preprocess_vgg_16\n",
    "        self.num_classes = num_classes\n",
    "        self.current_epoch=0\n",
    "        \n",
    "        self.steps=steps\n",
    "        if self.steps is not None:\n",
    "            self.steps = np.round(self.steps/3) * 3\n",
    "            self.undersample()\n",
    "\n",
    "    def undersample(self):\n",
    "        part = np.int(self.steps/3 * self.batch_size)\n",
    "        zero_ids = np.random.choice(self.dataframe.loc[self.dataframe[\"any\"] == 0].index.values, size=2*part, replace=False)\n",
    "        hot_ids = np.random.choice(self.dataframe.loc[self.dataframe[\"any\"] == 1].index.values, size=1*part, replace=False)\n",
    "        self.data_ids = list(set(zero_ids).union(hot_ids))\n",
    "        np.random.shuffle(self.data_ids)\n",
    "\n",
    "    # defines the number of steps per epoch\n",
    "    def __len__(self):\n",
    "        if self.steps is None:\n",
    "            return np.int(np.ceil(len(self.data_ids) / np.float(self.batch_size)))\n",
    "        else:\n",
    "            return 3*np.int(self.steps/3) \n",
    "    \n",
    "    # at the end of an epoch: \n",
    "    def on_epoch_end(self):\n",
    "        # if steps is None and shuffle is true:\n",
    "        if self.steps is None:\n",
    "            self.data_ids = self.dataframe.index.values\n",
    "            if self.shuffle:\n",
    "                np.random.shuffle(self.data_ids)\n",
    "        else:\n",
    "            self.undersample()\n",
    "        self.current_epoch += 1\n",
    "    \n",
    "    # should return a batch of images\n",
    "    def __getitem__(self, item):\n",
    "        # select the ids of the current batch\n",
    "        current_ids = self.data_ids[item*self.batch_size:(item+1)*self.batch_size]\n",
    "        X, y = self.__generate_batch(current_ids)\n",
    "        return X, y\n",
    "    \n",
    "    \n",
    "    \n",
    "    # collect the preprocessed images and targets of one batch\n",
    "    def __generate_batch(self, current_ids):\n",
    "        X = np.empty((self.batch_size, *self.input_shape, 3))\n",
    "        y = np.empty((self.batch_size, self.num_classes))\n",
    "        for idx, ident in enumerate(current_ids):\n",
    "            # Store sample\n",
    "            image = self.preprocessor.preprocess(ident)\n",
    "            X[idx] = self.preprocessor.normalize(image)\n",
    "            # Store class\n",
    "            y[idx] = self.__get_target(ident)\n",
    "        return X, y\n",
    "    \n",
    "    # extract the targets of one image id:\n",
    "    def __get_target(self, ident):\n",
    "        targets = self.dataframe.loc[ident].values\n",
    "        return targets"
   ]
  },
  {
   "cell_type": "markdown",
   "metadata": {},
   "source": [
    "## Preparing Meta Data Frames\n"
   ]
  },
  {
   "cell_type": "code",
   "execution_count": 15,
   "metadata": {},
   "outputs": [],
   "source": [
    "def make_usable_df(df):\n",
    "    label = df.Label.values\n",
    "    new_df = df.ID.str.rsplit(\"_\", n=1, expand=True)\n",
    "    new_df.loc[:, \"label\"] = label\n",
    "    new_df = new_df.rename({0: \"id\", 1: \"subtype\"}, axis=1)\n",
    "    piv_df = pd.pivot_table(new_df, index=\"id\", columns=\"subtype\", values=\"label\")\n",
    "    \n",
    "    return piv_df\n"
   ]
  },
  {
   "cell_type": "markdown",
   "metadata": {},
   "source": [
    "Check for Dupicates:"
   ]
  },
  {
   "cell_type": "code",
   "execution_count": 16,
   "metadata": {
    "scrolled": true
   },
   "outputs": [
    {
     "data": {
      "text/plain": [
       "24"
      ]
     },
     "execution_count": 16,
     "metadata": {},
     "output_type": "execute_result"
    }
   ],
   "source": [
    "train_meta_df.duplicated().sum()"
   ]
  },
  {
   "cell_type": "code",
   "execution_count": 17,
   "metadata": {},
   "outputs": [],
   "source": [
    "train_meta_df.drop_duplicates(inplace = True)"
   ]
  },
  {
   "cell_type": "code",
   "execution_count": 18,
   "metadata": {},
   "outputs": [
    {
     "data": {
      "text/plain": [
       "True"
      ]
     },
     "execution_count": 18,
     "metadata": {},
     "output_type": "execute_result"
    }
   ],
   "source": [
    "train_meta_df_shape[0] - train_meta_df.shape[0] == 24"
   ]
  },
  {
   "cell_type": "markdown",
   "metadata": {},
   "source": [
    "Make usable Data Frame:"
   ]
  },
  {
   "cell_type": "code",
   "execution_count": 19,
   "metadata": {
    "scrolled": true
   },
   "outputs": [
    {
     "data": {
      "text/html": [
       "<div>\n",
       "<style scoped>\n",
       "    .dataframe tbody tr th:only-of-type {\n",
       "        vertical-align: middle;\n",
       "    }\n",
       "\n",
       "    .dataframe tbody tr th {\n",
       "        vertical-align: top;\n",
       "    }\n",
       "\n",
       "    .dataframe thead th {\n",
       "        text-align: right;\n",
       "    }\n",
       "</style>\n",
       "<table border=\"1\" class=\"dataframe\">\n",
       "  <thead>\n",
       "    <tr style=\"text-align: right;\">\n",
       "      <th>subtype</th>\n",
       "      <th>any</th>\n",
       "      <th>epidural</th>\n",
       "      <th>intraparenchymal</th>\n",
       "      <th>intraventricular</th>\n",
       "      <th>subarachnoid</th>\n",
       "      <th>subdural</th>\n",
       "    </tr>\n",
       "    <tr>\n",
       "      <th>id</th>\n",
       "      <th></th>\n",
       "      <th></th>\n",
       "      <th></th>\n",
       "      <th></th>\n",
       "      <th></th>\n",
       "      <th></th>\n",
       "    </tr>\n",
       "  </thead>\n",
       "  <tbody>\n",
       "    <tr>\n",
       "      <th>ID_000012eaf</th>\n",
       "      <td>0</td>\n",
       "      <td>0</td>\n",
       "      <td>0</td>\n",
       "      <td>0</td>\n",
       "      <td>0</td>\n",
       "      <td>0</td>\n",
       "    </tr>\n",
       "    <tr>\n",
       "      <th>ID_000039fa0</th>\n",
       "      <td>0</td>\n",
       "      <td>0</td>\n",
       "      <td>0</td>\n",
       "      <td>0</td>\n",
       "      <td>0</td>\n",
       "      <td>0</td>\n",
       "    </tr>\n",
       "    <tr>\n",
       "      <th>ID_00005679d</th>\n",
       "      <td>0</td>\n",
       "      <td>0</td>\n",
       "      <td>0</td>\n",
       "      <td>0</td>\n",
       "      <td>0</td>\n",
       "      <td>0</td>\n",
       "    </tr>\n",
       "    <tr>\n",
       "      <th>ID_00008ce3c</th>\n",
       "      <td>0</td>\n",
       "      <td>0</td>\n",
       "      <td>0</td>\n",
       "      <td>0</td>\n",
       "      <td>0</td>\n",
       "      <td>0</td>\n",
       "    </tr>\n",
       "    <tr>\n",
       "      <th>ID_0000950d7</th>\n",
       "      <td>0</td>\n",
       "      <td>0</td>\n",
       "      <td>0</td>\n",
       "      <td>0</td>\n",
       "      <td>0</td>\n",
       "      <td>0</td>\n",
       "    </tr>\n",
       "  </tbody>\n",
       "</table>\n",
       "</div>"
      ],
      "text/plain": [
       "subtype       any  epidural  intraparenchymal  intraventricular  subarachnoid  \\\n",
       "id                                                                              \n",
       "ID_000012eaf    0         0                 0                 0             0   \n",
       "ID_000039fa0    0         0                 0                 0             0   \n",
       "ID_00005679d    0         0                 0                 0             0   \n",
       "ID_00008ce3c    0         0                 0                 0             0   \n",
       "ID_0000950d7    0         0                 0                 0             0   \n",
       "\n",
       "subtype       subdural  \n",
       "id                      \n",
       "ID_000012eaf         0  \n",
       "ID_000039fa0         0  \n",
       "ID_00005679d         0  \n",
       "ID_00008ce3c         0  \n",
       "ID_0000950d7         0  "
      ]
     },
     "execution_count": 19,
     "metadata": {},
     "output_type": "execute_result"
    }
   ],
   "source": [
    "train_df = make_usable_df(train_meta_df)\n",
    "train_df.head()"
   ]
  },
  {
   "cell_type": "markdown",
   "metadata": {},
   "source": [
    "\n",
    "Check for Duplicates:"
   ]
  },
  {
   "cell_type": "code",
   "execution_count": 20,
   "metadata": {},
   "outputs": [
    {
     "data": {
      "text/plain": [
       "0"
      ]
     },
     "execution_count": 20,
     "metadata": {},
     "output_type": "execute_result"
    }
   ],
   "source": [
    "test_meta_df.duplicated().sum()"
   ]
  },
  {
   "cell_type": "markdown",
   "metadata": {},
   "source": [
    "Make usable Data Frame:"
   ]
  },
  {
   "cell_type": "code",
   "execution_count": 21,
   "metadata": {},
   "outputs": [
    {
     "data": {
      "text/html": [
       "<div>\n",
       "<style scoped>\n",
       "    .dataframe tbody tr th:only-of-type {\n",
       "        vertical-align: middle;\n",
       "    }\n",
       "\n",
       "    .dataframe tbody tr th {\n",
       "        vertical-align: top;\n",
       "    }\n",
       "\n",
       "    .dataframe thead th {\n",
       "        text-align: right;\n",
       "    }\n",
       "</style>\n",
       "<table border=\"1\" class=\"dataframe\">\n",
       "  <thead>\n",
       "    <tr style=\"text-align: right;\">\n",
       "      <th>subtype</th>\n",
       "      <th>any</th>\n",
       "      <th>epidural</th>\n",
       "      <th>intraparenchymal</th>\n",
       "      <th>intraventricular</th>\n",
       "      <th>subarachnoid</th>\n",
       "      <th>subdural</th>\n",
       "    </tr>\n",
       "    <tr>\n",
       "      <th>id</th>\n",
       "      <th></th>\n",
       "      <th></th>\n",
       "      <th></th>\n",
       "      <th></th>\n",
       "      <th></th>\n",
       "      <th></th>\n",
       "    </tr>\n",
       "  </thead>\n",
       "  <tbody>\n",
       "    <tr>\n",
       "      <th>ID_000000e27</th>\n",
       "      <td>0.5</td>\n",
       "      <td>0.5</td>\n",
       "      <td>0.5</td>\n",
       "      <td>0.5</td>\n",
       "      <td>0.5</td>\n",
       "      <td>0.5</td>\n",
       "    </tr>\n",
       "    <tr>\n",
       "      <th>ID_000009146</th>\n",
       "      <td>0.5</td>\n",
       "      <td>0.5</td>\n",
       "      <td>0.5</td>\n",
       "      <td>0.5</td>\n",
       "      <td>0.5</td>\n",
       "      <td>0.5</td>\n",
       "    </tr>\n",
       "    <tr>\n",
       "      <th>ID_00007b8cb</th>\n",
       "      <td>0.5</td>\n",
       "      <td>0.5</td>\n",
       "      <td>0.5</td>\n",
       "      <td>0.5</td>\n",
       "      <td>0.5</td>\n",
       "      <td>0.5</td>\n",
       "    </tr>\n",
       "    <tr>\n",
       "      <th>ID_000134952</th>\n",
       "      <td>0.5</td>\n",
       "      <td>0.5</td>\n",
       "      <td>0.5</td>\n",
       "      <td>0.5</td>\n",
       "      <td>0.5</td>\n",
       "      <td>0.5</td>\n",
       "    </tr>\n",
       "    <tr>\n",
       "      <th>ID_000176f2a</th>\n",
       "      <td>0.5</td>\n",
       "      <td>0.5</td>\n",
       "      <td>0.5</td>\n",
       "      <td>0.5</td>\n",
       "      <td>0.5</td>\n",
       "      <td>0.5</td>\n",
       "    </tr>\n",
       "  </tbody>\n",
       "</table>\n",
       "</div>"
      ],
      "text/plain": [
       "subtype       any  epidural  intraparenchymal  intraventricular  subarachnoid  \\\n",
       "id                                                                              \n",
       "ID_000000e27  0.5       0.5               0.5               0.5           0.5   \n",
       "ID_000009146  0.5       0.5               0.5               0.5           0.5   \n",
       "ID_00007b8cb  0.5       0.5               0.5               0.5           0.5   \n",
       "ID_000134952  0.5       0.5               0.5               0.5           0.5   \n",
       "ID_000176f2a  0.5       0.5               0.5               0.5           0.5   \n",
       "\n",
       "subtype       subdural  \n",
       "id                      \n",
       "ID_000000e27       0.5  \n",
       "ID_000009146       0.5  \n",
       "ID_00007b8cb       0.5  \n",
       "ID_000134952       0.5  \n",
       "ID_000176f2a       0.5  "
      ]
     },
     "execution_count": 21,
     "metadata": {},
     "output_type": "execute_result"
    }
   ],
   "source": [
    "test_df = make_usable_df(test_meta_df)\n",
    "test_df.head()"
   ]
  },
  {
   "cell_type": "markdown",
   "metadata": {},
   "source": [
    "# Train/ Val Split"
   ]
  },
  {
   "cell_type": "markdown",
   "metadata": {},
   "source": [
    "## Multi Label Stratified Shuffel Splitter \n",
    "Cross Validaor with stratification on multiple labels:\n",
    "https://github.com/trent-b/iterative-stratification"
   ]
  },
  {
   "cell_type": "code",
   "execution_count": 22,
   "metadata": {},
   "outputs": [],
   "source": [
    "msss = MultilabelStratifiedShuffleSplit(n_splits = 10, test_size = TEST_SIZE, random_state = SEED)\n",
    "X = train_df.index\n",
    "Y = train_df[['any', 'epidural', 'intraparenchymal', 'intraventricular',\n",
    "       'subarachnoid', 'subdural']].values\n",
    "\n",
    "# Get train and test index\n",
    "msss_splits = next(msss.split(X, Y))\n",
    "train_idx = msss_splits[0]\n",
    "val_idx = msss_splits[1]"
   ]
  },
  {
   "cell_type": "code",
   "execution_count": 23,
   "metadata": {
    "scrolled": true
   },
   "outputs": [
    {
     "data": {
      "text/plain": [
       "(602242,)"
      ]
     },
     "execution_count": 23,
     "metadata": {},
     "output_type": "execute_result"
    }
   ],
   "source": [
    "train_idx.shape"
   ]
  },
  {
   "cell_type": "code",
   "execution_count": 25,
   "metadata": {},
   "outputs": [
    {
     "data": {
      "text/plain": [
       "(150561,)"
      ]
     },
     "execution_count": 25,
     "metadata": {},
     "output_type": "execute_result"
    }
   ],
   "source": [
    "val_idx.shape"
   ]
  },
  {
   "cell_type": "code",
   "execution_count": 26,
   "metadata": {},
   "outputs": [],
   "source": [
    "train_data = train_df.iloc[train_idx]"
   ]
  },
  {
   "cell_type": "code",
   "execution_count": 27,
   "metadata": {},
   "outputs": [
    {
     "data": {
      "text/plain": [
       "(602242, 6)"
      ]
     },
     "execution_count": 27,
     "metadata": {},
     "output_type": "execute_result"
    }
   ],
   "source": [
    "train_data.shape"
   ]
  },
  {
   "cell_type": "code",
   "execution_count": 28,
   "metadata": {},
   "outputs": [],
   "source": [
    "val_data = train_df.iloc[val_idx]"
   ]
  },
  {
   "cell_type": "code",
   "execution_count": 29,
   "metadata": {},
   "outputs": [
    {
     "data": {
      "text/plain": [
       "(150561, 6)"
      ]
     },
     "execution_count": 29,
     "metadata": {},
     "output_type": "execute_result"
    }
   ],
   "source": [
    "val_data.shape"
   ]
  },
  {
   "cell_type": "markdown",
   "metadata": {},
   "source": [
    "## Custom Loan Functions"
   ]
  },
  {
   "cell_type": "code",
   "execution_count": 43,
   "metadata": {},
   "outputs": [],
   "source": [
    "def weighted_loss(y_true, y_pred):\n",
    "    \"\"\"\n",
    "    Will be used as the metric in model.compile()\n",
    "    ---------------------------------------------\n",
    "    \n",
    "    Similar to the custom loss function 'weighted_log_loss()' above\n",
    "    but with normalized weights, which should be very similar \n",
    "    to the official competition metric:\n",
    "        https://www.kaggle.com/kambarakun/lb-probe-weights-n-of-positives-scoring\n",
    "    and hence:\n",
    "        sklearn.metrics.log_loss with sample weights\n",
    "    \"\"\"\n",
    "    \n",
    "    class_weights = K.variable([2., 1., 1., 1., 1., 1.])\n",
    "    \n",
    "    eps = K.epsilon()\n",
    "    \n",
    "    y_pred = K.clip(y_pred, eps, 1.0-eps)\n",
    "\n",
    "    loss = -(        y_true  * K.log(      y_pred)\n",
    "            + (1.0 - y_true) * K.log(1.0 - y_pred))\n",
    "    \n",
    "    loss_samples = _normalized_weighted_average(loss, class_weights)\n",
    "    \n",
    "    return K.mean(loss_samples)\n",
    "\n",
    "\n",
    "def _normalized_weighted_average(arr, weights=None):\n",
    "    \"\"\"\n",
    "    A simple Keras implementation that mimics that of \n",
    "    numpy.average(), specifically for this competition\n",
    "    \"\"\"\n",
    "    \n",
    "    if weights is not None:\n",
    "        scl = K.sum(weights)\n",
    "        weights = K.expand_dims(weights, axis=1)\n",
    "        return K.sum(K.dot(arr, weights), axis=1) / scl\n",
    "    return K.mean(arr, axis=1)\n",
    "\n"
   ]
  },
  {
   "cell_type": "code",
   "execution_count": 62,
   "metadata": {},
   "outputs": [],
   "source": [
    "def np_multilabel_loss(y_true, y_pred, class_weights=None):\n",
    "    y_pred = np.where(y_pred > 1-(1e-07), 1-1e-07, y_pred)\n",
    "    y_pred = np.where(y_pred < 1e-07, 1e-07, y_pred)\n",
    "    single_class_cross_entropies = - np.mean(y_true * np.log(y_pred) + (1-y_true) * np.log(1-y_pred), axis=0)\n",
    "    \n",
    "    print(single_class_cross_entropies)\n",
    "    if class_weights is None:\n",
    "        loss = np.mean(single_class_cross_entropies)\n",
    "    else:\n",
    "        loss = np.sum(class_weights*single_class_cross_entropies)\n",
    "    return loss\n",
    "\n",
    "def get_raw_xentropies(y_true, y_pred):\n",
    "    y_pred = tf.compat.v1.clip_by_value(y_pred, 1e-7, 1-1e-7)\n",
    "    xentropies = y_true * K.log(y_pred) + (1-y_true) * K.log(1-y_pred)\n",
    "    return -xentropies\n",
    "\n",
    "# multilabel focal loss equals multilabel loss in case of alpha=0.5 and gamma=0 \n",
    "def multilabel_focal_loss(class_weights=None, alpha=0.5, gamma=2):\n",
    "    def mutlilabel_focal_loss_inner(y_true, y_pred):\n",
    "        y_true = K.cast(y_true, np.float32)\n",
    "        y_pred = K.cast(y_pred, np.float32)\n",
    "        \n",
    "        xentropies = get_raw_xentropies(y_true, y_pred)\n",
    "\n",
    "        # compute pred_t:\n",
    "        y_t = np.where(K.equal(y_true,1), y_pred, 1.-y_pred)\n",
    "        alpha_t = np.where(K.equal(y_true, 1), alpha * K.ones_like(y_true), (1-alpha) * K.ones_like(y_true))\n",
    "\n",
    "        # compute focal loss contributions\n",
    "        focal_loss_contributions =  K.multiply(K.multiply(K.pow(1-y_t, gamma), xentropies), alpha_t) \n",
    "\n",
    "        # our focal loss contributions have shape (n_samples, s_classes), we need to reduce with mean over samples:\n",
    "        focal_loss_per_class = K.reduce_mean(focal_loss_contributions, axis=0)\n",
    "\n",
    "        # compute the overall loss if class weights are None (equally weighted):\n",
    "        if class_weights is None:\n",
    "            focal_loss_result = K.reduce_mean(focal_loss_per_class)\n",
    "        else:\n",
    "            # weight the single class losses and compute the overall loss\n",
    "            weights = K.constant(class_weights, dtype=K.float32)\n",
    "            focal_loss_result = K.reduce_sum(K.multiply(weights, focal_loss_per_class))\n",
    "            \n",
    "        return focal_loss_result\n",
    "    return mutlilabel_focal_loss_inner"
   ]
  },
  {
   "cell_type": "markdown",
   "metadata": {},
   "source": [
    "## Make Model\n"
   ]
  },
  {
   "cell_type": "code",
   "execution_count": 40,
   "metadata": {},
   "outputs": [],
   "source": [
    "def vgg_16():\n",
    "    weights_path = '../models/predtrained models/vgg16_weights_tf_dim_ordering_tf_kernels_notop.h5'\n",
    "    net = VGG16(include_top=False, weights=weights_path)\n",
    "    for layer in net.layers:\n",
    "        layer.trainable = False\n",
    "    return net"
   ]
  },
  {
   "cell_type": "code",
   "execution_count": 36,
   "metadata": {},
   "outputs": [],
   "source": [
    "my_vgg_16 = vgg_16"
   ]
  },
  {
   "cell_type": "code",
   "execution_count": 45,
   "metadata": {},
   "outputs": [],
   "source": [
    "class MakeModel:\n",
    "    \n",
    "    def __init__(self,\n",
    "                 pt_model,\n",
    "                 loss,\n",
    "                 metrics_list,\n",
    "                 data_generator_train,\n",
    "                 data_generator_val,\n",
    "                 epochs,\n",
    "                 num_classes=6,\n",
    "                 checkpoint_path='../models/mymodels/'):\n",
    "        \n",
    "        self.pt_model = pt_model\n",
    "        self.loss = loss\n",
    "        self.metrics_list = metrics_list\n",
    "        self.data_generator_train = data_generator_train\n",
    "        self.data_generator_val = data_generator_val\n",
    "        self.epochs = epochs\n",
    "        self.num_classes = num_classes\n",
    "        self.checkpoint_path = checkpoint_path \n",
    "        self.checkpoint = ModelCheckpoint(filepath=self.checkpoint_path,\n",
    "                                          mode=\"min\",\n",
    "                                          verbose=1,\n",
    "                                          save_best_only=True,\n",
    "                                          save_weights_only=True)\n",
    "#                                           period=1)\n",
    "#         self.reduce_lr = ReduceLROnPlateau(monitor='val_loss',\n",
    "#                                            factor=0.5,\n",
    "#                                            patience=2,\n",
    "#                                            min_lr=1e-8,\n",
    "#                                            mode=\"min\")\n",
    "        self.earlystopping = EarlyStopping(monitor=\"val_loss\",\n",
    "                                        patience=5,\n",
    "                                        mode=\"min\",\n",
    "                                        restore_best_weights=True)\n",
    "        \n",
    "    def build_model(self):\n",
    "        base_model = self.pt_model()\n",
    "        x = base_model.output\n",
    "        x = GlobalAveragePooling2D()(x)\n",
    "        x = Dropout(0.3)(x)\n",
    "        x = Dense(100, activation=\"relu\")(x)\n",
    "        x = Dropout(0.3)(x)\n",
    "        predictions = Dense(self.num_classes,\n",
    "                     kernel_initializer=he_normal(seed=11),\n",
    "                     kernel_regularizer=l2(0.05),\n",
    "                     bias_regularizer=l2(0.05), activation=\"sigmoid\")(x)\n",
    "        self.model = Model(inputs=base_model.input, outputs=predictions)\n",
    "    \n",
    "    def compile_model(self):\n",
    "        self.model.compile(optimizer = 'adam',\n",
    "                           loss = self.loss, \n",
    "                           metrics = self.metrics_list)\n",
    "    \n",
    "    def fit_model(self):\n",
    "        return self.model.fit_generator(generator = self.data_generator_train,\n",
    "                    validation_data=self.data_generator_val,\n",
    "                    epochs=self.epochs,\n",
    "                    callbacks=[self.checkpoint,self.earlystopping],\n",
    "                    use_multiprocessing=True,\n",
    "                    workers=-1)\n",
    "    \n",
    "    def load_weights(self, path):\n",
    "        self.model.load_weights(path)\n",
    "    \n",
    "    def predict(self, data_generator_test):\n",
    "        predictions = self.model.predict_generator(data_generator_test, use_multiprocessing = True, workers=-1)\n",
    "        return predictions"
   ]
  },
  {
   "cell_type": "code",
   "execution_count": 47,
   "metadata": {},
   "outputs": [],
   "source": [
    "train_preprocessor = Preprocessor(path=PATH_TRAIN_DATA,\n",
    "                                  hu_min_value=0,\n",
    "                                  hu_max_value=100,\n",
    "                                  augment=True)"
   ]
  },
  {
   "cell_type": "code",
   "execution_count": 48,
   "metadata": {},
   "outputs": [],
   "source": [
    "val_preprocessor = Preprocessor(path=PATH_TRAIN_DATA,\n",
    "                                  hu_min_value=0,\n",
    "                                  hu_max_value=100,\n",
    "                                  augment=False)"
   ]
  },
  {
   "cell_type": "code",
   "execution_count": 49,
   "metadata": {},
   "outputs": [],
   "source": [
    "test_preprocessor = Preprocessor(path=PATH_TEST_DATA,\n",
    "                                hu_min_value=0,\n",
    "                                hu_max_value=100,\n",
    "                                augment=False)"
   ]
  },
  {
   "cell_type": "code",
   "execution_count": 68,
   "metadata": {},
   "outputs": [],
   "source": [
    "data_generator_train = Data_Generator(train_data,\n",
    "                              train_preprocessor,\n",
    "                              32,\n",
    "                              shuffle=True,\n",
    "                              steps=50)\n",
    "\n",
    "data_generator_val = Data_Generator(val_data, \n",
    "                            val_preprocessor,\n",
    "                            32,\n",
    "                            shuffle=True,\n",
    "                            steps=50)\n",
    "\n",
    "data_generator_test= Data_Generator(test_df, \n",
    "                             test_preprocessor,\n",
    "                             16,\n",
    "                             shuffle=False)"
   ]
  },
  {
   "cell_type": "code",
   "execution_count": 69,
   "metadata": {
    "scrolled": false
   },
   "outputs": [
    {
     "name": "stdout",
     "output_type": "stream",
     "text": [
      "Epoch 1/50\n",
      "50/51 [============================>.] - ETA: 0s - loss: 0.8819 - accuracy: 0.8500\n",
      "Epoch 00001: val_loss improved from inf to 0.70571, saving model to ../models/mymodels/\n",
      "51/51 [==============================] - 66s 1s/step - loss: 0.8791 - accuracy: 0.8502 - val_loss: 0.7057 - val_accuracy: 0.8702\n",
      "Epoch 2/50\n",
      "50/51 [============================>.] - ETA: 0s - loss: 0.6414 - accuracy: 0.8696\n",
      "Epoch 00002: val_loss improved from 0.70571 to 0.55132, saving model to ../models/mymodels/\n",
      "51/51 [==============================] - 60s 1s/step - loss: 0.6399 - accuracy: 0.8696 - val_loss: 0.5513 - val_accuracy: 0.8702\n",
      "Epoch 3/50\n",
      "50/51 [============================>.] - ETA: 0s - loss: 0.5168 - accuracy: 0.8681\n",
      "Epoch 00003: val_loss improved from 0.55132 to 0.46126, saving model to ../models/mymodels/\n",
      "51/51 [==============================] - 60s 1s/step - loss: 0.5161 - accuracy: 0.8682 - val_loss: 0.4613 - val_accuracy: 0.8702\n",
      "Epoch 4/50\n",
      "50/51 [============================>.] - ETA: 0s - loss: 0.4430 - accuracy: 0.8686\n",
      "Epoch 00004: val_loss improved from 0.46126 to 0.40829, saving model to ../models/mymodels/\n",
      "51/51 [==============================] - 59s 1s/step - loss: 0.4426 - accuracy: 0.8687 - val_loss: 0.4083 - val_accuracy: 0.8702\n",
      "Epoch 5/50\n",
      "50/51 [============================>.] - ETA: 0s - loss: 0.4038 - accuracy: 0.8677\n",
      "Epoch 00005: val_loss improved from 0.40829 to 0.37831, saving model to ../models/mymodels/\n",
      "51/51 [==============================] - 61s 1s/step - loss: 0.4036 - accuracy: 0.8676 - val_loss: 0.3783 - val_accuracy: 0.8701\n",
      "Epoch 6/50\n",
      "50/51 [============================>.] - ETA: 0s - loss: 0.3815 - accuracy: 0.8688\n",
      "Epoch 00006: val_loss improved from 0.37831 to 0.36042, saving model to ../models/mymodels/\n",
      "51/51 [==============================] - 60s 1s/step - loss: 0.3812 - accuracy: 0.8687 - val_loss: 0.3604 - val_accuracy: 0.8702\n",
      "Epoch 7/50\n",
      "50/51 [============================>.] - ETA: 0s - loss: 0.3631 - accuracy: 0.8691\n",
      "Epoch 00007: val_loss improved from 0.36042 to 0.35046, saving model to ../models/mymodels/\n",
      "51/51 [==============================] - 60s 1s/step - loss: 0.3629 - accuracy: 0.8691 - val_loss: 0.3505 - val_accuracy: 0.8701\n",
      "Epoch 8/50\n",
      "50/51 [============================>.] - ETA: 0s - loss: 0.3550 - accuracy: 0.8704\n",
      "Epoch 00008: val_loss improved from 0.35046 to 0.34428, saving model to ../models/mymodels/\n",
      "51/51 [==============================] - 60s 1s/step - loss: 0.3545 - accuracy: 0.8704 - val_loss: 0.3443 - val_accuracy: 0.8707\n",
      "Epoch 9/50\n",
      "50/51 [============================>.] - ETA: 0s - loss: 0.3505 - accuracy: 0.8675\n",
      "Epoch 00009: val_loss improved from 0.34428 to 0.34059, saving model to ../models/mymodels/\n",
      "51/51 [==============================] - 60s 1s/step - loss: 0.3504 - accuracy: 0.8674 - val_loss: 0.3406 - val_accuracy: 0.8713\n",
      "Epoch 10/50\n",
      "50/51 [============================>.] - ETA: 0s - loss: 0.3466 - accuracy: 0.8681\n",
      "Epoch 00010: val_loss improved from 0.34059 to 0.33774, saving model to ../models/mymodels/\n",
      "51/51 [==============================] - 60s 1s/step - loss: 0.3466 - accuracy: 0.8682 - val_loss: 0.3377 - val_accuracy: 0.8712\n",
      "Epoch 11/50\n",
      "50/51 [============================>.] - ETA: 0s - loss: 0.3445 - accuracy: 0.8686\n",
      "Epoch 00011: val_loss improved from 0.33774 to 0.33557, saving model to ../models/mymodels/\n",
      "51/51 [==============================] - 61s 1s/step - loss: 0.3441 - accuracy: 0.8687 - val_loss: 0.3356 - val_accuracy: 0.8720\n",
      "Epoch 12/50\n",
      "50/51 [============================>.] - ETA: 0s - loss: 0.3439 - accuracy: 0.8687\n",
      "Epoch 00012: val_loss improved from 0.33557 to 0.33389, saving model to ../models/mymodels/\n",
      "51/51 [==============================] - 60s 1s/step - loss: 0.3438 - accuracy: 0.8689 - val_loss: 0.3339 - val_accuracy: 0.8711\n",
      "Epoch 13/50\n",
      "50/51 [============================>.] - ETA: 0s - loss: 0.3403 - accuracy: 0.8700\n",
      "Epoch 00013: val_loss improved from 0.33389 to 0.33269, saving model to ../models/mymodels/\n",
      "51/51 [==============================] - 60s 1s/step - loss: 0.3401 - accuracy: 0.8703 - val_loss: 0.3327 - val_accuracy: 0.8735\n",
      "Epoch 14/50\n",
      "50/51 [============================>.] - ETA: 0s - loss: 0.3387 - accuracy: 0.8704\n",
      "Epoch 00014: val_loss improved from 0.33269 to 0.33167, saving model to ../models/mymodels/\n",
      "51/51 [==============================] - 60s 1s/step - loss: 0.3387 - accuracy: 0.8704 - val_loss: 0.3317 - val_accuracy: 0.8739\n",
      "Epoch 15/50\n",
      "50/51 [============================>.] - ETA: 0s - loss: 0.3376 - accuracy: 0.8705\n",
      "Epoch 00015: val_loss improved from 0.33167 to 0.33042, saving model to ../models/mymodels/\n",
      "51/51 [==============================] - 61s 1s/step - loss: 0.3375 - accuracy: 0.8707 - val_loss: 0.3304 - val_accuracy: 0.8736\n",
      "Epoch 16/50\n",
      "50/51 [============================>.] - ETA: 0s - loss: 0.3374 - accuracy: 0.8703\n",
      "Epoch 00016: val_loss improved from 0.33042 to 0.32971, saving model to ../models/mymodels/\n",
      "51/51 [==============================] - 61s 1s/step - loss: 0.3375 - accuracy: 0.8702 - val_loss: 0.3297 - val_accuracy: 0.8745\n",
      "Epoch 17/50\n",
      "50/51 [============================>.] - ETA: 0s - loss: 0.3339 - accuracy: 0.8705\n",
      "Epoch 00017: val_loss improved from 0.32971 to 0.32857, saving model to ../models/mymodels/\n",
      "51/51 [==============================] - 61s 1s/step - loss: 0.3337 - accuracy: 0.8707 - val_loss: 0.3286 - val_accuracy: 0.8745\n",
      "Epoch 18/50\n",
      "50/51 [============================>.] - ETA: 0s - loss: 0.3332 - accuracy: 0.8706\n",
      "Epoch 00018: val_loss improved from 0.32857 to 0.32763, saving model to ../models/mymodels/\n",
      "51/51 [==============================] - 61s 1s/step - loss: 0.3333 - accuracy: 0.8706 - val_loss: 0.3276 - val_accuracy: 0.8751\n",
      "Epoch 19/50\n",
      "50/51 [============================>.] - ETA: 0s - loss: 0.3355 - accuracy: 0.8705\n",
      "Epoch 00019: val_loss improved from 0.32763 to 0.32666, saving model to ../models/mymodels/\n",
      "51/51 [==============================] - 61s 1s/step - loss: 0.3352 - accuracy: 0.8707 - val_loss: 0.3267 - val_accuracy: 0.8736\n",
      "Epoch 20/50\n",
      "50/51 [============================>.] - ETA: 0s - loss: 0.3335 - accuracy: 0.8714\n",
      "Epoch 00020: val_loss improved from 0.32666 to 0.32610, saving model to ../models/mymodels/\n",
      "51/51 [==============================] - 61s 1s/step - loss: 0.3332 - accuracy: 0.8713 - val_loss: 0.3261 - val_accuracy: 0.8748\n",
      "Epoch 21/50\n",
      "50/51 [============================>.] - ETA: 0s - loss: 0.3314 - accuracy: 0.8706\n",
      "Epoch 00021: val_loss improved from 0.32610 to 0.32496, saving model to ../models/mymodels/\n",
      "51/51 [==============================] - 62s 1s/step - loss: 0.3311 - accuracy: 0.8705 - val_loss: 0.3250 - val_accuracy: 0.8758\n",
      "Epoch 22/50\n",
      "50/51 [============================>.] - ETA: 0s - loss: 0.3325 - accuracy: 0.8693\n",
      "Epoch 00022: val_loss improved from 0.32496 to 0.32479, saving model to ../models/mymodels/\n",
      "51/51 [==============================] - 62s 1s/step - loss: 0.3325 - accuracy: 0.8692 - val_loss: 0.3248 - val_accuracy: 0.8738\n",
      "Epoch 23/50\n",
      "50/51 [============================>.] - ETA: 0s - loss: 0.3306 - accuracy: 0.8715\n",
      "Epoch 00023: val_loss improved from 0.32479 to 0.32410, saving model to ../models/mymodels/\n",
      "51/51 [==============================] - 61s 1s/step - loss: 0.3305 - accuracy: 0.8712 - val_loss: 0.3241 - val_accuracy: 0.8768\n",
      "Epoch 24/50\n",
      "50/51 [============================>.] - ETA: 0s - loss: 0.3312 - accuracy: 0.8707\n",
      "Epoch 00024: val_loss improved from 0.32410 to 0.32346, saving model to ../models/mymodels/\n",
      "51/51 [==============================] - 61s 1s/step - loss: 0.3314 - accuracy: 0.8708 - val_loss: 0.3235 - val_accuracy: 0.8756\n",
      "Epoch 25/50\n",
      "50/51 [============================>.] - ETA: 0s - loss: 0.3262 - accuracy: 0.8706\n",
      "Epoch 00025: val_loss improved from 0.32346 to 0.32279, saving model to ../models/mymodels/\n",
      "51/51 [==============================] - 61s 1s/step - loss: 0.3259 - accuracy: 0.8709 - val_loss: 0.3228 - val_accuracy: 0.8753\n",
      "Epoch 26/50\n",
      "50/51 [============================>.] - ETA: 0s - loss: 0.3294 - accuracy: 0.8714\n",
      "Epoch 00026: val_loss improved from 0.32279 to 0.32234, saving model to ../models/mymodels/\n",
      "51/51 [==============================] - 60s 1s/step - loss: 0.3293 - accuracy: 0.8714 - val_loss: 0.3223 - val_accuracy: 0.8747\n"
     ]
    },
    {
     "name": "stdout",
     "output_type": "stream",
     "text": [
      "Epoch 27/50\n",
      "50/51 [============================>.] - ETA: 0s - loss: 0.3253 - accuracy: 0.8733\n",
      "Epoch 00027: val_loss improved from 0.32234 to 0.32148, saving model to ../models/mymodels/\n",
      "51/51 [==============================] - 62s 1s/step - loss: 0.3252 - accuracy: 0.8734 - val_loss: 0.3215 - val_accuracy: 0.8739\n",
      "Epoch 28/50\n",
      "50/51 [============================>.] - ETA: 0s - loss: 0.3264 - accuracy: 0.8727\n",
      "Epoch 00028: val_loss improved from 0.32148 to 0.32114, saving model to ../models/mymodels/\n",
      "51/51 [==============================] - 61s 1s/step - loss: 0.3264 - accuracy: 0.8730 - val_loss: 0.3211 - val_accuracy: 0.8758\n",
      "Epoch 29/50\n",
      "50/51 [============================>.] - ETA: 0s - loss: 0.3262 - accuracy: 0.8725\n",
      "Epoch 00029: val_loss improved from 0.32114 to 0.32110, saving model to ../models/mymodels/\n",
      "51/51 [==============================] - 61s 1s/step - loss: 0.3262 - accuracy: 0.8725 - val_loss: 0.3211 - val_accuracy: 0.8751\n",
      "Epoch 30/50\n",
      "50/51 [============================>.] - ETA: 0s - loss: 0.3248 - accuracy: 0.8719\n",
      "Epoch 00030: val_loss improved from 0.32110 to 0.32017, saving model to ../models/mymodels/\n",
      "51/51 [==============================] - 62s 1s/step - loss: 0.3252 - accuracy: 0.8717 - val_loss: 0.3202 - val_accuracy: 0.8755\n",
      "Epoch 31/50\n",
      "50/51 [============================>.] - ETA: 0s - loss: 0.3262 - accuracy: 0.8723\n",
      "Epoch 00031: val_loss improved from 0.32017 to 0.32015, saving model to ../models/mymodels/\n",
      "51/51 [==============================] - 61s 1s/step - loss: 0.3265 - accuracy: 0.8722 - val_loss: 0.3201 - val_accuracy: 0.8753\n",
      "Epoch 32/50\n",
      "50/51 [============================>.] - ETA: 0s - loss: 0.3203 - accuracy: 0.8773\n",
      "Epoch 00032: val_loss improved from 0.32015 to 0.31919, saving model to ../models/mymodels/\n",
      "51/51 [==============================] - 62s 1s/step - loss: 0.3204 - accuracy: 0.8771 - val_loss: 0.3192 - val_accuracy: 0.8755\n",
      "Epoch 33/50\n",
      "50/51 [============================>.] - ETA: 0s - loss: 0.3248 - accuracy: 0.8725\n",
      "Epoch 00033: val_loss improved from 0.31919 to 0.31918, saving model to ../models/mymodels/\n",
      "51/51 [==============================] - 62s 1s/step - loss: 0.3251 - accuracy: 0.8724 - val_loss: 0.3192 - val_accuracy: 0.8755\n",
      "Epoch 34/50\n",
      "50/51 [============================>.] - ETA: 0s - loss: 0.3254 - accuracy: 0.8735\n",
      "Epoch 00034: val_loss improved from 0.31918 to 0.31867, saving model to ../models/mymodels/\n",
      "51/51 [==============================] - 62s 1s/step - loss: 0.3254 - accuracy: 0.8732 - val_loss: 0.3187 - val_accuracy: 0.8768\n",
      "Epoch 35/50\n",
      "50/51 [============================>.] - ETA: 0s - loss: 0.3251 - accuracy: 0.8729\n",
      "Epoch 00035: val_loss did not improve from 0.31867\n",
      "51/51 [==============================] - 61s 1s/step - loss: 0.3248 - accuracy: 0.8730 - val_loss: 0.3187 - val_accuracy: 0.8755\n",
      "Epoch 36/50\n",
      "50/51 [============================>.] - ETA: 0s - loss: 0.3230 - accuracy: 0.8731\n",
      "Epoch 00036: val_loss improved from 0.31867 to 0.31833, saving model to ../models/mymodels/\n",
      "51/51 [==============================] - 62s 1s/step - loss: 0.3232 - accuracy: 0.8732 - val_loss: 0.3183 - val_accuracy: 0.8768\n",
      "Epoch 37/50\n",
      "50/51 [============================>.] - ETA: 0s - loss: 0.3250 - accuracy: 0.8706\n",
      "Epoch 00037: val_loss improved from 0.31833 to 0.31755, saving model to ../models/mymodels/\n",
      "51/51 [==============================] - 63s 1s/step - loss: 0.3251 - accuracy: 0.8706 - val_loss: 0.3176 - val_accuracy: 0.8769\n",
      "Epoch 38/50\n",
      "50/51 [============================>.] - ETA: 0s - loss: 0.3215 - accuracy: 0.8741\n",
      "Epoch 00038: val_loss did not improve from 0.31755\n",
      "51/51 [==============================] - 62s 1s/step - loss: 0.3212 - accuracy: 0.8743 - val_loss: 0.3176 - val_accuracy: 0.8782\n",
      "Epoch 39/50\n",
      "50/51 [============================>.] - ETA: 0s - loss: 0.3235 - accuracy: 0.8744\n",
      "Epoch 00039: val_loss improved from 0.31755 to 0.31742, saving model to ../models/mymodels/\n",
      "51/51 [==============================] - 63s 1s/step - loss: 0.3235 - accuracy: 0.8740 - val_loss: 0.3174 - val_accuracy: 0.8760\n",
      "Epoch 40/50\n",
      "50/51 [============================>.] - ETA: 0s - loss: 0.3202 - accuracy: 0.8759\n",
      "Epoch 00040: val_loss improved from 0.31742 to 0.31683, saving model to ../models/mymodels/\n",
      "51/51 [==============================] - 61s 1s/step - loss: 0.3204 - accuracy: 0.8755 - val_loss: 0.3168 - val_accuracy: 0.8772\n",
      "Epoch 41/50\n",
      "50/51 [============================>.] - ETA: 0s - loss: 0.3206 - accuracy: 0.8740\n",
      "Epoch 00041: val_loss improved from 0.31683 to 0.31622, saving model to ../models/mymodels/\n",
      "51/51 [==============================] - 61s 1s/step - loss: 0.3211 - accuracy: 0.8739 - val_loss: 0.3162 - val_accuracy: 0.8766\n",
      "Epoch 42/50\n",
      "50/51 [============================>.] - ETA: 0s - loss: 0.3223 - accuracy: 0.8724\n",
      "Epoch 00042: val_loss improved from 0.31622 to 0.31585, saving model to ../models/mymodels/\n",
      "51/51 [==============================] - 61s 1s/step - loss: 0.3224 - accuracy: 0.8723 - val_loss: 0.3158 - val_accuracy: 0.8775\n",
      "Epoch 43/50\n",
      "50/51 [============================>.] - ETA: 0s - loss: 0.3193 - accuracy: 0.8739\n",
      "Epoch 00043: val_loss improved from 0.31585 to 0.31567, saving model to ../models/mymodels/\n",
      "51/51 [==============================] - 84s 2s/step - loss: 0.3192 - accuracy: 0.8739 - val_loss: 0.3157 - val_accuracy: 0.8780\n",
      "Epoch 44/50\n",
      "50/51 [============================>.] - ETA: 3s - loss: 0.3198 - accuracy: 0.8730\n",
      "Epoch 00044: val_loss improved from 0.31567 to 0.31491, saving model to ../models/mymodels/\n",
      "51/51 [==============================] - 260s 5s/step - loss: 0.3196 - accuracy: 0.8731 - val_loss: 0.3149 - val_accuracy: 0.8775\n",
      "Epoch 45/50\n",
      "50/51 [============================>.] - ETA: 3s - loss: 0.3220 - accuracy: 0.8745\n",
      "Epoch 00045: val_loss improved from 0.31491 to 0.31464, saving model to ../models/mymodels/\n",
      "51/51 [==============================] - 261s 5s/step - loss: 0.3221 - accuracy: 0.8746 - val_loss: 0.3146 - val_accuracy: 0.8772\n",
      "Epoch 46/50\n",
      "50/51 [============================>.] - ETA: 3s - loss: 0.3174 - accuracy: 0.8765\n",
      "Epoch 00046: val_loss did not improve from 0.31464\n",
      "51/51 [==============================] - 265s 5s/step - loss: 0.3176 - accuracy: 0.8764 - val_loss: 0.3148 - val_accuracy: 0.8793\n",
      "Epoch 47/50\n",
      "50/51 [============================>.] - ETA: 3s - loss: 0.3199 - accuracy: 0.8745\n",
      "Epoch 00047: val_loss improved from 0.31464 to 0.31434, saving model to ../models/mymodels/\n",
      "51/51 [==============================] - 254s 5s/step - loss: 0.3198 - accuracy: 0.8746 - val_loss: 0.3143 - val_accuracy: 0.8797\n",
      "Epoch 48/50\n",
      "50/51 [============================>.] - ETA: 3s - loss: 0.3204 - accuracy: 0.8753\n",
      "Epoch 00048: val_loss improved from 0.31434 to 0.31406, saving model to ../models/mymodels/\n",
      "51/51 [==============================] - 260s 5s/step - loss: 0.3205 - accuracy: 0.8755 - val_loss: 0.3141 - val_accuracy: 0.8790\n",
      "Epoch 49/50\n",
      "50/51 [============================>.] - ETA: 3s - loss: 0.3180 - accuracy: 0.8740\n",
      "Epoch 00049: val_loss improved from 0.31406 to 0.31365, saving model to ../models/mymodels/\n",
      "51/51 [==============================] - 254s 5s/step - loss: 0.3185 - accuracy: 0.8735 - val_loss: 0.3137 - val_accuracy: 0.8803\n",
      "Epoch 50/50\n",
      "50/51 [============================>.] - ETA: 3s - loss: 0.3216 - accuracy: 0.8731\n",
      "Epoch 00050: val_loss improved from 0.31365 to 0.31356, saving model to ../models/mymodels/\n",
      "51/51 [==============================] - 245s 5s/step - loss: 0.3220 - accuracy: 0.8731 - val_loss: 0.3136 - val_accuracy: 0.8804\n",
      "dict_keys(['loss', 'accuracy', 'val_loss', 'val_accuracy'])\n"
     ]
    }
   ],
   "source": [
    "model2 = MakeModel(pt_model=my_vgg_16,\n",
    "                      loss=\"binary_crossentropy\", \n",
    "                      metrics_list=[\"accuracy\"],\n",
    "                      data_generator_train = data_generator_train,\n",
    "                      data_generator_val = data_generator_val,\n",
    "                      epochs=50,\n",
    "                      num_classes=6)\n",
    "model2.build_model()\n",
    "model2.compile_model()\n",
    "model2_history = model2.fit_model()\n",
    "\n",
    "print(model2_history.history.keys())"
   ]
  },
  {
   "cell_type": "code",
   "execution_count": 73,
   "metadata": {},
   "outputs": [
    {
     "name": "stdout",
     "output_type": "stream",
     "text": [
      "Model: \"model_10\"\n",
      "_________________________________________________________________\n",
      "Layer (type)                 Output Shape              Param #   \n",
      "=================================================================\n",
      "input_12 (InputLayer)        [(None, None, None, 3)]   0         \n",
      "_________________________________________________________________\n",
      "block1_conv1 (Conv2D)        (None, None, None, 64)    1792      \n",
      "_________________________________________________________________\n",
      "block1_conv2 (Conv2D)        (None, None, None, 64)    36928     \n",
      "_________________________________________________________________\n",
      "block1_pool (MaxPooling2D)   (None, None, None, 64)    0         \n",
      "_________________________________________________________________\n",
      "block2_conv1 (Conv2D)        (None, None, None, 128)   73856     \n",
      "_________________________________________________________________\n",
      "block2_conv2 (Conv2D)        (None, None, None, 128)   147584    \n",
      "_________________________________________________________________\n",
      "block2_pool (MaxPooling2D)   (None, None, None, 128)   0         \n",
      "_________________________________________________________________\n",
      "block3_conv1 (Conv2D)        (None, None, None, 256)   295168    \n",
      "_________________________________________________________________\n",
      "block3_conv2 (Conv2D)        (None, None, None, 256)   590080    \n",
      "_________________________________________________________________\n",
      "block3_conv3 (Conv2D)        (None, None, None, 256)   590080    \n",
      "_________________________________________________________________\n",
      "block3_pool (MaxPooling2D)   (None, None, None, 256)   0         \n",
      "_________________________________________________________________\n",
      "block4_conv1 (Conv2D)        (None, None, None, 512)   1180160   \n",
      "_________________________________________________________________\n",
      "block4_conv2 (Conv2D)        (None, None, None, 512)   2359808   \n",
      "_________________________________________________________________\n",
      "block4_conv3 (Conv2D)        (None, None, None, 512)   2359808   \n",
      "_________________________________________________________________\n",
      "block4_pool (MaxPooling2D)   (None, None, None, 512)   0         \n",
      "_________________________________________________________________\n",
      "block5_conv1 (Conv2D)        (None, None, None, 512)   2359808   \n",
      "_________________________________________________________________\n",
      "block5_conv2 (Conv2D)        (None, None, None, 512)   2359808   \n",
      "_________________________________________________________________\n",
      "block5_conv3 (Conv2D)        (None, None, None, 512)   2359808   \n",
      "_________________________________________________________________\n",
      "block5_pool (MaxPooling2D)   (None, None, None, 512)   0         \n",
      "_________________________________________________________________\n",
      "global_average_pooling2d_10  (None, 512)               0         \n",
      "_________________________________________________________________\n",
      "dropout_20 (Dropout)         (None, 512)               0         \n",
      "_________________________________________________________________\n",
      "dense_20 (Dense)             (None, 100)               51300     \n",
      "_________________________________________________________________\n",
      "dropout_21 (Dropout)         (None, 100)               0         \n",
      "_________________________________________________________________\n",
      "dense_21 (Dense)             (None, 6)                 606       \n",
      "=================================================================\n",
      "Total params: 14,766,594\n",
      "Trainable params: 51,906\n",
      "Non-trainable params: 14,714,688\n",
      "_________________________________________________________________\n"
     ]
    }
   ],
   "source": [
    "model2.model.summary()"
   ]
  },
  {
   "cell_type": "code",
   "execution_count": 74,
   "metadata": {
    "scrolled": false
   },
   "outputs": [
    {
     "data": {
      "image/png": "[encoded data removed]",
      "text/plain": [
       "<Figure size 864x576 with 1 Axes>"
      ]
     },
     "metadata": {
      "needs_background": "light"
     },
     "output_type": "display_data"
    }
   ],
   "source": [
    "train_loss = model2_history.history['loss']\n",
    "val_loss = model2_history.history['val_loss']\n",
    "\n",
    "plt.figure(figsize = (12,8))\n",
    "\n",
    "plt.plot(train_loss, label = 'training_loss', color = 'b')\n",
    "plt.plot(val_loss, label = 'val_loss', color = 'orange')\n",
    "\n",
    "plt.title('Training and Validation Loss by Epochs')\n",
    "plt.xlabel('Epochs')\n",
    "plt.ylabel('weighted_log_loss')\n",
    "plt.legend();"
   ]
  },
  {
   "cell_type": "code",
   "execution_count": null,
   "metadata": {},
   "outputs": [],
   "source": [
    "train_loss = model2_history.history['accuracy']\n",
    "val_loss = model2_history.history['val_accuracy']\n",
    "\n",
    "plt.figure(figsize = (12,8))\n",
    "\n",
    "plt.plot(train_loss, label = 'training_loss', color = 'b')\n",
    "plt.plot(val_loss, label = 'val_loss', color = 'orange')\n",
    "\n",
    "plt.title('Training and Validation Accuracy by Epochs')\n",
    "plt.xlabel('Epochs')\n",
    "plt.ylabel('Accuracy')\n",
    "plt.legend();"
   ]
  },
  {
   "cell_type": "code",
   "execution_count": 75,
   "metadata": {},
   "outputs": [
    {
     "ename": "AttributeError",
     "evalue": "'function' object has no attribute 'predict'",
     "output_type": "error",
     "traceback": [
      "\u001b[0;31m---------------------------------------------------------------------------\u001b[0m",
      "\u001b[0;31mAttributeError\u001b[0m                            Traceback (most recent call last)",
      "\u001b[0;32m<ipython-input-75-5f51b518dbe5>\u001b[0m in \u001b[0;36m<module>\u001b[0;34m\u001b[0m\n\u001b[1;32m      1\u001b[0m \u001b[0mpreds\u001b[0m \u001b[0;34m=\u001b[0m \u001b[0mmodel2\u001b[0m\u001b[0;34m.\u001b[0m\u001b[0mpredict\u001b[0m\u001b[0;34m(\u001b[0m\u001b[0mdata_generator_test\u001b[0m\u001b[0;34m)\u001b[0m\u001b[0;34m[\u001b[0m\u001b[0;36m0\u001b[0m\u001b[0;34m:\u001b[0m\u001b[0mtest_df\u001b[0m\u001b[0;34m.\u001b[0m\u001b[0mshape\u001b[0m\u001b[0;34m[\u001b[0m\u001b[0;36m0\u001b[0m\u001b[0;34m]\u001b[0m\u001b[0;34m]\u001b[0m\u001b[0;34m\u001b[0m\u001b[0;34m\u001b[0m\u001b[0m\n\u001b[0;32m----> 2\u001b[0;31m \u001b[0mval_preds\u001b[0m \u001b[0;34m=\u001b[0m \u001b[0mmodel\u001b[0m\u001b[0;34m.\u001b[0m\u001b[0mpredict\u001b[0m\u001b[0;34m(\u001b[0m\u001b[0mdata_generator_val\u001b[0m\u001b[0;34m)\u001b[0m\u001b[0;34m\u001b[0m\u001b[0;34m\u001b[0m\u001b[0m\n\u001b[0m",
      "\u001b[0;31mAttributeError\u001b[0m: 'function' object has no attribute 'predict'"
     ]
    }
   ],
   "source": [
    "preds = model2.predict(data_generator_test)[0:test_df.shape[0]]\n"
   ]
  },
  {
   "cell_type": "code",
   "execution_count": 80,
   "metadata": {},
   "outputs": [
    {
     "data": {
      "text/plain": [
       "True"
      ]
     },
     "execution_count": 80,
     "metadata": {},
     "output_type": "execute_result"
    }
   ],
   "source": [
    "preds.shape == test_df.shape"
   ]
  },
  {
   "cell_type": "code",
   "execution_count": 81,
   "metadata": {},
   "outputs": [
    {
     "data": {
      "text/plain": [
       "(121232, 6)"
      ]
     },
     "execution_count": 81,
     "metadata": {},
     "output_type": "execute_result"
    }
   ],
   "source": [
    "preds.shape"
   ]
  },
  {
   "cell_type": "code",
   "execution_count": 79,
   "metadata": {},
   "outputs": [
    {
     "data": {
      "text/plain": [
       "(121232, 6)"
      ]
     },
     "execution_count": 79,
     "metadata": {},
     "output_type": "execute_result"
    }
   ],
   "source": [
    "test_df.shape"
   ]
  },
  {
   "cell_type": "code",
   "execution_count": 82,
   "metadata": {},
   "outputs": [],
   "source": [
    "def make_df(meta_data_df, predictions):\n",
    "    df = pd.DataFrame(predictions, columns=meta_data_df.columns, index=meta_data_df.index)\n",
    "    df = df.stack().reset_index()\n",
    "    df.loc[:, \"ID\"] = df.id.str.cat(df.subtype, sep=\"_\")\n",
    "    df = df.drop([\"id\", \"subtype\"], axis=1)\n",
    "    df = df.rename({0: \"Label\"}, axis=1)\n",
    "    return df"
   ]
  },
  {
   "cell_type": "code",
   "execution_count": 104,
   "metadata": {},
   "outputs": [],
   "source": [
    "test_pred_df = make_df(test_df, preds)"
   ]
  },
  {
   "cell_type": "code",
   "execution_count": 105,
   "metadata": {},
   "outputs": [],
   "source": [
    "test_pred_df = test_pred_df[['ID','Label']]"
   ]
  },
  {
   "cell_type": "code",
   "execution_count": 106,
   "metadata": {},
   "outputs": [
    {
     "data": {
      "text/html": [
       "<div>\n",
       "<style scoped>\n",
       "    .dataframe tbody tr th:only-of-type {\n",
       "        vertical-align: middle;\n",
       "    }\n",
       "\n",
       "    .dataframe tbody tr th {\n",
       "        vertical-align: top;\n",
       "    }\n",
       "\n",
       "    .dataframe thead th {\n",
       "        text-align: right;\n",
       "    }\n",
       "</style>\n",
       "<table border=\"1\" class=\"dataframe\">\n",
       "  <thead>\n",
       "    <tr style=\"text-align: right;\">\n",
       "      <th></th>\n",
       "      <th>ID</th>\n",
       "      <th>Label</th>\n",
       "    </tr>\n",
       "  </thead>\n",
       "  <tbody>\n",
       "    <tr>\n",
       "      <th>0</th>\n",
       "      <td>ID_000000e27_any</td>\n",
       "      <td>0.459186</td>\n",
       "    </tr>\n",
       "    <tr>\n",
       "      <th>1</th>\n",
       "      <td>ID_000000e27_epidural</td>\n",
       "      <td>0.017462</td>\n",
       "    </tr>\n",
       "    <tr>\n",
       "      <th>2</th>\n",
       "      <td>ID_000000e27_intraparenchymal</td>\n",
       "      <td>0.142150</td>\n",
       "    </tr>\n",
       "    <tr>\n",
       "      <th>3</th>\n",
       "      <td>ID_000000e27_intraventricular</td>\n",
       "      <td>0.081889</td>\n",
       "    </tr>\n",
       "    <tr>\n",
       "      <th>4</th>\n",
       "      <td>ID_000000e27_subarachnoid</td>\n",
       "      <td>0.184403</td>\n",
       "    </tr>\n",
       "    <tr>\n",
       "      <th>5</th>\n",
       "      <td>ID_000000e27_subdural</td>\n",
       "      <td>0.194744</td>\n",
       "    </tr>\n",
       "    <tr>\n",
       "      <th>6</th>\n",
       "      <td>ID_000009146_any</td>\n",
       "      <td>0.055589</td>\n",
       "    </tr>\n",
       "    <tr>\n",
       "      <th>7</th>\n",
       "      <td>ID_000009146_epidural</td>\n",
       "      <td>0.006816</td>\n",
       "    </tr>\n",
       "    <tr>\n",
       "      <th>8</th>\n",
       "      <td>ID_000009146_intraparenchymal</td>\n",
       "      <td>0.020436</td>\n",
       "    </tr>\n",
       "    <tr>\n",
       "      <th>9</th>\n",
       "      <td>ID_000009146_intraventricular</td>\n",
       "      <td>0.020102</td>\n",
       "    </tr>\n",
       "  </tbody>\n",
       "</table>\n",
       "</div>"
      ],
      "text/plain": [
       "                              ID     Label\n",
       "0               ID_000000e27_any  0.459186\n",
       "1          ID_000000e27_epidural  0.017462\n",
       "2  ID_000000e27_intraparenchymal  0.142150\n",
       "3  ID_000000e27_intraventricular  0.081889\n",
       "4      ID_000000e27_subarachnoid  0.184403\n",
       "5          ID_000000e27_subdural  0.194744\n",
       "6               ID_000009146_any  0.055589\n",
       "7          ID_000009146_epidural  0.006816\n",
       "8  ID_000009146_intraparenchymal  0.020436\n",
       "9  ID_000009146_intraventricular  0.020102"
      ]
     },
     "execution_count": 106,
     "metadata": {},
     "output_type": "execute_result"
    }
   ],
   "source": [
    "test_pred_df.head(10)"
   ]
  },
  {
   "cell_type": "code",
   "execution_count": 107,
   "metadata": {},
   "outputs": [],
   "source": [
    "test_pred_df.to_csv('../data/output/submissions/submission_model_2.csv', index=False)"
   ]
  },
  {
   "cell_type": "code",
   "execution_count": 110,
   "metadata": {},
   "outputs": [
    {
     "data": {
      "text/plain": [
       "0.7131371"
      ]
     },
     "execution_count": 110,
     "metadata": {},
     "output_type": "execute_result"
    }
   ],
   "source": [
    "test_pred_df[test_pred_df['Label'] <0."
   ]
  },
  {
   "cell_type": "code",
   "execution_count": 112,
   "metadata": {},
   "outputs": [
    {
     "data": {
      "text/plain": [
       "subtype\n",
       "any                 0.333333\n",
       "epidural            0.011642\n",
       "intraparenchymal    0.110907\n",
       "intraventricular    0.074142\n",
       "subarachnoid        0.111520\n",
       "subdural            0.146446\n",
       "dtype: float64"
      ]
     },
     "execution_count": 112,
     "metadata": {},
     "output_type": "execute_result"
    }
   ],
   "source": [
    "train_data.loc[data_generator_train.data_ids].sum() / train_data.loc[data_generator_train.data_ids].shape[0]"
   ]
  },
  {
   "cell_type": "code",
   "execution_count": 102,
   "metadata": {},
   "outputs": [
    {
     "data": {
      "text/html": [
       "<div>\n",
       "<style scoped>\n",
       "    .dataframe tbody tr th:only-of-type {\n",
       "        vertical-align: middle;\n",
       "    }\n",
       "\n",
       "    .dataframe tbody tr th {\n",
       "        vertical-align: top;\n",
       "    }\n",
       "\n",
       "    .dataframe thead th {\n",
       "        text-align: right;\n",
       "    }\n",
       "</style>\n",
       "<table border=\"1\" class=\"dataframe\">\n",
       "  <thead>\n",
       "    <tr style=\"text-align: right;\">\n",
       "      <th></th>\n",
       "      <th>ID</th>\n",
       "      <th>Label</th>\n",
       "    </tr>\n",
       "  </thead>\n",
       "  <tbody>\n",
       "    <tr>\n",
       "      <th>0</th>\n",
       "      <td>0</td>\n",
       "      <td>0.0</td>\n",
       "    </tr>\n",
       "    <tr>\n",
       "      <th>1</th>\n",
       "      <td>0</td>\n",
       "      <td>0.0</td>\n",
       "    </tr>\n",
       "    <tr>\n",
       "      <th>2</th>\n",
       "      <td>0</td>\n",
       "      <td>0.0</td>\n",
       "    </tr>\n",
       "    <tr>\n",
       "      <th>3</th>\n",
       "      <td>0</td>\n",
       "      <td>0.0</td>\n",
       "    </tr>\n",
       "    <tr>\n",
       "      <th>4</th>\n",
       "      <td>0</td>\n",
       "      <td>0.0</td>\n",
       "    </tr>\n",
       "    <tr>\n",
       "      <th>5</th>\n",
       "      <td>0</td>\n",
       "      <td>0.0</td>\n",
       "    </tr>\n",
       "    <tr>\n",
       "      <th>6</th>\n",
       "      <td>0</td>\n",
       "      <td>0.0</td>\n",
       "    </tr>\n",
       "    <tr>\n",
       "      <th>7</th>\n",
       "      <td>0</td>\n",
       "      <td>0.0</td>\n",
       "    </tr>\n",
       "    <tr>\n",
       "      <th>8</th>\n",
       "      <td>0</td>\n",
       "      <td>0.0</td>\n",
       "    </tr>\n",
       "    <tr>\n",
       "      <th>9</th>\n",
       "      <td>0</td>\n",
       "      <td>0.0</td>\n",
       "    </tr>\n",
       "    <tr>\n",
       "      <th>10</th>\n",
       "      <td>0</td>\n",
       "      <td>0.0</td>\n",
       "    </tr>\n",
       "    <tr>\n",
       "      <th>11</th>\n",
       "      <td>0</td>\n",
       "      <td>0.0</td>\n",
       "    </tr>\n",
       "    <tr>\n",
       "      <th>12</th>\n",
       "      <td>0</td>\n",
       "      <td>0.0</td>\n",
       "    </tr>\n",
       "    <tr>\n",
       "      <th>13</th>\n",
       "      <td>0</td>\n",
       "      <td>0.0</td>\n",
       "    </tr>\n",
       "    <tr>\n",
       "      <th>14</th>\n",
       "      <td>0</td>\n",
       "      <td>0.0</td>\n",
       "    </tr>\n",
       "    <tr>\n",
       "      <th>15</th>\n",
       "      <td>0</td>\n",
       "      <td>0.0</td>\n",
       "    </tr>\n",
       "    <tr>\n",
       "      <th>16</th>\n",
       "      <td>0</td>\n",
       "      <td>0.0</td>\n",
       "    </tr>\n",
       "    <tr>\n",
       "      <th>17</th>\n",
       "      <td>0</td>\n",
       "      <td>0.0</td>\n",
       "    </tr>\n",
       "    <tr>\n",
       "      <th>18</th>\n",
       "      <td>0</td>\n",
       "      <td>0.0</td>\n",
       "    </tr>\n",
       "    <tr>\n",
       "      <th>19</th>\n",
       "      <td>0</td>\n",
       "      <td>0.0</td>\n",
       "    </tr>\n",
       "    <tr>\n",
       "      <th>20</th>\n",
       "      <td>0</td>\n",
       "      <td>0.0</td>\n",
       "    </tr>\n",
       "    <tr>\n",
       "      <th>21</th>\n",
       "      <td>0</td>\n",
       "      <td>0.0</td>\n",
       "    </tr>\n",
       "    <tr>\n",
       "      <th>22</th>\n",
       "      <td>0</td>\n",
       "      <td>0.0</td>\n",
       "    </tr>\n",
       "    <tr>\n",
       "      <th>23</th>\n",
       "      <td>0</td>\n",
       "      <td>0.0</td>\n",
       "    </tr>\n",
       "    <tr>\n",
       "      <th>24</th>\n",
       "      <td>0</td>\n",
       "      <td>0.0</td>\n",
       "    </tr>\n",
       "    <tr>\n",
       "      <th>25</th>\n",
       "      <td>0</td>\n",
       "      <td>0.0</td>\n",
       "    </tr>\n",
       "    <tr>\n",
       "      <th>26</th>\n",
       "      <td>0</td>\n",
       "      <td>0.0</td>\n",
       "    </tr>\n",
       "    <tr>\n",
       "      <th>27</th>\n",
       "      <td>0</td>\n",
       "      <td>0.0</td>\n",
       "    </tr>\n",
       "    <tr>\n",
       "      <th>28</th>\n",
       "      <td>0</td>\n",
       "      <td>0.0</td>\n",
       "    </tr>\n",
       "    <tr>\n",
       "      <th>29</th>\n",
       "      <td>0</td>\n",
       "      <td>0.0</td>\n",
       "    </tr>\n",
       "    <tr>\n",
       "      <th>...</th>\n",
       "      <td>...</td>\n",
       "      <td>...</td>\n",
       "    </tr>\n",
       "    <tr>\n",
       "      <th>727362</th>\n",
       "      <td>0</td>\n",
       "      <td>0.0</td>\n",
       "    </tr>\n",
       "    <tr>\n",
       "      <th>727363</th>\n",
       "      <td>0</td>\n",
       "      <td>0.0</td>\n",
       "    </tr>\n",
       "    <tr>\n",
       "      <th>727364</th>\n",
       "      <td>0</td>\n",
       "      <td>0.0</td>\n",
       "    </tr>\n",
       "    <tr>\n",
       "      <th>727365</th>\n",
       "      <td>0</td>\n",
       "      <td>0.0</td>\n",
       "    </tr>\n",
       "    <tr>\n",
       "      <th>727366</th>\n",
       "      <td>0</td>\n",
       "      <td>0.0</td>\n",
       "    </tr>\n",
       "    <tr>\n",
       "      <th>727367</th>\n",
       "      <td>0</td>\n",
       "      <td>0.0</td>\n",
       "    </tr>\n",
       "    <tr>\n",
       "      <th>727368</th>\n",
       "      <td>0</td>\n",
       "      <td>0.0</td>\n",
       "    </tr>\n",
       "    <tr>\n",
       "      <th>727369</th>\n",
       "      <td>0</td>\n",
       "      <td>0.0</td>\n",
       "    </tr>\n",
       "    <tr>\n",
       "      <th>727370</th>\n",
       "      <td>0</td>\n",
       "      <td>0.0</td>\n",
       "    </tr>\n",
       "    <tr>\n",
       "      <th>727371</th>\n",
       "      <td>0</td>\n",
       "      <td>0.0</td>\n",
       "    </tr>\n",
       "    <tr>\n",
       "      <th>727372</th>\n",
       "      <td>0</td>\n",
       "      <td>0.0</td>\n",
       "    </tr>\n",
       "    <tr>\n",
       "      <th>727373</th>\n",
       "      <td>0</td>\n",
       "      <td>0.0</td>\n",
       "    </tr>\n",
       "    <tr>\n",
       "      <th>727374</th>\n",
       "      <td>0</td>\n",
       "      <td>0.0</td>\n",
       "    </tr>\n",
       "    <tr>\n",
       "      <th>727375</th>\n",
       "      <td>0</td>\n",
       "      <td>0.0</td>\n",
       "    </tr>\n",
       "    <tr>\n",
       "      <th>727376</th>\n",
       "      <td>0</td>\n",
       "      <td>0.0</td>\n",
       "    </tr>\n",
       "    <tr>\n",
       "      <th>727377</th>\n",
       "      <td>0</td>\n",
       "      <td>0.0</td>\n",
       "    </tr>\n",
       "    <tr>\n",
       "      <th>727378</th>\n",
       "      <td>0</td>\n",
       "      <td>0.0</td>\n",
       "    </tr>\n",
       "    <tr>\n",
       "      <th>727379</th>\n",
       "      <td>0</td>\n",
       "      <td>0.0</td>\n",
       "    </tr>\n",
       "    <tr>\n",
       "      <th>727380</th>\n",
       "      <td>0</td>\n",
       "      <td>0.0</td>\n",
       "    </tr>\n",
       "    <tr>\n",
       "      <th>727381</th>\n",
       "      <td>0</td>\n",
       "      <td>0.0</td>\n",
       "    </tr>\n",
       "    <tr>\n",
       "      <th>727382</th>\n",
       "      <td>0</td>\n",
       "      <td>0.0</td>\n",
       "    </tr>\n",
       "    <tr>\n",
       "      <th>727383</th>\n",
       "      <td>0</td>\n",
       "      <td>0.0</td>\n",
       "    </tr>\n",
       "    <tr>\n",
       "      <th>727384</th>\n",
       "      <td>0</td>\n",
       "      <td>0.0</td>\n",
       "    </tr>\n",
       "    <tr>\n",
       "      <th>727385</th>\n",
       "      <td>0</td>\n",
       "      <td>0.0</td>\n",
       "    </tr>\n",
       "    <tr>\n",
       "      <th>727386</th>\n",
       "      <td>0</td>\n",
       "      <td>0.0</td>\n",
       "    </tr>\n",
       "    <tr>\n",
       "      <th>727387</th>\n",
       "      <td>0</td>\n",
       "      <td>0.0</td>\n",
       "    </tr>\n",
       "    <tr>\n",
       "      <th>727388</th>\n",
       "      <td>0</td>\n",
       "      <td>0.0</td>\n",
       "    </tr>\n",
       "    <tr>\n",
       "      <th>727389</th>\n",
       "      <td>0</td>\n",
       "      <td>0.0</td>\n",
       "    </tr>\n",
       "    <tr>\n",
       "      <th>727390</th>\n",
       "      <td>0</td>\n",
       "      <td>0.0</td>\n",
       "    </tr>\n",
       "    <tr>\n",
       "      <th>727391</th>\n",
       "      <td>0</td>\n",
       "      <td>0.0</td>\n",
       "    </tr>\n",
       "  </tbody>\n",
       "</table>\n",
       "<p>727392 rows × 2 columns</p>\n",
       "</div>"
      ],
      "text/plain": [
       "       ID  Label\n",
       "0       0    0.0\n",
       "1       0    0.0\n",
       "2       0    0.0\n",
       "3       0    0.0\n",
       "4       0    0.0\n",
       "5       0    0.0\n",
       "6       0    0.0\n",
       "7       0    0.0\n",
       "8       0    0.0\n",
       "9       0    0.0\n",
       "10      0    0.0\n",
       "11      0    0.0\n",
       "12      0    0.0\n",
       "13      0    0.0\n",
       "14      0    0.0\n",
       "15      0    0.0\n",
       "16      0    0.0\n",
       "17      0    0.0\n",
       "18      0    0.0\n",
       "19      0    0.0\n",
       "20      0    0.0\n",
       "21      0    0.0\n",
       "22      0    0.0\n",
       "23      0    0.0\n",
       "24      0    0.0\n",
       "25      0    0.0\n",
       "26      0    0.0\n",
       "27      0    0.0\n",
       "28      0    0.0\n",
       "29      0    0.0\n",
       "...    ..    ...\n",
       "727362  0    0.0\n",
       "727363  0    0.0\n",
       "727364  0    0.0\n",
       "727365  0    0.0\n",
       "727366  0    0.0\n",
       "727367  0    0.0\n",
       "727368  0    0.0\n",
       "727369  0    0.0\n",
       "727370  0    0.0\n",
       "727371  0    0.0\n",
       "727372  0    0.0\n",
       "727373  0    0.0\n",
       "727374  0    0.0\n",
       "727375  0    0.0\n",
       "727376  0    0.0\n",
       "727377  0    0.0\n",
       "727378  0    0.0\n",
       "727379  0    0.0\n",
       "727380  0    0.0\n",
       "727381  0    0.0\n",
       "727382  0    0.0\n",
       "727383  0    0.0\n",
       "727384  0    0.0\n",
       "727385  0    0.0\n",
       "727386  0    0.0\n",
       "727387  0    0.0\n",
       "727388  0    0.0\n",
       "727389  0    0.0\n",
       "727390  0    0.0\n",
       "727391  0    0.0\n",
       "\n",
       "[727392 rows x 2 columns]"
      ]
     },
     "execution_count": 102,
     "metadata": {},
     "output_type": "execute_result"
    }
   ],
   "source": [
    "test_pred_cor_df"
   ]
  },
  {
   "cell_type": "code",
   "execution_count": 70,
   "metadata": {},
   "outputs": [],
   "source": [
    "data_generator_test = TestDataGenerator(dataset = test_df, batch_size = TEST_BATCH_SIZE,img_size = SHAPE,\n",
    "                                                        img_dir = PATH_TEST_DATA)"
   ]
  },
  {
   "cell_type": "code",
   "execution_count": 71,
   "metadata": {},
   "outputs": [],
   "source": [
    "TEST_STEPS = int(len(data_generator_test) / TRAIN_BATCH_SIZE)"
   ]
  },
  {
   "cell_type": "code",
   "execution_count": null,
   "metadata": {},
   "outputs": [],
   "source": [
    "TEST_STEPS = int(dest_df.shape[0] / TRAIN_BATCH_SIZE)"
   ]
  },
  {
   "cell_type": "code",
   "execution_count": 79,
   "metadata": {},
   "outputs": [
    {
     "data": {
      "text/plain": [
       "15154"
      ]
     },
     "execution_count": 79,
     "metadata": {},
     "output_type": "execute_result"
    }
   ],
   "source": [
    "len(data_generator_test)"
   ]
  },
  {
   "cell_type": "code",
   "execution_count": null,
   "metadata": {},
   "outputs": [],
   "source": []
  },
  {
   "cell_type": "code",
   "execution_count": 80,
   "metadata": {
    "scrolled": false
   },
   "outputs": [
    {
     "name": "stdout",
     "output_type": "stream",
     "text": [
      "15154/15154 [==============================] - 1119s 74ms/step\n"
     ]
    }
   ],
   "source": [
    "preds = vgg19_model.predict_generator(generator = data_generator_test, \n",
    "                                      #steps = TEST_STEPS,\n",
    "                                      verbose = 1,\n",
    "                                      use_multiprocessing=True)"
   ]
  },
  {
   "cell_type": "code",
   "execution_count": 84,
   "metadata": {},
   "outputs": [
    {
     "data": {
      "text/plain": [
       "(121232, 6)"
      ]
     },
     "execution_count": 84,
     "metadata": {},
     "output_type": "execute_result"
    }
   ],
   "source": [
    "preds.shape"
   ]
  },
  {
   "cell_type": "code",
   "execution_count": 86,
   "metadata": {},
   "outputs": [
    {
     "data": {
      "text/plain": [
       "(121232, 6)"
      ]
     },
     "execution_count": 86,
     "metadata": {},
     "output_type": "execute_result"
    }
   ],
   "source": [
    "test_df.shape"
   ]
  },
  {
   "cell_type": "code",
   "execution_count": 87,
   "metadata": {
    "scrolled": true
   },
   "outputs": [],
   "source": [
    "preds = preds[:test_df.iloc[range(test_df.shape[0])].shape[0]]"
   ]
  },
  {
   "cell_type": "code",
   "execution_count": 88,
   "metadata": {},
   "outputs": [],
   "source": [
    "def make_df(meta_data_df, predictions):\n",
    "    df = pd.DataFrame(predictions, columns=meta_data_df.columns, index=meta_data_df.index)\n",
    "    df = df.stack().reset_index()\n",
    "    df.loc[:, \"ID\"] = df.id.str.cat(df.subtype, sep=\"_\")\n",
    "    df = df.drop([\"id\", \"subtype\"], axis=1)\n",
    "    df = df.rename({0: \"Label\"}, axis=1)\n",
    "    return df"
   ]
  },
  {
   "cell_type": "code",
   "execution_count": 90,
   "metadata": {},
   "outputs": [],
   "source": [
    "test_pred_df = make_df(test_df, preds)"
   ]
  },
  {
   "cell_type": "code",
   "execution_count": 91,
   "metadata": {},
   "outputs": [],
   "source": []
  },
  {
   "cell_type": "code",
   "execution_count": 92,
   "metadata": {},
   "outputs": [],
   "source": []
  },
  {
   "cell_type": "code",
   "execution_count": 93,
   "metadata": {},
   "outputs": [
    {
     "data": {
      "text/plain": [
       "(727392, 2)"
      ]
     },
     "execution_count": 93,
     "metadata": {},
     "output_type": "execute_result"
    }
   ],
   "source": [
    "test_pred_df.shape"
   ]
  },
  {
   "cell_type": "code",
   "execution_count": 95,
   "metadata": {},
   "outputs": [
    {
     "name": "stdout",
     "output_type": "stream",
     "text": [
      "236/236 [==============================] - 138s 585ms/step\n"
     ]
    }
   ],
   "source": [
    "val_preds= vgg19_model.predict_generator(generator = data_generator_val, verbose = 1, use_multiprocessing=True)"
   ]
  },
  {
   "cell_type": "code",
   "execution_count": 96,
   "metadata": {},
   "outputs": [
    {
     "data": {
      "text/plain": [
       "(15104, 6)"
      ]
     },
     "execution_count": 96,
     "metadata": {},
     "output_type": "execute_result"
    }
   ],
   "source": [
    "val_preds.shape"
   ]
  },
  {
   "cell_type": "code",
   "execution_count": 98,
   "metadata": {},
   "outputs": [
    {
     "ename": "KeyError",
     "evalue": "\"None of [Int64Index([    21,     48,    118,    174,    283,    349,    428,    445,\\n               454,    602,\\n            ...\\n            752328, 752333, 752358, 752454, 752539, 752560, 752592, 752621,\\n            752692, 752770],\\n           dtype='int64', name='subtype', length=15057)] are in the [columns]\"",
     "output_type": "error",
     "traceback": [
      "\u001b[0;31m---------------------------------------------------------------------------\u001b[0m",
      "\u001b[0;31mKeyError\u001b[0m                                  Traceback (most recent call last)",
      "\u001b[0;32m<ipython-input-98-6faa440df6b1>\u001b[0m in \u001b[0;36m<module>\u001b[0;34m\u001b[0m\n\u001b[0;32m----> 1\u001b[0;31m \u001b[0mtrain_df\u001b[0m\u001b[0;34m[\u001b[0m\u001b[0mvalid_idx\u001b[0m\u001b[0;34m]\u001b[0m\u001b[0;34m\u001b[0m\u001b[0;34m\u001b[0m\u001b[0m\n\u001b[0m",
      "\u001b[0;32m~/conda/envs/nvidia-dsd-1.3/lib/python3.7/site-packages/pandas/core/frame.py\u001b[0m in \u001b[0;36m__getitem__\u001b[0;34m(self, key)\u001b[0m\n\u001b[1;32m   2932\u001b[0m                 \u001b[0mkey\u001b[0m \u001b[0;34m=\u001b[0m \u001b[0mlist\u001b[0m\u001b[0;34m(\u001b[0m\u001b[0mkey\u001b[0m\u001b[0;34m)\u001b[0m\u001b[0;34m\u001b[0m\u001b[0;34m\u001b[0m\u001b[0m\n\u001b[1;32m   2933\u001b[0m             indexer = self.loc._convert_to_indexer(key, axis=1,\n\u001b[0;32m-> 2934\u001b[0;31m                                                    raise_missing=True)\n\u001b[0m\u001b[1;32m   2935\u001b[0m \u001b[0;34m\u001b[0m\u001b[0m\n\u001b[1;32m   2936\u001b[0m         \u001b[0;31m# take() does not accept boolean indexers\u001b[0m\u001b[0;34m\u001b[0m\u001b[0;34m\u001b[0m\u001b[0;34m\u001b[0m\u001b[0m\n",
      "\u001b[0;32m~/conda/envs/nvidia-dsd-1.3/lib/python3.7/site-packages/pandas/core/indexing.py\u001b[0m in \u001b[0;36m_convert_to_indexer\u001b[0;34m(self, obj, axis, is_setter, raise_missing)\u001b[0m\n\u001b[1;32m   1352\u001b[0m                 kwargs = {'raise_missing': True if is_setter else\n\u001b[1;32m   1353\u001b[0m                           raise_missing}\n\u001b[0;32m-> 1354\u001b[0;31m                 \u001b[0;32mreturn\u001b[0m \u001b[0mself\u001b[0m\u001b[0;34m.\u001b[0m\u001b[0m_get_listlike_indexer\u001b[0m\u001b[0;34m(\u001b[0m\u001b[0mobj\u001b[0m\u001b[0;34m,\u001b[0m \u001b[0maxis\u001b[0m\u001b[0;34m,\u001b[0m \u001b[0;34m**\u001b[0m\u001b[0mkwargs\u001b[0m\u001b[0;34m)\u001b[0m\u001b[0;34m[\u001b[0m\u001b[0;36m1\u001b[0m\u001b[0;34m]\u001b[0m\u001b[0;34m\u001b[0m\u001b[0;34m\u001b[0m\u001b[0m\n\u001b[0m\u001b[1;32m   1355\u001b[0m         \u001b[0;32melse\u001b[0m\u001b[0;34m:\u001b[0m\u001b[0;34m\u001b[0m\u001b[0;34m\u001b[0m\u001b[0m\n\u001b[1;32m   1356\u001b[0m             \u001b[0;32mtry\u001b[0m\u001b[0;34m:\u001b[0m\u001b[0;34m\u001b[0m\u001b[0;34m\u001b[0m\u001b[0m\n",
      "\u001b[0;32m~/conda/envs/nvidia-dsd-1.3/lib/python3.7/site-packages/pandas/core/indexing.py\u001b[0m in \u001b[0;36m_get_listlike_indexer\u001b[0;34m(self, key, axis, raise_missing)\u001b[0m\n\u001b[1;32m   1159\u001b[0m         self._validate_read_indexer(keyarr, indexer,\n\u001b[1;32m   1160\u001b[0m                                     \u001b[0mo\u001b[0m\u001b[0;34m.\u001b[0m\u001b[0m_get_axis_number\u001b[0m\u001b[0;34m(\u001b[0m\u001b[0maxis\u001b[0m\u001b[0;34m)\u001b[0m\u001b[0;34m,\u001b[0m\u001b[0;34m\u001b[0m\u001b[0;34m\u001b[0m\u001b[0m\n\u001b[0;32m-> 1161\u001b[0;31m                                     raise_missing=raise_missing)\n\u001b[0m\u001b[1;32m   1162\u001b[0m         \u001b[0;32mreturn\u001b[0m \u001b[0mkeyarr\u001b[0m\u001b[0;34m,\u001b[0m \u001b[0mindexer\u001b[0m\u001b[0;34m\u001b[0m\u001b[0;34m\u001b[0m\u001b[0m\n\u001b[1;32m   1163\u001b[0m \u001b[0;34m\u001b[0m\u001b[0m\n",
      "\u001b[0;32m~/conda/envs/nvidia-dsd-1.3/lib/python3.7/site-packages/pandas/core/indexing.py\u001b[0m in \u001b[0;36m_validate_read_indexer\u001b[0;34m(self, key, indexer, axis, raise_missing)\u001b[0m\n\u001b[1;32m   1244\u001b[0m                 raise KeyError(\n\u001b[1;32m   1245\u001b[0m                     u\"None of [{key}] are in the [{axis}]\".format(\n\u001b[0;32m-> 1246\u001b[0;31m                         key=key, axis=self.obj._get_axis_name(axis)))\n\u001b[0m\u001b[1;32m   1247\u001b[0m \u001b[0;34m\u001b[0m\u001b[0m\n\u001b[1;32m   1248\u001b[0m             \u001b[0;31m# We (temporarily) allow for some missing keys with .loc, except in\u001b[0m\u001b[0;34m\u001b[0m\u001b[0;34m\u001b[0m\u001b[0;34m\u001b[0m\u001b[0m\n",
      "\u001b[0;31mKeyError\u001b[0m: \"None of [Int64Index([    21,     48,    118,    174,    283,    349,    428,    445,\\n               454,    602,\\n            ...\\n            752328, 752333, 752358, 752454, 752539, 752560, 752592, 752621,\\n            752692, 752770],\\n           dtype='int64', name='subtype', length=15057)] are in the [columns]\""
     ]
    }
   ],
   "source": [
    "train_df[valid_idx]"
   ]
  },
  {
   "cell_type": "code",
   "execution_count": null,
   "metadata": {},
   "outputs": [],
   "source": [
    "val_pred_df = make_df(val_)"
   ]
  }
 ],
 "metadata": {
  "kernelspec": {
   "display_name": "Python 3",
   "language": "python",
   "name": "python3"
  },
  "language_info": {
   "codemirror_mode": {
    "name": "ipython",
    "version": 3
   },
   "file_extension": ".py",
   "mimetype": "text/x-python",
   "name": "python",
   "nbconvert_exporter": "python",
   "pygments_lexer": "ipython3",
   "version": "3.7.5"
  }
 },
 "nbformat": 4,
 "nbformat_minor": 2
}
