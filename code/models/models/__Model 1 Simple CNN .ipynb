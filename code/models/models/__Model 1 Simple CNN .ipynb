{
 "cells": [
  {
   "cell_type": "markdown",
   "metadata": {},
   "source": [
    "#  Intracranial Hemorrhage Detection\n",
    "\n",
    "## Model 1\n",
    "\n",
    "#### Kristina Joos\n",
    "\n",
    "---   \n",
    "\n",
    "|                 \t|                                                        \t|\n",
    "|:----------------:\t|:-------------------------------------------------------:\t|\n",
    "| Model           \t| 2 x (Conv2D + MaxPool) + 2 Dense                   |\n",
    "| Preprocessing   \t| Augementation Flip                 \t|\n",
    "| Class Balancing \t| Oversampling (2:1)                                          \t|\n",
    "| Loss Function   \t| Weighted Log Loss                                \t|\n",
    "| Regularization  \t| Drop Out Layers 0.5\t                    |\n",
    "| Epochs Run      \t| 14                                                    \t|\n",
    "| Time Run (h)   \t| 3                                                   \t|\n",
    "|                 \t|                                                        \t|\n",
    "| Test Sores      \t| Loss: 0.3614                             |\n",
    "| Validation      \t| Loss: 0.3276                            |\n",
    "| Leader Board    \t| Score: 0.50632 Rank: 410/1345 (31%)                     \t|\n",
    "\n",
    "\n"
   ]
  },
  {
   "cell_type": "markdown",
   "metadata": {},
   "source": [
    "## Imports"
   ]
  },
  {
   "cell_type": "code",
   "execution_count": 180,
   "metadata": {},
   "outputs": [],
   "source": [
    "import numpy as np\n",
    "import pandas as pd\n",
    "import pydicom\n",
    "import os\n",
    "import matplotlib.pyplot as plt\n",
    "%matplotlib inline\n",
    "import seaborn as sns\n",
    "\n",
    "from math import ceil, floor, log\n",
    "import cv2\n",
    "import sys\n",
    "\n",
    "from skimage.transform import resize\n",
    "from imgaug import augmenters as iaa\n",
    " \n",
    "from sklearn.model_selection import train_test_split, StratifiedKFold, ShuffleSplit\n",
    "\n",
    "import tensorflow as tf\n",
    "from tensorflow.keras import backend as K\n",
    "from tensorflow.keras.applications import ResNet50, VGG16\n",
    "from tensorflow.keras.applications.resnet50 import preprocess_input as preprocess_resnet_50\n",
    "from tensorflow.keras.applications.vgg16 import preprocess_input as preprocess_vgg_16\n",
    "from tensorflow.keras.layers import GlobalAveragePooling2D, Dense, Activation, concatenate, Dropout, MaxPooling2D, Conv2D, Flatten\n",
    "from tensorflow.keras.initializers import glorot_normal, he_normal\n",
    "from tensorflow.keras.regularizers import l2\n",
    "from tensorflow.keras.models import Model, load_model, Sequential, load_model\n",
    "from tensorflow.keras.utils import Sequence\n",
    "from tensorflow.keras.callbacks import ModelCheckpoint, ReduceLROnPlateau, EarlyStopping\n",
    "from tensorflow.keras.optimizers import Adam\n",
    "\n",
    "\n"
   ]
  },
  {
   "cell_type": "markdown",
   "metadata": {},
   "source": [
    "## Check GPU availability"
   ]
  },
  {
   "cell_type": "code",
   "execution_count": 4,
   "metadata": {
    "scrolled": true
   },
   "outputs": [
    {
     "data": {
      "text/plain": [
       "True"
      ]
     },
     "execution_count": 4,
     "metadata": {},
     "output_type": "execute_result"
    }
   ],
   "source": [
    "tf.test.is_gpu_available()"
   ]
  },
  {
   "cell_type": "code",
   "execution_count": 5,
   "metadata": {},
   "outputs": [
    {
     "data": {
      "text/plain": [
       "True"
      ]
     },
     "execution_count": 5,
     "metadata": {},
     "output_type": "execute_result"
    }
   ],
   "source": [
    "\n",
    "tf.test.is_built_with_cuda()"
   ]
  },
  {
   "cell_type": "markdown",
   "metadata": {},
   "source": [
    "## Image Path"
   ]
  },
  {
   "cell_type": "code",
   "execution_count": 6,
   "metadata": {},
   "outputs": [],
   "source": [
    "test_images_dir = '../data/input/rsna-intracranial-hemorrhage-detection/stage_2_test/'\n",
    "train_images_dir = '../data/input/rsna-intracranial-hemorrhage-detection/stage_2_train/'\n",
    "\n"
   ]
  },
  {
   "cell_type": "markdown",
   "metadata": {},
   "source": [
    "## Preprocessing\n",
    "\n",
    "<div style=\"font-size: 12px\"> \n",
    "    \n",
    "Code adapted from: https://stanford.edu/~shervine/blog/keras-how-to-generate-data-on-the-fly(last visited Nov. 24, 2019).  \n",
    "Code adapted from Allunia: https://www.kaggle.com/allunia/rsna-ih-detection-eda(last visited Nov. 24, 2019).   \n"
   ]
  },
  {
   "cell_type": "code",
   "execution_count": 7,
   "metadata": {},
   "outputs": [],
   "source": [
    "# Function rescale Pixel Array to HU unites\n",
    "def rescale_image(dataset):\n",
    "    image = dataset.pixel_array\n",
    "    rescaled_image = image * dataset.RescaleSlope + dataset.RescaleIntercept\n",
    "    rescaled_image[rescaled_image < -1024] = -1024\n",
    "    return rescaled_image\n",
    "\n",
    "# Function for windowing: getting rid of informations in the image we don't need (CT-tube signals,\n",
    "# bones and tissue we are not interested in.)\n",
    "def windowing(hu_image, image_min, image_max):\n",
    "    hu_image = np.clip(hu_image, hu_min_value, hu_max_value)\n",
    "    hu_image = np.where(hu_image<hu_min_value,hu_min_value, hu_image)\n",
    "    hu_image = np.where(hu_image>hu_max_value, hu_max_value, hu_image)\n",
    "    return hu_image\n",
    "\n",
    "class Preprocessor:    \n",
    "    \n",
    "    def __init__(self, path,hu_min_value, hu_max_value, augment=False):\n",
    "        self.path = path\n",
    "        self.nn_input_shape = (512, 512) \n",
    "        self.hu_min_value = hu_min_value\n",
    "        self.hu_max_value = hu_max_value\n",
    "        self.augment = augment\n",
    "        \n",
    "    # Load dicom file.\n",
    "    def load_dicom_dataset(self, filename):\n",
    "        dataset = pydicom.dcmread(self.path + filename)\n",
    "        return dataset\n",
    "    \n",
    "    # Rescale and windowing function put together.\n",
    "    def get_hounsfield_window(self, dataset, min_value, max_value):\n",
    "        \n",
    "        hu_image = rescale_image(dataset)\n",
    "        windowed_image = windowing(hu_image, min_value, max_value)\n",
    " \n",
    "        return windowed_image\n",
    "\n",
    "    # Resize the image to the input shape of the CNN.\n",
    "    def resize(self, image):\n",
    "        image = resize(image, self.nn_input_shape)\n",
    "        return image\n",
    "\n",
    "    # Augementation Function: Crop, rotate and flip horizontally\n",
    "    def augment_img(self, image): \n",
    "        augment_img = iaa.Sequential([\n",
    "            #iaa.Crop(keep_size=True, percent=(0.01, 0.05), sample_independently=False),\n",
    "            #iaa.Affine(rotate=(-10, 10)),\n",
    "            iaa.Fliplr(0.5)])\n",
    "        image_aug = augment_img.augment_image(image)\n",
    "        return image_aug\n",
    "    \n",
    "    def fill_channels(self, image):\n",
    "        filled_image = np.stack((image,)*3, axis=-1)\n",
    "        return filled_image\n",
    "    \n",
    "    def preprocess(self, identifier):\n",
    "        filename = identifier +  \".dcm\"\n",
    "        dataset = self.load_dicom_dataset(filename)\n",
    "        windowed_image = self.get_hounsfield_window(dataset, self.hu_min_value, self.hu_max_value)\n",
    "        image = self.resize(windowed_image)\n",
    "        if self.augment:\n",
    "            image = self.augment_img(image)\n",
    "        image = self.fill_channels(image)\n",
    "        return image\n",
    "    \n",
    "    def normalize(self, image):\n",
    "        return (image - self.hu_min_value)/(self.hu_max_value-self.hu_min_value) * 0.5\n"
   ]
  },
  {
   "cell_type": "code",
   "execution_count": 8,
   "metadata": {},
   "outputs": [],
   "source": [
    "class DataLoader(Sequence):\n",
    "    \n",
    "    def __init__(self, dataframe,\n",
    "                 preprocessor,\n",
    "                 batch_size,\n",
    "                 shuffle,\n",
    "                 num_classes=6,\n",
    "                 steps=None):\n",
    "        \n",
    "        self.preprocessor = preprocessor\n",
    "        self.data_ids = dataframe.index.values\n",
    "        self.dataframe = dataframe\n",
    "        self.batch_size = batch_size\n",
    "        self.shuffle = shuffle\n",
    "        self.input_shape = (512, 512) #was 256,256\n",
    "        #self.preprocess_fun = self.preprocessor.backbone[\"preprocess_fun\"]\n",
    "        self.num_classes = num_classes\n",
    "        self.current_epoch=0\n",
    "        \n",
    "        self.steps=steps\n",
    "        if self.steps is not None:\n",
    "            self.steps = np.round(self.steps/3) * 3\n",
    "            self.oversample()\n",
    "\n",
    "    def oversample(self):\n",
    "        part = np.int(self.steps/3 * self.batch_size)\n",
    "        zero_ids = np.random.choice(self.dataframe.loc[self.dataframe[\"any\"] == 0].index.values, size=2*part, replace=False)\n",
    "        hot_ids = np.random.choice(self.dataframe.loc[self.dataframe[\"any\"] == 1].index.values, size=1*part, replace=False)\n",
    "        self.data_ids = list(set(zero_ids).union(hot_ids))\n",
    "        np.random.shuffle(self.data_ids)\n",
    "\n",
    "    # defines the number of steps per epoch\n",
    "    def __len__(self):\n",
    "        if self.steps is None:\n",
    "            return np.int(np.ceil(len(self.data_ids) / np.float(self.batch_size)))\n",
    "        else:\n",
    "            return 3*np.int(self.steps/3) \n",
    "    \n",
    "    # at the end of an epoch: \n",
    "    def on_epoch_end(self):\n",
    "        # if steps is None and shuffle is true:\n",
    "        if self.steps is None:\n",
    "            self.data_ids = self.dataframe.index.values\n",
    "            if self.shuffle:\n",
    "                np.random.shuffle(self.data_ids)\n",
    "        else:\n",
    "            self.oversample()\n",
    "        self.current_epoch += 1\n",
    "    \n",
    "    # should return a batch of images\n",
    "    def __getitem__(self, item):\n",
    "        # select the ids of the current batch\n",
    "        current_ids = self.data_ids[item*self.batch_size:(item+1)*self.batch_size]\n",
    "        X, y = self.__generate_batch(current_ids)\n",
    "        return X, y\n",
    "    \n",
    "    \n",
    "    \n",
    "    # collect the preprocessed images and targets of one batch\n",
    "    def __generate_batch(self, current_ids):\n",
    "        X = np.empty((self.batch_size, *self.input_shape, 3))\n",
    "        y = np.empty((self.batch_size, self.num_classes))\n",
    "        for idx, ident in enumerate(current_ids):\n",
    "            # Store sample\n",
    "            image = self.preprocessor.preprocess(ident)\n",
    "            X[idx] = self.preprocessor.normalize(image)\n",
    "            # Store class\n",
    "            y[idx] = self.__get_target(ident)\n",
    "        return X, y\n",
    "    \n",
    "    # extract the targets of one image id:\n",
    "    def __get_target(self, ident):\n",
    "        targets = self.dataframe.loc[ident].values\n",
    "        return targets"
   ]
  },
  {
   "cell_type": "markdown",
   "metadata": {},
   "source": [
    "## Meta Data"
   ]
  },
  {
   "cell_type": "code",
   "execution_count": 93,
   "metadata": {},
   "outputs": [],
   "source": [
    "# path to train and test images\n",
    "test_images_dir = '../data/input/rsna-intracranial-hemorrhage-detection/stage_2_test/'\n",
    "train_images_dir = '../data/input/rsna-intracranial-hemorrhage-detection/stage_2_train/'"
   ]
  },
  {
   "cell_type": "code",
   "execution_count": 94,
   "metadata": {},
   "outputs": [
    {
     "data": {
      "text/html": [
       "<div>\n",
       "<style scoped>\n",
       "    .dataframe tbody tr th:only-of-type {\n",
       "        vertical-align: middle;\n",
       "    }\n",
       "\n",
       "    .dataframe tbody tr th {\n",
       "        vertical-align: top;\n",
       "    }\n",
       "\n",
       "    .dataframe thead th {\n",
       "        text-align: right;\n",
       "    }\n",
       "</style>\n",
       "<table border=\"1\" class=\"dataframe\">\n",
       "  <thead>\n",
       "    <tr style=\"text-align: right;\">\n",
       "      <th></th>\n",
       "      <th>ID</th>\n",
       "      <th>Label</th>\n",
       "    </tr>\n",
       "  </thead>\n",
       "  <tbody>\n",
       "    <tr>\n",
       "      <th>0</th>\n",
       "      <td>ID_12cadc6af_epidural</td>\n",
       "      <td>0</td>\n",
       "    </tr>\n",
       "    <tr>\n",
       "      <th>1</th>\n",
       "      <td>ID_12cadc6af_intraparenchymal</td>\n",
       "      <td>0</td>\n",
       "    </tr>\n",
       "    <tr>\n",
       "      <th>2</th>\n",
       "      <td>ID_12cadc6af_intraventricular</td>\n",
       "      <td>0</td>\n",
       "    </tr>\n",
       "    <tr>\n",
       "      <th>3</th>\n",
       "      <td>ID_12cadc6af_subarachnoid</td>\n",
       "      <td>0</td>\n",
       "    </tr>\n",
       "    <tr>\n",
       "      <th>4</th>\n",
       "      <td>ID_12cadc6af_subdural</td>\n",
       "      <td>0</td>\n",
       "    </tr>\n",
       "    <tr>\n",
       "      <th>5</th>\n",
       "      <td>ID_12cadc6af_any</td>\n",
       "      <td>0</td>\n",
       "    </tr>\n",
       "    <tr>\n",
       "      <th>6</th>\n",
       "      <td>ID_38fd7baa0_epidural</td>\n",
       "      <td>0</td>\n",
       "    </tr>\n",
       "  </tbody>\n",
       "</table>\n",
       "</div>"
      ],
      "text/plain": [
       "                              ID  Label\n",
       "0          ID_12cadc6af_epidural      0\n",
       "1  ID_12cadc6af_intraparenchymal      0\n",
       "2  ID_12cadc6af_intraventricular      0\n",
       "3      ID_12cadc6af_subarachnoid      0\n",
       "4          ID_12cadc6af_subdural      0\n",
       "5               ID_12cadc6af_any      0\n",
       "6          ID_38fd7baa0_epidural      0"
      ]
     },
     "execution_count": 94,
     "metadata": {},
     "output_type": "execute_result"
    }
   ],
   "source": [
    "# Make usable data frames\n",
    "train_df = pd.read_csv('../data/input/rsna-intracranial-hemorrhage-detection/stage_2_train.csv')\n",
    "train_df.head(7)"
   ]
  },
  {
   "cell_type": "code",
   "execution_count": 95,
   "metadata": {},
   "outputs": [
    {
     "data": {
      "text/html": [
       "<div>\n",
       "<style scoped>\n",
       "    .dataframe tbody tr th:only-of-type {\n",
       "        vertical-align: middle;\n",
       "    }\n",
       "\n",
       "    .dataframe tbody tr th {\n",
       "        vertical-align: top;\n",
       "    }\n",
       "\n",
       "    .dataframe thead th {\n",
       "        text-align: right;\n",
       "    }\n",
       "</style>\n",
       "<table border=\"1\" class=\"dataframe\">\n",
       "  <thead>\n",
       "    <tr style=\"text-align: right;\">\n",
       "      <th></th>\n",
       "      <th>ID</th>\n",
       "      <th>Label</th>\n",
       "    </tr>\n",
       "  </thead>\n",
       "  <tbody>\n",
       "    <tr>\n",
       "      <th>0</th>\n",
       "      <td>ID_0fbf6a978_epidural</td>\n",
       "      <td>0.5</td>\n",
       "    </tr>\n",
       "    <tr>\n",
       "      <th>1</th>\n",
       "      <td>ID_0fbf6a978_intraparenchymal</td>\n",
       "      <td>0.5</td>\n",
       "    </tr>\n",
       "    <tr>\n",
       "      <th>2</th>\n",
       "      <td>ID_0fbf6a978_intraventricular</td>\n",
       "      <td>0.5</td>\n",
       "    </tr>\n",
       "    <tr>\n",
       "      <th>3</th>\n",
       "      <td>ID_0fbf6a978_subarachnoid</td>\n",
       "      <td>0.5</td>\n",
       "    </tr>\n",
       "    <tr>\n",
       "      <th>4</th>\n",
       "      <td>ID_0fbf6a978_subdural</td>\n",
       "      <td>0.5</td>\n",
       "    </tr>\n",
       "    <tr>\n",
       "      <th>5</th>\n",
       "      <td>ID_0fbf6a978_any</td>\n",
       "      <td>0.5</td>\n",
       "    </tr>\n",
       "    <tr>\n",
       "      <th>6</th>\n",
       "      <td>ID_d62ec3412_epidural</td>\n",
       "      <td>0.5</td>\n",
       "    </tr>\n",
       "  </tbody>\n",
       "</table>\n",
       "</div>"
      ],
      "text/plain": [
       "                              ID  Label\n",
       "0          ID_0fbf6a978_epidural    0.5\n",
       "1  ID_0fbf6a978_intraparenchymal    0.5\n",
       "2  ID_0fbf6a978_intraventricular    0.5\n",
       "3      ID_0fbf6a978_subarachnoid    0.5\n",
       "4          ID_0fbf6a978_subdural    0.5\n",
       "5               ID_0fbf6a978_any    0.5\n",
       "6          ID_d62ec3412_epidural    0.5"
      ]
     },
     "execution_count": 95,
     "metadata": {},
     "output_type": "execute_result"
    }
   ],
   "source": [
    "# Test submission as test \n",
    "test_df = pd.read_csv('../data/input/rsna-intracranial-hemorrhage-detection/stage_2_sample_submission.csv')\n",
    "test_df.head(7)"
   ]
  },
  {
   "cell_type": "code",
   "execution_count": 96,
   "metadata": {},
   "outputs": [
    {
     "data": {
      "text/html": [
       "<div>\n",
       "<style scoped>\n",
       "    .dataframe tbody tr th:only-of-type {\n",
       "        vertical-align: middle;\n",
       "    }\n",
       "\n",
       "    .dataframe tbody tr th {\n",
       "        vertical-align: top;\n",
       "    }\n",
       "\n",
       "    .dataframe thead th {\n",
       "        text-align: right;\n",
       "    }\n",
       "</style>\n",
       "<table border=\"1\" class=\"dataframe\">\n",
       "  <thead>\n",
       "    <tr style=\"text-align: right;\">\n",
       "      <th></th>\n",
       "      <th>id</th>\n",
       "      <th>subtype</th>\n",
       "      <th>label</th>\n",
       "    </tr>\n",
       "  </thead>\n",
       "  <tbody>\n",
       "    <tr>\n",
       "      <th>0</th>\n",
       "      <td>ID_12cadc6af</td>\n",
       "      <td>epidural</td>\n",
       "      <td>0</td>\n",
       "    </tr>\n",
       "    <tr>\n",
       "      <th>1</th>\n",
       "      <td>ID_12cadc6af</td>\n",
       "      <td>intraparenchymal</td>\n",
       "      <td>0</td>\n",
       "    </tr>\n",
       "    <tr>\n",
       "      <th>2</th>\n",
       "      <td>ID_12cadc6af</td>\n",
       "      <td>intraventricular</td>\n",
       "      <td>0</td>\n",
       "    </tr>\n",
       "    <tr>\n",
       "      <th>3</th>\n",
       "      <td>ID_12cadc6af</td>\n",
       "      <td>subarachnoid</td>\n",
       "      <td>0</td>\n",
       "    </tr>\n",
       "    <tr>\n",
       "      <th>4</th>\n",
       "      <td>ID_12cadc6af</td>\n",
       "      <td>subdural</td>\n",
       "      <td>0</td>\n",
       "    </tr>\n",
       "  </tbody>\n",
       "</table>\n",
       "</div>"
      ],
      "text/plain": [
       "             id           subtype  label\n",
       "0  ID_12cadc6af          epidural      0\n",
       "1  ID_12cadc6af  intraparenchymal      0\n",
       "2  ID_12cadc6af  intraventricular      0\n",
       "3  ID_12cadc6af      subarachnoid      0\n",
       "4  ID_12cadc6af          subdural      0"
      ]
     },
     "execution_count": 96,
     "metadata": {},
     "output_type": "execute_result"
    }
   ],
   "source": [
    "label = train_df.Label.values\n",
    "train_df = train_df.ID.str.rsplit(\"_\", n=1, expand=True)\n",
    "train_df.loc[:, \"label\"] = label\n",
    "train_df = train_df.rename({0: \"id\", 1: \"subtype\"}, axis=1)\n",
    "train_df.head()\n"
   ]
  },
  {
   "cell_type": "code",
   "execution_count": 97,
   "metadata": {},
   "outputs": [
    {
     "data": {
      "text/html": [
       "<div>\n",
       "<style scoped>\n",
       "    .dataframe tbody tr th:only-of-type {\n",
       "        vertical-align: middle;\n",
       "    }\n",
       "\n",
       "    .dataframe tbody tr th {\n",
       "        vertical-align: top;\n",
       "    }\n",
       "\n",
       "    .dataframe thead th {\n",
       "        text-align: right;\n",
       "    }\n",
       "</style>\n",
       "<table border=\"1\" class=\"dataframe\">\n",
       "  <thead>\n",
       "    <tr style=\"text-align: right;\">\n",
       "      <th></th>\n",
       "      <th>id</th>\n",
       "      <th>subtype</th>\n",
       "      <th>label</th>\n",
       "    </tr>\n",
       "  </thead>\n",
       "  <tbody>\n",
       "    <tr>\n",
       "      <th>0</th>\n",
       "      <td>ID_0fbf6a978</td>\n",
       "      <td>epidural</td>\n",
       "      <td>0.5</td>\n",
       "    </tr>\n",
       "    <tr>\n",
       "      <th>1</th>\n",
       "      <td>ID_0fbf6a978</td>\n",
       "      <td>intraparenchymal</td>\n",
       "      <td>0.5</td>\n",
       "    </tr>\n",
       "    <tr>\n",
       "      <th>2</th>\n",
       "      <td>ID_0fbf6a978</td>\n",
       "      <td>intraventricular</td>\n",
       "      <td>0.5</td>\n",
       "    </tr>\n",
       "    <tr>\n",
       "      <th>3</th>\n",
       "      <td>ID_0fbf6a978</td>\n",
       "      <td>subarachnoid</td>\n",
       "      <td>0.5</td>\n",
       "    </tr>\n",
       "    <tr>\n",
       "      <th>4</th>\n",
       "      <td>ID_0fbf6a978</td>\n",
       "      <td>subdural</td>\n",
       "      <td>0.5</td>\n",
       "    </tr>\n",
       "  </tbody>\n",
       "</table>\n",
       "</div>"
      ],
      "text/plain": [
       "             id           subtype  label\n",
       "0  ID_0fbf6a978          epidural    0.5\n",
       "1  ID_0fbf6a978  intraparenchymal    0.5\n",
       "2  ID_0fbf6a978  intraventricular    0.5\n",
       "3  ID_0fbf6a978      subarachnoid    0.5\n",
       "4  ID_0fbf6a978          subdural    0.5"
      ]
     },
     "execution_count": 97,
     "metadata": {},
     "output_type": "execute_result"
    }
   ],
   "source": [
    "label = test_df.Label.values\n",
    "test_df = test_df.ID.str.rsplit(\"_\", n=1, expand=True)\n",
    "test_df.loc[:, \"label\"] = label\n",
    "test_df = test_df.rename({0: \"id\", 1: \"subtype\"}, axis=1)\n",
    "test_df.head()"
   ]
  },
  {
   "cell_type": "code",
   "execution_count": 98,
   "metadata": {},
   "outputs": [
    {
     "data": {
      "text/plain": [
       "(4516842, 3)"
      ]
     },
     "execution_count": 98,
     "metadata": {},
     "output_type": "execute_result"
    }
   ],
   "source": [
    "train_df.shape"
   ]
  },
  {
   "cell_type": "code",
   "execution_count": 99,
   "metadata": {},
   "outputs": [
    {
     "data": {
      "text/plain": [
       "(727392, 3)"
      ]
     },
     "execution_count": 99,
     "metadata": {},
     "output_type": "execute_result"
    }
   ],
   "source": [
    "test_df.shape"
   ]
  },
  {
   "cell_type": "code",
   "execution_count": 100,
   "metadata": {},
   "outputs": [
    {
     "data": {
      "text/html": [
       "<div>\n",
       "<style scoped>\n",
       "    .dataframe tbody tr th:only-of-type {\n",
       "        vertical-align: middle;\n",
       "    }\n",
       "\n",
       "    .dataframe tbody tr th {\n",
       "        vertical-align: top;\n",
       "    }\n",
       "\n",
       "    .dataframe thead th {\n",
       "        text-align: right;\n",
       "    }\n",
       "</style>\n",
       "<table border=\"1\" class=\"dataframe\">\n",
       "  <thead>\n",
       "    <tr style=\"text-align: right;\">\n",
       "      <th>subtype</th>\n",
       "      <th>any</th>\n",
       "      <th>epidural</th>\n",
       "      <th>intraparenchymal</th>\n",
       "      <th>intraventricular</th>\n",
       "      <th>subarachnoid</th>\n",
       "      <th>subdural</th>\n",
       "    </tr>\n",
       "    <tr>\n",
       "      <th>id</th>\n",
       "      <th></th>\n",
       "      <th></th>\n",
       "      <th></th>\n",
       "      <th></th>\n",
       "      <th></th>\n",
       "      <th></th>\n",
       "    </tr>\n",
       "  </thead>\n",
       "  <tbody>\n",
       "    <tr>\n",
       "      <th>ID_000012eaf</th>\n",
       "      <td>0</td>\n",
       "      <td>0</td>\n",
       "      <td>0</td>\n",
       "      <td>0</td>\n",
       "      <td>0</td>\n",
       "      <td>0</td>\n",
       "    </tr>\n",
       "    <tr>\n",
       "      <th>ID_000039fa0</th>\n",
       "      <td>0</td>\n",
       "      <td>0</td>\n",
       "      <td>0</td>\n",
       "      <td>0</td>\n",
       "      <td>0</td>\n",
       "      <td>0</td>\n",
       "    </tr>\n",
       "    <tr>\n",
       "      <th>ID_00005679d</th>\n",
       "      <td>0</td>\n",
       "      <td>0</td>\n",
       "      <td>0</td>\n",
       "      <td>0</td>\n",
       "      <td>0</td>\n",
       "      <td>0</td>\n",
       "    </tr>\n",
       "    <tr>\n",
       "      <th>ID_00008ce3c</th>\n",
       "      <td>0</td>\n",
       "      <td>0</td>\n",
       "      <td>0</td>\n",
       "      <td>0</td>\n",
       "      <td>0</td>\n",
       "      <td>0</td>\n",
       "    </tr>\n",
       "    <tr>\n",
       "      <th>ID_0000950d7</th>\n",
       "      <td>0</td>\n",
       "      <td>0</td>\n",
       "      <td>0</td>\n",
       "      <td>0</td>\n",
       "      <td>0</td>\n",
       "      <td>0</td>\n",
       "    </tr>\n",
       "  </tbody>\n",
       "</table>\n",
       "</div>"
      ],
      "text/plain": [
       "subtype       any  epidural  intraparenchymal  intraventricular  subarachnoid  \\\n",
       "id                                                                              \n",
       "ID_000012eaf    0         0                 0                 0             0   \n",
       "ID_000039fa0    0         0                 0                 0             0   \n",
       "ID_00005679d    0         0                 0                 0             0   \n",
       "ID_00008ce3c    0         0                 0                 0             0   \n",
       "ID_0000950d7    0         0                 0                 0             0   \n",
       "\n",
       "subtype       subdural  \n",
       "id                      \n",
       "ID_000012eaf         0  \n",
       "ID_000039fa0         0  \n",
       "ID_00005679d         0  \n",
       "ID_00008ce3c         0  \n",
       "ID_0000950d7         0  "
      ]
     },
     "execution_count": 100,
     "metadata": {},
     "output_type": "execute_result"
    }
   ],
   "source": [
    "train_df = pd.pivot_table(train_df, index=\"id\", columns=\"subtype\", values=\"label\")\n",
    "train_df.head()"
   ]
  },
  {
   "cell_type": "code",
   "execution_count": 101,
   "metadata": {},
   "outputs": [
    {
     "data": {
      "text/html": [
       "<div>\n",
       "<style scoped>\n",
       "    .dataframe tbody tr th:only-of-type {\n",
       "        vertical-align: middle;\n",
       "    }\n",
       "\n",
       "    .dataframe tbody tr th {\n",
       "        vertical-align: top;\n",
       "    }\n",
       "\n",
       "    .dataframe thead th {\n",
       "        text-align: right;\n",
       "    }\n",
       "</style>\n",
       "<table border=\"1\" class=\"dataframe\">\n",
       "  <thead>\n",
       "    <tr style=\"text-align: right;\">\n",
       "      <th>subtype</th>\n",
       "      <th>any</th>\n",
       "      <th>epidural</th>\n",
       "      <th>intraparenchymal</th>\n",
       "      <th>intraventricular</th>\n",
       "      <th>subarachnoid</th>\n",
       "      <th>subdural</th>\n",
       "    </tr>\n",
       "    <tr>\n",
       "      <th>id</th>\n",
       "      <th></th>\n",
       "      <th></th>\n",
       "      <th></th>\n",
       "      <th></th>\n",
       "      <th></th>\n",
       "      <th></th>\n",
       "    </tr>\n",
       "  </thead>\n",
       "  <tbody>\n",
       "    <tr>\n",
       "      <th>ID_000000e27</th>\n",
       "      <td>0.5</td>\n",
       "      <td>0.5</td>\n",
       "      <td>0.5</td>\n",
       "      <td>0.5</td>\n",
       "      <td>0.5</td>\n",
       "      <td>0.5</td>\n",
       "    </tr>\n",
       "    <tr>\n",
       "      <th>ID_000009146</th>\n",
       "      <td>0.5</td>\n",
       "      <td>0.5</td>\n",
       "      <td>0.5</td>\n",
       "      <td>0.5</td>\n",
       "      <td>0.5</td>\n",
       "      <td>0.5</td>\n",
       "    </tr>\n",
       "    <tr>\n",
       "      <th>ID_00007b8cb</th>\n",
       "      <td>0.5</td>\n",
       "      <td>0.5</td>\n",
       "      <td>0.5</td>\n",
       "      <td>0.5</td>\n",
       "      <td>0.5</td>\n",
       "      <td>0.5</td>\n",
       "    </tr>\n",
       "    <tr>\n",
       "      <th>ID_000134952</th>\n",
       "      <td>0.5</td>\n",
       "      <td>0.5</td>\n",
       "      <td>0.5</td>\n",
       "      <td>0.5</td>\n",
       "      <td>0.5</td>\n",
       "      <td>0.5</td>\n",
       "    </tr>\n",
       "    <tr>\n",
       "      <th>ID_000176f2a</th>\n",
       "      <td>0.5</td>\n",
       "      <td>0.5</td>\n",
       "      <td>0.5</td>\n",
       "      <td>0.5</td>\n",
       "      <td>0.5</td>\n",
       "      <td>0.5</td>\n",
       "    </tr>\n",
       "  </tbody>\n",
       "</table>\n",
       "</div>"
      ],
      "text/plain": [
       "subtype       any  epidural  intraparenchymal  intraventricular  subarachnoid  \\\n",
       "id                                                                              \n",
       "ID_000000e27  0.5       0.5               0.5               0.5           0.5   \n",
       "ID_000009146  0.5       0.5               0.5               0.5           0.5   \n",
       "ID_00007b8cb  0.5       0.5               0.5               0.5           0.5   \n",
       "ID_000134952  0.5       0.5               0.5               0.5           0.5   \n",
       "ID_000176f2a  0.5       0.5               0.5               0.5           0.5   \n",
       "\n",
       "subtype       subdural  \n",
       "id                      \n",
       "ID_000000e27       0.5  \n",
       "ID_000009146       0.5  \n",
       "ID_00007b8cb       0.5  \n",
       "ID_000134952       0.5  \n",
       "ID_000176f2a       0.5  "
      ]
     },
     "execution_count": 101,
     "metadata": {},
     "output_type": "execute_result"
    }
   ],
   "source": [
    "test_df = pd.pivot_table(test_df, index=\"id\", columns=\"subtype\", values=\"label\")\n",
    "test_df.head()"
   ]
  },
  {
   "cell_type": "code",
   "execution_count": 102,
   "metadata": {},
   "outputs": [
    {
     "data": {
      "text/plain": [
       "(752803, 6)"
      ]
     },
     "execution_count": 102,
     "metadata": {},
     "output_type": "execute_result"
    }
   ],
   "source": [
    "train_df.shape\n"
   ]
  },
  {
   "cell_type": "code",
   "execution_count": 103,
   "metadata": {},
   "outputs": [
    {
     "data": {
      "text/plain": [
       "(121232, 6)"
      ]
     },
     "execution_count": 103,
     "metadata": {},
     "output_type": "execute_result"
    }
   ],
   "source": [
    "test_df.shape"
   ]
  },
  {
   "cell_type": "markdown",
   "metadata": {},
   "source": [
    "## Train_Test_Split"
   ]
  },
  {
   "cell_type": "code",
   "execution_count": 21,
   "metadata": {},
   "outputs": [
    {
     "name": "stdout",
     "output_type": "stream",
     "text": [
      "(602242, 6)\n",
      "(150561, 6)\n"
     ]
    }
   ],
   "source": [
    "#Provides train/test indices to split data in train/test sets.\n",
    "\n",
    "# This cross-validation object is a variation of KFold that returns\n",
    "# stratified folds. The folds are made by preserving the percentage of\n",
    "# samples for each class.\n",
    "\n",
    "kfold = StratifiedKFold(n_splits=5, random_state=234).split(X=np.arange(train_df.shape[0]), y=train_df[\"any\"].values)\n",
    "\n",
    "train_idx, val_idx = next(kfold)\n",
    "\n",
    "train_data = train_df.iloc[train_idx]\n",
    "val_data = train_df.iloc[val_idx]\n",
    "\n",
    "#train_data, dev_data = train_test_split(traindf, test_size=0.1, stratify=traindf.values, random_state=split_seed)\n",
    "print(train_data.shape)\n",
    "print(val_data.shape)\n"
   ]
  },
  {
   "cell_type": "markdown",
   "metadata": {},
   "source": [
    "## Instantiate Preprocessor and DataLoader"
   ]
  },
  {
   "cell_type": "code",
   "execution_count": 22,
   "metadata": {},
   "outputs": [],
   "source": [
    "train_preprocessor = Preprocessor(path=train_images_dir,\n",
    "                                  hu_min_value=0,\n",
    "                                  hu_max_value=100,\n",
    "                                  augment=True)"
   ]
  },
  {
   "cell_type": "code",
   "execution_count": 23,
   "metadata": {},
   "outputs": [],
   "source": [
    "val_preprocessor = Preprocessor(path=train_images_dir,\n",
    "                                hu_min_value=0,\n",
    "                                hu_max_value=100,\n",
    "                                augment=False)\n"
   ]
  },
  {
   "cell_type": "code",
   "execution_count": 24,
   "metadata": {},
   "outputs": [],
   "source": [
    "test_preprocessor = Preprocessor(path=test_images_dir,\n",
    "                                hu_min_value=0,\n",
    "                                hu_max_value=100,\n",
    "                                augment=False)"
   ]
  },
  {
   "cell_type": "code",
   "execution_count": 65,
   "metadata": {},
   "outputs": [],
   "source": [
    "train_dataloader = DataLoader(train_data,\n",
    "                              train_preprocessor,\n",
    "                              128,\n",
    "                              shuffle=True,\n",
    "                              steps=50)\n",
    "\n",
    "val_dataloader = DataLoader(val_data, \n",
    "                            val_preprocessor,\n",
    "                            128,\n",
    "                            shuffle=True,\n",
    "                            steps=50)\n",
    "\n",
    "test_dataloader = DataLoader(test_df, \n",
    "                             test_preprocessor,\n",
    "                             4,\n",
    "                             shuffle=False)"
   ]
  },
  {
   "cell_type": "code",
   "execution_count": 30,
   "metadata": {},
   "outputs": [
    {
     "data": {
      "text/plain": [
       "51"
      ]
     },
     "execution_count": 30,
     "metadata": {},
     "output_type": "execute_result"
    }
   ],
   "source": [
    "train_dataloader.__len__()"
   ]
  },
  {
   "cell_type": "code",
   "execution_count": 31,
   "metadata": {},
   "outputs": [
    {
     "data": {
      "text/plain": [
       "51.0"
      ]
     },
     "execution_count": 31,
     "metadata": {},
     "output_type": "execute_result"
    }
   ],
   "source": [
    "len(train_dataloader.data_ids)/128"
   ]
  },
  {
   "cell_type": "code",
   "execution_count": 32,
   "metadata": {
    "scrolled": true
   },
   "outputs": [
    {
     "data": {
      "text/plain": [
       "948"
      ]
     },
     "execution_count": 32,
     "metadata": {},
     "output_type": "execute_result"
    }
   ],
   "source": [
    "test_dataloader.__len__()"
   ]
  },
  {
   "cell_type": "code",
   "execution_count": 33,
   "metadata": {
    "scrolled": true
   },
   "outputs": [
    {
     "data": {
      "text/plain": [
       "947.125"
      ]
     },
     "execution_count": 33,
     "metadata": {},
     "output_type": "execute_result"
    }
   ],
   "source": [
    "len(test_dataloader.data_ids)/128"
   ]
  },
  {
   "cell_type": "code",
   "execution_count": 34,
   "metadata": {},
   "outputs": [
    {
     "data": {
      "text/plain": [
       "(602242, 6)"
      ]
     },
     "execution_count": 34,
     "metadata": {},
     "output_type": "execute_result"
    }
   ],
   "source": [
    "train_data.shape"
   ]
  },
  {
   "cell_type": "code",
   "execution_count": 35,
   "metadata": {},
   "outputs": [
    {
     "data": {
      "text/plain": [
       "6528"
      ]
     },
     "execution_count": 35,
     "metadata": {},
     "output_type": "execute_result"
    }
   ],
   "source": [
    "len(train_dataloader.data_ids)"
   ]
  },
  {
   "cell_type": "code",
   "execution_count": 36,
   "metadata": {
    "scrolled": true
   },
   "outputs": [
    {
     "data": {
      "text/plain": [
       "0    4352\n",
       "1    2176\n",
       "Name: any, dtype: int64"
      ]
     },
     "execution_count": 36,
     "metadata": {},
     "output_type": "execute_result"
    }
   ],
   "source": [
    "train_data.loc[train_dataloader.data_ids][\"any\"].value_counts()\n"
   ]
  },
  {
   "cell_type": "markdown",
   "metadata": {},
   "source": [
    "## Custom Loss Function\n",
    "Loss Functions from here https://www.kaggle.com/akensert/inceptionv3-prev-resnet50-keras-baseline-model:"
   ]
  },
  {
   "cell_type": "code",
   "execution_count": 37,
   "metadata": {},
   "outputs": [],
   "source": [
    "# from keras import backend as K\n",
    "def weighted_log_loss(y_true, y_pred):\n",
    "    \"\"\"\n",
    "    Can be used as the loss function in model.compile()\n",
    "    ---------------------------------------------------\n",
    "    \"\"\"\n",
    "    \n",
    "    class_weights = np.array([2., 1., 1., 1., 1., 1.])\n",
    "    \n",
    "    eps = K.epsilon()\n",
    "    \n",
    "    y_pred = K.clip(y_pred, eps, 1.0-eps)\n",
    "\n",
    "    out = -(         y_true  * K.log(      y_pred) * class_weights\n",
    "            + (1.0 - y_true) * K.log(1.0 - y_pred) * class_weights)\n",
    "    \n",
    "    return K.mean(out, axis=-1)\n",
    "\n",
    "\n",
    "def _normalized_weighted_average(arr, weights=None):\n",
    "    \"\"\"\n",
    "    A simple Keras implementation that mimics that of \n",
    "    numpy.average(), specifically for this competition\n",
    "    \"\"\"\n",
    "    \n",
    "    if weights is not None:\n",
    "        scl = K.sum(weights)\n",
    "        weights = K.expand_dims(weights, axis=1)\n",
    "        return K.sum(K.dot(arr, weights), axis=1) / scl\n",
    "    return K.mean(arr, axis=1)\n",
    "\n",
    "\n",
    "def weighted_loss(y_true, y_pred):\n",
    "    \"\"\"\n",
    "    Will be used as the metric in model.compile()\n",
    "    ---------------------------------------------\n",
    "    \n",
    "    Similar to the custom loss function 'weighted_log_loss()' above\n",
    "    but with normalized weights, which should be very similar \n",
    "    to the official competition metric:\n",
    "        https://www.kaggle.com/kambarakun/lb-probe-weights-n-of-positives-scoring\n",
    "    and hence:\n",
    "        sklearn.metrics.log_loss with sample weights\n",
    "    \"\"\"\n",
    "    \n",
    "    class_weights = K.variable([2., 1., 1., 1., 1., 1.])\n",
    "    \n",
    "    eps = K.epsilon()\n",
    "    \n",
    "    y_pred = K.clip(y_pred, eps, 1.0-eps)\n",
    "\n",
    "    loss = -(        y_true  * K.log(      y_pred)\n",
    "            + (1.0 - y_true) * K.log(1.0 - y_pred))\n",
    "    \n",
    "    loss_samples = _normalized_weighted_average(loss, class_weights)\n",
    "    \n",
    "    return K.mean(loss_samples)\n",
    "\n",
    "\n",
    "def weighted_log_loss_metric(trues, preds):\n",
    "    \"\"\"\n",
    "    Will be used to calculate the log loss \n",
    "    of the validation set in PredictionCheckpoint()\n",
    "    ------------------------------------------\n",
    "    \"\"\"\n",
    "    class_weights = [2., 1., 1., 1., 1., 1.]\n",
    "    \n",
    "    epsilon = 1e-7\n",
    "    \n",
    "    preds = np.clip(preds, epsilon, 1-epsilon)\n",
    "    loss = trues * np.log(preds) + (1 - trues) * np.log(1 - preds)\n",
    "    loss_samples = np.average(loss, axis=1, weights=class_weights)\n",
    "\n",
    "    return - loss_samples.mean()"
   ]
  },
  {
   "cell_type": "markdown",
   "metadata": {},
   "source": [
    "## Build Model"
   ]
  },
  {
   "cell_type": "code",
   "execution_count": null,
   "metadata": {},
   "outputs": [],
   "source": [
    "cnn_model = Sequential()\n",
    "cnn_model.add(Conv2D(filters = 16,\n",
    "                    kernel_size = (3,3),\n",
    "                    activation = 'relu',\n",
    "                    input_shape = (512, 512, 3))) #was 256,256\n",
    "\n",
    "cnn_model.add(MaxPooling2D(pool_size = (2,2)))\n",
    "\n",
    "cnn_model.add(Conv2D(64, \n",
    "                    kernel_size = (3,3),\n",
    "                    activation = 'relu'))\n",
    "\n",
    "cnn_model.add(MaxPooling2D(pool_size = (2,2)))\n",
    "\n",
    "cnn_model.add(Flatten())\n",
    "\n",
    "cnn_model.add(Dense(64, activation = 'relu'))\n",
    "\n",
    "cnn_model.add(Dropout(0.5))\n",
    "\n",
    "cnn_model.add(Dense(32, activation = 'relu'))\n",
    "\n",
    "cnn_model.add(Dropout(0.5))\n",
    "\n",
    "cnn_model.add(Dense(6, activation='sigmoid'))\n",
    "\n",
    "cnn_model.compile(loss=weighted_loss, optimizer='adam', metrics=['accuracy'])"
   ]
  },
  {
   "cell_type": "code",
   "execution_count": 40,
   "metadata": {
    "scrolled": true
   },
   "outputs": [
    {
     "name": "stdout",
     "output_type": "stream",
     "text": [
      "Model: \"sequential\"\n",
      "_________________________________________________________________\n",
      "Layer (type)                 Output Shape              Param #   \n",
      "=================================================================\n",
      "conv2d (Conv2D)              (None, 510, 510, 16)      448       \n",
      "_________________________________________________________________\n",
      "max_pooling2d (MaxPooling2D) (None, 255, 255, 16)      0         \n",
      "_________________________________________________________________\n",
      "conv2d_1 (Conv2D)            (None, 253, 253, 64)      9280      \n",
      "_________________________________________________________________\n",
      "max_pooling2d_1 (MaxPooling2 (None, 126, 126, 64)      0         \n",
      "_________________________________________________________________\n",
      "flatten (Flatten)            (None, 1016064)           0         \n",
      "_________________________________________________________________\n",
      "dense (Dense)                (None, 64)                65028160  \n",
      "_________________________________________________________________\n",
      "dropout (Dropout)            (None, 64)                0         \n",
      "_________________________________________________________________\n",
      "dense_1 (Dense)              (None, 32)                2080      \n",
      "_________________________________________________________________\n",
      "dropout_1 (Dropout)          (None, 32)                0         \n",
      "_________________________________________________________________\n",
      "dense_2 (Dense)              (None, 6)                 198       \n",
      "=================================================================\n",
      "Total params: 65,040,166\n",
      "Trainable params: 65,040,166\n",
      "Non-trainable params: 0\n",
      "_________________________________________________________________\n"
     ]
    }
   ],
   "source": [
    "cnn_model.summary()"
   ]
  },
  {
   "cell_type": "code",
   "execution_count": 41,
   "metadata": {},
   "outputs": [],
   "source": [
    "# Set callback functions to early stop training and save the best model so far\n",
    "my_callbacks = [EarlyStopping(monitor='val_accuracy', patience=10),\n",
    "             ModelCheckpoint(filepath='../models/mymodels/cnn_model.h5', monitor='val_accuracy', save_best_only=True)]"
   ]
  },
  {
   "cell_type": "code",
   "execution_count": 42,
   "metadata": {
    "scrolled": false
   },
   "outputs": [
    {
     "name": "stdout",
     "output_type": "stream",
     "text": [
      "Epoch 1/100\n",
      "51/51 - 381s - loss: 0.7571 - accuracy: 0.0847 - val_loss: 0.6720 - val_accuracy: 0.0000e+00\n",
      "Epoch 2/100\n",
      "51/51 - 270s - loss: 0.6316 - accuracy: 0.0542 - val_loss: 0.4680 - val_accuracy: 0.0012\n",
      "Epoch 3/100\n",
      "51/51 - 257s - loss: 0.5231 - accuracy: 0.2655 - val_loss: 0.3929 - val_accuracy: 0.8923\n",
      "Epoch 4/100\n",
      "51/51 - 257s - loss: 0.4657 - accuracy: 0.4458 - val_loss: 0.3714 - val_accuracy: 1.0000\n",
      "Epoch 5/100\n",
      "51/51 - 259s - loss: 0.4401 - accuracy: 0.6144 - val_loss: 0.3538 - val_accuracy: 1.0000\n",
      "Epoch 6/100\n",
      "51/51 - 267s - loss: 0.4222 - accuracy: 0.7209 - val_loss: 0.3582 - val_accuracy: 1.0000\n",
      "Epoch 7/100\n",
      "51/51 - 268s - loss: 0.4029 - accuracy: 0.7886 - val_loss: 0.3369 - val_accuracy: 1.0000\n",
      "Epoch 8/100\n",
      "51/51 - 271s - loss: 0.3901 - accuracy: 0.8416 - val_loss: 0.3407 - val_accuracy: 1.0000\n",
      "Epoch 9/100\n",
      "51/51 - 266s - loss: 0.3811 - accuracy: 0.8824 - val_loss: 0.3343 - val_accuracy: 1.0000\n",
      "Epoch 10/100\n",
      "51/51 - 268s - loss: 0.3783 - accuracy: 0.9024 - val_loss: 0.3339 - val_accuracy: 1.0000\n",
      "Epoch 11/100\n",
      "51/51 - 265s - loss: 0.3695 - accuracy: 0.9205 - val_loss: 0.3315 - val_accuracy: 1.0000\n",
      "Epoch 12/100\n",
      "51/51 - 265s - loss: 0.3682 - accuracy: 0.9332 - val_loss: 0.3374 - val_accuracy: 1.0000\n",
      "Epoch 13/100\n",
      "51/51 - 248s - loss: 0.3623 - accuracy: 0.9429 - val_loss: 0.3316 - val_accuracy: 1.0000\n",
      "Epoch 14/100\n",
      "51/51 - 265s - loss: 0.3614 - accuracy: 0.9390 - val_loss: 0.3276 - val_accuracy: 1.0000\n"
     ]
    }
   ],
   "source": [
    "history = cnn_model.fit_generator(generator=train_dataloader,\n",
    "                    validation_data=val_dataloader,\n",
    "                    use_multiprocessing=True,\n",
    "                    workers=12,epochs = 100,verbose = 2, callbacks = my_callbacks)"
   ]
  },
  {
   "cell_type": "code",
   "execution_count": 43,
   "metadata": {},
   "outputs": [
    {
     "data": {
      "image/png": "[encoded data removed]",
      "text/plain": [
       "<Figure size 864x576 with 1 Axes>"
      ]
     },
     "metadata": {
      "needs_background": "light"
     },
     "output_type": "display_data"
    }
   ],
   "source": [
    "train_loss = history.history['loss']\n",
    "val_loss = history.history['val_loss']\n",
    "\n",
    "plt.figure(figsize = (12,8))\n",
    "\n",
    "plt.plot(train_loss, label = 'training_loss', color = 'b')\n",
    "plt.plot(val_loss, label = 'val_loss', color = 'orange')\n",
    "\n",
    "plt.title('Training and Validation Loss by Epochs')\n",
    "plt.xlabel('Epochs')\n",
    "plt.ylabel('weighted_log_loss');"
   ]
  },
  {
   "cell_type": "markdown",
   "metadata": {},
   "source": [
    "## Make Predictions"
   ]
  },
  {
   "cell_type": "code",
   "execution_count": 71,
   "metadata": {},
   "outputs": [],
   "source": [
    "def make_df(meta_data_df, predictions):\n",
    "    df = pd.DataFrame(predictions, columns=meta_data_df.columns, index=meta_data_df.index)\n",
    "    df = df.stack().reset_index()\n",
    "    df.loc[:, \"ID\"] = df.id.str.cat(df.subtype, sep=\"_\")\n",
    "    df = df.drop([\"id\", \"subtype\"], axis=1)\n",
    "    df = df.rename({0: \"Label\"}, axis=1)\n",
    "    return df"
   ]
  },
  {
   "cell_type": "code",
   "execution_count": 66,
   "metadata": {},
   "outputs": [],
   "source": [
    "test_predictions_batch_size_4 = cnn_model.predict_generator(test_dataloader,use_multiprocessing=True, workers = -1)"
   ]
  },
  {
   "cell_type": "code",
   "execution_count": 105,
   "metadata": {},
   "outputs": [],
   "source": [
    "test_pred_df = make_df(test_df, test_predictions_batch_size_4)"
   ]
  },
  {
   "cell_type": "code",
   "execution_count": 108,
   "metadata": {},
   "outputs": [],
   "source": [
    "test_pred_df = test_pred_df[['ID','Label']]"
   ]
  },
  {
   "cell_type": "code",
   "execution_count": 109,
   "metadata": {},
   "outputs": [],
   "source": [
    "test_pred_df.to_csv('../data/output/submissions/submission_model_1.csv', index=False)"
   ]
  },
  {
   "cell_type": "code",
   "execution_count": 127,
   "metadata": {},
   "outputs": [],
   "source": [
    "\n",
    "val_pred_dataloader = DataLoader(val_data, \n",
    "                            val_preprocessor,\n",
    "                            9, shuffle = False)"
   ]
  },
  {
   "cell_type": "code",
   "execution_count": 128,
   "metadata": {},
   "outputs": [],
   "source": [
    "val_predictions = cnn_model.predict_generator(val_pred_dataloader, use_multiprocessing=True, workers = -1)"
   ]
  },
  {
   "cell_type": "code",
   "execution_count": 233,
   "metadata": {},
   "outputs": [],
   "source": [
    "val_pred_df = make_df(val_data, val_predictions)"
   ]
  }
 ],
 "metadata": {
  "kernelspec": {
   "display_name": "Python 3",
   "language": "python",
   "name": "python3"
  },
  "language_info": {
   "codemirror_mode": {
    "name": "ipython",
    "version": 3
   },
   "file_extension": ".py",
   "mimetype": "text/x-python",
   "name": "python",
   "nbconvert_exporter": "python",
   "pygments_lexer": "ipython3",
   "version": "3.7.5"
  }
 },
 "nbformat": 4,
 "nbformat_minor": 2
}
